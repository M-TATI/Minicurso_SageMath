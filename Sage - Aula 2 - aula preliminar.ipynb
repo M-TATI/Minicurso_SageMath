{
 "cells": [
  {
   "cell_type": "markdown",
   "id": "f3b88919-3a02-4a0c-8dc9-0d35018dd417",
   "metadata": {},
   "source": [
    "# Introdução ao SageMath | preliminar\n",
    "***"
   ]
  },
  {
   "cell_type": "markdown",
   "id": "bece35b4-cdb2-4a7c-9018-9b5cbddce671",
   "metadata": {},
   "source": [
    "> SageMath is a **free open-source mathematics software system** licensed under the GPL. It builds on top of many existing open-source packages: NumPy, SciPy, matplotlib, Sympy, Maxima, GAP, FLINT, R and many more. You can access their combined power through a common, Python-based language or directly via interfaces or wrappers.\n",
    "\n",
    "> Mission: *Creating a viable free open source alternative to Magma, Maple, Mathematica and Matlab.*\n",
    "\n",
    "www.sagemath.org"
   ]
  },
  {
   "cell_type": "markdown",
   "id": "b07c4f0d-596e-479b-a59a-08a41c14e067",
   "metadata": {},
   "source": [
    "Esse notebook tem o objetivo introduzir algumas funcionalidades básica do [SageMath](https://pt.wikipedia.org/wiki/SageMath).  Faça testes, mude parâmetros, experimente as funcionalidades do guia de referência e anote suas dúvidas para que possamos discutir sobre elas no decorrer do curso. "
   ]
  },
  {
   "cell_type": "markdown",
   "id": "92f6dc7c-e459-4243-9a39-b5143acb371c",
   "metadata": {},
   "source": [
    "## Jupyter notebook (o essencial)"
   ]
  },
  {
   "cell_type": "markdown",
   "id": "9cea96d9-be55-4904-9543-3e2d2e52d8d3",
   "metadata": {},
   "source": [
    "O documento que você está lendo é um _notebook jupyter_, ele contém contém textos explicativos e códigos de Sage intercalados. O jupyter é um ambiente bastante versátil e poderoso. Em um _notebook_, as unidades básicas de texto ou código são chamadas de **células**. O importante agora é entender o funcionamento básico delas. É aqui que você entrará com os comandos sage, códigos Python, texto, códigos latex, html, etc. Vamos focar nos comandos sage nesse momento. As células de código vêm precedidas por `[ ]`. Para executar o comando contido em uma célula basta pressionar <kbd>SHIFT+ENTER</kbd>. Experimente agora na célula abaixo. Digite `sin(pi/2) - sqrt(8)`, ou `plot(exp(-x^2),(x,-3,3))`, por exemplo."
   ]
  },
  {
   "cell_type": "code",
   "execution_count": null,
   "id": "9845ea0f-b943-4be3-81e2-7370f5cc9bba",
   "metadata": {},
   "outputs": [],
   "source": []
  },
  {
   "cell_type": "code",
   "execution_count": null,
   "id": "6836df5b-24b6-4204-9477-35f53d626c32",
   "metadata": {},
   "outputs": [],
   "source": []
  },
  {
   "cell_type": "markdown",
   "id": "6a9aaf34-c638-4858-846c-3ca49c12bf53",
   "metadata": {},
   "source": [
    "Digite agora `show(sin(pi/2) - sqrt(8))`. Percebe alguma diferença?"
   ]
  },
  {
   "cell_type": "markdown",
   "id": "dca6d458-8b06-4e96-96f3-1a6b5317d5dd",
   "metadata": {},
   "source": [
    "Outra forma de avaliar o conteúdo de uma célula é usar o botão \"Run\" na barra de ferramentas do jupyter (como no vídeo sobre a instalação/cocalc)."
   ]
  },
  {
   "cell_type": "markdown",
   "id": "5c6d534e-1ba7-4a30-bb4e-c27de849dc7b",
   "metadata": {},
   "source": [
    "## Atribuições e relações"
   ]
  },
  {
   "cell_type": "markdown",
   "id": "1260be6e-871e-4d8a-a237-31531d11434e",
   "metadata": {},
   "source": [
    "Assim como em Python, no Sage o símbolo `=` é o operador usado para atribuição. Ou seja, a operação de guardar um valor em uma variável Python. Os símbolos `==`, `<=`, `>=`, `<` e `>` são usandos para comparação. Teste os comandos `a=2;a`, `a>3`, `a<=4`, `a==2`."
   ]
  },
  {
   "cell_type": "code",
   "execution_count": null,
   "id": "a7ae6ddf-a769-4b6f-a989-db5f43c27d63",
   "metadata": {},
   "outputs": [],
   "source": []
  },
  {
   "cell_type": "code",
   "execution_count": null,
   "id": "483b230a-6cd0-4af8-855a-af54e6dd8e76",
   "metadata": {},
   "outputs": [],
   "source": []
  },
  {
   "cell_type": "markdown",
   "id": "b8383d40-cc0b-41e6-b3a9-ba297354be0f",
   "metadata": {},
   "source": [
    "Algumas expressões matemáticas retornam valores simbólicos 'exatos', como `sin(1)`, em vez de aproximações numéricas. Para obter uma apreximação numérica, use a função ``n`` ou o método ``n`` (ambos\n",
    "possuem um nome longo, ``numerical_approx``, e a função ``N`` é o mesma que ``n``). Essas funções aceitam o argumento opcional ``digits``, que é o número de dígitos decimais de precisão requisitado."
   ]
  },
  {
   "cell_type": "markdown",
   "id": "ef321ce0-17f1-4e49-95c4-7a747c72193d",
   "metadata": {},
   "source": [
    "Teste isso digitando os comandos ``exp(2)``, `n(exp(2))`, `sin(10).n(digits=5)`, `N(sin(10), digits=10)` ou `numerical_approx(pi, digits=100)`."
   ]
  },
  {
   "cell_type": "code",
   "execution_count": null,
   "id": "94d15f58-49e8-41ed-bb3c-16706c366719",
   "metadata": {},
   "outputs": [],
   "source": []
  },
  {
   "cell_type": "code",
   "execution_count": null,
   "id": "70553224-2ea4-4ff3-8642-aefe32c923a3",
   "metadata": {},
   "outputs": [],
   "source": []
  },
  {
   "cell_type": "markdown",
   "id": "7ff42232-c75e-4d82-9b06-80be51fabd00",
   "metadata": {},
   "source": [
    "O Python é uma linguagem de tipagem dinâmica, isso significa que cada variável possui um tipo associado, mas uma mesma variável pode receber dados de diferentes tipos."
   ]
  },
  {
   "cell_type": "code",
   "execution_count": null,
   "id": "0335bceb-fb0b-41cd-956a-051451a419cd",
   "metadata": {},
   "outputs": [],
   "source": [
    "a = 5   # a é um inteiro\n",
    "type(a)"
   ]
  },
  {
   "cell_type": "code",
   "execution_count": null,
   "id": "fe29de97-ef35-45cc-982e-51ecf5fbd7b8",
   "metadata": {},
   "outputs": [],
   "source": [
    "a = 5/3  # agora é um racional\n",
    "type(a)"
   ]
  },
  {
   "cell_type": "code",
   "execution_count": null,
   "id": "165b67e4-deae-44a4-bfcd-5d0e8d4663cf",
   "metadata": {},
   "outputs": [],
   "source": [
    "a = 'Olá'  # agora uma string\n",
    "type(a)"
   ]
  },
  {
   "cell_type": "code",
   "execution_count": null,
   "id": "1f47f845-73fd-4992-87e8-c769b41baa23",
   "metadata": {},
   "outputs": [],
   "source": [
    "a = tan(x) # e agora uma expressão simbólica\n",
    "type(a)"
   ]
  },
  {
   "cell_type": "markdown",
   "id": "37a3636f-734f-4cb4-a3b5-cc3d38ac7cc9",
   "metadata": {},
   "source": [
    "As linguagens de programação C e Java, por exemplo, são de tipagem estática. Portanto uma variável que foi declarada como int pode apenas armazenar números inteiros."
   ]
  },
  {
   "cell_type": "markdown",
   "id": "d8684e70-7c40-4acf-abb9-0f4b8bbfd8aa",
   "metadata": {},
   "source": [
    "## Expressões simbólicas"
   ]
  },
  {
   "cell_type": "markdown",
   "id": "e73aa097-8c20-48c2-b144-2a1bf37dd85a",
   "metadata": {},
   "source": [
    "Além das variáveis Python, responsáveis por guardar alguma informação na memória, existem as variáveis simbólicas, usadas nos cálculos simbólicos que faremos durante todo o curso. Variáveis simbólicas precisam ser declaradas. Exceto `x`, que já é pré declarada. Declare as variáveis simbólicas `y` e `z` usando o comando `var('y,z')`. Defina agora alguma expressão com as variáveis simbólicas disponíveis, como `1/(x^2-y^2)`."
   ]
  },
  {
   "cell_type": "code",
   "execution_count": null,
   "id": "36535d05-2641-4302-af3e-58473358fbea",
   "metadata": {},
   "outputs": [],
   "source": []
  },
  {
   "cell_type": "code",
   "execution_count": null,
   "id": "a8fe7bfc-cb40-4b54-92b9-1189f360d55c",
   "metadata": {},
   "outputs": [],
   "source": []
  },
  {
   "cell_type": "markdown",
   "id": "1e5b0d78-c15e-4eb7-8f5c-3aed338fb39c",
   "metadata": {},
   "source": [
    "A função ``solve`` resolve equações. Para usá-la, as variáveis simbólicas utilizadas na equação já precisam ter sido declaradas. Os argumentos da função ``solve`` são uma equação (ou um sistema de equações), e a variável ou variáveis para as quais resolver. Tente `solve(x^2 + 3*x + 2==0, x)`, `solve([x^2 + y*x + z == 0],x)` ou `solve([x+y==6, x-y==4], x, y)`. Teste alguns comandos do guia de referência rápida."
   ]
  },
  {
   "cell_type": "code",
   "execution_count": null,
   "id": "c882dcb7-e4b3-4156-a23d-c07a301e8550",
   "metadata": {},
   "outputs": [],
   "source": []
  },
  {
   "cell_type": "code",
   "execution_count": null,
   "id": "02479c34-0ff7-476e-9022-428f5840d0c9",
   "metadata": {},
   "outputs": [],
   "source": []
  },
  {
   "cell_type": "markdown",
   "id": "f1445286-0368-4a3e-bbe4-d0b41fff7d19",
   "metadata": {},
   "source": [
    "## Como obter ajuda?"
   ]
  },
  {
   "cell_type": "markdown",
   "id": "7c45e937-9d77-4cd8-bd8d-5ff1a934d23d",
   "metadata": {},
   "source": [
    "A forma mais simples é digitando o nome de uma função do Sage seguida por um ponto de interrogação. Teste `cos?` ou `plot?`."
   ]
  },
  {
   "cell_type": "code",
   "execution_count": null,
   "id": "654ae875-deea-476c-960a-62583c882d64",
   "metadata": {},
   "outputs": [],
   "source": []
  },
  {
   "cell_type": "code",
   "execution_count": null,
   "id": "9bd0ad5f-46de-4986-ac7f-a4ce83347683",
   "metadata": {},
   "outputs": [],
   "source": []
  },
  {
   "cell_type": "markdown",
   "id": "cc739046-3d6e-4c69-970c-f6ddd637e8c3",
   "metadata": {},
   "source": [
    "Se ao invés de `?` você digitar `??`, o Sage mostrará o código fonte daquela função."
   ]
  },
  {
   "cell_type": "markdown",
   "id": "f69268d2-90e4-4302-a97e-c1799d916fea",
   "metadata": {},
   "source": [
    "### Onde mais?"
   ]
  },
  {
   "cell_type": "markdown",
   "id": "6ba241f0-4285-4f6e-9c54-3e807156fe7b",
   "metadata": {},
   "source": [
    "Tutorial oficial de funcionalidades básicas (em português): \n",
    "https://doc.sagemath.org/html/pt/tutorial/index.html"
   ]
  },
  {
   "cell_type": "markdown",
   "id": "163c78a0-cdac-4de4-89e7-6cd786b75180",
   "metadata": {},
   "source": [
    "Tutoriais temáticos:\n",
    "https://doc.sagemath.org/html/en/thematic_tutorials/index.html"
   ]
  },
  {
   "cell_type": "markdown",
   "id": "d466844e-453e-4ff2-aedb-82adfee7a089",
   "metadata": {},
   "source": [
    "Manual de referência:\n",
    "https://doc.sagemath.org/html/en/reference/index.html"
   ]
  },
  {
   "cell_type": "markdown",
   "id": "550ca850-53c4-43bb-84f9-78befd1b852e",
   "metadata": {},
   "source": [
    "### Livros"
   ]
  },
  {
   "cell_type": "markdown",
   "id": "72164f2c-a527-41b8-bd3a-b606fa9756ed",
   "metadata": {},
   "source": [
    "Excelente referência tanto para Sage quanto para o básico de Python para Sage (grátis): \n",
    "- http://sagebook.gforge.inria.fr/english.html"
   ]
  },
  {
   "cell_type": "markdown",
   "id": "cf848620-f03c-419f-9750-35c217f3fd4f",
   "metadata": {},
   "source": [
    "Outra boa referência, em espanhol, focada em estudantes de graduação (grátis):\n",
    "- http://www.sage-para-estudiantes.com/"
   ]
  },
  {
   "cell_type": "markdown",
   "id": "50fa328c-5e22-4b4c-b618-63780cee9baf",
   "metadata": {},
   "source": [
    "Ótimo livro recente em português, editado pela sociedade brasileira de matemática:\n",
    "- https://sagectu.com.br/index.html"
   ]
  },
  {
   "cell_type": "markdown",
   "id": "68041216-0f13-4ddb-ab77-4eebc0775433",
   "metadata": {},
   "source": [
    "Tutorial por Michael E. O'Sullivan, da San Diego State University (grátis)\n",
    "\n",
    "- [On-line](https://mosullivan.sdsu.edu/Teaching/sdsu-sage-tutorial/index.html)\n",
    "- [PDF](https://mosullivan.sdsu.edu/Teaching/sdsu-sage-tutorial/SDSUSageTutorial.pdf)"
   ]
  },
  {
   "cell_type": "markdown",
   "id": "e357e468-3c4d-4715-bebf-45b5dcc698e1",
   "metadata": {},
   "source": [
    "## Teste as funções do guia de referência rápida!"
   ]
  },
  {
   "cell_type": "code",
   "execution_count": null,
   "id": "75406226-0d6e-4396-8dab-955166f5e091",
   "metadata": {},
   "outputs": [],
   "source": []
  },
  {
   "cell_type": "code",
   "execution_count": null,
   "id": "b1898c16-4175-4f2b-9328-6803bf1538d5",
   "metadata": {},
   "outputs": [],
   "source": []
  },
  {
   "cell_type": "code",
   "execution_count": null,
   "id": "6440fcc8-20a6-4fc6-a680-d93290fdfef3",
   "metadata": {},
   "outputs": [],
   "source": []
  }
 ],
 "metadata": {
  "kernelspec": {
   "display_name": "SageMath 9.6.rc0",
   "language": "sage",
   "name": "sagemath"
  },
  "language_info": {
   "codemirror_mode": {
    "name": "ipython",
    "version": 3
   },
   "file_extension": ".py",
   "mimetype": "text/x-python",
   "name": "python",
   "nbconvert_exporter": "python",
   "pygments_lexer": "ipython3",
   "version": "3.10.4"
  }
 },
 "nbformat": 4,
 "nbformat_minor": 5
}
