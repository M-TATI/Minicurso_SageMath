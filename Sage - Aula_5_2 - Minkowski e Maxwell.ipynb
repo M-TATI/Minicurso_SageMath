{
 "cells": [
  {
   "cell_type": "markdown",
   "metadata": {
    "jp-MarkdownHeadingCollapsed": true,
    "tags": []
   },
   "source": [
    "# Espaço de Minkowski e equações de Maxwell"
   ]
  },
  {
   "cell_type": "markdown",
   "metadata": {},
   "source": [
    "Baseado [neste exemplo](https://nbviewer.jupyter.org/github/ernestyalumni/Gravite/blob/master/EMsage.ipynb)"
   ]
  },
  {
   "cell_type": "code",
   "execution_count": 1,
   "metadata": {},
   "outputs": [],
   "source": [
    "reset()\n",
    "%display latex"
   ]
  },
  {
   "cell_type": "markdown",
   "metadata": {
    "jp-MarkdownHeadingCollapsed": true,
    "tags": []
   },
   "source": [
    "## Espaço de Minkoski"
   ]
  },
  {
   "cell_type": "code",
   "execution_count": 2,
   "metadata": {},
   "outputs": [],
   "source": [
    "M.<t,x,y,z> = manifolds.Minkowski()"
   ]
  },
  {
   "cell_type": "code",
   "execution_count": 3,
   "metadata": {},
   "outputs": [
    {
     "name": "stdout",
     "output_type": "stream",
     "text": [
      "4-dimensional Lorentzian manifold M\n"
     ]
    }
   ],
   "source": [
    "print(M)"
   ]
  },
  {
   "cell_type": "code",
   "execution_count": 4,
   "metadata": {},
   "outputs": [
    {
     "name": "stdout",
     "output_type": "stream",
     "text": [
      "[Coordinate frame (M, (∂/∂t,∂/∂x,∂/∂y,∂/∂z))]\n"
     ]
    },
    {
     "data": {
      "text/html": [
       "<html>\\(\\displaystyle \\left[\\left(M, \\left(\\frac{\\partial}{\\partial t },\\frac{\\partial}{\\partial x },\\frac{\\partial}{\\partial y },\\frac{\\partial}{\\partial z }\\right)\\right)\\right]\\)</html>"
      ],
      "text/latex": [
       "$\\displaystyle \\left[\\left(M, \\left(\\frac{\\partial}{\\partial t },\\frac{\\partial}{\\partial x },\\frac{\\partial}{\\partial y },\\frac{\\partial}{\\partial z }\\right)\\right)\\right]$"
      ],
      "text/plain": [
       "[Coordinate frame (M, (∂/∂t,∂/∂x,∂/∂y,∂/∂z))]"
      ]
     },
     "execution_count": 4,
     "metadata": {},
     "output_type": "execute_result"
    }
   ],
   "source": [
    "print(M.frames())\n",
    "M.frames()"
   ]
  },
  {
   "cell_type": "code",
   "execution_count": 5,
   "metadata": {},
   "outputs": [
    {
     "name": "stdout",
     "output_type": "stream",
     "text": [
      "[Coordinate coframe (M, (dt,dx,dy,dz))]\n"
     ]
    },
    {
     "data": {
      "text/html": [
       "<html>\\(\\displaystyle \\left[\\left(M, \\left(\\mathrm{d} t,\\mathrm{d} x,\\mathrm{d} y,\\mathrm{d} z\\right)\\right)\\right]\\)</html>"
      ],
      "text/latex": [
       "$\\displaystyle \\left[\\left(M, \\left(\\mathrm{d} t,\\mathrm{d} x,\\mathrm{d} y,\\mathrm{d} z\\right)\\right)\\right]$"
      ],
      "text/plain": [
       "[Coordinate coframe (M, (dt,dx,dy,dz))]"
      ]
     },
     "execution_count": 5,
     "metadata": {},
     "output_type": "execute_result"
    }
   ],
   "source": [
    "print(M.coframes())\n",
    "M.coframes()"
   ]
  },
  {
   "cell_type": "code",
   "execution_count": 6,
   "metadata": {},
   "outputs": [],
   "source": [
    "eta = M.metric()\n",
    "eta.set_name('eta', latex_name=r'\\eta')"
   ]
  },
  {
   "cell_type": "code",
   "execution_count": 7,
   "metadata": {},
   "outputs": [
    {
     "data": {
      "text/html": [
       "<html>\\(\\displaystyle \\eta = -\\mathrm{d} t\\otimes \\mathrm{d} t+\\mathrm{d} x\\otimes \\mathrm{d} x+\\mathrm{d} y\\otimes \\mathrm{d} y+\\mathrm{d} z\\otimes \\mathrm{d} z\\)</html>"
      ],
      "text/latex": [
       "$\\displaystyle \\eta = -\\mathrm{d} t\\otimes \\mathrm{d} t+\\mathrm{d} x\\otimes \\mathrm{d} x+\\mathrm{d} y\\otimes \\mathrm{d} y+\\mathrm{d} z\\otimes \\mathrm{d} z$"
      ],
      "text/plain": [
       "eta = -dt⊗dt + dx⊗dx + dy⊗dy + dz⊗dz"
      ]
     },
     "execution_count": 7,
     "metadata": {},
     "output_type": "execute_result"
    }
   ],
   "source": [
    "eta.display()"
   ]
  },
  {
   "cell_type": "code",
   "execution_count": 8,
   "metadata": {},
   "outputs": [
    {
     "data": {
      "text/html": [
       "<html>\\(\\displaystyle \\left(\\begin{array}{rrrr}\n",
       "-1 & 0 & 0 & 0 \\\\\n",
       "0 & 1 & 0 & 0 \\\\\n",
       "0 & 0 & 1 & 0 \\\\\n",
       "0 & 0 & 0 & 1\n",
       "\\end{array}\\right)\\)</html>"
      ],
      "text/latex": [
       "$\\displaystyle \\left(\\begin{array}{rrrr}\n",
       "-1 & 0 & 0 & 0 \\\\\n",
       "0 & 1 & 0 & 0 \\\\\n",
       "0 & 0 & 1 & 0 \\\\\n",
       "0 & 0 & 0 & 1\n",
       "\\end{array}\\right)$"
      ],
      "text/plain": [
       "[-1  0  0  0]\n",
       "[ 0  1  0  0]\n",
       "[ 0  0  1  0]\n",
       "[ 0  0  0  1]"
      ]
     },
     "execution_count": 8,
     "metadata": {},
     "output_type": "execute_result"
    }
   ],
   "source": [
    "eta[:]"
   ]
  },
  {
   "cell_type": "code",
   "execution_count": 9,
   "metadata": {},
   "outputs": [],
   "source": [
    "W = M.scalar_field(function('W')(t,x,y,z), name='W')"
   ]
  },
  {
   "cell_type": "code",
   "execution_count": 10,
   "metadata": {},
   "outputs": [
    {
     "data": {
      "text/html": [
       "<html>\\(\\displaystyle \\begin{array}{llcl} W:& M & \\longrightarrow & \\mathbb{R} \\\\ & \\left(t, x, y, z\\right) & \\longmapsto & W\\left(t, x, y, z\\right) \\end{array}\\)</html>"
      ],
      "text/latex": [
       "$\\displaystyle \\begin{array}{llcl} W:& M & \\longrightarrow & \\mathbb{R} \\\\ & \\left(t, x, y, z\\right) & \\longmapsto & W\\left(t, x, y, z\\right) \\end{array}$"
      ],
      "text/plain": [
       "W: M → ℝ\n",
       "   (t, x, y, z) ↦ W(t, x, y, z)"
      ]
     },
     "execution_count": 10,
     "metadata": {},
     "output_type": "execute_result"
    }
   ],
   "source": [
    "W.display()"
   ]
  },
  {
   "cell_type": "code",
   "execution_count": 11,
   "metadata": {},
   "outputs": [
    {
     "name": "stdout",
     "output_type": "stream",
     "text": [
      "Scalar field W on the 4-dimensional Lorentzian manifold M\n"
     ]
    }
   ],
   "source": [
    "print(W)"
   ]
  },
  {
   "cell_type": "code",
   "execution_count": 12,
   "metadata": {},
   "outputs": [
    {
     "data": {
      "text/html": [
       "<html>\\(\\displaystyle \\Box\\left(W\\right)\\)</html>"
      ],
      "text/latex": [
       "$\\displaystyle \\Box\\left(W\\right)$"
      ],
      "text/plain": [
       "Scalar field Box(W) on the 4-dimensional Lorentzian manifold M"
      ]
     },
     "execution_count": 12,
     "metadata": {},
     "output_type": "execute_result"
    }
   ],
   "source": [
    "W.dalembertian()"
   ]
  },
  {
   "cell_type": "code",
   "execution_count": 13,
   "metadata": {},
   "outputs": [
    {
     "data": {
      "text/html": [
       "<html>\\(\\displaystyle \\begin{array}{llcl} \\Box\\left(W\\right):& M & \\longrightarrow & \\mathbb{R} \\\\ & \\left(t, x, y, z\\right) & \\longmapsto & -\\frac{\\partial^2\\,W}{\\partial t ^ 2} + \\frac{\\partial^2\\,W}{\\partial x ^ 2} + \\frac{\\partial^2\\,W}{\\partial y ^ 2} + \\frac{\\partial^2\\,W}{\\partial z ^ 2} \\end{array}\\)</html>"
      ],
      "text/latex": [
       "$\\displaystyle \\begin{array}{llcl} \\Box\\left(W\\right):& M & \\longrightarrow & \\mathbb{R} \\\\ & \\left(t, x, y, z\\right) & \\longmapsto & -\\frac{\\partial^2\\,W}{\\partial t ^ 2} + \\frac{\\partial^2\\,W}{\\partial x ^ 2} + \\frac{\\partial^2\\,W}{\\partial y ^ 2} + \\frac{\\partial^2\\,W}{\\partial z ^ 2} \\end{array}$"
      ],
      "text/plain": [
       "Box(W): M → ℝ\n",
       "   (t, x, y, z) ↦ -d^2(W)/dt^2 + d^2(W)/dx^2 + d^2(W)/dy^2 + d^2(W)/dz^2"
      ]
     },
     "execution_count": 13,
     "metadata": {},
     "output_type": "execute_result"
    }
   ],
   "source": [
    "W.dalembertian().display()"
   ]
  },
  {
   "cell_type": "markdown",
   "metadata": {
    "jp-MarkdownHeadingCollapsed": true,
    "tags": []
   },
   "source": [
    "## Formas diferencias e equações de Maxwell"
   ]
  },
  {
   "cell_type": "markdown",
   "metadata": {
    "jp-MarkdownHeadingCollapsed": true,
    "tags": []
   },
   "source": [
    "### $E$, $B$ estáticos"
   ]
  },
  {
   "cell_type": "code",
   "execution_count": 14,
   "metadata": {},
   "outputs": [
    {
     "data": {
      "text/html": [
       "<html>\\(\\displaystyle \\left[E_{x}\\left(x, y, z\\right), E_{y}\\left(x, y, z\\right), E_{z}\\left(x, y, z\\right)\\right]\\)</html>"
      ],
      "text/latex": [
       "$\\displaystyle \\left[E_{x}\\left(x, y, z\\right), E_{y}\\left(x, y, z\\right), E_{z}\\left(x, y, z\\right)\\right]$"
      ],
      "text/plain": [
       "[E_x(x, y, z), E_y(x, y, z), E_z(x, y, z)]"
      ]
     },
     "execution_count": 14,
     "metadata": {},
     "output_type": "execute_result"
    }
   ],
   "source": [
    "vE0 = [function('E_'+i)(x,y,z) for i in ['x','y','z']];vE0"
   ]
  },
  {
   "cell_type": "code",
   "execution_count": 15,
   "metadata": {},
   "outputs": [
    {
     "data": {
      "text/html": [
       "<html>\\(\\displaystyle E = E_{x}\\left(x, y, z\\right) \\mathrm{d} x + E_{y}\\left(x, y, z\\right) \\mathrm{d} y + E_{z}\\left(x, y, z\\right) \\mathrm{d} z\\)</html>"
      ],
      "text/latex": [
       "$\\displaystyle E = E_{x}\\left(x, y, z\\right) \\mathrm{d} x + E_{y}\\left(x, y, z\\right) \\mathrm{d} y + E_{z}\\left(x, y, z\\right) \\mathrm{d} z$"
      ],
      "text/plain": [
       "E = E_x(x, y, z) dx + E_y(x, y, z) dy + E_z(x, y, z) dz"
      ]
     },
     "execution_count": 15,
     "metadata": {},
     "output_type": "execute_result"
    }
   ],
   "source": [
    "E0 = M.one_form([0]+vE0, name='E');E0.display()"
   ]
  },
  {
   "cell_type": "code",
   "execution_count": 16,
   "metadata": {},
   "outputs": [
    {
     "data": {
      "text/html": [
       "<html>\\(\\displaystyle \\mathrm{d}E = \\left( -\\frac{\\partial\\,E_{x}}{\\partial y} + \\frac{\\partial\\,E_{y}}{\\partial x} \\right) \\mathrm{d} x\\wedge \\mathrm{d} y + \\left( -\\frac{\\partial\\,E_{x}}{\\partial z} + \\frac{\\partial\\,E_{z}}{\\partial x} \\right) \\mathrm{d} x\\wedge \\mathrm{d} z + \\left( -\\frac{\\partial\\,E_{y}}{\\partial z} + \\frac{\\partial\\,E_{z}}{\\partial y} \\right) \\mathrm{d} y\\wedge \\mathrm{d} z\\)</html>"
      ],
      "text/latex": [
       "$\\displaystyle \\mathrm{d}E = \\left( -\\frac{\\partial\\,E_{x}}{\\partial y} + \\frac{\\partial\\,E_{y}}{\\partial x} \\right) \\mathrm{d} x\\wedge \\mathrm{d} y + \\left( -\\frac{\\partial\\,E_{x}}{\\partial z} + \\frac{\\partial\\,E_{z}}{\\partial x} \\right) \\mathrm{d} x\\wedge \\mathrm{d} z + \\left( -\\frac{\\partial\\,E_{y}}{\\partial z} + \\frac{\\partial\\,E_{z}}{\\partial y} \\right) \\mathrm{d} y\\wedge \\mathrm{d} z$"
      ],
      "text/plain": [
       "dE = (-d(E_x)/dy + d(E_y)/dx) dx∧dy + (-d(E_x)/dz + d(E_z)/dx) dx∧dz + (-d(E_y)/dz + d(E_z)/dy) dy∧dz"
      ]
     },
     "execution_count": 16,
     "metadata": {},
     "output_type": "execute_result"
    }
   ],
   "source": [
    "dE0 = E0.exterior_derivative()\n",
    "dE0.display()"
   ]
  },
  {
   "cell_type": "code",
   "execution_count": 17,
   "metadata": {},
   "outputs": [
    {
     "data": {
      "text/html": [
       "<html>\\(\\displaystyle \\left[B_{z}\\left(x, y, z\\right), -B_{y}\\left(x, y, z\\right), B_{x}\\left(x, y, z\\right)\\right]\\)</html>"
      ],
      "text/latex": [
       "$\\displaystyle \\left[B_{z}\\left(x, y, z\\right), -B_{y}\\left(x, y, z\\right), B_{x}\\left(x, y, z\\right)\\right]$"
      ],
      "text/plain": [
       "[B_z(x, y, z), -B_y(x, y, z), B_x(x, y, z)]"
      ]
     },
     "execution_count": 17,
     "metadata": {},
     "output_type": "execute_result"
    }
   ],
   "source": [
    "vB0 = [function('B_z')(x,y,z), -function('B_y')(x,y,z), function('B_x')(x,y,z)];vB0"
   ]
  },
  {
   "cell_type": "code",
   "execution_count": 18,
   "metadata": {},
   "outputs": [],
   "source": [
    "B0 = M.diff_form(2,name='B')\n",
    "B0[1,2],B0[1,3],B0[2,3] = vB0"
   ]
  },
  {
   "cell_type": "code",
   "execution_count": 19,
   "metadata": {},
   "outputs": [
    {
     "data": {
      "text/html": [
       "<html>\\(\\displaystyle B = B_{z}\\left(x, y, z\\right) \\mathrm{d} x\\wedge \\mathrm{d} y -B_{y}\\left(x, y, z\\right) \\mathrm{d} x\\wedge \\mathrm{d} z + B_{x}\\left(x, y, z\\right) \\mathrm{d} y\\wedge \\mathrm{d} z\\)</html>"
      ],
      "text/latex": [
       "$\\displaystyle B = B_{z}\\left(x, y, z\\right) \\mathrm{d} x\\wedge \\mathrm{d} y -B_{y}\\left(x, y, z\\right) \\mathrm{d} x\\wedge \\mathrm{d} z + B_{x}\\left(x, y, z\\right) \\mathrm{d} y\\wedge \\mathrm{d} z$"
      ],
      "text/plain": [
       "B = B_z(x, y, z) dx∧dy - B_y(x, y, z) dx∧dz + B_x(x, y, z) dy∧dz"
      ]
     },
     "execution_count": 19,
     "metadata": {},
     "output_type": "execute_result"
    }
   ],
   "source": [
    "B0.display() "
   ]
  },
  {
   "cell_type": "code",
   "execution_count": 20,
   "metadata": {
    "scrolled": true
   },
   "outputs": [
    {
     "data": {
      "text/html": [
       "<html>\\(\\displaystyle \\mathrm{d}B = \\left( \\frac{\\partial\\,B_{x}}{\\partial x} + \\frac{\\partial\\,B_{y}}{\\partial y} + \\frac{\\partial\\,B_{z}}{\\partial z} \\right) \\mathrm{d} x\\wedge \\mathrm{d} y\\wedge \\mathrm{d} z\\)</html>"
      ],
      "text/latex": [
       "$\\displaystyle \\mathrm{d}B = \\left( \\frac{\\partial\\,B_{x}}{\\partial x} + \\frac{\\partial\\,B_{y}}{\\partial y} + \\frac{\\partial\\,B_{z}}{\\partial z} \\right) \\mathrm{d} x\\wedge \\mathrm{d} y\\wedge \\mathrm{d} z$"
      ],
      "text/plain": [
       "dB = (d(B_x)/dx + d(B_y)/dy + d(B_z)/dz) dx∧dy∧dz"
      ]
     },
     "execution_count": 20,
     "metadata": {},
     "output_type": "execute_result"
    }
   ],
   "source": [
    "dB0 = B0.exterior_derivative();\n",
    "dB0.display()"
   ]
  },
  {
   "cell_type": "markdown",
   "metadata": {},
   "source": [
    "Equaões de Maxwell no Vácuo (caso estático)"
   ]
  },
  {
   "cell_type": "markdown",
   "metadata": {},
   "source": [
    "| **Lei**                       | **Equação diferencial**                                                                                                                                 |\n",
    "| ------------------------------ | --------------------------------------------------------------------------------------------------------------------------------------------------------- |\n",
    "| Lei de Gauss                   | ${\\displaystyle \\nabla \\cdot \\mathbf{E} =0 }$                                                                    |\n",
    "| Lei de Gauss para o magnetismo | ${\\displaystyle \\nabla \\cdot \\mathbf{B} =0}$                                                                                                         |\n",
    "| Lei de Faraday                 | ${\\displaystyle \\nabla \\times \\mathbf{E} = 0}$                                                        |\n",
    "| Lei circular de Ampère         | ${\\displaystyle \\nabla \\times \\mathbf{B} =0}$ |"
   ]
  },
  {
   "cell_type": "markdown",
   "metadata": {},
   "source": [
    "Lei de Faraday:\n",
    "$\\quad d\\mathbf{E} = 0$"
   ]
  },
  {
   "cell_type": "code",
   "execution_count": 21,
   "metadata": {},
   "outputs": [
    {
     "data": {
      "text/html": [
       "<html>\\(\\displaystyle \\mathrm{d}E = \\left( -\\frac{\\partial\\,E_{x}}{\\partial y} + \\frac{\\partial\\,E_{y}}{\\partial x} \\right) \\mathrm{d} x\\wedge \\mathrm{d} y + \\left( -\\frac{\\partial\\,E_{x}}{\\partial z} + \\frac{\\partial\\,E_{z}}{\\partial x} \\right) \\mathrm{d} x\\wedge \\mathrm{d} z + \\left( -\\frac{\\partial\\,E_{y}}{\\partial z} + \\frac{\\partial\\,E_{z}}{\\partial y} \\right) \\mathrm{d} y\\wedge \\mathrm{d} z\\)</html>"
      ],
      "text/latex": [
       "$\\displaystyle \\mathrm{d}E = \\left( -\\frac{\\partial\\,E_{x}}{\\partial y} + \\frac{\\partial\\,E_{y}}{\\partial x} \\right) \\mathrm{d} x\\wedge \\mathrm{d} y + \\left( -\\frac{\\partial\\,E_{x}}{\\partial z} + \\frac{\\partial\\,E_{z}}{\\partial x} \\right) \\mathrm{d} x\\wedge \\mathrm{d} z + \\left( -\\frac{\\partial\\,E_{y}}{\\partial z} + \\frac{\\partial\\,E_{z}}{\\partial y} \\right) \\mathrm{d} y\\wedge \\mathrm{d} z$"
      ],
      "text/plain": [
       "dE = (-d(E_x)/dy + d(E_y)/dx) dx∧dy + (-d(E_x)/dz + d(E_z)/dx) dx∧dz + (-d(E_y)/dz + d(E_z)/dy) dy∧dz"
      ]
     },
     "execution_count": 21,
     "metadata": {},
     "output_type": "execute_result"
    }
   ],
   "source": [
    "dE0.display()"
   ]
  },
  {
   "cell_type": "markdown",
   "metadata": {},
   "source": [
    "Lei de Gauss: $\\quad d\\mathbf{B} = 0$"
   ]
  },
  {
   "cell_type": "code",
   "execution_count": 22,
   "metadata": {},
   "outputs": [
    {
     "data": {
      "text/html": [
       "<html>\\(\\displaystyle \\mathrm{d}B = \\left( \\frac{\\partial\\,B_{x}}{\\partial x} + \\frac{\\partial\\,B_{y}}{\\partial y} + \\frac{\\partial\\,B_{z}}{\\partial z} \\right) \\mathrm{d} x\\wedge \\mathrm{d} y\\wedge \\mathrm{d} z\\)</html>"
      ],
      "text/latex": [
       "$\\displaystyle \\mathrm{d}B = \\left( \\frac{\\partial\\,B_{x}}{\\partial x} + \\frac{\\partial\\,B_{y}}{\\partial y} + \\frac{\\partial\\,B_{z}}{\\partial z} \\right) \\mathrm{d} x\\wedge \\mathrm{d} y\\wedge \\mathrm{d} z$"
      ],
      "text/plain": [
       "dB = (d(B_x)/dx + d(B_y)/dy + d(B_z)/dz) dx∧dy∧dz"
      ]
     },
     "execution_count": 22,
     "metadata": {},
     "output_type": "execute_result"
    }
   ],
   "source": [
    "dB0.display()"
   ]
  },
  {
   "cell_type": "markdown",
   "metadata": {
    "jp-MarkdownHeadingCollapsed": true,
    "tags": []
   },
   "source": [
    "### Caso dinâmico"
   ]
  },
  {
   "cell_type": "code",
   "execution_count": 23,
   "metadata": {},
   "outputs": [],
   "source": [
    "vE = [function('E_'+i)(t,x,y,z) for i in ['x','y','z']]"
   ]
  },
  {
   "cell_type": "code",
   "execution_count": 24,
   "metadata": {},
   "outputs": [
    {
     "data": {
      "text/html": [
       "<html>\\(\\displaystyle \\left[B_{z}\\left(t, x, y, z\\right), -B_{y}\\left(t, x, y, z\\right), B_{x}\\left(t, x, y, z\\right)\\right]\\)</html>"
      ],
      "text/latex": [
       "$\\displaystyle \\left[B_{z}\\left(t, x, y, z\\right), -B_{y}\\left(t, x, y, z\\right), B_{x}\\left(t, x, y, z\\right)\\right]$"
      ],
      "text/plain": [
       "[B_z(t, x, y, z), -B_y(t, x, y, z), B_x(t, x, y, z)]"
      ]
     },
     "execution_count": 24,
     "metadata": {},
     "output_type": "execute_result"
    }
   ],
   "source": [
    "vB = [function('B_z')(t,x,y,z), -function('B_y')(t,x,y,z), function('B_x')(t,x,y,z)];vB"
   ]
  },
  {
   "cell_type": "code",
   "execution_count": 25,
   "metadata": {},
   "outputs": [
    {
     "data": {
      "text/html": [
       "<html>\\(\\displaystyle E = E_{x}\\left(t, x, y, z\\right) \\mathrm{d} x + E_{y}\\left(t, x, y, z\\right) \\mathrm{d} y + E_{z}\\left(t, x, y, z\\right) \\mathrm{d} z\\)</html>"
      ],
      "text/latex": [
       "$\\displaystyle E = E_{x}\\left(t, x, y, z\\right) \\mathrm{d} x + E_{y}\\left(t, x, y, z\\right) \\mathrm{d} y + E_{z}\\left(t, x, y, z\\right) \\mathrm{d} z$"
      ],
      "text/plain": [
       "E = E_x(t, x, y, z) dx + E_y(t, x, y, z) dy + E_z(t, x, y, z) dz"
      ]
     },
     "execution_count": 25,
     "metadata": {},
     "output_type": "execute_result"
    }
   ],
   "source": [
    "E = M.one_form([0]+vE, name='E');E.display()"
   ]
  },
  {
   "cell_type": "code",
   "execution_count": 26,
   "metadata": {},
   "outputs": [
    {
     "data": {
      "text/html": [
       "<html>\\(\\displaystyle B = B_{z}\\left(t, x, y, z\\right) \\mathrm{d} x\\wedge \\mathrm{d} y -B_{y}\\left(t, x, y, z\\right) \\mathrm{d} x\\wedge \\mathrm{d} z + B_{x}\\left(t, x, y, z\\right) \\mathrm{d} y\\wedge \\mathrm{d} z\\)</html>"
      ],
      "text/latex": [
       "$\\displaystyle B = B_{z}\\left(t, x, y, z\\right) \\mathrm{d} x\\wedge \\mathrm{d} y -B_{y}\\left(t, x, y, z\\right) \\mathrm{d} x\\wedge \\mathrm{d} z + B_{x}\\left(t, x, y, z\\right) \\mathrm{d} y\\wedge \\mathrm{d} z$"
      ],
      "text/plain": [
       "B = B_z(t, x, y, z) dx∧dy - B_y(t, x, y, z) dx∧dz + B_x(t, x, y, z) dy∧dz"
      ]
     },
     "execution_count": 26,
     "metadata": {},
     "output_type": "execute_result"
    }
   ],
   "source": [
    "B = M.diff_form(2,name='B')\n",
    "B[1,2],B[1,3],B[2,3] = vB;B.display()"
   ]
  },
  {
   "cell_type": "code",
   "execution_count": 27,
   "metadata": {},
   "outputs": [
    {
     "data": {
      "text/html": [
       "<html>\\(\\displaystyle \\mathrm{d} t\\)</html>"
      ],
      "text/latex": [
       "$\\displaystyle \\mathrm{d} t$"
      ],
      "text/plain": [
       "1-form dt on the 4-dimensional Lorentzian manifold M"
      ]
     },
     "execution_count": 27,
     "metadata": {},
     "output_type": "execute_result"
    }
   ],
   "source": [
    "dt = M.coframes()[0][0];dt"
   ]
  },
  {
   "cell_type": "code",
   "execution_count": 28,
   "metadata": {},
   "outputs": [
    {
     "data": {
      "text/html": [
       "<html>\\(\\displaystyle E\\wedge \\mathrm{d} t + B = -E_{x}\\left(t, x, y, z\\right) \\mathrm{d} t\\wedge \\mathrm{d} x -E_{y}\\left(t, x, y, z\\right) \\mathrm{d} t\\wedge \\mathrm{d} y -E_{z}\\left(t, x, y, z\\right) \\mathrm{d} t\\wedge \\mathrm{d} z + B_{z}\\left(t, x, y, z\\right) \\mathrm{d} x\\wedge \\mathrm{d} y -B_{y}\\left(t, x, y, z\\right) \\mathrm{d} x\\wedge \\mathrm{d} z + B_{x}\\left(t, x, y, z\\right) \\mathrm{d} y\\wedge \\mathrm{d} z\\)</html>"
      ],
      "text/latex": [
       "$\\displaystyle E\\wedge \\mathrm{d} t + B = -E_{x}\\left(t, x, y, z\\right) \\mathrm{d} t\\wedge \\mathrm{d} x -E_{y}\\left(t, x, y, z\\right) \\mathrm{d} t\\wedge \\mathrm{d} y -E_{z}\\left(t, x, y, z\\right) \\mathrm{d} t\\wedge \\mathrm{d} z + B_{z}\\left(t, x, y, z\\right) \\mathrm{d} x\\wedge \\mathrm{d} y -B_{y}\\left(t, x, y, z\\right) \\mathrm{d} x\\wedge \\mathrm{d} z + B_{x}\\left(t, x, y, z\\right) \\mathrm{d} y\\wedge \\mathrm{d} z$"
      ],
      "text/plain": [
       "E∧dt+B = -E_x(t, x, y, z) dt∧dx - E_y(t, x, y, z) dt∧dy - E_z(t, x, y, z) dt∧dz + B_z(t, x, y, z) dx∧dy - B_y(t, x, y, z) dx∧dz + B_x(t, x, y, z) dy∧dz"
      ]
     },
     "execution_count": 28,
     "metadata": {},
     "output_type": "execute_result"
    }
   ],
   "source": [
    "F = E.wedge(dt) + B;F.display()"
   ]
  },
  {
   "cell_type": "code",
   "execution_count": 29,
   "metadata": {},
   "outputs": [
    {
     "data": {
      "text/html": [
       "<html>\\(\\displaystyle \\left(\\begin{array}{rrrr}\n",
       "0 & -E_{x}\\left(t, x, y, z\\right) & -E_{y}\\left(t, x, y, z\\right) & -E_{z}\\left(t, x, y, z\\right) \\\\\n",
       "E_{x}\\left(t, x, y, z\\right) & 0 & B_{z}\\left(t, x, y, z\\right) & -B_{y}\\left(t, x, y, z\\right) \\\\\n",
       "E_{y}\\left(t, x, y, z\\right) & -B_{z}\\left(t, x, y, z\\right) & 0 & B_{x}\\left(t, x, y, z\\right) \\\\\n",
       "E_{z}\\left(t, x, y, z\\right) & B_{y}\\left(t, x, y, z\\right) & -B_{x}\\left(t, x, y, z\\right) & 0\n",
       "\\end{array}\\right)\\)</html>"
      ],
      "text/latex": [
       "$\\displaystyle \\left(\\begin{array}{rrrr}\n",
       "0 & -E_{x}\\left(t, x, y, z\\right) & -E_{y}\\left(t, x, y, z\\right) & -E_{z}\\left(t, x, y, z\\right) \\\\\n",
       "E_{x}\\left(t, x, y, z\\right) & 0 & B_{z}\\left(t, x, y, z\\right) & -B_{y}\\left(t, x, y, z\\right) \\\\\n",
       "E_{y}\\left(t, x, y, z\\right) & -B_{z}\\left(t, x, y, z\\right) & 0 & B_{x}\\left(t, x, y, z\\right) \\\\\n",
       "E_{z}\\left(t, x, y, z\\right) & B_{y}\\left(t, x, y, z\\right) & -B_{x}\\left(t, x, y, z\\right) & 0\n",
       "\\end{array}\\right)$"
      ],
      "text/plain": [
       "[               0 -E_x(t, x, y, z) -E_y(t, x, y, z) -E_z(t, x, y, z)]\n",
       "[ E_x(t, x, y, z)                0  B_z(t, x, y, z) -B_y(t, x, y, z)]\n",
       "[ E_y(t, x, y, z) -B_z(t, x, y, z)                0  B_x(t, x, y, z)]\n",
       "[ E_z(t, x, y, z)  B_y(t, x, y, z) -B_x(t, x, y, z)                0]"
      ]
     },
     "execution_count": 29,
     "metadata": {},
     "output_type": "execute_result"
    }
   ],
   "source": [
    "F[:]"
   ]
  },
  {
   "cell_type": "code",
   "execution_count": 30,
   "metadata": {},
   "outputs": [
    {
     "data": {
      "text/html": [
       "<html>\\(\\displaystyle \\mathrm{d} \\left( E\\wedge \\mathrm{d} t + B \\right) = \\left( \\frac{\\partial\\,B_{z}}{\\partial t} - \\frac{\\partial\\,E_{x}}{\\partial y} + \\frac{\\partial\\,E_{y}}{\\partial x} \\right) \\mathrm{d} t\\wedge \\mathrm{d} x\\wedge \\mathrm{d} y + \\left( -\\frac{\\partial\\,B_{y}}{\\partial t} - \\frac{\\partial\\,E_{x}}{\\partial z} + \\frac{\\partial\\,E_{z}}{\\partial x} \\right) \\mathrm{d} t\\wedge \\mathrm{d} x\\wedge \\mathrm{d} z + \\left( \\frac{\\partial\\,B_{x}}{\\partial t} - \\frac{\\partial\\,E_{y}}{\\partial z} + \\frac{\\partial\\,E_{z}}{\\partial y} \\right) \\mathrm{d} t\\wedge \\mathrm{d} y\\wedge \\mathrm{d} z + \\left( \\frac{\\partial\\,B_{x}}{\\partial x} + \\frac{\\partial\\,B_{y}}{\\partial y} + \\frac{\\partial\\,B_{z}}{\\partial z} \\right) \\mathrm{d} x\\wedge \\mathrm{d} y\\wedge \\mathrm{d} z\\)</html>"
      ],
      "text/latex": [
       "$\\displaystyle \\mathrm{d} \\left( E\\wedge \\mathrm{d} t + B \\right) = \\left( \\frac{\\partial\\,B_{z}}{\\partial t} - \\frac{\\partial\\,E_{x}}{\\partial y} + \\frac{\\partial\\,E_{y}}{\\partial x} \\right) \\mathrm{d} t\\wedge \\mathrm{d} x\\wedge \\mathrm{d} y + \\left( -\\frac{\\partial\\,B_{y}}{\\partial t} - \\frac{\\partial\\,E_{x}}{\\partial z} + \\frac{\\partial\\,E_{z}}{\\partial x} \\right) \\mathrm{d} t\\wedge \\mathrm{d} x\\wedge \\mathrm{d} z + \\left( \\frac{\\partial\\,B_{x}}{\\partial t} - \\frac{\\partial\\,E_{y}}{\\partial z} + \\frac{\\partial\\,E_{z}}{\\partial y} \\right) \\mathrm{d} t\\wedge \\mathrm{d} y\\wedge \\mathrm{d} z + \\left( \\frac{\\partial\\,B_{x}}{\\partial x} + \\frac{\\partial\\,B_{y}}{\\partial y} + \\frac{\\partial\\,B_{z}}{\\partial z} \\right) \\mathrm{d} x\\wedge \\mathrm{d} y\\wedge \\mathrm{d} z$"
      ],
      "text/plain": [
       "d(E∧dt+B) = (d(B_z)/dt - d(E_x)/dy + d(E_y)/dx) dt∧dx∧dy + (-d(B_y)/dt - d(E_x)/dz + d(E_z)/dx) dt∧dx∧dz + (d(B_x)/dt - d(E_y)/dz + d(E_z)/dy) dt∧dy∧dz + (d(B_x)/dx + d(B_y)/dy + d(B_z)/dz) dx∧dy∧dz"
      ]
     },
     "execution_count": 30,
     "metadata": {},
     "output_type": "execute_result"
    }
   ],
   "source": [
    "dF = F.exterior_derivative();dF.display()"
   ]
  },
  {
   "cell_type": "markdown",
   "metadata": {},
   "source": [
    "| **Lei**                       | **Equação diferencial**                                                                                                                                 |\n",
    "| ------------------------------ | --------------------------------------------------------------------------------------------------------------------------------------------------------- |\n",
    "| Lei de Gauss para o magnetismo | ${\\displaystyle \\nabla \\cdot \\mathbf{B} =0}$                                                                                                         |\n",
    "| Lei de Faraday                 | ${\\displaystyle \\nabla \\times \\mathbf{E} =-{\\frac {\\partial \\mathbf {B} }{\\partial t}}} $                                                        |"
   ]
  },
  {
   "cell_type": "markdown",
   "metadata": {},
   "source": [
    "Lei de Gauss para $\\mathbf{B}$ e Lei de Faraday: $\\quad dF =0$"
   ]
  },
  {
   "cell_type": "markdown",
   "metadata": {},
   "source": [
    "***"
   ]
  },
  {
   "cell_type": "markdown",
   "metadata": {},
   "source": [
    "Dual de Hodge\n",
    "$$\\star: \\Omega^p(M) \\to \\Omega^{n-p}$$\n",
    "tal que\n",
    "$$\\omega \\wedge \\star \\mu = g(\\omega,\\mu) \\text{vol}$$"
   ]
  },
  {
   "cell_type": "code",
   "execution_count": 31,
   "metadata": {},
   "outputs": [],
   "source": [
    "star_F = F.hodge_dual(eta)"
   ]
  },
  {
   "cell_type": "code",
   "execution_count": 32,
   "metadata": {},
   "outputs": [
    {
     "data": {
      "text/html": [
       "<html>\\(\\displaystyle \\star \\left( E\\wedge \\mathrm{d} t + B \\right) = B_{x}\\left(t, x, y, z\\right) \\mathrm{d} t\\wedge \\mathrm{d} x + B_{y}\\left(t, x, y, z\\right) \\mathrm{d} t\\wedge \\mathrm{d} y + B_{z}\\left(t, x, y, z\\right) \\mathrm{d} t\\wedge \\mathrm{d} z + E_{z}\\left(t, x, y, z\\right) \\mathrm{d} x\\wedge \\mathrm{d} y -E_{y}\\left(t, x, y, z\\right) \\mathrm{d} x\\wedge \\mathrm{d} z + E_{x}\\left(t, x, y, z\\right) \\mathrm{d} y\\wedge \\mathrm{d} z\\)</html>"
      ],
      "text/latex": [
       "$\\displaystyle \\star \\left( E\\wedge \\mathrm{d} t + B \\right) = B_{x}\\left(t, x, y, z\\right) \\mathrm{d} t\\wedge \\mathrm{d} x + B_{y}\\left(t, x, y, z\\right) \\mathrm{d} t\\wedge \\mathrm{d} y + B_{z}\\left(t, x, y, z\\right) \\mathrm{d} t\\wedge \\mathrm{d} z + E_{z}\\left(t, x, y, z\\right) \\mathrm{d} x\\wedge \\mathrm{d} y -E_{y}\\left(t, x, y, z\\right) \\mathrm{d} x\\wedge \\mathrm{d} z + E_{x}\\left(t, x, y, z\\right) \\mathrm{d} y\\wedge \\mathrm{d} z$"
      ],
      "text/plain": [
       "*(E∧dt+B) = B_x(t, x, y, z) dt∧dx + B_y(t, x, y, z) dt∧dy + B_z(t, x, y, z) dt∧dz + E_z(t, x, y, z) dx∧dy - E_y(t, x, y, z) dx∧dz + E_x(t, x, y, z) dy∧dz"
      ]
     },
     "execution_count": 32,
     "metadata": {},
     "output_type": "execute_result"
    }
   ],
   "source": [
    "star_F.display()"
   ]
  },
  {
   "cell_type": "code",
   "execution_count": 33,
   "metadata": {},
   "outputs": [],
   "source": [
    "dstar_F = star_F.exterior_derivative().hodge_dual(eta)"
   ]
  },
  {
   "cell_type": "code",
   "execution_count": 34,
   "metadata": {},
   "outputs": [
    {
     "data": {
      "text/html": [
       "<html>\\(\\displaystyle \\star \\mathrm{d} \\star \\left( E\\wedge \\mathrm{d} t + B \\right) = \\left( -\\frac{\\partial\\,E_{x}}{\\partial x} - \\frac{\\partial\\,E_{y}}{\\partial y} - \\frac{\\partial\\,E_{z}}{\\partial z} \\right) \\mathrm{d} t + \\left( -\\frac{\\partial\\,B_{y}}{\\partial z} + \\frac{\\partial\\,B_{z}}{\\partial y} - \\frac{\\partial\\,E_{x}}{\\partial t} \\right) \\mathrm{d} x + \\left( \\frac{\\partial\\,B_{x}}{\\partial z} - \\frac{\\partial\\,B_{z}}{\\partial x} - \\frac{\\partial\\,E_{y}}{\\partial t} \\right) \\mathrm{d} y + \\left( -\\frac{\\partial\\,B_{x}}{\\partial y} + \\frac{\\partial\\,B_{y}}{\\partial x} - \\frac{\\partial\\,E_{z}}{\\partial t} \\right) \\mathrm{d} z\\)</html>"
      ],
      "text/latex": [
       "$\\displaystyle \\star \\mathrm{d} \\star \\left( E\\wedge \\mathrm{d} t + B \\right) = \\left( -\\frac{\\partial\\,E_{x}}{\\partial x} - \\frac{\\partial\\,E_{y}}{\\partial y} - \\frac{\\partial\\,E_{z}}{\\partial z} \\right) \\mathrm{d} t + \\left( -\\frac{\\partial\\,B_{y}}{\\partial z} + \\frac{\\partial\\,B_{z}}{\\partial y} - \\frac{\\partial\\,E_{x}}{\\partial t} \\right) \\mathrm{d} x + \\left( \\frac{\\partial\\,B_{x}}{\\partial z} - \\frac{\\partial\\,B_{z}}{\\partial x} - \\frac{\\partial\\,E_{y}}{\\partial t} \\right) \\mathrm{d} y + \\left( -\\frac{\\partial\\,B_{x}}{\\partial y} + \\frac{\\partial\\,B_{y}}{\\partial x} - \\frac{\\partial\\,E_{z}}{\\partial t} \\right) \\mathrm{d} z$"
      ],
      "text/plain": [
       "*d*(E∧dt+B) = (-d(E_x)/dx - d(E_y)/dy - d(E_z)/dz) dt + (-d(B_y)/dz + d(B_z)/dy - d(E_x)/dt) dx + (d(B_x)/dz - d(B_z)/dx - d(E_y)/dt) dy + (-d(B_x)/dy + d(B_y)/dx - d(E_z)/dt) dz"
      ]
     },
     "execution_count": 34,
     "metadata": {},
     "output_type": "execute_result"
    }
   ],
   "source": [
    "dstar_F.display()"
   ]
  },
  {
   "cell_type": "markdown",
   "metadata": {},
   "source": [
    "Fonte"
   ]
  },
  {
   "cell_type": "code",
   "execution_count": 35,
   "metadata": {},
   "outputs": [],
   "source": [
    "ep0 = var('epsilon_0')\n",
    "mu0 = var('mu_0')"
   ]
  },
  {
   "cell_type": "code",
   "execution_count": 36,
   "metadata": {},
   "outputs": [
    {
     "data": {
      "text/html": [
       "<html>\\(\\displaystyle \\mu_{0}\\)</html>"
      ],
      "text/latex": [
       "$\\displaystyle \\mu_{0}$"
      ],
      "text/plain": [
       "mu_0"
      ]
     },
     "execution_count": 36,
     "metadata": {},
     "output_type": "execute_result"
    }
   ],
   "source": [
    "mu0"
   ]
  },
  {
   "cell_type": "code",
   "execution_count": 37,
   "metadata": {},
   "outputs": [],
   "source": [
    "rho = function('rho', latex_name=r'\\rho')(t,x,y,z)\n",
    "fJ = [rho]+[function('J_'+str(i))(t,x,y,z) for i in range(1,4)]"
   ]
  },
  {
   "cell_type": "code",
   "execution_count": 38,
   "metadata": {},
   "outputs": [],
   "source": [
    "J = M.one_form(fJ, name='J')"
   ]
  },
  {
   "cell_type": "code",
   "execution_count": 39,
   "metadata": {},
   "outputs": [
    {
     "data": {
      "text/html": [
       "<html>\\(\\displaystyle J = \\rho\\left(t, x, y, z\\right) \\mathrm{d} t + J_{1}\\left(t, x, y, z\\right) \\mathrm{d} x + J_{2}\\left(t, x, y, z\\right) \\mathrm{d} y + J_{3}\\left(t, x, y, z\\right) \\mathrm{d} z\\)</html>"
      ],
      "text/latex": [
       "$\\displaystyle J = \\rho\\left(t, x, y, z\\right) \\mathrm{d} t + J_{1}\\left(t, x, y, z\\right) \\mathrm{d} x + J_{2}\\left(t, x, y, z\\right) \\mathrm{d} y + J_{3}\\left(t, x, y, z\\right) \\mathrm{d} z$"
      ],
      "text/plain": [
       "J = rho(t, x, y, z) dt + J_1(t, x, y, z) dx + J_2(t, x, y, z) dy + J_3(t, x, y, z) dz"
      ]
     },
     "execution_count": 39,
     "metadata": {},
     "output_type": "execute_result"
    }
   ],
   "source": [
    "J.display()"
   ]
  },
  {
   "cell_type": "code",
   "execution_count": 40,
   "metadata": {},
   "outputs": [
    {
     "data": {
      "text/html": [
       "<html>\\(\\displaystyle \\star \\mathrm{d} \\star \\left( E\\wedge \\mathrm{d} t + B \\right) + J = \\left( \\rho\\left(t, x, y, z\\right) - \\frac{\\partial\\,E_{x}}{\\partial x} - \\frac{\\partial\\,E_{y}}{\\partial y} - \\frac{\\partial\\,E_{z}}{\\partial z} \\right) \\mathrm{d} t + \\left( J_{1}\\left(t, x, y, z\\right) - \\frac{\\partial\\,B_{y}}{\\partial z} + \\frac{\\partial\\,B_{z}}{\\partial y} - \\frac{\\partial\\,E_{x}}{\\partial t} \\right) \\mathrm{d} x + \\left( J_{2}\\left(t, x, y, z\\right) + \\frac{\\partial\\,B_{x}}{\\partial z} - \\frac{\\partial\\,B_{z}}{\\partial x} - \\frac{\\partial\\,E_{y}}{\\partial t} \\right) \\mathrm{d} y + \\left( J_{3}\\left(t, x, y, z\\right) - \\frac{\\partial\\,B_{x}}{\\partial y} + \\frac{\\partial\\,B_{y}}{\\partial x} - \\frac{\\partial\\,E_{z}}{\\partial t} \\right) \\mathrm{d} z\\)</html>"
      ],
      "text/latex": [
       "$\\displaystyle \\star \\mathrm{d} \\star \\left( E\\wedge \\mathrm{d} t + B \\right) + J = \\left( \\rho\\left(t, x, y, z\\right) - \\frac{\\partial\\,E_{x}}{\\partial x} - \\frac{\\partial\\,E_{y}}{\\partial y} - \\frac{\\partial\\,E_{z}}{\\partial z} \\right) \\mathrm{d} t + \\left( J_{1}\\left(t, x, y, z\\right) - \\frac{\\partial\\,B_{y}}{\\partial z} + \\frac{\\partial\\,B_{z}}{\\partial y} - \\frac{\\partial\\,E_{x}}{\\partial t} \\right) \\mathrm{d} x + \\left( J_{2}\\left(t, x, y, z\\right) + \\frac{\\partial\\,B_{x}}{\\partial z} - \\frac{\\partial\\,B_{z}}{\\partial x} - \\frac{\\partial\\,E_{y}}{\\partial t} \\right) \\mathrm{d} y + \\left( J_{3}\\left(t, x, y, z\\right) - \\frac{\\partial\\,B_{x}}{\\partial y} + \\frac{\\partial\\,B_{y}}{\\partial x} - \\frac{\\partial\\,E_{z}}{\\partial t} \\right) \\mathrm{d} z$"
      ],
      "text/plain": [
       "*d*(E∧dt+B)+J = (rho(t, x, y, z) - d(E_x)/dx - d(E_y)/dy - d(E_z)/dz) dt + (J_1(t, x, y, z) - d(B_y)/dz + d(B_z)/dy - d(E_x)/dt) dx + (J_2(t, x, y, z) + d(B_x)/dz - d(B_z)/dx - d(E_y)/dt) dy + (J_3(t, x, y, z) - d(B_x)/dy + d(B_y)/dx - d(E_z)/dt) dz"
      ]
     },
     "execution_count": 40,
     "metadata": {},
     "output_type": "execute_result"
    }
   ],
   "source": [
    "(dstar_F+J).display()"
   ]
  },
  {
   "cell_type": "markdown",
   "metadata": {},
   "source": [
    "| **Lei**                       | **Equação diferencial**                                                                                                                                 |\n",
    "| ------------------------------ | --------------------------------------------------------------------------------------------------------------------------------------------------------- |\n",
    "| Lei de Gauss                   | ${\\displaystyle \\nabla \\cdot \\mathbf{E} ={\\rho }} $                                                                    |\n",
    "| Lei de Gauss para o magnetismo | ${\\displaystyle \\nabla \\cdot \\mathbf{B} =0}$                                                                                                         |\n",
    "| Lei de Faraday                 | ${\\displaystyle \\nabla \\times \\mathbf{E} =-{\\frac {\\partial \\mathbf {B} }{\\partial t}}} $                                                        |\n",
    "| Lei circular de Ampère         | ${\\displaystyle \\nabla \\times \\mathbf{B} =\\mathbf {J} +{\\frac {\\partial \\mathbf {E} }{\\partial t}}}$ |"
   ]
  },
  {
   "cell_type": "markdown",
   "metadata": {},
   "source": [
    "Lei de Gauss e Lei de Ampère\n",
    "$$\\star d \\star dF = \\mathbf{J}$$"
   ]
  },
  {
   "cell_type": "markdown",
   "metadata": {},
   "source": [
    "***"
   ]
  },
  {
   "cell_type": "markdown",
   "metadata": {
    "jp-MarkdownHeadingCollapsed": true,
    "tags": []
   },
   "source": [
    "### Lei de conservação"
   ]
  },
  {
   "cell_type": "code",
   "execution_count": 41,
   "metadata": {
    "scrolled": true
   },
   "outputs": [
    {
     "data": {
      "text/html": [
       "<html>\\(\\displaystyle \\mathrm{d}\\star J = \\left( \\frac{\\partial\\,J_{1}}{\\partial x} + \\frac{\\partial\\,J_{2}}{\\partial y} + \\frac{\\partial\\,J_{3}}{\\partial z} - \\frac{\\partial\\,\\rho}{\\partial t} \\right) \\mathrm{d} t\\wedge \\mathrm{d} x\\wedge \\mathrm{d} y\\wedge \\mathrm{d} z\\)</html>"
      ],
      "text/latex": [
       "$\\displaystyle \\mathrm{d}\\star J = \\left( \\frac{\\partial\\,J_{1}}{\\partial x} + \\frac{\\partial\\,J_{2}}{\\partial y} + \\frac{\\partial\\,J_{3}}{\\partial z} - \\frac{\\partial\\,\\rho}{\\partial t} \\right) \\mathrm{d} t\\wedge \\mathrm{d} x\\wedge \\mathrm{d} y\\wedge \\mathrm{d} z$"
      ],
      "text/plain": [
       "d*J = (d(J_1)/dx + d(J_2)/dy + d(J_3)/dz - d(rho)/dt) dt∧dx∧dy∧dz"
      ]
     },
     "execution_count": 41,
     "metadata": {},
     "output_type": "execute_result"
    }
   ],
   "source": [
    "J.hodge_dual(eta).exterior_derivative().display()"
   ]
  },
  {
   "cell_type": "markdown",
   "metadata": {
    "jp-MarkdownHeadingCollapsed": true,
    "tags": []
   },
   "source": [
    "### Potencial eletromagnético"
   ]
  },
  {
   "cell_type": "code",
   "execution_count": 42,
   "metadata": {},
   "outputs": [],
   "source": [
    "Phi = function('Phi', latex_name=r'\\Phi')(t,x,y,z)"
   ]
  },
  {
   "cell_type": "code",
   "execution_count": 43,
   "metadata": {},
   "outputs": [],
   "source": [
    "fA = [-Phi]+[function('A_'+str(i))(t,x,y,z) for i in range(1,4)]"
   ]
  },
  {
   "cell_type": "code",
   "execution_count": 44,
   "metadata": {},
   "outputs": [
    {
     "data": {
      "text/html": [
       "<html>\\(\\displaystyle \\left[-\\Phi\\left(t, x, y, z\\right), A_{1}\\left(t, x, y, z\\right), A_{2}\\left(t, x, y, z\\right), A_{3}\\left(t, x, y, z\\right)\\right]\\)</html>"
      ],
      "text/latex": [
       "$\\displaystyle \\left[-\\Phi\\left(t, x, y, z\\right), A_{1}\\left(t, x, y, z\\right), A_{2}\\left(t, x, y, z\\right), A_{3}\\left(t, x, y, z\\right)\\right]$"
      ],
      "text/plain": [
       "[-Phi(t, x, y, z), A_1(t, x, y, z), A_2(t, x, y, z), A_3(t, x, y, z)]"
      ]
     },
     "execution_count": 44,
     "metadata": {},
     "output_type": "execute_result"
    }
   ],
   "source": [
    "fA"
   ]
  },
  {
   "cell_type": "code",
   "execution_count": 45,
   "metadata": {},
   "outputs": [],
   "source": [
    "A = M.one_form(fA, name='A')"
   ]
  },
  {
   "cell_type": "code",
   "execution_count": 46,
   "metadata": {},
   "outputs": [
    {
     "data": {
      "text/html": [
       "<html>\\(\\displaystyle A = -\\Phi\\left(t, x, y, z\\right) \\mathrm{d} t + A_{1}\\left(t, x, y, z\\right) \\mathrm{d} x + A_{2}\\left(t, x, y, z\\right) \\mathrm{d} y + A_{3}\\left(t, x, y, z\\right) \\mathrm{d} z\\)</html>"
      ],
      "text/latex": [
       "$\\displaystyle A = -\\Phi\\left(t, x, y, z\\right) \\mathrm{d} t + A_{1}\\left(t, x, y, z\\right) \\mathrm{d} x + A_{2}\\left(t, x, y, z\\right) \\mathrm{d} y + A_{3}\\left(t, x, y, z\\right) \\mathrm{d} z$"
      ],
      "text/plain": [
       "A = -Phi(t, x, y, z) dt + A_1(t, x, y, z) dx + A_2(t, x, y, z) dy + A_3(t, x, y, z) dz"
      ]
     },
     "execution_count": 46,
     "metadata": {},
     "output_type": "execute_result"
    }
   ],
   "source": [
    "A.display()"
   ]
  },
  {
   "cell_type": "code",
   "execution_count": 47,
   "metadata": {},
   "outputs": [
    {
     "name": "stdout",
     "output_type": "stream",
     "text": [
      "1-form A on the 4-dimensional Lorentzian manifold M\n"
     ]
    },
    {
     "data": {
      "text/html": [
       "<html>\\(\\displaystyle \\Omega^{1}\\left(M\\right)\\)</html>"
      ],
      "text/latex": [
       "$\\displaystyle \\Omega^{1}\\left(M\\right)$"
      ],
      "text/plain": [
       "Free module Omega^1(M) of 1-forms on the 4-dimensional Lorentzian manifold M"
      ]
     },
     "execution_count": 47,
     "metadata": {},
     "output_type": "execute_result"
    }
   ],
   "source": [
    "print(A)\n",
    "A.parent()"
   ]
  },
  {
   "cell_type": "code",
   "execution_count": 48,
   "metadata": {},
   "outputs": [],
   "source": [
    "F_A = A.exterior_derivative()"
   ]
  },
  {
   "cell_type": "code",
   "execution_count": 49,
   "metadata": {},
   "outputs": [
    {
     "data": {
      "text/html": [
       "<html>\\(\\displaystyle \\mathrm{d}A = \\left( \\frac{\\partial\\,A_{1}}{\\partial t} + \\frac{\\partial\\,\\Phi}{\\partial x} \\right) \\mathrm{d} t\\wedge \\mathrm{d} x + \\left( \\frac{\\partial\\,A_{2}}{\\partial t} + \\frac{\\partial\\,\\Phi}{\\partial y} \\right) \\mathrm{d} t\\wedge \\mathrm{d} y + \\left( \\frac{\\partial\\,A_{3}}{\\partial t} + \\frac{\\partial\\,\\Phi}{\\partial z} \\right) \\mathrm{d} t\\wedge \\mathrm{d} z + \\left( -\\frac{\\partial\\,A_{1}}{\\partial y} + \\frac{\\partial\\,A_{2}}{\\partial x} \\right) \\mathrm{d} x\\wedge \\mathrm{d} y + \\left( -\\frac{\\partial\\,A_{1}}{\\partial z} + \\frac{\\partial\\,A_{3}}{\\partial x} \\right) \\mathrm{d} x\\wedge \\mathrm{d} z + \\left( -\\frac{\\partial\\,A_{2}}{\\partial z} + \\frac{\\partial\\,A_{3}}{\\partial y} \\right) \\mathrm{d} y\\wedge \\mathrm{d} z\\)</html>"
      ],
      "text/latex": [
       "$\\displaystyle \\mathrm{d}A = \\left( \\frac{\\partial\\,A_{1}}{\\partial t} + \\frac{\\partial\\,\\Phi}{\\partial x} \\right) \\mathrm{d} t\\wedge \\mathrm{d} x + \\left( \\frac{\\partial\\,A_{2}}{\\partial t} + \\frac{\\partial\\,\\Phi}{\\partial y} \\right) \\mathrm{d} t\\wedge \\mathrm{d} y + \\left( \\frac{\\partial\\,A_{3}}{\\partial t} + \\frac{\\partial\\,\\Phi}{\\partial z} \\right) \\mathrm{d} t\\wedge \\mathrm{d} z + \\left( -\\frac{\\partial\\,A_{1}}{\\partial y} + \\frac{\\partial\\,A_{2}}{\\partial x} \\right) \\mathrm{d} x\\wedge \\mathrm{d} y + \\left( -\\frac{\\partial\\,A_{1}}{\\partial z} + \\frac{\\partial\\,A_{3}}{\\partial x} \\right) \\mathrm{d} x\\wedge \\mathrm{d} z + \\left( -\\frac{\\partial\\,A_{2}}{\\partial z} + \\frac{\\partial\\,A_{3}}{\\partial y} \\right) \\mathrm{d} y\\wedge \\mathrm{d} z$"
      ],
      "text/plain": [
       "dA = (d(A_1)/dt + d(Phi)/dx) dt∧dx + (d(A_2)/dt + d(Phi)/dy) dt∧dy + (d(A_3)/dt + d(Phi)/dz) dt∧dz + (-d(A_1)/dy + d(A_2)/dx) dx∧dy + (-d(A_1)/dz + d(A_3)/dx) dx∧dz + (-d(A_2)/dz + d(A_3)/dy) dy∧dz"
      ]
     },
     "execution_count": 49,
     "metadata": {},
     "output_type": "execute_result"
    }
   ],
   "source": [
    "F_A.display()"
   ]
  },
  {
   "cell_type": "code",
   "execution_count": 50,
   "metadata": {},
   "outputs": [
    {
     "data": {
      "text/html": [
       "<html>\\(\\displaystyle \\frac{\\partial\\,A_{1}}{\\partial t} + \\frac{\\partial\\,\\Phi}{\\partial x}\\)</html>"
      ],
      "text/latex": [
       "$\\displaystyle \\frac{\\partial\\,A_{1}}{\\partial t} + \\frac{\\partial\\,\\Phi}{\\partial x}$"
      ],
      "text/plain": [
       "d(A_1)/dt + d(Phi)/dx"
      ]
     },
     "execution_count": 50,
     "metadata": {},
     "output_type": "execute_result"
    }
   ],
   "source": [
    "F_A[0,1]"
   ]
  },
  {
   "cell_type": "code",
   "execution_count": 51,
   "metadata": {},
   "outputs": [
    {
     "data": {
      "text/html": [
       "<html>\\(\\displaystyle \\left(\\begin{array}{rrrr}\n",
       "0 & \\frac{\\partial\\,A_{1}}{\\partial t} + \\frac{\\partial\\,\\Phi}{\\partial x} & \\frac{\\partial\\,A_{2}}{\\partial t} + \\frac{\\partial\\,\\Phi}{\\partial y} & \\frac{\\partial\\,A_{3}}{\\partial t} + \\frac{\\partial\\,\\Phi}{\\partial z} \\\\\n",
       "-\\frac{\\partial\\,A_{1}}{\\partial t} - \\frac{\\partial\\,\\Phi}{\\partial x} & 0 & -\\frac{\\partial\\,A_{1}}{\\partial y} + \\frac{\\partial\\,A_{2}}{\\partial x} & -\\frac{\\partial\\,A_{1}}{\\partial z} + \\frac{\\partial\\,A_{3}}{\\partial x} \\\\\n",
       "-\\frac{\\partial\\,A_{2}}{\\partial t} - \\frac{\\partial\\,\\Phi}{\\partial y} & \\frac{\\partial\\,A_{1}}{\\partial y} - \\frac{\\partial\\,A_{2}}{\\partial x} & 0 & -\\frac{\\partial\\,A_{2}}{\\partial z} + \\frac{\\partial\\,A_{3}}{\\partial y} \\\\\n",
       "-\\frac{\\partial\\,A_{3}}{\\partial t} - \\frac{\\partial\\,\\Phi}{\\partial z} & \\frac{\\partial\\,A_{1}}{\\partial z} - \\frac{\\partial\\,A_{3}}{\\partial x} & \\frac{\\partial\\,A_{2}}{\\partial z} - \\frac{\\partial\\,A_{3}}{\\partial y} & 0\n",
       "\\end{array}\\right)\\)</html>"
      ],
      "text/latex": [
       "$\\displaystyle \\left(\\begin{array}{rrrr}\n",
       "0 & \\frac{\\partial\\,A_{1}}{\\partial t} + \\frac{\\partial\\,\\Phi}{\\partial x} & \\frac{\\partial\\,A_{2}}{\\partial t} + \\frac{\\partial\\,\\Phi}{\\partial y} & \\frac{\\partial\\,A_{3}}{\\partial t} + \\frac{\\partial\\,\\Phi}{\\partial z} \\\\\n",
       "-\\frac{\\partial\\,A_{1}}{\\partial t} - \\frac{\\partial\\,\\Phi}{\\partial x} & 0 & -\\frac{\\partial\\,A_{1}}{\\partial y} + \\frac{\\partial\\,A_{2}}{\\partial x} & -\\frac{\\partial\\,A_{1}}{\\partial z} + \\frac{\\partial\\,A_{3}}{\\partial x} \\\\\n",
       "-\\frac{\\partial\\,A_{2}}{\\partial t} - \\frac{\\partial\\,\\Phi}{\\partial y} & \\frac{\\partial\\,A_{1}}{\\partial y} - \\frac{\\partial\\,A_{2}}{\\partial x} & 0 & -\\frac{\\partial\\,A_{2}}{\\partial z} + \\frac{\\partial\\,A_{3}}{\\partial y} \\\\\n",
       "-\\frac{\\partial\\,A_{3}}{\\partial t} - \\frac{\\partial\\,\\Phi}{\\partial z} & \\frac{\\partial\\,A_{1}}{\\partial z} - \\frac{\\partial\\,A_{3}}{\\partial x} & \\frac{\\partial\\,A_{2}}{\\partial z} - \\frac{\\partial\\,A_{3}}{\\partial y} & 0\n",
       "\\end{array}\\right)$"
      ],
      "text/plain": [
       "[                     0  d(A_1)/dt + d(Phi)/dx  d(A_2)/dt + d(Phi)/dy  d(A_3)/dt + d(Phi)/dz]\n",
       "[-d(A_1)/dt - d(Phi)/dx                      0 -d(A_1)/dy + d(A_2)/dx -d(A_1)/dz + d(A_3)/dx]\n",
       "[-d(A_2)/dt - d(Phi)/dy  d(A_1)/dy - d(A_2)/dx                      0 -d(A_2)/dz + d(A_3)/dy]\n",
       "[-d(A_3)/dt - d(Phi)/dz  d(A_1)/dz - d(A_3)/dx  d(A_2)/dz - d(A_3)/dy                      0]"
      ]
     },
     "execution_count": 51,
     "metadata": {},
     "output_type": "execute_result"
    }
   ],
   "source": [
    "F_A[:]"
   ]
  },
  {
   "cell_type": "code",
   "execution_count": 52,
   "metadata": {},
   "outputs": [
    {
     "name": "stdout",
     "output_type": "stream",
     "text": [
      "2-form dA on the 4-dimensional Lorentzian manifold M\n"
     ]
    }
   ],
   "source": [
    "print(F_A)"
   ]
  },
  {
   "cell_type": "code",
   "execution_count": null,
   "metadata": {},
   "outputs": [],
   "source": []
  }
 ],
 "metadata": {
  "kernelspec": {
   "display_name": "SageMath 9.6.rc0",
   "language": "sage",
   "name": "sagemath"
  },
  "language_info": {
   "codemirror_mode": {
    "name": "ipython",
    "version": 3
   },
   "file_extension": ".py",
   "mimetype": "text/x-python",
   "name": "python",
   "nbconvert_exporter": "python",
   "pygments_lexer": "ipython3",
   "version": "3.10.4"
  }
 },
 "nbformat": 4,
 "nbformat_minor": 4
}
