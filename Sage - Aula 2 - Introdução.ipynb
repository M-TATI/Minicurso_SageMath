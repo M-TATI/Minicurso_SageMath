{
 "cells": [
  {
   "cell_type": "markdown",
   "id": "be6687ca-f379-40f4-b97f-7eb9099f82c9",
   "metadata": {},
   "source": [
    "# Introdução ao SageMath\n",
    "***"
   ]
  },
  {
   "cell_type": "markdown",
   "id": "07422998-8676-4f1e-a198-c157c9c389e5",
   "metadata": {},
   "source": [
    "**SageMath** (ou simplesmente sage) é um sistema de computação algébrica. Dentre outras, algumas vantágens de usar sistemas desse tipo são:\n",
    "\n",
    "- Você pode se concentrar mais nas idéias (modelo, formulação, teoria) e menos nas \"contas\";\n",
    "- Os resultados estendidos, generalizados e analisados com facilidade;\n",
    "- Você pode explorar a estrutura matemática em torno do seu problema, o sage é ótimo para isso;\n",
    "- Seus resultados podem ser compartilhados de uma forma reprodutível;\n",
    "- Depois de investir algum tempo aprendendo o básico, você poderá resolver problema de forma muito mais rápido e com mais ferramentas;\n",
    "- Você só precisa saber um conjunto básico de comandos e sintaxe, para todo o restante pode usar os recursos de ajuda e a documentação;"
   ]
  },
  {
   "cell_type": "markdown",
   "id": "5eb66103-11b7-4bf6-b74e-33f2903dd38d",
   "metadata": {},
   "source": [
    "[SageMathCell](https://sagecell.sagemath.org/)"
   ]
  },
  {
   "cell_type": "markdown",
   "id": "9fdb8621-fbe5-4895-9fcf-bf0185c8af77",
   "metadata": {
    "tags": []
   },
   "source": [
    "***\n",
    "### Nessa aula veremos:\n",
    "\n",
    "1. Pré-documento;\n",
    "2. Operações básicas;\n",
    "3. Variáveis simbólicas;\n",
    "4. Expressões simbólicas;\n",
    "5. Equações, inequações e sistemas\n",
    "6. Funções e substituição de variáveis em expressões simbólicas\n",
    "7. Pacotes opcionais\n",
    "8. Jupyter  notebook\n",
    "9. Markdown básico\n",
    "***"
   ]
  },
  {
   "cell_type": "markdown",
   "id": "b90e2bbe-6f43-43f1-b900-7efb7ef45d58",
   "metadata": {
    "slideshow": {
     "slide_type": "slide"
    },
    "tags": []
   },
   "source": [
    "## 1. Pré-documento"
   ]
  },
  {
   "cell_type": "markdown",
   "id": "34383509-4f4d-4e37-80c0-399274c50f08",
   "metadata": {
    "slideshow": {
     "slide_type": "fragment"
    }
   },
   "source": [
    "Você pode fazer o jupyter exibir as equações no formato $\\LaTeX{}$ digitando `%display latex` em uma célula."
   ]
  },
  {
   "cell_type": "code",
   "execution_count": 1,
   "id": "06a1594f-9b48-4349-99b3-28e0da3383b5",
   "metadata": {
    "slideshow": {
     "slide_type": "fragment"
    },
    "tags": []
   },
   "outputs": [],
   "source": [
    "%display latex # outras opções são plain, ascii_art e unicode_art"
   ]
  },
  {
   "cell_type": "code",
   "execution_count": 2,
   "id": "ae5807f7-bd51-479f-abd3-dd6b9370c9c9",
   "metadata": {
    "slideshow": {
     "slide_type": "fragment"
    }
   },
   "outputs": [],
   "source": [
    "reset() #inicializa todas as variáveis"
   ]
  },
  {
   "cell_type": "markdown",
   "id": "126a8433-4e5a-43e4-8abc-42295c16ce9b",
   "metadata": {
    "slideshow": {
     "slide_type": "slide"
    }
   },
   "source": [
    "## 2. Operações Básicas"
   ]
  },
  {
   "cell_type": "markdown",
   "id": "a5ca215d-c34b-474f-8c44-f8fcebe2c21d",
   "metadata": {
    "slideshow": {
     "slide_type": "fragment"
    }
   },
   "source": [
    "No Sage as operações básicas com números reais, complexos, racionais, etc., são realizadas como nas calculadoras científicas. Frações e raízes são automaticamente simplificadas"
   ]
  },
  {
   "cell_type": "code",
   "execution_count": 3,
   "id": "e33a23ba-490a-414d-adab-65b467afddff",
   "metadata": {
    "slideshow": {
     "slide_type": "fragment"
    }
   },
   "outputs": [
    {
     "data": {
      "text/html": [
       "<html>\\(\\displaystyle \\frac{21}{10}\\)</html>"
      ],
      "text/latex": [
       "$\\displaystyle \\frac{21}{10}$"
      ],
      "text/plain": [
       "21/10"
      ]
     },
     "execution_count": 3,
     "metadata": {},
     "output_type": "execute_result"
    }
   ],
   "source": [
    "15/25+3/2"
   ]
  },
  {
   "cell_type": "code",
   "execution_count": 4,
   "id": "28b6e599-4e2f-432b-bc15-dc4d4a04c794",
   "metadata": {
    "slideshow": {
     "slide_type": "fragment"
    }
   },
   "outputs": [
    {
     "data": {
      "text/html": [
       "<html>\\(\\displaystyle \\frac{2 \\, \\sqrt{5}}{\\pi}\\)</html>"
      ],
      "text/latex": [
       "$\\displaystyle \\frac{2 \\, \\sqrt{5}}{\\pi}$"
      ],
      "text/plain": [
       "2*sqrt(5)/pi"
      ]
     },
     "execution_count": 4,
     "metadata": {},
     "output_type": "execute_result"
    }
   ],
   "source": [
    "sqrt(20)/pi"
   ]
  },
  {
   "cell_type": "markdown",
   "id": "5fecd488-94d3-45d4-8a0c-3336c156028f",
   "metadata": {},
   "source": [
    "Aproximação numérica"
   ]
  },
  {
   "cell_type": "code",
   "execution_count": 5,
   "id": "823deae5-d8bf-4f93-a71e-3e7dfb2e2338",
   "metadata": {
    "slideshow": {
     "slide_type": "subslide"
    }
   },
   "outputs": [
    {
     "data": {
      "text/html": [
       "<html>\\(\\displaystyle 4.47213595499958\\)</html>"
      ],
      "text/latex": [
       "$\\displaystyle 4.47213595499958$"
      ],
      "text/plain": [
       "4.47213595499958"
      ]
     },
     "execution_count": 5,
     "metadata": {},
     "output_type": "execute_result"
    }
   ],
   "source": [
    "sqrt(20).n()"
   ]
  },
  {
   "cell_type": "code",
   "execution_count": 6,
   "id": "40c7b89c-957a-4e53-a937-f5a7dad61087",
   "metadata": {
    "slideshow": {
     "slide_type": "fragment"
    }
   },
   "outputs": [
    {
     "data": {
      "text/html": [
       "<html>\\(\\displaystyle 4.47213595499958\\)</html>"
      ],
      "text/latex": [
       "$\\displaystyle 4.47213595499958$"
      ],
      "text/plain": [
       "4.47213595499958"
      ]
     },
     "execution_count": 6,
     "metadata": {},
     "output_type": "execute_result"
    }
   ],
   "source": [
    "sqrt(20.0)"
   ]
  },
  {
   "cell_type": "code",
   "execution_count": 7,
   "id": "55260e5b-649d-4952-beb2-d1724663e773",
   "metadata": {},
   "outputs": [
    {
     "data": {
      "text/html": [
       "<html>\\(\\displaystyle 10\\)</html>"
      ],
      "text/latex": [
       "$\\displaystyle 10$"
      ],
      "text/plain": [
       "10"
      ]
     },
     "execution_count": 7,
     "metadata": {},
     "output_type": "execute_result"
    }
   ],
   "source": [
    "abs(-10)"
   ]
  },
  {
   "cell_type": "markdown",
   "id": "7cacbae4-8edc-4d18-aa0d-9e0a47a55d1c",
   "metadata": {
    "slideshow": {
     "slide_type": "slide"
    }
   },
   "source": [
    "Algumas operações e funções básicas do Sage:\n",
    "\n",
    "|Operação|Sintáxe|\n",
    "|:-:|:-:|\n",
    "|4 operações | `a+b, a-b, a*b, a/b`|\n",
    "|Potêmcia | `a**b ou a^b`|\n",
    "|Raiz quadrada | `sqrt(a)`|\n",
    "|Divisão inteira | `a//b`|\n",
    "|Resto na divisão | `a%b`|\n",
    "|Fatorial | `factorial(a)`|\n",
    "|Coeficiente binômial $\\begin{pmatrix} a\\\\ b\\end{pmatrix}$ | `binomial(a,b)`|\n",
    "|Parte inteira | `floor(a)`|\n",
    "|Valor absoluto | `abs(a)`|\n",
    "|Aproximação numérica | `N(a) ou a.n()`|"
   ]
  },
  {
   "cell_type": "markdown",
   "id": "187f3594-6542-451a-b4e5-29f1ff9c7b39",
   "metadata": {
    "slideshow": {
     "slide_type": "slide"
    }
   },
   "source": [
    "## 3. Variáveis simbólicas"
   ]
  },
  {
   "cell_type": "markdown",
   "id": "ec11eb8c-6048-413c-bd0d-462e66b3ad87",
   "metadata": {
    "slideshow": {
     "slide_type": "fragment"
    }
   },
   "source": [
    "Existem dois tipos básicos de variáveis no sage:"
   ]
  },
  {
   "cell_type": "markdown",
   "id": "4536cf8a-ca1a-43f9-80e6-0fd84f20e870",
   "metadata": {
    "slideshow": {
     "slide_type": "fragment"
    }
   },
   "source": [
    "* As variáveis simbólicas, usadas nos cálculos simbólicos;"
   ]
  },
  {
   "cell_type": "markdown",
   "id": "df7f3cfd-07df-4aea-9beb-70cfc15978a5",
   "metadata": {
    "slideshow": {
     "slide_type": "fragment"
    }
   },
   "source": [
    "* Variáveis python, que são usadas para guardas alguma informação na memória. "
   ]
  },
  {
   "cell_type": "markdown",
   "id": "1c889022-79f5-4eee-ac1f-3589e73add98",
   "metadata": {
    "slideshow": {
     "slide_type": "subslide"
    }
   },
   "source": [
    "Variáveis simbólicas precisam ser declaradas. Exceto `x`, que já vem pré-declarada."
   ]
  },
  {
   "cell_type": "code",
   "execution_count": 8,
   "id": "081f8715-b9d5-4c73-8d8e-2af5583d3218",
   "metadata": {
    "slideshow": {
     "slide_type": "fragment"
    }
   },
   "outputs": [
    {
     "data": {
      "text/html": [
       "<html>\\(\\displaystyle \\left(u, y, w, a, b, c\\right)\\)</html>"
      ],
      "text/latex": [
       "$\\displaystyle \\left(u, y, w, a, b, c\\right)$"
      ],
      "text/plain": [
       "(u, y, w, a, b, c)"
      ]
     },
     "execution_count": 8,
     "metadata": {},
     "output_type": "execute_result"
    }
   ],
   "source": [
    "var('u y w a b c') "
   ]
  },
  {
   "cell_type": "code",
   "execution_count": 9,
   "id": "801b25da-1b25-449c-a8cb-fb916b14d20d",
   "metadata": {},
   "outputs": [
    {
     "data": {
      "text/html": [
       "<html>\\(\\displaystyle a^{c} u\\)</html>"
      ],
      "text/latex": [
       "$\\displaystyle a^{c} u$"
      ],
      "text/plain": [
       "a^c*u"
      ]
     },
     "execution_count": 9,
     "metadata": {},
     "output_type": "execute_result"
    }
   ],
   "source": [
    "u*a^c"
   ]
  },
  {
   "cell_type": "markdown",
   "id": "e5281e6a-8dc9-405f-9fdb-8330179e0910",
   "metadata": {
    "slideshow": {
     "slide_type": "slide"
    }
   },
   "source": [
    "Uma lista de varáveis simbólicas indexadas pode ser criada com:"
   ]
  },
  {
   "cell_type": "code",
   "execution_count": 10,
   "id": "3515e708-2c42-4255-95b8-4abdb2373c12",
   "metadata": {
    "slideshow": {
     "slide_type": "fragment"
    }
   },
   "outputs": [
    {
     "data": {
      "text/html": [
       "<html>\\(\\displaystyle \\left(x_{0}, x_{1}, x_{2}, x_{3}\\right)\\)</html>"
      ],
      "text/latex": [
       "$\\displaystyle \\left(x_{0}, x_{1}, x_{2}, x_{3}\\right)$"
      ],
      "text/plain": [
       "(x0, x1, x2, x3)"
      ]
     },
     "execution_count": 10,
     "metadata": {},
     "output_type": "execute_result"
    }
   ],
   "source": [
    "X = var('x',n=4)\n",
    "X"
   ]
  },
  {
   "cell_type": "code",
   "execution_count": 11,
   "id": "5990266d-e272-49b2-b827-80909e279ddb",
   "metadata": {
    "slideshow": {
     "slide_type": "fragment"
    }
   },
   "outputs": [
    {
     "data": {
      "text/html": [
       "<html>\\(\\displaystyle x_{0}^{x_{2}}\\)</html>"
      ],
      "text/latex": [
       "$\\displaystyle x_{0}^{x_{2}}$"
      ],
      "text/plain": [
       "x0^x2"
      ]
     },
     "execution_count": 11,
     "metadata": {},
     "output_type": "execute_result"
    }
   ],
   "source": [
    "X[0]^X[2]"
   ]
  },
  {
   "cell_type": "markdown",
   "id": "c4dd7e6a-4a1f-4366-878d-d9e7634846f9",
   "metadata": {},
   "source": [
    "Você pode tammbém definir o domínio e um nome $\\LaTeX{}$ para variáveis simbólicas."
   ]
  },
  {
   "cell_type": "code",
   "execution_count": 12,
   "id": "9101902c-c3c3-499e-9992-af414a26cdd7",
   "metadata": {},
   "outputs": [
    {
     "data": {
      "text/html": [
       "<html>\\(\\displaystyle {\\bar{\\alpha}}\\)</html>"
      ],
      "text/latex": [
       "$\\displaystyle {\\bar{\\alpha}}$"
      ],
      "text/plain": [
       "alp_bar"
      ]
     },
     "execution_count": 12,
     "metadata": {},
     "output_type": "execute_result"
    }
   ],
   "source": [
    "var('alp_bar', latex_name=r'\\bar{\\alpha}', domain='real')"
   ]
  },
  {
   "cell_type": "code",
   "execution_count": 13,
   "id": "4ab92a93-2ef3-4704-a484-b49cb250113c",
   "metadata": {},
   "outputs": [
    {
     "data": {
      "text/html": [
       "<html>\\(\\displaystyle {\\bar{\\alpha}}\\)</html>"
      ],
      "text/latex": [
       "$\\displaystyle {\\bar{\\alpha}}$"
      ],
      "text/plain": [
       "alp_bar"
      ]
     },
     "execution_count": 13,
     "metadata": {},
     "output_type": "execute_result"
    }
   ],
   "source": [
    "alp_bar"
   ]
  },
  {
   "cell_type": "markdown",
   "id": "5cc385e6-18c2-466b-9ef5-db16e0a30fc5",
   "metadata": {},
   "source": [
    "Ou Definir usando o código latex diretamente"
   ]
  },
  {
   "cell_type": "code",
   "execution_count": 14,
   "id": "22790104-e73f-4e14-a7a1-631406dd7b60",
   "metadata": {},
   "outputs": [
    {
     "data": {
      "text/html": [
       "<html>\\(\\displaystyle γ\\)</html>"
      ],
      "text/latex": [
       "$\\displaystyle γ$"
      ],
      "text/plain": [
       "γ"
      ]
     },
     "execution_count": 14,
     "metadata": {},
     "output_type": "execute_result"
    }
   ],
   "source": [
    "var('γ')\n",
    "γ"
   ]
  },
  {
   "cell_type": "markdown",
   "id": "9bd55df0-b688-473b-b694-e9f4d7d32413",
   "metadata": {
    "slideshow": {
     "slide_type": "slide"
    }
   },
   "source": [
    "Variáveis simbólicas são usadas, por exemplo, para declarar funções."
   ]
  },
  {
   "cell_type": "code",
   "execution_count": 15,
   "id": "7a4304a1-1cd0-4aff-87cd-dcfc9070f3e2",
   "metadata": {
    "slideshow": {
     "slide_type": "fragment"
    }
   },
   "outputs": [
    {
     "data": {
      "text/html": [
       "<html>\\(\\displaystyle u \\ {\\mapsto}\\ \\cos\\left(u\\right)^{6} + \\sin\\left(u\\right)^{6} + 3 \\, \\cos\\left(u\\right)^{2} \\sin\\left(u\\right)^{2}\\)</html>"
      ],
      "text/latex": [
       "$\\displaystyle u \\ {\\mapsto}\\ \\cos\\left(u\\right)^{6} + \\sin\\left(u\\right)^{6} + 3 \\, \\cos\\left(u\\right)^{2} \\sin\\left(u\\right)^{2}$"
      ],
      "text/plain": [
       "u |--> cos(u)^6 + sin(u)^6 + 3*cos(u)^2*sin(u)^2"
      ]
     },
     "execution_count": 15,
     "metadata": {},
     "output_type": "execute_result"
    }
   ],
   "source": [
    "f(u)=cos(u)^6 + sin(u)^6 + 3 * sin(u)^2 * cos(u)^2\n",
    "f"
   ]
  },
  {
   "cell_type": "markdown",
   "id": "3ee5a9c4-b0c4-4c2c-b921-1e42c53505d4",
   "metadata": {},
   "source": [
    "Código $\\LaTeX$"
   ]
  },
  {
   "cell_type": "code",
   "execution_count": 16,
   "id": "9cdffc77-eeda-46fd-9ce3-4e9227c152e1",
   "metadata": {},
   "outputs": [
    {
     "name": "stdout",
     "output_type": "stream",
     "text": [
      "\\cos\\left(u\\right)^{6} + \\sin\\left(u\\right)^{6} + 3 \\, \\cos\\left(u\\right)^{2} \\sin\\left(u\\right)^{2}\n"
     ]
    }
   ],
   "source": [
    "print(latex(f(u)))"
   ]
  },
  {
   "cell_type": "markdown",
   "id": "7a8f992e-ce8f-4e9e-bc9a-7a89286f469c",
   "metadata": {
    "slideshow": {
     "slide_type": "slide"
    }
   },
   "source": [
    "Assim como Python, o Sage usa o paradigma de orientação ao objeto. Se você digitar `.` após o nome de um objeto e apertar a tecla <kbd>Tab</kbd>, será exibda uma lista de métodos associados a este objeto."
   ]
  },
  {
   "cell_type": "markdown",
   "id": "757ed39e-58c3-4de2-9896-55d407ec8246",
   "metadata": {
    "slideshow": {
     "slide_type": "slide"
    }
   },
   "source": [
    "* A última saída é armazenada na variável `_` \n",
    "* Penúltima em `__` \n",
    "* Antepenúltima `___`"
   ]
  },
  {
   "cell_type": "code",
   "execution_count": 17,
   "id": "84a36009-72d3-493f-bcdd-4078c57a73f3",
   "metadata": {
    "slideshow": {
     "slide_type": "fragment"
    }
   },
   "outputs": [
    {
     "data": {
      "text/html": [
       "<html>\\(\\displaystyle u \\ {\\mapsto}\\ \\cos\\left(u\\right)^{6} + \\sin\\left(u\\right)^{6} + 3 \\, \\cos\\left(u\\right)^{2} \\sin\\left(u\\right)^{2}\\)</html>"
      ],
      "text/latex": [
       "$\\displaystyle u \\ {\\mapsto}\\ \\cos\\left(u\\right)^{6} + \\sin\\left(u\\right)^{6} + 3 \\, \\cos\\left(u\\right)^{2} \\sin\\left(u\\right)^{2}$"
      ],
      "text/plain": [
       "u |--> cos(u)^6 + sin(u)^6 + 3*cos(u)^2*sin(u)^2"
      ]
     },
     "execution_count": 17,
     "metadata": {},
     "output_type": "execute_result"
    }
   ],
   "source": [
    "_"
   ]
  },
  {
   "cell_type": "markdown",
   "id": "06a82416-d05e-4ce9-95b3-a3100a6300c5",
   "metadata": {
    "slideshow": {
     "slide_type": "fragment"
    }
   },
   "source": [
    "Um `?` após o nome de uma função exibe uma descrição da mesma, geralmente com alguns exemplos."
   ]
  },
  {
   "cell_type": "markdown",
   "id": "e696df61-60fc-447a-bfb2-23f43e0a630d",
   "metadata": {
    "slideshow": {
     "slide_type": "slide"
    }
   },
   "source": [
    "## 4. Expressões simbólicas"
   ]
  },
  {
   "cell_type": "markdown",
   "id": "ce0a7a15-bdcf-4c1f-8d3b-f08aa78500d5",
   "metadata": {
    "slideshow": {
     "slide_type": "fragment"
    }
   },
   "source": [
    "Expressões simbólicas podem ser manipuladas de várias formas"
   ]
  },
  {
   "cell_type": "code",
   "execution_count": 18,
   "id": "008a1574-9db8-47c1-8322-717fc37726b0",
   "metadata": {
    "slideshow": {
     "slide_type": "subslide"
    }
   },
   "outputs": [
    {
     "data": {
      "text/html": [
       "<html>\\(\\displaystyle {\\left(x + y\\right)} {\\left(x + 1\\right)}^{2}\\)</html>"
      ],
      "text/latex": [
       "$\\displaystyle {\\left(x + y\\right)} {\\left(x + 1\\right)}^{2}$"
      ],
      "text/plain": [
       "(x + y)*(x + 1)^2"
      ]
     },
     "execution_count": 18,
     "metadata": {},
     "output_type": "execute_result"
    }
   ],
   "source": [
    "p = (x+y)*(x+1)^2\n",
    "p"
   ]
  },
  {
   "cell_type": "code",
   "execution_count": 19,
   "id": "0f33f59d-6352-4025-a71f-92d5920016e8",
   "metadata": {
    "slideshow": {
     "slide_type": "subslide"
    }
   },
   "outputs": [
    {
     "data": {
      "text/html": [
       "<html>\\(\\displaystyle x^{3} + x^{2} y + 2 \\, x^{2} + 2 \\, x y + x + y\\)</html>"
      ],
      "text/latex": [
       "$\\displaystyle x^{3} + x^{2} y + 2 \\, x^{2} + 2 \\, x y + x + y$"
      ],
      "text/plain": [
       "x^3 + x^2*y + 2*x^2 + 2*x*y + x + y"
      ]
     },
     "execution_count": 19,
     "metadata": {},
     "output_type": "execute_result"
    }
   ],
   "source": [
    "p2 = p.expand(); p2"
   ]
  },
  {
   "cell_type": "code",
   "execution_count": 20,
   "id": "57036a0d-7269-4ae8-8256-a8abf0b56829",
   "metadata": {
    "slideshow": {
     "slide_type": "subslide"
    }
   },
   "outputs": [
    {
     "data": {
      "text/html": [
       "<html>\\(\\displaystyle x^{3} + x^{2} {\\left(y + 2\\right)} + x {\\left(2 \\, y + 1\\right)} + y\\)</html>"
      ],
      "text/latex": [
       "$\\displaystyle x^{3} + x^{2} {\\left(y + 2\\right)} + x {\\left(2 \\, y + 1\\right)} + y$"
      ],
      "text/plain": [
       "x^3 + x^2*(y + 2) + x*(2*y + 1) + y"
      ]
     },
     "execution_count": 20,
     "metadata": {},
     "output_type": "execute_result"
    }
   ],
   "source": [
    "p2.collect(x) #potências da x"
   ]
  },
  {
   "cell_type": "code",
   "execution_count": 21,
   "id": "ee313762-5267-4c31-8c76-be568ef8ed7d",
   "metadata": {
    "slideshow": {
     "slide_type": "subslide"
    }
   },
   "outputs": [
    {
     "data": {
      "text/html": [
       "<html>\\(\\displaystyle {\\left(x + y\\right)} {\\left(x + 1\\right)}^{2}\\)</html>"
      ],
      "text/latex": [
       "$\\displaystyle {\\left(x + y\\right)} {\\left(x + 1\\right)}^{2}$"
      ],
      "text/plain": [
       "(x + y)*(x + 1)^2"
      ]
     },
     "execution_count": 21,
     "metadata": {},
     "output_type": "execute_result"
    }
   ],
   "source": [
    "p2.factor()"
   ]
  },
  {
   "cell_type": "markdown",
   "id": "5e9d1a3f-17c8-4f46-b2f7-8470ac625d31",
   "metadata": {
    "slideshow": {
     "slide_type": "slide"
    }
   },
   "source": [
    "Identidades trigonômétricas podem ser utilizadas com `.expand_trig()`"
   ]
  },
  {
   "cell_type": "code",
   "execution_count": 22,
   "id": "31ae530d-4852-4d48-ae5f-0fbf88dac7aa",
   "metadata": {
    "slideshow": {
     "slide_type": "fragment"
    }
   },
   "outputs": [
    {
     "data": {
      "text/html": [
       "<html>\\(\\displaystyle \\cos\\left(y\\right) \\sin\\left(x\\right) + \\cos\\left(x\\right) \\sin\\left(y\\right)\\)</html>"
      ],
      "text/latex": [
       "$\\displaystyle \\cos\\left(y\\right) \\sin\\left(x\\right) + \\cos\\left(x\\right) \\sin\\left(y\\right)$"
      ],
      "text/plain": [
       "cos(y)*sin(x) + cos(x)*sin(y)"
      ]
     },
     "execution_count": 22,
     "metadata": {},
     "output_type": "execute_result"
    }
   ],
   "source": [
    "sin(x+y).expand_trig()"
   ]
  },
  {
   "cell_type": "code",
   "execution_count": 23,
   "id": "833dd4bd-aa63-454d-9e5c-74775a2c03b0",
   "metadata": {
    "slideshow": {
     "slide_type": "fragment"
    }
   },
   "outputs": [
    {
     "data": {
      "text/html": [
       "<html>\\(\\displaystyle \\frac{\\tanh\\left(x\\right) + \\tanh\\left(y\\right)}{\\tanh\\left(x\\right) \\tanh\\left(y\\right) + 1}\\)</html>"
      ],
      "text/latex": [
       "$\\displaystyle \\frac{\\tanh\\left(x\\right) + \\tanh\\left(y\\right)}{\\tanh\\left(x\\right) \\tanh\\left(y\\right) + 1}$"
      ],
      "text/plain": [
       "(tanh(x) + tanh(y))/(tanh(x)*tanh(y) + 1)"
      ]
     },
     "execution_count": 23,
     "metadata": {},
     "output_type": "execute_result"
    }
   ],
   "source": [
    "tanh(x+y).expand_trig()"
   ]
  },
  {
   "cell_type": "markdown",
   "id": "58ad2b62-983d-4264-8dd4-db225f0cdbff",
   "metadata": {
    "slideshow": {
     "slide_type": "slide"
    }
   },
   "source": [
    "Ou simplificadas usando `trig_simplify()`"
   ]
  },
  {
   "cell_type": "code",
   "execution_count": 24,
   "id": "1d4e1348-cc67-4fcc-bd56-b501d9966579",
   "metadata": {
    "slideshow": {
     "slide_type": "subslide"
    }
   },
   "outputs": [
    {
     "data": {
      "text/html": [
       "<html>\\(\\displaystyle \\cos\\left(u\\right)^{6} + \\sin\\left(u\\right)^{6} + 3 \\, \\cos\\left(u\\right)^{2} \\sin\\left(u\\right)^{2}\\)</html>"
      ],
      "text/latex": [
       "$\\displaystyle \\cos\\left(u\\right)^{6} + \\sin\\left(u\\right)^{6} + 3 \\, \\cos\\left(u\\right)^{2} \\sin\\left(u\\right)^{2}$"
      ],
      "text/plain": [
       "cos(u)^6 + sin(u)^6 + 3*cos(u)^2*sin(u)^2"
      ]
     },
     "execution_count": 24,
     "metadata": {},
     "output_type": "execute_result"
    }
   ],
   "source": [
    "f(u)"
   ]
  },
  {
   "cell_type": "code",
   "execution_count": 25,
   "id": "db3bdab3-410b-4ce1-acb2-f096a5317b52",
   "metadata": {},
   "outputs": [
    {
     "data": {
      "text/html": [
       "<html>\\(\\displaystyle -6 \\, \\cos\\left(u\\right)^{5} \\sin\\left(u\\right) + 6 \\, \\cos\\left(u\\right) \\sin\\left(u\\right)^{5} + 6 \\, \\cos\\left(u\\right)^{3} \\sin\\left(u\\right) - 6 \\, \\cos\\left(u\\right) \\sin\\left(u\\right)^{3}\\)</html>"
      ],
      "text/latex": [
       "$\\displaystyle -6 \\, \\cos\\left(u\\right)^{5} \\sin\\left(u\\right) + 6 \\, \\cos\\left(u\\right) \\sin\\left(u\\right)^{5} + 6 \\, \\cos\\left(u\\right)^{3} \\sin\\left(u\\right) - 6 \\, \\cos\\left(u\\right) \\sin\\left(u\\right)^{3}$"
      ],
      "text/plain": [
       "-6*cos(u)^5*sin(u) + 6*cos(u)*sin(u)^5 + 6*cos(u)^3*sin(u) - 6*cos(u)*sin(u)^3"
      ]
     },
     "execution_count": 25,
     "metadata": {},
     "output_type": "execute_result"
    }
   ],
   "source": [
    "diff(f(u),u)"
   ]
  },
  {
   "cell_type": "code",
   "execution_count": 26,
   "id": "0aaf88f1-4b8a-4a3d-a76b-fb595b6ac945",
   "metadata": {
    "slideshow": {
     "slide_type": "fragment"
    }
   },
   "outputs": [
    {
     "data": {
      "text/html": [
       "<html>\\(\\displaystyle -6 \\, \\cos\\left(u\\right)^{5} \\sin\\left(u\\right) + 6 \\, \\cos\\left(u\\right) \\sin\\left(u\\right)^{5} + 6 \\, \\cos\\left(u\\right)^{3} \\sin\\left(u\\right) - 6 \\, \\cos\\left(u\\right) \\sin\\left(u\\right)^{3}\\)</html>"
      ],
      "text/latex": [
       "$\\displaystyle -6 \\, \\cos\\left(u\\right)^{5} \\sin\\left(u\\right) + 6 \\, \\cos\\left(u\\right) \\sin\\left(u\\right)^{5} + 6 \\, \\cos\\left(u\\right)^{3} \\sin\\left(u\\right) - 6 \\, \\cos\\left(u\\right) \\sin\\left(u\\right)^{3}$"
      ],
      "text/plain": [
       "-6*cos(u)^5*sin(u) + 6*cos(u)*sin(u)^5 + 6*cos(u)^3*sin(u) - 6*cos(u)*sin(u)^3"
      ]
     },
     "execution_count": 26,
     "metadata": {},
     "output_type": "execute_result"
    }
   ],
   "source": [
    "f(u).diff()"
   ]
  },
  {
   "cell_type": "code",
   "execution_count": 27,
   "id": "89a03696-3b41-4179-aa77-cfad65542b54",
   "metadata": {
    "slideshow": {
     "slide_type": "subslide"
    }
   },
   "outputs": [
    {
     "data": {
      "text/html": [
       "<html>\\(\\displaystyle 1\\)</html>"
      ],
      "text/latex": [
       "$\\displaystyle 1$"
      ],
      "text/plain": [
       "1"
      ]
     },
     "execution_count": 27,
     "metadata": {},
     "output_type": "execute_result"
    }
   ],
   "source": [
    "f(u).trig_simplify()"
   ]
  },
  {
   "cell_type": "code",
   "execution_count": 28,
   "id": "6bad0b75-2095-4fb8-bba0-647a456d4f5a",
   "metadata": {
    "slideshow": {
     "slide_type": "fragment"
    }
   },
   "outputs": [
    {
     "data": {
      "text/html": [
       "<html>\\(\\displaystyle 0\\)</html>"
      ],
      "text/latex": [
       "$\\displaystyle 0$"
      ],
      "text/plain": [
       "0"
      ]
     },
     "execution_count": 28,
     "metadata": {},
     "output_type": "execute_result"
    }
   ],
   "source": [
    "f(u).diff().trig_simplify()"
   ]
  },
  {
   "cell_type": "markdown",
   "id": "6ad64b68-cfe3-409c-955c-ad19fbc8e727",
   "metadata": {
    "slideshow": {
     "slide_type": "slide"
    }
   },
   "source": [
    "Manipulação simbólica de polinômios:\n",
    "\n",
    "Função | Comando\n",
    ":--- | :---\n",
    "expandir | `expand()`\n",
    "polinômio em `x` | `collect(x)`\n",
    "Fatorar | `factor()`"
   ]
  },
  {
   "cell_type": "markdown",
   "id": "fc1da23d-5f88-420b-bd2a-79ad2089faf2",
   "metadata": {
    "slideshow": {
     "slide_type": "subslide"
    }
   },
   "source": [
    "Funções trigonométricas:\n",
    "\n",
    "Função | Comando\n",
    ":--- | :---\n",
    "Simplificação | `trig_simplify()`\n",
    "Linearização | `reduce_trig()`\n",
    "Expansão | `expand_trig()`"
   ]
  },
  {
   "cell_type": "markdown",
   "id": "58590f37-4f71-468e-bb92-4a4db9c4e67b",
   "metadata": {},
   "source": [
    "Raízes e frações:\n",
    "\n",
    "Função | Comando\n",
    ":--- | :---\n",
    "Somar frações com o mesmo denominador | `combine()`\n",
    "Rotina de simplificações com raízes e frações(muito útil) | `canonicalize_radical()`"
   ]
  },
  {
   "cell_type": "markdown",
   "id": "d6572336-bb2c-4899-80a0-a20d7d2b4566",
   "metadata": {
    "slideshow": {
     "slide_type": "subslide"
    }
   },
   "source": [
    "Geral:\n",
    "\n",
    "Função | Comando\n",
    ":--- | :---\n",
    "Simplificação | `simplify()`\n",
    "Rotina de simplificação | `full_simplify()`"
   ]
  },
  {
   "cell_type": "markdown",
   "id": "52e6ff9d-270f-480f-b4ab-9771a5287d8e",
   "metadata": {},
   "source": [
    "### 4.1 Somatórias e produtórios"
   ]
  },
  {
   "cell_type": "code",
   "execution_count": 29,
   "id": "519458dc-2d65-4dd3-8016-623c479fb97e",
   "metadata": {},
   "outputs": [],
   "source": [
    "LL = [x^2,y^5,cos(x),y]"
   ]
  },
  {
   "cell_type": "code",
   "execution_count": 30,
   "id": "80b64392-0a36-4659-9438-dec895745fb9",
   "metadata": {},
   "outputs": [
    {
     "data": {
      "text/html": [
       "<html>\\(\\displaystyle y^{5} + x^{2} + y + \\cos\\left(x\\right)\\)</html>"
      ],
      "text/latex": [
       "$\\displaystyle y^{5} + x^{2} + y + \\cos\\left(x\\right)$"
      ],
      "text/plain": [
       "y^5 + x^2 + y + cos(x)"
      ]
     },
     "execution_count": 30,
     "metadata": {},
     "output_type": "execute_result"
    }
   ],
   "source": [
    "sum(LL)"
   ]
  },
  {
   "cell_type": "code",
   "execution_count": 31,
   "id": "e0b8a686-223e-4ad2-9f33-d7eed3e75e58",
   "metadata": {},
   "outputs": [
    {
     "data": {
      "text/html": [
       "<html>\\(\\displaystyle \\left[12, 7, 15, 1, 5, 6, 9, 14, 15, 7, 10, 14, 14, 3, 8, 3, 12, 1, 5, 15\\right]\\)</html>"
      ],
      "text/latex": [
       "$\\displaystyle \\left[12, 7, 15, 1, 5, 6, 9, 14, 15, 7, 10, 14, 14, 3, 8, 3, 12, 1, 5, 15\\right]$"
      ],
      "text/plain": [
       "[12, 7, 15, 1, 5, 6, 9, 14, 15, 7, 10, 14, 14, 3, 8, 3, 12, 1, 5, 15]"
      ]
     },
     "metadata": {},
     "output_type": "display_data"
    },
    {
     "data": {
      "text/html": [
       "<html>\\(\\displaystyle 176\\)</html>"
      ],
      "text/latex": [
       "$\\displaystyle 176$"
      ],
      "text/plain": [
       "176"
      ]
     },
     "execution_count": 31,
     "metadata": {},
     "output_type": "execute_result"
    }
   ],
   "source": [
    "L1 = [randint(1,15) for q in range(20)]\n",
    "display(L1)\n",
    "sum(L1)"
   ]
  },
  {
   "cell_type": "code",
   "execution_count": 32,
   "id": "69e921e4-f413-4dac-9fe8-3316098706c5",
   "metadata": {},
   "outputs": [
    {
     "data": {
      "text/html": [
       "<html>\\(\\displaystyle \\zeta(5)\\)</html>"
      ],
      "text/latex": [
       "$\\displaystyle \\zeta(5)$"
      ],
      "text/plain": [
       "zeta(5)"
      ]
     },
     "execution_count": 32,
     "metadata": {},
     "output_type": "execute_result"
    }
   ],
   "source": [
    "sum(1/x^5,x,1,oo)"
   ]
  },
  {
   "cell_type": "code",
   "execution_count": 33,
   "id": "514c5434-69f8-438e-b8be-14a3c8c5c210",
   "metadata": {},
   "outputs": [
    {
     "data": {
      "text/html": [
       "<html>\\(\\displaystyle \\binom{a}{b}\\)</html>"
      ],
      "text/latex": [
       "$\\displaystyle \\binom{a}{b}$"
      ],
      "text/plain": [
       "binomial(a, b)"
      ]
     },
     "execution_count": 33,
     "metadata": {},
     "output_type": "execute_result"
    }
   ],
   "source": [
    "binomial(a,b)"
   ]
  },
  {
   "cell_type": "code",
   "execution_count": 34,
   "id": "1baeb7c4-60b6-4727-89d1-db71941c4bd4",
   "metadata": {},
   "outputs": [
    {
     "data": {
      "text/html": [
       "<html>\\(\\displaystyle 2^{a}\\)</html>"
      ],
      "text/latex": [
       "$\\displaystyle 2^{a}$"
      ],
      "text/plain": [
       "2^a"
      ]
     },
     "execution_count": 34,
     "metadata": {},
     "output_type": "execute_result"
    }
   ],
   "source": [
    "sum(binomial(a,b), b, 0, a)"
   ]
  },
  {
   "cell_type": "code",
   "execution_count": 35,
   "id": "3121d409-da60-4a21-a863-2b7344abc7cc",
   "metadata": {},
   "outputs": [
    {
     "data": {
      "text/html": [
       "<html>\\(\\displaystyle y^{10} + x^{4} + y^{2} + \\cos\\left(x\\right)^{2}\\)</html>"
      ],
      "text/latex": [
       "$\\displaystyle y^{10} + x^{4} + y^{2} + \\cos\\left(x\\right)^{2}$"
      ],
      "text/plain": [
       "y^10 + x^4 + y^2 + cos(x)^2"
      ]
     },
     "execution_count": 35,
     "metadata": {},
     "output_type": "execute_result"
    }
   ],
   "source": [
    "sum(k^2 for k in LL)"
   ]
  },
  {
   "cell_type": "code",
   "execution_count": 36,
   "id": "27dce0a5-e627-42f6-90a8-146e31f20876",
   "metadata": {},
   "outputs": [
    {
     "data": {
      "text/html": [
       "<html>\\(\\displaystyle 42925\\)</html>"
      ],
      "text/latex": [
       "$\\displaystyle 42925$"
      ],
      "text/plain": [
       "42925"
      ]
     },
     "execution_count": 36,
     "metadata": {},
     "output_type": "execute_result"
    }
   ],
   "source": [
    "sum(a^2,a,1,50)"
   ]
  },
  {
   "cell_type": "code",
   "execution_count": 37,
   "id": "46986676-7225-41fc-83f9-7506af5438ae",
   "metadata": {},
   "outputs": [
    {
     "data": {
      "text/html": [
       "<html>\\(\\displaystyle 240\\)</html>"
      ],
      "text/latex": [
       "$\\displaystyle 240$"
      ],
      "text/plain": [
       "240"
      ]
     },
     "execution_count": 37,
     "metadata": {},
     "output_type": "execute_result"
    }
   ],
   "source": [
    "prod([1,2,3,5,8])"
   ]
  },
  {
   "cell_type": "code",
   "execution_count": 38,
   "id": "aaad73bb-61a2-49b1-9f48-1e1442a957e1",
   "metadata": {},
   "outputs": [
    {
     "data": {
      "text/html": [
       "<html>\\(\\displaystyle \\left[1, 4, 9, 16, 25, 36, 49, 64, 81, 100, 121, 144, 169, 196, 225, 256, 289, 324, 361, 400, 441, 484, 529, 576, 625, 676, 729, 784, 841, 900, 961, 1024, 1089, 1156, 1225, 1296, 1369, 1444, 1521, 1600, 1681, 1764, 1849, 1936, 2025, 2116, 2209, 2304, 2401, 2500\\right]\\)</html>"
      ],
      "text/latex": [
       "$\\displaystyle \\left[1, 4, 9, 16, 25, 36, 49, 64, 81, 100, 121, 144, 169, 196, 225, 256, 289, 324, 361, 400, 441, 484, 529, 576, 625, 676, 729, 784, 841, 900, 961, 1024, 1089, 1156, 1225, 1296, 1369, 1444, 1521, 1600, 1681, 1764, 1849, 1936, 2025, 2116, 2209, 2304, 2401, 2500\\right]$"
      ],
      "text/plain": [
       "[1,\n",
       " 4,\n",
       " 9,\n",
       " 16,\n",
       " 25,\n",
       " 36,\n",
       " 49,\n",
       " 64,\n",
       " 81,\n",
       " 100,\n",
       " 121,\n",
       " 144,\n",
       " 169,\n",
       " 196,\n",
       " 225,\n",
       " 256,\n",
       " 289,\n",
       " 324,\n",
       " 361,\n",
       " 400,\n",
       " 441,\n",
       " 484,\n",
       " 529,\n",
       " 576,\n",
       " 625,\n",
       " 676,\n",
       " 729,\n",
       " 784,\n",
       " 841,\n",
       " 900,\n",
       " 961,\n",
       " 1024,\n",
       " 1089,\n",
       " 1156,\n",
       " 1225,\n",
       " 1296,\n",
       " 1369,\n",
       " 1444,\n",
       " 1521,\n",
       " 1600,\n",
       " 1681,\n",
       " 1764,\n",
       " 1849,\n",
       " 1936,\n",
       " 2025,\n",
       " 2116,\n",
       " 2209,\n",
       " 2304,\n",
       " 2401,\n",
       " 2500]"
      ]
     },
     "execution_count": 38,
     "metadata": {},
     "output_type": "execute_result"
    }
   ],
   "source": [
    "[k^2 for k in range(1,51)]"
   ]
  },
  {
   "cell_type": "code",
   "execution_count": 39,
   "id": "98735d49-8486-436c-9e16-f590665445a1",
   "metadata": {},
   "outputs": [
    {
     "data": {
      "text/html": [
       "<html>\\(\\displaystyle 925017065282507919013470723235883682349486807421901987706139271018810570717360434442383213140448215302144000000000000000000000000\\)</html>"
      ],
      "text/latex": [
       "$\\displaystyle 925017065282507919013470723235883682349486807421901987706139271018810570717360434442383213140448215302144000000000000000000000000$"
      ],
      "text/plain": [
       "925017065282507919013470723235883682349486807421901987706139271018810570717360434442383213140448215302144000000000000000000000000"
      ]
     },
     "execution_count": 39,
     "metadata": {},
     "output_type": "execute_result"
    }
   ],
   "source": [
    "prod(k^2 for k in range(1,51))"
   ]
  },
  {
   "cell_type": "code",
   "execution_count": 40,
   "id": "b963f812-6870-468c-885d-a01be1ff95d0",
   "metadata": {},
   "outputs": [
    {
     "data": {
      "text/html": [
       "<html>\\(\\displaystyle x^{2} y^{6} \\cos\\left(x\\right)\\)</html>"
      ],
      "text/latex": [
       "$\\displaystyle x^{2} y^{6} \\cos\\left(x\\right)$"
      ],
      "text/plain": [
       "x^2*y^6*cos(x)"
      ]
     },
     "execution_count": 40,
     "metadata": {},
     "output_type": "execute_result"
    }
   ],
   "source": [
    "prod(LL)"
   ]
  },
  {
   "cell_type": "markdown",
   "id": "e3264720-60bb-42ac-bc81-2db8bf64af02",
   "metadata": {
    "slideshow": {
     "slide_type": "slide"
    }
   },
   "source": [
    "## 5. Equações, inequações e sistemas"
   ]
  },
  {
   "cell_type": "markdown",
   "id": "52de5589-7c52-49b1-9336-f31739f20cab",
   "metadata": {
    "slideshow": {
     "slide_type": "fragment"
    }
   },
   "source": [
    "Equações podem ser definidas por expressões simbólicas e guardadas em variáveis python e manipuladas."
   ]
  },
  {
   "cell_type": "code",
   "execution_count": 41,
   "id": "3eb7fe4d-24d2-4877-bb55-feab3981e4bc",
   "metadata": {
    "slideshow": {
     "slide_type": "subslide"
    }
   },
   "outputs": [
    {
     "data": {
      "text/html": [
       "<html>\\(\\displaystyle y^{2} - \\frac{2 \\, y}{\\cos\\left(\\phi\\right)} + \\frac{5}{\\cos\\left(\\phi\\right)^{2}} - 4 = 0\\)</html>"
      ],
      "text/latex": [
       "$\\displaystyle y^{2} - \\frac{2 \\, y}{\\cos\\left(\\phi\\right)} + \\frac{5}{\\cos\\left(\\phi\\right)^{2}} - 4 = 0$"
      ],
      "text/plain": [
       "y^2 - 2*y/cos(phi) + 5/cos(phi)^2 - 4 == 0"
      ]
     },
     "execution_count": 41,
     "metadata": {},
     "output_type": "execute_result"
    }
   ],
   "source": [
    "var('phi')\n",
    "eq0 = y**2 - 2/cos(phi)*y + 5/cos(phi)**2 - 4 == 0\n",
    "eq0"
   ]
  },
  {
   "cell_type": "markdown",
   "id": "6501f055-f74d-40c2-92b0-d0b583ea055d",
   "metadata": {
    "slideshow": {
     "slide_type": "fragment"
    }
   },
   "source": [
    "<div class=\"alert alert-block alert-danger\">\n",
    "Note que equações são definidas pelo operador `==`\n",
    "</div>"
   ]
  },
  {
   "cell_type": "code",
   "execution_count": 42,
   "id": "f8a3c678-bd51-42c0-9391-051673d4b9fc",
   "metadata": {
    "slideshow": {
     "slide_type": "subslide"
    }
   },
   "outputs": [
    {
     "data": {
      "text/html": [
       "<html>\\(\\displaystyle y^{2} \\cos\\left(\\phi\\right)^{2} - 2 \\, y \\cos\\left(\\phi\\right) - 4 \\, \\cos\\left(\\phi\\right)^{2} + 5 = 0\\)</html>"
      ],
      "text/latex": [
       "$\\displaystyle y^{2} \\cos\\left(\\phi\\right)^{2} - 2 \\, y \\cos\\left(\\phi\\right) - 4 \\, \\cos\\left(\\phi\\right)^{2} + 5 = 0$"
      ],
      "text/plain": [
       "y^2*cos(phi)^2 - 2*y*cos(phi) - 4*cos(phi)^2 + 5 == 0"
      ]
     },
     "execution_count": 42,
     "metadata": {},
     "output_type": "execute_result"
    }
   ],
   "source": [
    "eq1=(eq0*cos(phi)^2).expand(); eq1"
   ]
  },
  {
   "cell_type": "markdown",
   "id": "46352262-eefa-4c83-8ff7-c93b7bdc5e95",
   "metadata": {},
   "source": [
    "Para extrair os lados da equação, `.lhs()` ou `.rhs()`"
   ]
  },
  {
   "cell_type": "code",
   "execution_count": 43,
   "id": "388b7601-5b95-4c10-bbdc-2cc349095df1",
   "metadata": {
    "slideshow": {
     "slide_type": "fragment"
    }
   },
   "outputs": [
    {
     "data": {
      "text/html": [
       "<html>\\(\\displaystyle y^{2} \\cos\\left(\\phi\\right)^{2} - 2 \\, y \\cos\\left(\\phi\\right) - 4 \\, \\cos\\left(\\phi\\right)^{2} + 5\\)</html>"
      ],
      "text/latex": [
       "$\\displaystyle y^{2} \\cos\\left(\\phi\\right)^{2} - 2 \\, y \\cos\\left(\\phi\\right) - 4 \\, \\cos\\left(\\phi\\right)^{2} + 5$"
      ],
      "text/plain": [
       "y^2*cos(phi)^2 - 2*y*cos(phi) - 4*cos(phi)^2 + 5"
      ]
     },
     "execution_count": 43,
     "metadata": {},
     "output_type": "execute_result"
    }
   ],
   "source": [
    "eq1.lhs()"
   ]
  },
  {
   "cell_type": "code",
   "execution_count": 44,
   "id": "3d248581-edfc-4083-a14a-87c2f815119f",
   "metadata": {
    "slideshow": {
     "slide_type": "fragment"
    }
   },
   "outputs": [
    {
     "data": {
      "text/html": [
       "<html>\\(\\displaystyle 0\\)</html>"
      ],
      "text/latex": [
       "$\\displaystyle 0$"
      ],
      "text/plain": [
       "0"
      ]
     },
     "execution_count": 44,
     "metadata": {},
     "output_type": "execute_result"
    }
   ],
   "source": [
    "eq1.rhs()"
   ]
  },
  {
   "cell_type": "markdown",
   "id": "e1257f38-73f3-4c53-945c-0d2a94fd6af8",
   "metadata": {
    "slideshow": {
     "slide_type": "slide"
    }
   },
   "source": [
    "Equações também podem ser resolvidas diretamente usando o comando `solve`"
   ]
  },
  {
   "cell_type": "code",
   "execution_count": 45,
   "id": "b6442776-ca23-4259-84f1-ffc937d95544",
   "metadata": {
    "slideshow": {
     "slide_type": "subslide"
    }
   },
   "outputs": [
    {
     "data": {
      "text/html": [
       "<html>\\(\\displaystyle \\left[y = -\\frac{2 \\, \\sqrt{\\cos\\left(\\phi\\right)^{2} - 1} - 1}{\\cos\\left(\\phi\\right)}, y = \\frac{2 \\, \\sqrt{\\cos\\left(\\phi\\right)^{2} - 1} + 1}{\\cos\\left(\\phi\\right)}\\right]\\)</html>"
      ],
      "text/latex": [
       "$\\displaystyle \\left[y = -\\frac{2 \\, \\sqrt{\\cos\\left(\\phi\\right)^{2} - 1} - 1}{\\cos\\left(\\phi\\right)}, y = \\frac{2 \\, \\sqrt{\\cos\\left(\\phi\\right)^{2} - 1} + 1}{\\cos\\left(\\phi\\right)}\\right]$"
      ],
      "text/plain": [
       "[y == -(2*sqrt(cos(phi)^2 - 1) - 1)/cos(phi), y == (2*sqrt(cos(phi)^2 - 1) + 1)/cos(phi)]"
      ]
     },
     "execution_count": 45,
     "metadata": {},
     "output_type": "execute_result"
    }
   ],
   "source": [
    "solve(eq1,y)"
   ]
  },
  {
   "cell_type": "code",
   "execution_count": 46,
   "id": "28c8a012-01a3-4913-8aa4-febe2c06b699",
   "metadata": {
    "slideshow": {
     "slide_type": "subslide"
    }
   },
   "outputs": [
    {
     "data": {
      "text/html": [
       "<html>\\(\\displaystyle \\left[\\phi = \\pi - \\arccos\\left(-\\frac{y}{y^{2} - 4} + \\frac{2 \\, \\sqrt{-y^{2} + 5}}{y^{2} - 4}\\right), \\phi = \\arccos\\left(\\frac{y}{y^{2} - 4} + \\frac{2 \\, \\sqrt{-y^{2} + 5}}{y^{2} - 4}\\right)\\right]\\)</html>"
      ],
      "text/latex": [
       "$\\displaystyle \\left[\\phi = \\pi - \\arccos\\left(-\\frac{y}{y^{2} - 4} + \\frac{2 \\, \\sqrt{-y^{2} + 5}}{y^{2} - 4}\\right), \\phi = \\arccos\\left(\\frac{y}{y^{2} - 4} + \\frac{2 \\, \\sqrt{-y^{2} + 5}}{y^{2} - 4}\\right)\\right]$"
      ],
      "text/plain": [
       "[phi == pi - arccos(-y/(y^2 - 4) + 2*sqrt(-y^2 + 5)/(y^2 - 4)), phi == arccos(y/(y^2 - 4) + 2*sqrt(-y^2 + 5)/(y^2 - 4))]"
      ]
     },
     "execution_count": 46,
     "metadata": {},
     "output_type": "execute_result"
    }
   ],
   "source": [
    "sol=solve(eq1,phi); sol"
   ]
  },
  {
   "cell_type": "code",
   "execution_count": 47,
   "id": "83e0d658-f0ea-4a50-bed8-d04540366124",
   "metadata": {
    "slideshow": {
     "slide_type": "fragment"
    }
   },
   "outputs": [
    {
     "data": {
      "text/html": [
       "<html>\\(\\displaystyle \\phi = \\pi - \\arccos\\left(-\\frac{y}{y^{2} - 4} + \\frac{2 \\, \\sqrt{-y^{2} + 5}}{y^{2} - 4}\\right)\\)</html>"
      ],
      "text/latex": [
       "$\\displaystyle \\phi = \\pi - \\arccos\\left(-\\frac{y}{y^{2} - 4} + \\frac{2 \\, \\sqrt{-y^{2} + 5}}{y^{2} - 4}\\right)$"
      ],
      "text/plain": [
       "phi == pi - arccos(-y/(y^2 - 4) + 2*sqrt(-y^2 + 5)/(y^2 - 4))"
      ]
     },
     "execution_count": 47,
     "metadata": {},
     "output_type": "execute_result"
    }
   ],
   "source": [
    "sol[0]"
   ]
  },
  {
   "cell_type": "code",
   "execution_count": 48,
   "id": "d4852013-c71f-4711-8712-bbd85e6643f7",
   "metadata": {
    "slideshow": {
     "slide_type": "fragment"
    }
   },
   "outputs": [
    {
     "data": {
      "text/html": [
       "<html>\\(\\displaystyle \\pi - \\arccos\\left(-\\frac{y}{y^{2} - 4} + \\frac{2 \\, \\sqrt{-y^{2} + 5}}{y^{2} - 4}\\right)\\)</html>"
      ],
      "text/latex": [
       "$\\displaystyle \\pi - \\arccos\\left(-\\frac{y}{y^{2} - 4} + \\frac{2 \\, \\sqrt{-y^{2} + 5}}{y^{2} - 4}\\right)$"
      ],
      "text/plain": [
       "pi - arccos(-y/(y^2 - 4) + 2*sqrt(-y^2 + 5)/(y^2 - 4))"
      ]
     },
     "execution_count": 48,
     "metadata": {},
     "output_type": "execute_result"
    }
   ],
   "source": [
    "sol[0].rhs()"
   ]
  },
  {
   "cell_type": "code",
   "execution_count": 49,
   "id": "9cad2bd7-c44d-4cd2-9454-9d6a746631fe",
   "metadata": {
    "slideshow": {
     "slide_type": "fragment"
    }
   },
   "outputs": [
    {
     "name": "stdout",
     "output_type": "stream",
     "text": [
      "\\pi - \\arccos\\left(-\\frac{y}{y^{2} - 4} + \\frac{2 \\, \\sqrt{-y^{2} + 5}}{y^{2} - 4}\\right)\n"
     ]
    }
   ],
   "source": [
    "print(latex(sol[0].rhs()))"
   ]
  },
  {
   "cell_type": "markdown",
   "id": "91b932ab-af08-442e-91bb-c0bd4e419a04",
   "metadata": {},
   "source": [
    "`solution_dict=True`"
   ]
  },
  {
   "cell_type": "code",
   "execution_count": 50,
   "id": "05f5ac3b-1963-4dc6-8bae-5b1aaa68bc4c",
   "metadata": {},
   "outputs": [
    {
     "data": {
      "text/html": [
       "<html>\\(\\displaystyle \\left[\\left\\{\\phi : \\pi - \\arccos\\left(-\\frac{y}{y^{2} - 4} + \\frac{2 \\, \\sqrt{-y^{2} + 5}}{y^{2} - 4}\\right)\\right\\}, \\left\\{\\phi : \\arccos\\left(\\frac{y}{y^{2} - 4} + \\frac{2 \\, \\sqrt{-y^{2} + 5}}{y^{2} - 4}\\right)\\right\\}\\right]\\)</html>"
      ],
      "text/latex": [
       "$\\displaystyle \\left[\\left\\{\\phi : \\pi - \\arccos\\left(-\\frac{y}{y^{2} - 4} + \\frac{2 \\, \\sqrt{-y^{2} + 5}}{y^{2} - 4}\\right)\\right\\}, \\left\\{\\phi : \\arccos\\left(\\frac{y}{y^{2} - 4} + \\frac{2 \\, \\sqrt{-y^{2} + 5}}{y^{2} - 4}\\right)\\right\\}\\right]$"
      ],
      "text/plain": [
       "[{phi: pi - arccos(-y/(y^2 - 4) + 2*sqrt(-y^2 + 5)/(y^2 - 4))},\n",
       " {phi: arccos(y/(y^2 - 4) + 2*sqrt(-y^2 + 5)/(y^2 - 4))}]"
      ]
     },
     "execution_count": 50,
     "metadata": {},
     "output_type": "execute_result"
    }
   ],
   "source": [
    "solve(eq1,phi, solution_dict=True)"
   ]
  },
  {
   "cell_type": "markdown",
   "id": "83b71e1d-861f-4e1f-8dac-4d841217c7db",
   "metadata": {},
   "source": [
    "Você pode assumir expressões simbólicas que serão usadas nos cálculos simbólicos internamente com a função `assume(expressão)`"
   ]
  },
  {
   "cell_type": "code",
   "execution_count": 51,
   "id": "49d6845a-3121-4455-b0ea-81f58ce19f76",
   "metadata": {},
   "outputs": [],
   "source": [
    "assume(phi^2<20)"
   ]
  },
  {
   "cell_type": "code",
   "execution_count": 52,
   "id": "1552faee-c12b-4736-9f18-adb6714186b7",
   "metadata": {},
   "outputs": [
    {
     "data": {
      "text/html": [
       "<html>\\(\\displaystyle \\left[\\verb|alp_bar|\\verb| |\\verb|is|\\verb| |\\verb|real|, \\phi^{2} &lt; 20\\right]\\)</html>"
      ],
      "text/latex": [
       "$\\displaystyle \\left[\\verb|alp_bar|\\verb| |\\verb|is|\\verb| |\\verb|real|, \\phi^{2} < 20\\right]$"
      ],
      "text/plain": [
       "[alp_bar is real, phi^2 < 20]"
      ]
     },
     "execution_count": 52,
     "metadata": {},
     "output_type": "execute_result"
    }
   ],
   "source": [
    "assumptions()"
   ]
  },
  {
   "cell_type": "code",
   "execution_count": null,
   "id": "81aed96d-11c7-41e9-b15b-a547d055cc63",
   "metadata": {},
   "outputs": [],
   "source": []
  },
  {
   "cell_type": "markdown",
   "id": "7cfd3a4e-1fa1-42d4-9308-d002dd77bbce",
   "metadata": {
    "slideshow": {
     "slide_type": "slide"
    }
   },
   "source": [
    "### 5.1 Sistemas de equações e inequações"
   ]
  },
  {
   "cell_type": "markdown",
   "id": "c3050d1e-b00b-43d9-87c8-4151d253c64f",
   "metadata": {
    "slideshow": {
     "slide_type": "fragment"
    }
   },
   "source": [
    "O `solve` também resolve sistemas de equações ou inequações "
   ]
  },
  {
   "cell_type": "code",
   "execution_count": 53,
   "id": "9f6e5dcc-9a54-4b88-bdb1-8da48b3fa71d",
   "metadata": {
    "slideshow": {
     "slide_type": "fragment"
    }
   },
   "outputs": [
    {
     "data": {
      "text/html": [
       "<html>\\(\\displaystyle \\left(x^{2} + x y + 2 = 0, y^{2} = {\\left(x + y\\right)} x\\right)\\)</html>"
      ],
      "text/latex": [
       "$\\displaystyle \\left(x^{2} + x y + 2 = 0, y^{2} = {\\left(x + y\\right)} x\\right)$"
      ],
      "text/plain": [
       "(x^2 + x*y + 2 == 0, y^2 == (x + y)*x)"
      ]
     },
     "execution_count": 53,
     "metadata": {},
     "output_type": "execute_result"
    }
   ],
   "source": [
    "eq2 = x^2 + x*y + 2 == 0\n",
    "eq3 = y^2 == x*(x+y)\n",
    "(eq2, eq3)"
   ]
  },
  {
   "cell_type": "code",
   "execution_count": 54,
   "id": "e546da7d-1034-4059-90c2-19dc6fb2efee",
   "metadata": {
    "slideshow": {
     "slide_type": "subslide"
    }
   },
   "outputs": [
    {
     "data": {
      "text/html": [
       "<html>\\(\\displaystyle \\left[\\left[x = -\\frac{1}{2} i \\, \\sqrt{10} + \\frac{1}{2} i \\, \\sqrt{2}, y = -i \\, \\sqrt{2}\\right], \\left[x = \\frac{1}{2} i \\, \\sqrt{10} + \\frac{1}{2} i \\, \\sqrt{2}, y = -i \\, \\sqrt{2}\\right], \\left[x = -\\frac{1}{2} i \\, \\sqrt{10} - \\frac{1}{2} i \\, \\sqrt{2}, y = i \\, \\sqrt{2}\\right], \\left[x = \\frac{1}{2} i \\, \\sqrt{10} - \\frac{1}{2} i \\, \\sqrt{2}, y = i \\, \\sqrt{2}\\right]\\right]\\)</html>"
      ],
      "text/latex": [
       "$\\displaystyle \\left[\\left[x = -\\frac{1}{2} i \\, \\sqrt{10} + \\frac{1}{2} i \\, \\sqrt{2}, y = -i \\, \\sqrt{2}\\right], \\left[x = \\frac{1}{2} i \\, \\sqrt{10} + \\frac{1}{2} i \\, \\sqrt{2}, y = -i \\, \\sqrt{2}\\right], \\left[x = -\\frac{1}{2} i \\, \\sqrt{10} - \\frac{1}{2} i \\, \\sqrt{2}, y = i \\, \\sqrt{2}\\right], \\left[x = \\frac{1}{2} i \\, \\sqrt{10} - \\frac{1}{2} i \\, \\sqrt{2}, y = i \\, \\sqrt{2}\\right]\\right]$"
      ],
      "text/plain": [
       "[[x == -1/2*I*sqrt(10) + 1/2*I*sqrt(2), y == -I*sqrt(2)], [x == 1/2*I*sqrt(10) + 1/2*I*sqrt(2), y == -I*sqrt(2)], [x == -1/2*I*sqrt(10) - 1/2*I*sqrt(2), y == I*sqrt(2)], [x == 1/2*I*sqrt(10) - 1/2*I*sqrt(2), y == I*sqrt(2)]]"
      ]
     },
     "execution_count": 54,
     "metadata": {},
     "output_type": "execute_result"
    }
   ],
   "source": [
    "sols = solve((eq2, eq3), x, y)\n",
    "sols"
   ]
  },
  {
   "cell_type": "code",
   "execution_count": 55,
   "id": "7c8b2c06-5718-4fb6-91aa-42d7856a9c53",
   "metadata": {
    "slideshow": {
     "slide_type": "fragment"
    }
   },
   "outputs": [
    {
     "data": {
      "text/html": [
       "<html>\\(\\displaystyle \\left[x = -\\frac{1}{2} i \\, \\sqrt{10} + \\frac{1}{2} i \\, \\sqrt{2}, y = -i \\, \\sqrt{2}\\right]\\)</html>"
      ],
      "text/latex": [
       "$\\displaystyle \\left[x = -\\frac{1}{2} i \\, \\sqrt{10} + \\frac{1}{2} i \\, \\sqrt{2}, y = -i \\, \\sqrt{2}\\right]$"
      ],
      "text/plain": [
       "[x == -1/2*I*sqrt(10) + 1/2*I*sqrt(2), y == -I*sqrt(2)]"
      ]
     },
     "execution_count": 55,
     "metadata": {},
     "output_type": "execute_result"
    }
   ],
   "source": [
    "sols[0]"
   ]
  },
  {
   "cell_type": "code",
   "execution_count": 56,
   "id": "f2bcbae1-1ede-4541-8e2f-bf970222d1f8",
   "metadata": {
    "slideshow": {
     "slide_type": "fragment"
    }
   },
   "outputs": [
    {
     "data": {
      "text/html": [
       "<html>\\(\\displaystyle -\\frac{1}{2} i \\, \\sqrt{10} + \\frac{1}{2} i \\, \\sqrt{2}\\)</html>"
      ],
      "text/latex": [
       "$\\displaystyle -\\frac{1}{2} i \\, \\sqrt{10} + \\frac{1}{2} i \\, \\sqrt{2}$"
      ],
      "text/plain": [
       "-1/2*I*sqrt(10) + 1/2*I*sqrt(2)"
      ]
     },
     "execution_count": 56,
     "metadata": {},
     "output_type": "execute_result"
    }
   ],
   "source": [
    "sols[0][0].rhs()"
   ]
  },
  {
   "cell_type": "code",
   "execution_count": 57,
   "id": "a3c82642-559e-4d5b-bd13-842ef7f1bef6",
   "metadata": {
    "slideshow": {
     "slide_type": "subslide"
    }
   },
   "outputs": [
    {
     "data": {
      "text/html": [
       "<html>\\(\\displaystyle \\left[\\left[x &lt; -\\frac{1}{2} \\, \\sqrt{5} - \\frac{1}{2}\\right], \\left[x > \\frac{1}{2} \\, \\sqrt{5} - \\frac{1}{2}\\right]\\right]\\)</html>"
      ],
      "text/latex": [
       "$\\displaystyle \\left[\\left[x < -\\frac{1}{2} \\, \\sqrt{5} - \\frac{1}{2}\\right], \\left[x > \\frac{1}{2} \\, \\sqrt{5} - \\frac{1}{2}\\right]\\right]$"
      ],
      "text/plain": [
       "[[x < -1/2*sqrt(5) - 1/2], [x > 1/2*sqrt(5) - 1/2]]"
      ]
     },
     "execution_count": 57,
     "metadata": {},
     "output_type": "execute_result"
    }
   ],
   "source": [
    "solve(x^2+x-1 > 0, x)"
   ]
  },
  {
   "cell_type": "markdown",
   "id": "7f119f50-db2b-4110-a6c3-b67e534007be",
   "metadata": {
    "slideshow": {
     "slide_type": "slide"
    }
   },
   "source": [
    "### 5.2 Solução numérica"
   ]
  },
  {
   "cell_type": "markdown",
   "id": "724c6a87-9f90-4b03-bff4-e84da9c4e267",
   "metadata": {
    "slideshow": {
     "slide_type": "fragment"
    }
   },
   "source": [
    "Em alguns casos o solve não consegue encontar uma solução para a equação."
   ]
  },
  {
   "cell_type": "code",
   "execution_count": 58,
   "id": "e5306421-43d6-4710-9443-38f86d333220",
   "metadata": {
    "slideshow": {
     "slide_type": "subslide"
    }
   },
   "outputs": [
    {
     "data": {
      "text/html": [
       "<html>\\(\\displaystyle \\sin\\left(3 \\, x\\right) + \\sin\\left(2 \\, x\\right) + \\sin\\left(x\\right) = 0\\)</html>"
      ],
      "text/latex": [
       "$\\displaystyle \\sin\\left(3 \\, x\\right) + \\sin\\left(2 \\, x\\right) + \\sin\\left(x\\right) = 0$"
      ],
      "text/plain": [
       "sin(3*x) + sin(2*x) + sin(x) == 0"
      ]
     },
     "execution_count": 58,
     "metadata": {},
     "output_type": "execute_result"
    }
   ],
   "source": [
    "expr = sin(x) + sin(2 * x) + sin(3 * x)==0;expr"
   ]
  },
  {
   "cell_type": "code",
   "execution_count": 59,
   "id": "34996399-52b3-44f1-8080-2c10a12104db",
   "metadata": {
    "slideshow": {
     "slide_type": "fragment"
    }
   },
   "outputs": [
    {
     "data": {
      "text/html": [
       "<html>\\(\\displaystyle \\left[\\sin\\left(3 \\, x\\right) = -\\sin\\left(2 \\, x\\right) - \\sin\\left(x\\right)\\right]\\)</html>"
      ],
      "text/latex": [
       "$\\displaystyle \\left[\\sin\\left(3 \\, x\\right) = -\\sin\\left(2 \\, x\\right) - \\sin\\left(x\\right)\\right]$"
      ],
      "text/plain": [
       "[sin(3*x) == -sin(2*x) - sin(x)]"
      ]
     },
     "execution_count": 59,
     "metadata": {},
     "output_type": "execute_result"
    }
   ],
   "source": [
    "solve(expr, x)"
   ]
  },
  {
   "cell_type": "markdown",
   "id": "eb600474-f3d0-4fbe-aef0-533a90a7b47a",
   "metadata": {
    "slideshow": {
     "slide_type": "slide"
    }
   },
   "source": [
    "Nesses casos podemos usar a função `find_root`"
   ]
  },
  {
   "cell_type": "markdown",
   "id": "1675e6db-4208-48f3-af3d-7843e1a3a0fe",
   "metadata": {
    "slideshow": {
     "slide_type": "fragment"
    }
   },
   "source": [
    "A função `find_root(equação, min, max)` procura solução numérica para a equação no intervalo entre min e max. "
   ]
  },
  {
   "cell_type": "code",
   "execution_count": 60,
   "id": "7a219654-2214-4e65-b7b7-1b8b9875a628",
   "metadata": {
    "slideshow": {
     "slide_type": "fragment"
    }
   },
   "outputs": [
    {
     "data": {
      "text/html": [
       "<html>\\(\\displaystyle 2.0943951023931957\\)</html>"
      ],
      "text/latex": [
       "$\\displaystyle 2.0943951023931957$"
      ],
      "text/plain": [
       "2.0943951023931957"
      ]
     },
     "execution_count": 60,
     "metadata": {},
     "output_type": "execute_result"
    }
   ],
   "source": [
    "find_root(expr,.1,pi)"
   ]
  },
  {
   "cell_type": "markdown",
   "id": "e038db1e-bc23-4c4b-80ef-01be918934d7",
   "metadata": {
    "slideshow": {
     "slide_type": "subslide"
    }
   },
   "source": [
    "Nesse caso particular, uma solução analítica poderia ser obtida simplificando a equação"
   ]
  },
  {
   "cell_type": "code",
   "execution_count": 61,
   "id": "01c4efa9-b716-4694-8ba6-d17a607df87d",
   "metadata": {
    "slideshow": {
     "slide_type": "fragment"
    }
   },
   "outputs": [
    {
     "data": {
      "text/html": [
       "<html>\\(\\displaystyle 2 \\, {\\left(2 \\, \\cos\\left(x\\right) + 1\\right)} \\cos\\left(x\\right) \\sin\\left(x\\right) = 0\\)</html>"
      ],
      "text/latex": [
       "$\\displaystyle 2 \\, {\\left(2 \\, \\cos\\left(x\\right) + 1\\right)} \\cos\\left(x\\right) \\sin\\left(x\\right) = 0$"
      ],
      "text/plain": [
       "2*(2*cos(x) + 1)*cos(x)*sin(x) == 0"
      ]
     },
     "execution_count": 61,
     "metadata": {},
     "output_type": "execute_result"
    }
   ],
   "source": [
    "expr2 = expr.simplify_trig().factor(); expr2"
   ]
  },
  {
   "cell_type": "code",
   "execution_count": 62,
   "id": "06d84c55-3007-481b-8a29-3f61979f72b6",
   "metadata": {
    "slideshow": {
     "slide_type": "fragment"
    }
   },
   "outputs": [
    {
     "data": {
      "text/html": [
       "<html>\\(\\displaystyle \\left[x = 0, x = \\frac{2}{3} \\, \\pi, x = \\frac{1}{2} \\, \\pi\\right]\\)</html>"
      ],
      "text/latex": [
       "$\\displaystyle \\left[x = 0, x = \\frac{2}{3} \\, \\pi, x = \\frac{1}{2} \\, \\pi\\right]$"
      ],
      "text/plain": [
       "[x == 0, x == 2/3*pi, x == 1/2*pi]"
      ]
     },
     "execution_count": 62,
     "metadata": {},
     "output_type": "execute_result"
    }
   ],
   "source": [
    "solve(expr2, x)"
   ]
  },
  {
   "cell_type": "code",
   "execution_count": 63,
   "id": "e337accf-2951-4b3f-bce1-88dd2bbd0e87",
   "metadata": {
    "slideshow": {
     "slide_type": "skip"
    }
   },
   "outputs": [
    {
     "data": {
      "text/html": [
       "<html>\\(\\displaystyle \\sin\\left(3 \\, x\\right) + \\sin\\left(2 \\, x\\right) + \\sin\\left(x\\right)\\)</html>"
      ],
      "text/latex": [
       "$\\displaystyle \\sin\\left(3 \\, x\\right) + \\sin\\left(2 \\, x\\right) + \\sin\\left(x\\right)$"
      ],
      "text/plain": [
       "sin(3*x) + sin(2*x) + sin(x)"
      ]
     },
     "execution_count": 63,
     "metadata": {},
     "output_type": "execute_result"
    }
   ],
   "source": [
    "expr.lhs()"
   ]
  },
  {
   "cell_type": "code",
   "execution_count": 64,
   "id": "2f7dd87d-7a4b-4cb9-9ed7-f80031e57964",
   "metadata": {
    "slideshow": {
     "slide_type": "subslide"
    }
   },
   "outputs": [
    {
     "data": {
      "image/png": "[encoded data removed]",
      "text/plain": [
       "Graphics object consisting of 1 graphics primitive"
      ]
     },
     "execution_count": 64,
     "metadata": {},
     "output_type": "execute_result"
    }
   ],
   "source": [
    "plot(expr.lhs(),(x,0,pi), gridlines=True)"
   ]
  },
  {
   "cell_type": "markdown",
   "id": "9c773593-5a8c-4af1-81cb-7f6c84e1de56",
   "metadata": {
    "slideshow": {
     "slide_type": "slide"
    }
   },
   "source": [
    "Note que existem mais sluções do que o que o `find_root` encontrou. Ele mostra a primeira que encontra. "
   ]
  },
  {
   "cell_type": "markdown",
   "id": "be522f91-4aaa-40c0-bd4c-94909e8b8c0c",
   "metadata": {
    "slideshow": {
     "slide_type": "fragment"
    }
   },
   "source": [
    "Poderíamos encontar a outra restringindo o intervalo (min, max)"
   ]
  },
  {
   "cell_type": "code",
   "execution_count": 65,
   "id": "f13bc956-8188-4e9d-aa3c-00c0a48afd8a",
   "metadata": {
    "slideshow": {
     "slide_type": "fragment"
    }
   },
   "outputs": [
    {
     "data": {
      "text/html": [
       "<html>\\(\\displaystyle 1.570796326794898\\)</html>"
      ],
      "text/latex": [
       "$\\displaystyle 1.570796326794898$"
      ],
      "text/plain": [
       "1.570796326794898"
      ]
     },
     "execution_count": 65,
     "metadata": {},
     "output_type": "execute_result"
    }
   ],
   "source": [
    "find_root(expr,.1,pi/2+.1)"
   ]
  },
  {
   "cell_type": "markdown",
   "id": "d45cd2a0-b551-4324-a291-8c3653cc6c05",
   "metadata": {
    "slideshow": {
     "slide_type": "slide"
    }
   },
   "source": [
    "Função | Sintáxe\n",
    ":--- | ---\n",
    "Solução simbólica | `solve(equação, variável)`\n",
    "Solução numérica | `find_root(equação, min, manx)`"
   ]
  },
  {
   "cell_type": "markdown",
   "id": "6c811a0f-9e08-49b1-a7b9-5f708290f3b3",
   "metadata": {},
   "source": [
    "## Exercícios"
   ]
  },
  {
   "cell_type": "markdown",
   "id": "e661399a-9bad-4493-95fb-e816dbeccf58",
   "metadata": {},
   "source": [
    "1. Defina um polinômio de grau 3 na forma $p(x) = x^3+mx-n$. Lembre-se de definir as variáveis simbólicas antes. Agora use o solve para encontrar as soluções $p(x)=0$."
   ]
  },
  {
   "cell_type": "code",
   "execution_count": 66,
   "id": "140f9cfc-7ab6-40ad-927c-15a2f23fe957",
   "metadata": {},
   "outputs": [
    {
     "data": {
      "text/html": [
       "<html>\\(\\displaystyle \\left(x, m, n\\right)\\)</html>"
      ],
      "text/latex": [
       "$\\displaystyle \\left(x, m, n\\right)$"
      ],
      "text/plain": [
       "(x, m, n)"
      ]
     },
     "execution_count": 66,
     "metadata": {},
     "output_type": "execute_result"
    }
   ],
   "source": [
    "var('x m n')"
   ]
  },
  {
   "cell_type": "code",
   "execution_count": 67,
   "id": "c0658900-e394-4440-8750-9c3371495e22",
   "metadata": {},
   "outputs": [
    {
     "data": {
      "text/html": [
       "<html>\\(\\displaystyle x \\ {\\mapsto}\\ x^{3} + m x - n\\)</html>"
      ],
      "text/latex": [
       "$\\displaystyle x \\ {\\mapsto}\\ x^{3} + m x - n$"
      ],
      "text/plain": [
       "x |--> x^3 + m*x - n"
      ]
     },
     "execution_count": 67,
     "metadata": {},
     "output_type": "execute_result"
    }
   ],
   "source": [
    "p(x) = x^3+m*x-n\n",
    "p"
   ]
  },
  {
   "cell_type": "code",
   "execution_count": 68,
   "id": "9b5e5c8e-662e-460b-afff-73a91d356fb5",
   "metadata": {},
   "outputs": [
    {
     "data": {
      "text/html": [
       "<html>\\(\\displaystyle \\left[x = \\frac{m {\\left(-i \\, \\sqrt{3} + 1\\right)}}{6 \\, {\\left(\\frac{1}{2} \\, n + \\frac{1}{6} \\, \\sqrt{\\frac{4}{3} \\, m^{3} + 9 \\, n^{2}}\\right)}^{\\frac{1}{3}}} - \\frac{1}{2} \\, {\\left(\\frac{1}{2} \\, n + \\frac{1}{6} \\, \\sqrt{\\frac{4}{3} \\, m^{3} + 9 \\, n^{2}}\\right)}^{\\frac{1}{3}} {\\left(i \\, \\sqrt{3} + 1\\right)}, x = \\frac{m {\\left(i \\, \\sqrt{3} + 1\\right)}}{6 \\, {\\left(\\frac{1}{2} \\, n + \\frac{1}{6} \\, \\sqrt{\\frac{4}{3} \\, m^{3} + 9 \\, n^{2}}\\right)}^{\\frac{1}{3}}} - \\frac{1}{2} \\, {\\left(\\frac{1}{2} \\, n + \\frac{1}{6} \\, \\sqrt{\\frac{4}{3} \\, m^{3} + 9 \\, n^{2}}\\right)}^{\\frac{1}{3}} {\\left(-i \\, \\sqrt{3} + 1\\right)}, x = -\\frac{m}{3 \\, {\\left(\\frac{1}{2} \\, n + \\frac{1}{6} \\, \\sqrt{\\frac{4}{3} \\, m^{3} + 9 \\, n^{2}}\\right)}^{\\frac{1}{3}}} + {\\left(\\frac{1}{2} \\, n + \\frac{1}{6} \\, \\sqrt{\\frac{4}{3} \\, m^{3} + 9 \\, n^{2}}\\right)}^{\\frac{1}{3}}\\right]\\)</html>"
      ],
      "text/latex": [
       "$\\displaystyle \\left[x = \\frac{m {\\left(-i \\, \\sqrt{3} + 1\\right)}}{6 \\, {\\left(\\frac{1}{2} \\, n + \\frac{1}{6} \\, \\sqrt{\\frac{4}{3} \\, m^{3} + 9 \\, n^{2}}\\right)}^{\\frac{1}{3}}} - \\frac{1}{2} \\, {\\left(\\frac{1}{2} \\, n + \\frac{1}{6} \\, \\sqrt{\\frac{4}{3} \\, m^{3} + 9 \\, n^{2}}\\right)}^{\\frac{1}{3}} {\\left(i \\, \\sqrt{3} + 1\\right)}, x = \\frac{m {\\left(i \\, \\sqrt{3} + 1\\right)}}{6 \\, {\\left(\\frac{1}{2} \\, n + \\frac{1}{6} \\, \\sqrt{\\frac{4}{3} \\, m^{3} + 9 \\, n^{2}}\\right)}^{\\frac{1}{3}}} - \\frac{1}{2} \\, {\\left(\\frac{1}{2} \\, n + \\frac{1}{6} \\, \\sqrt{\\frac{4}{3} \\, m^{3} + 9 \\, n^{2}}\\right)}^{\\frac{1}{3}} {\\left(-i \\, \\sqrt{3} + 1\\right)}, x = -\\frac{m}{3 \\, {\\left(\\frac{1}{2} \\, n + \\frac{1}{6} \\, \\sqrt{\\frac{4}{3} \\, m^{3} + 9 \\, n^{2}}\\right)}^{\\frac{1}{3}}} + {\\left(\\frac{1}{2} \\, n + \\frac{1}{6} \\, \\sqrt{\\frac{4}{3} \\, m^{3} + 9 \\, n^{2}}\\right)}^{\\frac{1}{3}}\\right]$"
      ],
      "text/plain": [
       "[x == 1/6*m*(-I*sqrt(3) + 1)/(1/2*n + 1/6*sqrt(4/3*m^3 + 9*n^2))^(1/3) - 1/2*(1/2*n + 1/6*sqrt(4/3*m^3 + 9*n^2))^(1/3)*(I*sqrt(3) + 1), x == 1/6*m*(I*sqrt(3) + 1)/(1/2*n + 1/6*sqrt(4/3*m^3 + 9*n^2))^(1/3) - 1/2*(1/2*n + 1/6*sqrt(4/3*m^3 + 9*n^2))^(1/3)*(-I*sqrt(3) + 1), x == -1/3*m/(1/2*n + 1/6*sqrt(4/3*m^3 + 9*n^2))^(1/3) + (1/2*n + 1/6*sqrt(4/3*m^3 + 9*n^2))^(1/3)]"
      ]
     },
     "execution_count": 68,
     "metadata": {},
     "output_type": "execute_result"
    }
   ],
   "source": [
    "solve(p(x),x)"
   ]
  },
  {
   "cell_type": "code",
   "execution_count": 69,
   "id": "62c000ee-9f07-422c-97e0-f4df33c89354",
   "metadata": {},
   "outputs": [],
   "source": [
    "ϕ = var('ϕ', domain='real')"
   ]
  },
  {
   "cell_type": "code",
   "execution_count": 70,
   "id": "27275a25-50ba-4c0e-9e92-39eff17b8b97",
   "metadata": {},
   "outputs": [
    {
     "data": {
      "text/html": [
       "<html>\\(\\displaystyle \\left[\\verb|alp_bar|\\verb| |\\verb|is|\\verb| |\\verb|real|, \\phi^{2} &lt; 20, \\verb|ϕ|\\verb| |\\verb|is|\\verb| |\\verb|real|\\right]\\)</html>"
      ],
      "text/latex": [
       "$\\displaystyle \\left[\\verb|alp_bar|\\verb| |\\verb|is|\\verb| |\\verb|real|, \\phi^{2} < 20, \\verb|ϕ|\\verb| |\\verb|is|\\verb| |\\verb|real|\\right]$"
      ],
      "text/plain": [
       "[alp_bar is real, phi^2 < 20, ϕ is real]"
      ]
     },
     "execution_count": 70,
     "metadata": {},
     "output_type": "execute_result"
    }
   ],
   "source": [
    "assumptions()"
   ]
  },
  {
   "cell_type": "code",
   "execution_count": 71,
   "id": "a69955dd-6bfe-42dd-a963-034256e1ca86",
   "metadata": {},
   "outputs": [
    {
     "data": {
      "text/html": [
       "<html>\\(\\displaystyle \\left[ϕ = {\\left(\\frac{1}{9} \\, \\sqrt{251} \\sqrt{3} + 3\\right)}^{\\frac{1}{3}} - \\frac{2}{3 \\, {\\left(\\frac{1}{9} \\, \\sqrt{251} \\sqrt{3} + 3\\right)}^{\\frac{1}{3}}}\\right]\\)</html>"
      ],
      "text/latex": [
       "$\\displaystyle \\left[ϕ = {\\left(\\frac{1}{9} \\, \\sqrt{251} \\sqrt{3} + 3\\right)}^{\\frac{1}{3}} - \\frac{2}{3 \\, {\\left(\\frac{1}{9} \\, \\sqrt{251} \\sqrt{3} + 3\\right)}^{\\frac{1}{3}}}\\right]$"
      ],
      "text/plain": [
       "[ϕ == (1/9*sqrt(251)*sqrt(3) + 3)^(1/3) - 2/3/(1/9*sqrt(251)*sqrt(3) + 3)^(1/3)]"
      ]
     },
     "execution_count": 71,
     "metadata": {},
     "output_type": "execute_result"
    }
   ],
   "source": [
    "solve(p(ϕ).subs({m:2,n:6}),ϕ)"
   ]
  },
  {
   "cell_type": "code",
   "execution_count": null,
   "id": "5f407f61-bd55-4889-a81f-b5dedeeb325b",
   "metadata": {},
   "outputs": [],
   "source": []
  },
  {
   "cell_type": "markdown",
   "id": "97fb9b97-5a5b-43a0-8e6e-818af56ac915",
   "metadata": {},
   "source": [
    "## 6. Funções e substituição de variáveis em expressões simbólicas"
   ]
  },
  {
   "cell_type": "markdown",
   "id": "19066265-35d1-4e68-a8fa-b82f3f366801",
   "metadata": {},
   "source": [
    "Uma funcionalidade muito útil em cálculos simbólicos é a substituição de exprssões com o método `.subs()`."
   ]
  },
  {
   "cell_type": "code",
   "execution_count": 72,
   "id": "c421541b-54fe-4d3b-9e9d-2610b65574a1",
   "metadata": {},
   "outputs": [
    {
     "data": {
      "text/html": [
       "<html>\\(\\displaystyle A + B\\)</html>"
      ],
      "text/latex": [
       "$\\displaystyle A + B$"
      ],
      "text/plain": [
       "A + B"
      ]
     },
     "execution_count": 72,
     "metadata": {},
     "output_type": "execute_result"
    }
   ],
   "source": [
    "var('A B C D')\n",
    "a = A+B\n",
    "a"
   ]
  },
  {
   "cell_type": "code",
   "execution_count": 73,
   "id": "ec26adec-92d3-4411-bc76-259745d313b4",
   "metadata": {},
   "outputs": [
    {
     "data": {
      "text/html": [
       "<html>\\(\\displaystyle B + D\\)</html>"
      ],
      "text/latex": [
       "$\\displaystyle B + D$"
      ],
      "text/plain": [
       "B + D"
      ]
     },
     "execution_count": 73,
     "metadata": {},
     "output_type": "execute_result"
    }
   ],
   "source": [
    "a.subs(A==D)"
   ]
  },
  {
   "cell_type": "code",
   "execution_count": 74,
   "id": "28224839-9315-4f4c-af41-1bc446636c04",
   "metadata": {},
   "outputs": [
    {
     "data": {
      "text/html": [
       "<html>\\(\\displaystyle A x^{2} + B x + C\\)</html>"
      ],
      "text/latex": [
       "$\\displaystyle A x^{2} + B x + C$"
      ],
      "text/plain": [
       "A*x^2 + B*x + C"
      ]
     },
     "execution_count": 74,
     "metadata": {},
     "output_type": "execute_result"
    }
   ],
   "source": [
    "f(x) = A*x^2+B*x+C;f(x)"
   ]
  },
  {
   "cell_type": "code",
   "execution_count": 75,
   "id": "fb2114f3-3e50-4ea7-88e9-585f7a23b04b",
   "metadata": {},
   "outputs": [
    {
     "data": {
      "text/html": [
       "<html>\\(\\displaystyle x^{2} + 5 \\, x + 9\\)</html>"
      ],
      "text/latex": [
       "$\\displaystyle x^{2} + 5 \\, x + 9$"
      ],
      "text/plain": [
       "x^2 + 5*x + 9"
      ]
     },
     "execution_count": 75,
     "metadata": {},
     "output_type": "execute_result"
    }
   ],
   "source": [
    "f(x).subs(A==1,B==5,C==9)"
   ]
  },
  {
   "cell_type": "code",
   "execution_count": 76,
   "id": "7c912369-b0ef-4d91-9523-6140ff72bd37",
   "metadata": {},
   "outputs": [
    {
     "data": {
      "text/html": [
       "<html>\\(\\displaystyle 2 \\, A x + B + \\cos\\left(x\\right)\\)</html>"
      ],
      "text/latex": [
       "$\\displaystyle 2 \\, A x + B + \\cos\\left(x\\right)$"
      ],
      "text/plain": [
       "2*A*x + B + cos(x)"
      ]
     },
     "execution_count": 76,
     "metadata": {},
     "output_type": "execute_result"
    }
   ],
   "source": [
    "b = diff(f(x),x)+cos(x);b"
   ]
  },
  {
   "cell_type": "code",
   "execution_count": 77,
   "id": "0747bcc5-78d4-4b72-a52d-80823037ee4e",
   "metadata": {},
   "outputs": [
    {
     "data": {
      "text/html": [
       "<html>\\(\\displaystyle 2 \\, A x + B + 2\\)</html>"
      ],
      "text/latex": [
       "$\\displaystyle 2 \\, A x + B + 2$"
      ],
      "text/plain": [
       "2*A*x + B + 2"
      ]
     },
     "execution_count": 77,
     "metadata": {},
     "output_type": "execute_result"
    }
   ],
   "source": [
    "b.subs(cos(x)==2)"
   ]
  },
  {
   "cell_type": "markdown",
   "id": "ec05fb82-ba66-4d7f-b6ea-31a885e6c63a",
   "metadata": {},
   "source": [
    "Podemos introduzir funções com expressão não definida"
   ]
  },
  {
   "cell_type": "code",
   "execution_count": 78,
   "id": "afd4e446-ed3d-4790-bcb2-9f9e74a0f4c8",
   "metadata": {},
   "outputs": [
    {
     "data": {
      "text/html": [
       "<html>\\(\\displaystyle x \\ {\\mapsto}\\ h\\left(x\\right)\\)</html>"
      ],
      "text/latex": [
       "$\\displaystyle x \\ {\\mapsto}\\ h\\left(x\\right)$"
      ],
      "text/plain": [
       "x |--> h(x)"
      ]
     },
     "execution_count": 78,
     "metadata": {},
     "output_type": "execute_result"
    }
   ],
   "source": [
    "h(x) = function('h')(x);h"
   ]
  },
  {
   "cell_type": "code",
   "execution_count": 79,
   "id": "bccb734f-340f-4e03-ad23-837fc2603a7e",
   "metadata": {},
   "outputs": [
    {
     "data": {
      "text/html": [
       "<html>\\(\\displaystyle 2 \\, {\\left(9 \\, A x^{2} + 3 \\, B x + C\\right)}^{2} + \\frac{\\partial^{2}}{(\\partial x)^{2}}h\\left(x\\right)\\)</html>"
      ],
      "text/latex": [
       "$\\displaystyle 2 \\, {\\left(9 \\, A x^{2} + 3 \\, B x + C\\right)}^{2} + \\frac{\\partial^{2}}{(\\partial x)^{2}}h\\left(x\\right)$"
      ],
      "text/plain": [
       "2*(9*A*x^2 + 3*B*x + C)^2 + diff(h(x), x, x)"
      ]
     },
     "execution_count": 79,
     "metadata": {},
     "output_type": "execute_result"
    }
   ],
   "source": [
    "c = diff(h(x),x,2)+2*f(3*x)^2;c"
   ]
  },
  {
   "cell_type": "code",
   "execution_count": 80,
   "id": "6c96eb76-925d-464f-9936-7409a83cfed8",
   "metadata": {},
   "outputs": [
    {
     "data": {
      "text/html": [
       "<html>\\(\\displaystyle 2 \\, {\\left(9 \\, A x^{2} + 3 \\, B x + C\\right)}^{2} + \\frac{x}{\\pi}\\)</html>"
      ],
      "text/latex": [
       "$\\displaystyle 2 \\, {\\left(9 \\, A x^{2} + 3 \\, B x + C\\right)}^{2} + \\frac{x}{\\pi}$"
      ],
      "text/plain": [
       "2*(9*A*x^2 + 3*B*x + C)^2 + x/pi"
      ]
     },
     "execution_count": 80,
     "metadata": {},
     "output_type": "execute_result"
    }
   ],
   "source": [
    "c.subs(diff(h(x),x,2)==x/pi)"
   ]
  },
  {
   "cell_type": "markdown",
   "id": "f0f92bf5-4c7e-4c60-8f52-9b9bf073d59e",
   "metadata": {},
   "source": [
    "### 7 Constantes físicas e substituição com dicionário"
   ]
  },
  {
   "cell_type": "code",
   "execution_count": 81,
   "id": "075cb63a-a659-4f08-adf3-bfa137d52564",
   "metadata": {},
   "outputs": [
    {
     "data": {
      "text/html": [
       "<html>\\(\\displaystyle \\left(M, k_{B}, G, c, ħ\\right)\\)</html>"
      ],
      "text/latex": [
       "$\\displaystyle \\left(M, k_{B}, G, c, ħ\\right)$"
      ],
      "text/plain": [
       "(M, k_B, G, c, ħ)"
      ]
     },
     "execution_count": 81,
     "metadata": {},
     "output_type": "execute_result"
    }
   ],
   "source": [
    "var('M k_B G c ħ')"
   ]
  },
  {
   "cell_type": "markdown",
   "id": "2d553dd4-8d12-41fe-85f4-e166bc66d7e1",
   "metadata": {},
   "source": [
    "Radiação Hawking do buraco negro de Schwarzschild"
   ]
  },
  {
   "cell_type": "code",
   "execution_count": 82,
   "id": "09532c88-df7a-494f-a9c2-2f0b7db1f303",
   "metadata": {
    "tags": []
   },
   "outputs": [
    {
     "data": {
      "text/html": [
       "<html>\\(\\displaystyle \\frac{c^{3} ħ}{8 \\, \\pi G M k_{B}}\\)</html>"
      ],
      "text/latex": [
       "$\\displaystyle \\frac{c^{3} ħ}{8 \\, \\pi G M k_{B}}$"
      ],
      "text/plain": [
       "1/8*c^3*ħ/(pi*G*M*k_B)"
      ]
     },
     "execution_count": 82,
     "metadata": {},
     "output_type": "execute_result"
    }
   ],
   "source": [
    "T_H = 1/8*c^3*ħ/(pi*G*M*k_B)\n",
    "T_H"
   ]
  },
  {
   "cell_type": "code",
   "execution_count": 83,
   "id": "51267a57-81d8-46ff-b3ab-abae8b101d1d",
   "metadata": {},
   "outputs": [],
   "source": [
    "# from scipy.constants.physical_constants."
   ]
  },
  {
   "cell_type": "code",
   "execution_count": 84,
   "id": "71b0c84d-8b4f-4645-a463-9ee17977429d",
   "metadata": {},
   "outputs": [],
   "source": [
    "from scipy.constants import gravitational_constant, speed_of_light, Boltzmann, hbar"
   ]
  },
  {
   "cell_type": "code",
   "execution_count": 85,
   "id": "769b0cee-bff4-45f9-ad9c-0cc7cbfb22e3",
   "metadata": {},
   "outputs": [
    {
     "data": {
      "text/html": [
       "<html>\\(\\displaystyle \\left\\{k_{B} : 1.380649 \\times 10^{-23}, c : 299792458.0, G : 6.6743 \\times 10^{-11}, ħ : 1.0545718176461565 \\times 10^{-34}, A + B : 2, 2 \\, A x + B + \\cos\\left(x\\right) : 57\\right\\}\\)</html>"
      ],
      "text/latex": [
       "$\\displaystyle \\left\\{k_{B} : 1.380649 \\times 10^{-23}, c : 299792458.0, G : 6.6743 \\times 10^{-11}, ħ : 1.0545718176461565 \\times 10^{-34}, A + B : 2, 2 \\, A x + B + \\cos\\left(x\\right) : 57\\right\\}$"
      ],
      "text/plain": [
       "{k_B: 1.380649e-23,\n",
       " c: 299792458.0,\n",
       " G: 6.6743e-11,\n",
       " ħ: 1.0545718176461565e-34,\n",
       " A + B: 2,\n",
       " 2*A*x + B + cos(x): 57}"
      ]
     },
     "execution_count": 85,
     "metadata": {},
     "output_type": "execute_result"
    }
   ],
   "source": [
    "constantes = {k_B:Boltzmann, c:speed_of_light, G:gravitational_constant, ħ:hbar, a:2, b:57}\n",
    "constantes"
   ]
  },
  {
   "cell_type": "code",
   "execution_count": 86,
   "id": "c7f2906b-0310-461e-946f-63b4b6b7554c",
   "metadata": {},
   "outputs": [
    {
     "data": {
      "text/html": [
       "<html>\\(\\displaystyle 1.22690067059402 \\times 10^{-7}\\)</html>"
      ],
      "text/latex": [
       "$\\displaystyle 1.22690067059402 \\times 10^{-7}$"
      ],
      "text/plain": [
       "1.22690067059402e-7"
      ]
     },
     "execution_count": 86,
     "metadata": {},
     "output_type": "execute_result"
    }
   ],
   "source": [
    "T_H.subs(constantes).subs({M:10^30}).n()"
   ]
  },
  {
   "cell_type": "markdown",
   "id": "a1aa0472-2dcf-408a-8254-279aab81c082",
   "metadata": {
    "slideshow": {
     "slide_type": "subslide"
    }
   },
   "source": [
    "## 7. Pacotes opcionais\n",
    "\n",
    "Alguns pacotes que não presentes na instalação básica do SageMath podem ser instalados posteriormente.\n",
    "\n",
    "- No terminal (no Windows, utilizar o \"SageMath Shell\"):\n",
    "  - `sage -i <nome_do_pacote>` - para instalar o pacote sage opcional\n",
    "  - `sage --pip install <pip_package_name>` - para instalar um pacote Python extra utilizando `pip`.\n",
    "- Em uma sessão de SageMath (no Windows, usar \"SageMath\" ou \"SageMath Notebook\"):\n",
    "  - `sage: installed_packages()` - para listar todos os pacotes instalados\n",
    "  - `sage: optional_packages()` - para listar pacotes opcionais instalados e disponíveis"
   ]
  },
  {
   "cell_type": "code",
   "execution_count": 87,
   "id": "08cfa2af-5e13-453f-a9a9-4e0b942c192a",
   "metadata": {},
   "outputs": [],
   "source": [
    "# print(optional_packages())"
   ]
  },
  {
   "cell_type": "markdown",
   "id": "c955ab4c-fe0e-4b7c-9e53-e8de07eecf0c",
   "metadata": {
    "slideshow": {
     "slide_type": "subslide"
    }
   },
   "source": [
    "## 8. Jupyter  notebook"
   ]
  },
  {
   "cell_type": "markdown",
   "id": "1bad7154-7f57-4eb5-8d70-cb4a40e5c7d9",
   "metadata": {
    "slideshow": {
     "slide_type": "slide"
    }
   },
   "source": [
    "### 8.1 Células\n",
    "\n",
    "Os dois tipos principais de célula são **_code_** e **markdown**. "
   ]
  },
  {
   "cell_type": "markdown",
   "id": "daf2d7e6-59bf-4a4b-9d45-b6091ac9c6a7",
   "metadata": {
    "slideshow": {
     "slide_type": "fragment"
    }
   },
   "source": [
    "Em ambos os casos, <kbd>SHIFT+ENTER</kbd> executa o conteúdo da célula e cria uma célula abaixo (se ainda não existir uma)."
   ]
  },
  {
   "cell_type": "markdown",
   "id": "b3a40474-142b-4740-af02-480987381d2d",
   "metadata": {
    "slideshow": {
     "slide_type": "subslide"
    }
   },
   "source": [
    "1. Nas células do tipo Markdown podemos colocar:\n",
    "\n",
    "    * Texto com formatação markdown;\n",
    "    * HTML;\n",
    "    * LaTeX;\n",
    "    * Images."
   ]
  },
  {
   "cell_type": "markdown",
   "id": "bfaeaaec-dee9-4900-bf46-61c116b263d2",
   "metadata": {
    "slideshow": {
     "slide_type": "fragment"
    }
   },
   "source": [
    "2. Nas células de código ficam os códigos do Sage, Python, ou da linguagem que você estiver utilizando."
   ]
  },
  {
   "cell_type": "markdown",
   "id": "65a7f54b-dfe7-4266-a2c7-368e7bcfe6b0",
   "metadata": {
    "slideshow": {
     "slide_type": "slide"
    }
   },
   "source": [
    "### 8.2 Modos\n",
    "\n",
    "Existem dois modos para as células, o **modo de comando** e o **modo de edição**. "
   ]
  },
  {
   "cell_type": "markdown",
   "id": "69e6964d-813b-466b-80ec-c50a01fa5a1e",
   "metadata": {
    "slideshow": {
     "slide_type": "fragment"
    }
   },
   "source": [
    "Você identifica o modo pela cor da moldura ao redor da célula. "
   ]
  },
  {
   "cell_type": "markdown",
   "id": "df747507-3799-468f-b927-99c7524b1790",
   "metadata": {
    "slideshow": {
     "slide_type": "fragment"
    }
   },
   "source": [
    "Azul para modo de comando e verde para modo de edição."
   ]
  },
  {
   "cell_type": "markdown",
   "id": "cb6f56fa-4239-4351-8539-daecd3be9b59",
   "metadata": {
    "slideshow": {
     "slide_type": "subslide"
    }
   },
   "source": [
    "No modo de edição você altera e executa o conteúdo de uma célula."
   ]
  },
  {
   "cell_type": "markdown",
   "id": "48e4a42d-7e85-452d-acf4-5f1b1a5b2cea",
   "metadata": {
    "slideshow": {
     "slide_type": "fragment"
    }
   },
   "source": [
    "No modo de comando você edita o notebook em si. Como inseir ou deleta células e alterar o seu tipo, usando atalhos do teclado. "
   ]
  },
  {
   "cell_type": "markdown",
   "id": "e1e3dfa6-e4e3-4a4f-9333-a4a2138c2766",
   "metadata": {
    "slideshow": {
     "slide_type": "fragment"
    }
   },
   "source": [
    "Você pode entrar no modo de comando com a tecla <kbd>ESC</kbd> e no modo de edição com o <kbd>ENTER</kbd>."
   ]
  },
  {
   "cell_type": "markdown",
   "id": "5782bce4-4895-4cb4-877c-81a19b9f87ca",
   "metadata": {
    "slideshow": {
     "slide_type": "slide"
    }
   },
   "source": [
    "### 8.3 Atalhos do teclado\n",
    "\n",
    "Várias funções da barra de ferramentas podem ser acessadas mais rápidamente usando atalhos do teclado no **modo de comando**."
   ]
  },
  {
   "cell_type": "markdown",
   "id": "7c4ccfc9-b573-4b71-8986-2ff9fee027cb",
   "metadata": {
    "slideshow": {
     "slide_type": "subslide"
    }
   },
   "source": [
    "#### Abaixo está uma pequena lista.\n",
    "\n",
    "| Ação | Atalho |\n",
    "| :---: | :---: |\n",
    "| nova célula acima | <kbd>a</kbd> |\n",
    "| nova célula abaixo | <kbd>b</kbd> |\n",
    "| celula do tipo códico | <kbd>y</kbd> |\n",
    "| celula do tipo markdown | <kbd>m</kbd> |\n",
    "| salvar | <kbd>s</kbd> |\n",
    "| executar a célula | <kbd>SHIFT+ENTER</kbd> |\n",
    "| modo edição | <kbd>ENTER</kbd> |\n",
    "| modo de comando | <kbd>ESC</kbd> |"
   ]
  },
  {
   "cell_type": "markdown",
   "id": "403e7c63-e81f-4ddb-940e-a32c30dab4c2",
   "metadata": {
    "slideshow": {
     "slide_type": "fragment"
    }
   },
   "source": [
    "[Site oficial](http://jupyter.org) do Jupyter"
   ]
  },
  {
   "cell_type": "markdown",
   "id": "c5b73461-daba-419c-94cc-ae47f9f39142",
   "metadata": {},
   "source": [
    "### 8.4 Exibir todas as variáveis da seção"
   ]
  },
  {
   "cell_type": "code",
   "execution_count": 88,
   "id": "bf978495-af71-44bd-8d8b-30634d912b6a",
   "metadata": {},
   "outputs": [
    {
     "name": "stdout",
     "output_type": "stream",
     "text": [
      "Variable                 Type                Data/Info\n",
      "------------------------------------------------------\n",
      "A                        Expression          A\n",
      "B                        Expression          B\n",
      "Boltzmann                float               1.380649e-23\n",
      "C                        Expression          C\n",
      "D                        Expression          D\n",
      "G                        Expression          G\n",
      "L1                       list                n=20\n",
      "LL                       list                n=4\n",
      "M                        Expression          M\n",
      "T_H                      Expression          1/8*c^3*ħ/(pi*G*M*k_B)\n",
      "X                        tuple               n=4\n",
      "a                        Expression          A + B\n",
      "alp_bar                  Expression          alp_bar\n",
      "b                        Expression          2*A*x + B + cos(x)\n",
      "c                        Expression          c\n",
      "constantes               dict                n=6\n",
      "eq0                      Expression          y^2 - 2*y/cos(phi) + 5/cos(phi)^2 - 4 == 0\n",
      "eq1                      Expression          y^2*cos(phi)^2 - 2*y*cos(<...>) - 4*cos(phi)^2 + 5 == 0\n",
      "eq2                      Expression          x^2 + x*y + 2 == 0\n",
      "eq3                      Expression          y^2 == (x + y)*x\n",
      "expr                     Expression          sin(3*x) + sin(2*x) + sin(x) == 0\n",
      "expr2                    Expression          2*(2*cos(x) + 1)*cos(x)*sin(x) == 0\n",
      "f                        Expression          x |--> A*x^2 + B*x + C\n",
      "gravitational_constant   float               6.6743e-11\n",
      "h                        Expression          x |--> h(x)\n",
      "hbar                     float               1.0545718176461565e-34\n",
      "k_B                      Expression          k_B\n",
      "m                        Expression          m\n",
      "n                        Expression          n\n",
      "p                        Expression          x |--> x^3 + m*x - n\n",
      "p2                       Expression          x^3 + x^2*y + 2*x^2 + 2*x*y + x + y\n",
      "phi                      Expression          phi\n",
      "sol                      Sequence_generic    [\\nphi == pi - arccos(-y/<...>t(-y^2 + 5)/(y^2 - 4))\\n]\n",
      "sols                     Sequence_generic    [\\n[x == -1/2*I*sqrt(10) <...>rt(2), y == I*sqrt(2)]\\n]\n",
      "speed_of_light           float               299792458.0\n",
      "u                        Expression          u\n",
      "w                        Expression          w\n",
      "x0                       Expression          x0\n",
      "x1                       Expression          x1\n",
      "x2                       Expression          x2\n",
      "x3                       Expression          x3\n",
      "y                        Expression          y\n",
      "ħ                        Expression          ħ\n",
      "γ                        Expression          γ\n",
      "φ                        Expression          ϕ\n",
      "ϕ                        Expression          ϕ\n"
     ]
    }
   ],
   "source": [
    "whos"
   ]
  },
  {
   "cell_type": "markdown",
   "id": "583a22ab-eb7e-4745-82af-ca33d869e9f4",
   "metadata": {
    "slideshow": {
     "slide_type": "slide"
    }
   },
   "source": [
    "## 9. Markdown básico"
   ]
  },
  {
   "cell_type": "markdown",
   "id": "57089f13-ccf2-4962-90f4-70c3473b271c",
   "metadata": {
    "slideshow": {
     "slide_type": "fragment"
    }
   },
   "source": [
    "O que é Markdown?\n",
    "\n",
    "> Markdown is a lightweight markup language that you can use to add formatting elements to plaintext text documents. Created by John Gruber in 2004, Markdown is now one of the world’s most popular markup languages.\n",
    "\n",
    "> Using Markdown is different than using a WYSIWYG editor. In an application like Microsoft Word, you click buttons to format words and phrases, and the changes are visible immediately. Markdown isn’t like that. When you create a Markdown-formatted file, you add Markdown syntax to the text to indicate which words and phrases should look different.\n",
    "\n",
    "Fonte: [markdownguide](https://www.markdownguide.org/getting-started/)"
   ]
  },
  {
   "cell_type": "markdown",
   "id": "4a4dcb2d-ae72-4ff1-a466-b504beb79b09",
   "metadata": {
    "slideshow": {
     "slide_type": "slide"
    }
   },
   "source": [
    "### 9.1 Seções e subseções"
   ]
  },
  {
   "cell_type": "markdown",
   "id": "7b27515d-cdd5-4424-bf1f-816df4457195",
   "metadata": {
    "slideshow": {
     "slide_type": "fragment"
    },
    "tags": []
   },
   "source": [
    "# Nível 1\n",
    "## Nível 2\n",
    "### Nível 3\n",
    "#### Nível 4\n",
    "##### Nível 5\n",
    "###### Nível 6"
   ]
  },
  {
   "cell_type": "markdown",
   "id": "904cc01b-20af-4379-a59a-ffc7b2b330d0",
   "metadata": {
    "slideshow": {
     "slide_type": "slide"
    }
   },
   "source": [
    "### 9.2 Formatação (negrito, itálico e riscado)"
   ]
  },
  {
   "cell_type": "markdown",
   "id": "23e1d4f4-9422-4b78-bc82-a41b2e0d843c",
   "metadata": {
    "slideshow": {
     "slide_type": "fragment"
    }
   },
   "source": [
    "*Itálico*\n",
    "\n",
    "**Negrito**\n",
    "\n",
    "**_negrito e itálico_**\n",
    "\n",
    "~~riscado~~"
   ]
  },
  {
   "cell_type": "markdown",
   "id": "96f3a51f-2913-4920-a0bf-4846293d8943",
   "metadata": {
    "slideshow": {
     "slide_type": "slide"
    }
   },
   "source": [
    "### 9.3 Ítens"
   ]
  },
  {
   "cell_type": "markdown",
   "id": "ff503799-3204-4da4-86d4-d8274481cb5d",
   "metadata": {
    "slideshow": {
     "slide_type": "fragment"
    }
   },
   "source": [
    "* sdf\n",
    "- shfsdf\n",
    "+ kjshdkfj\n",
    "    - kjxdhkjd\n",
    "    + sdhfkjsdhf\n",
    "        - oijojfdg\n",
    "        - kjhdskfjh"
   ]
  },
  {
   "cell_type": "markdown",
   "id": "bf992f82-be2c-4dc5-a72e-2ed9ab8f6b64",
   "metadata": {
    "slideshow": {
     "slide_type": "slide"
    }
   },
   "source": [
    "### 9.4 Numerados"
   ]
  },
  {
   "cell_type": "markdown",
   "id": "9610dbd8-179e-46d0-b58b-f8c65eafc319",
   "metadata": {
    "slideshow": {
     "slide_type": "fragment"
    }
   },
   "source": [
    "1. sdfsd\n",
    "5. sdfsdf\n",
    "3. fdaf\n",
    "    1. ijhdsgk\n",
    "    5. ijhgdfgu\n",
    "    8. hgdsu\n",
    "        5. sgdhfhds\n",
    "        9. kjshdf"
   ]
  },
  {
   "cell_type": "markdown",
   "id": "7e72eba8-759f-4964-b001-d12f70a392b8",
   "metadata": {
    "slideshow": {
     "slide_type": "slide"
    }
   },
   "source": [
    "### 9.5 Código"
   ]
  },
  {
   "cell_type": "markdown",
   "id": "d30ca8af-fac5-4597-8322-2fae6a0b6acd",
   "metadata": {
    "slideshow": {
     "slide_type": "fragment"
    }
   },
   "source": [
    "`comando()`"
   ]
  },
  {
   "cell_type": "markdown",
   "id": "ac1651f5-6756-4e5a-8d9f-13fd8f2f7806",
   "metadata": {
    "slideshow": {
     "slide_type": "slide"
    }
   },
   "source": [
    "### 9.6 Tabelas"
   ]
  },
  {
   "cell_type": "markdown",
   "id": "f743800b-8583-494c-b218-db2ea362db1c",
   "metadata": {
    "slideshow": {
     "slide_type": "fragment"
    }
   },
   "source": [
    "medida|x | y | z\n",
    ":--|:--:|:--|--\n",
    "**medida 1** | 5 | 5 | 7\n",
    "**medida 2** | 5 | 6 | 6 \n",
    "**medida 3** | 9 | 3 | 2"
   ]
  },
  {
   "cell_type": "markdown",
   "id": "b3220d81-283d-4e43-b3b5-beee956bb582",
   "metadata": {
    "slideshow": {
     "slide_type": "fragment"
    }
   },
   "source": [
    "`---` alinhamento padão (direita)\n",
    "\n",
    "`:---` esquerda\n",
    "\n",
    "`---:` direita\n",
    "\n",
    "`:---:` centralizado"
   ]
  },
  {
   "cell_type": "markdown",
   "id": "570f593d-8db6-4997-b5ff-fbbbc293d206",
   "metadata": {
    "slideshow": {
     "slide_type": "slide"
    }
   },
   "source": [
    "### 9.7 Citação (identação)"
   ]
  },
  {
   "cell_type": "markdown",
   "id": "8946c021-c209-4768-97bd-69e4aaf05776",
   "metadata": {
    "slideshow": {
     "slide_type": "fragment"
    }
   },
   "source": [
    "> I think I can safely say that nobody understands quantum mechanics.\n",
    ">> Richard Feynman\n",
    "\n"
   ]
  },
  {
   "cell_type": "markdown",
   "id": "966c88c4-43f8-4a42-9ecf-71c569c1df42",
   "metadata": {
    "slideshow": {
     "slide_type": "slide"
    }
   },
   "source": [
    "### 9.8 Linha horizontal"
   ]
  },
  {
   "cell_type": "markdown",
   "id": "9a073447-12fc-4859-89b0-09d86677bba7",
   "metadata": {
    "slideshow": {
     "slide_type": "fragment"
    }
   },
   "source": [
    "***\n",
    "***"
   ]
  },
  {
   "cell_type": "markdown",
   "id": "8d22b657-9712-46e8-983a-c41250a44ffa",
   "metadata": {
    "slideshow": {
     "slide_type": "slide"
    }
   },
   "source": [
    "### 9.9 Link"
   ]
  },
  {
   "cell_type": "markdown",
   "id": "56f37eda-212f-4cb0-b6e8-298163be5900",
   "metadata": {
    "slideshow": {
     "slide_type": "fragment"
    }
   },
   "source": [
    "[texto](www.link.com.br)"
   ]
  },
  {
   "cell_type": "markdown",
   "id": "aaa520a5-59c4-4a7c-9cf3-e82a7fd1ebe3",
   "metadata": {
    "slideshow": {
     "slide_type": "slide"
    }
   },
   "source": [
    "### 9.10 Imagem"
   ]
  },
  {
   "cell_type": "markdown",
   "id": "b14bd6ef-920e-4ca9-b168-836eafd91751",
   "metadata": {
    "slideshow": {
     "slide_type": "fragment"
    }
   },
   "source": [
    "![nome](http://localhost:8888/static/base/images/logo.png?v=641991992878ee24c6f3826e81054a0f)"
   ]
  },
  {
   "cell_type": "markdown",
   "id": "061bac3c-d14e-4a47-bad8-e2b8a98f7717",
   "metadata": {
    "slideshow": {
     "slide_type": "slide"
    }
   },
   "source": [
    "### 9.11 Equações $\\LaTeX$"
   ]
  },
  {
   "cell_type": "markdown",
   "id": "3f49fc48-1abe-4e45-a6bf-c029dbbce4a6",
   "metadata": {
    "slideshow": {
     "slide_type": "fragment"
    }
   },
   "source": [
    "#### 9.11.1 Simples"
   ]
  },
  {
   "cell_type": "markdown",
   "id": "028be3b9-5791-4ab6-880f-4c66f68d01e7",
   "metadata": {
    "slideshow": {
     "slide_type": "fragment"
    }
   },
   "source": [
    "$h(x) = \\tan(x)$"
   ]
  },
  {
   "cell_type": "markdown",
   "id": "796f0c24-d453-4a00-a0fb-21486f570d99",
   "metadata": {
    "slideshow": {
     "slide_type": "subslide"
    }
   },
   "source": [
    "#### 9.11.2 Centralizada"
   ]
  },
  {
   "cell_type": "markdown",
   "id": "a199a721-78a2-4cc6-ab39-52c72aac4186",
   "metadata": {
    "slideshow": {
     "slide_type": "fragment"
    }
   },
   "source": [
    "$$y(x) = x^2+2x-1$$"
   ]
  },
  {
   "cell_type": "markdown",
   "id": "5abc6ddb-ad14-4f94-91c3-6173fe4ce02a",
   "metadata": {
    "slideshow": {
     "slide_type": "fragment"
    }
   },
   "source": [
    "#### 9.11.3 Múltiplas alinhadas"
   ]
  },
  {
   "cell_type": "markdown",
   "id": "78bd768c-df45-4e20-b0db-ee03f408fd37",
   "metadata": {
    "slideshow": {
     "slide_type": "fragment"
    }
   },
   "source": [
    "$$\\begin{align}\n",
    "f(x) &= \\cos(x)\\\\\n",
    "g(x) &= \\sin(x)\n",
    "\\end{align}$$"
   ]
  },
  {
   "cell_type": "markdown",
   "id": "570a47f9-7c12-4a0f-83e8-6a4b9b0ec1cb",
   "metadata": {
    "slideshow": {
     "slide_type": "slide"
    }
   },
   "source": [
    "Mais informações:\n",
    "\n",
    "* [Markdown guide](https://www.markdownguide.org/)\n",
    "\n",
    "* [Markdown for Jupyter notebooks](https://www.ibm.com/support/knowledgecenter/SSHGWL_1.2.3/analyze-data/markd-jupyter.html)"
   ]
  },
  {
   "cell_type": "markdown",
   "id": "eb20c719-d8ea-4790-b709-bb3c016516cc",
   "metadata": {},
   "source": [
    "# FIM\n",
    "***"
   ]
  }
 ],
 "metadata": {
  "kernelspec": {
   "display_name": "SageMath 9.6.rc0",
   "language": "sage",
   "name": "sagemath"
  },
  "language_info": {
   "codemirror_mode": {
    "name": "ipython",
    "version": 3
   },
   "file_extension": ".py",
   "mimetype": "text/x-python",
   "name": "python",
   "nbconvert_exporter": "python",
   "pygments_lexer": "ipython3",
   "version": "3.10.4"
  },
  "toc-autonumbering": false
 },
 "nbformat": 4,
 "nbformat_minor": 5
}
