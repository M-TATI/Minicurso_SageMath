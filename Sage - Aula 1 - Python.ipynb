{
 "cells": [
  {
   "cell_type": "markdown",
   "id": "14bc8676",
   "metadata": {},
   "source": [
    "# Conceitos Básicos de Python\n",
    "---\n",
    "\n",
    "### Nessa aula veremos:\n",
    "1. Variáveis e tipos de dados\n",
    "2. Operadores\n",
    "3. Condicionais\n",
    "4. Funções\n",
    "5. Estrutura de repetição: For\n",
    "6. Bibliotecas e Módulos\n",
    "7. NumPy: arrays\n",
    "---"
   ]
  },
  {
   "cell_type": "markdown",
   "id": "c68f6b6f",
   "metadata": {},
   "source": [
    "## 1) VARIÁVEIS e TIPOS DE DADOS\n",
    "\n",
    "\n",
    "### 1.1 Variáveis\n",
    "\n",
    "Nas linguagens de programação, uma variável é um espaço alocado na memória de um computador. O\n",
    "papel de uma variável é armazenar dados ou expressões que estão sendo utilizados por um programa em execução. Ela podem receber qualquer nome, mas há algums detalhes que precisam de atenção ao escolhe-los:\n",
    "\n",
    "* O nome da variável deve ser descritivo, ou seja, deve indicar claramente o que ela representa (que informação está sendo armazenada nela)\n",
    "* Pyhton é uma linguagem _case sensitive_, então fique atento com a utilização de letras maiúsculas e minúsculas (var1 e Var1)\n",
    "* Em Python, é convenção que o nome de uma variável comece com letras minúsculas\n",
    "* Se o nome for composto por múltiplas palavras, estas devem ser separadas por um _underscore_ (_) (data_nascimento)\n",
    "* Não é possível iniciar o nome de uma variável com um número\n",
    "* Não é permitido declarar variáveis com palavras reservadas da linguagem (and, class, True, False, for, plot, if, return)\n",
    "\n",
    "A atribuição de variáveis é feita sempre com o símbolo =\n",
    "\n",
    "### 1.2 Tipos da dados\n",
    "\n",
    "Em Python as variáveis podem armazenar dados numéricos, literais, booleanos e sequenciais. \n",
    "\n",
    "* String (str): textos - cadeias de caracteres\n",
    "* Int: Números inteiros\n",
    "* Float: Números de ponto flutuante (decimais)\n",
    "* Bool: False/True (valores lógicos)\n",
    "* Sequence: Listas (list) e dicionários (dict)\n",
    "\n",
    "__Exemplo:__\n",
    "\n",
    "a = 15\n",
    "\n",
    "Então a variável _a_ recebe e armazena o número 15. Se perguntarmos ao programa que tipo de informação está contida em _a_, ele nos dirá  \"_int_\"."
   ]
  },
  {
   "cell_type": "code",
   "execution_count": 2,
   "id": "6e0d514c",
   "metadata": {
    "scrolled": true
   },
   "outputs": [
    {
     "data": {
      "text/plain": [
       "15"
      ]
     },
     "execution_count": 2,
     "metadata": {},
     "output_type": "execute_result"
    }
   ],
   "source": [
    "a = 15\n",
    "a"
   ]
  },
  {
   "cell_type": "code",
   "execution_count": 3,
   "id": "2858cd0f",
   "metadata": {},
   "outputs": [
    {
     "data": {
      "text/plain": [
       "int"
      ]
     },
     "execution_count": 3,
     "metadata": {},
     "output_type": "execute_result"
    }
   ],
   "source": [
    "type(a)"
   ]
  },
  {
   "cell_type": "markdown",
   "id": "f9ae057e",
   "metadata": {},
   "source": [
    "### 1.2.1 Strings\n",
    "\n",
    "Strings são sequências de caracteres ou um texto. Para serem interpretradas como um objeto do tipo _str_ é obrigatório colocarmos o texto entre aspas (simples ou duplas, desde que nunca misturadas)."
   ]
  },
  {
   "cell_type": "code",
   "execution_count": 5,
   "id": "db6ddfd8",
   "metadata": {},
   "outputs": [
    {
     "name": "stdout",
     "output_type": "stream",
     "text": [
      "Hello World!\n"
     ]
    }
   ],
   "source": [
    "#Exemplo de um uso comum de strings:\n",
    "\n",
    "print(\"Hello World!\")\n"
   ]
  },
  {
   "cell_type": "code",
   "execution_count": 6,
   "id": "7af12887",
   "metadata": {
    "scrolled": true
   },
   "outputs": [
    {
     "data": {
      "text/plain": [
       "'Isso é uma String'"
      ]
     },
     "execution_count": 6,
     "metadata": {},
     "output_type": "execute_result"
    }
   ],
   "source": [
    "# Declando uma variável\n",
    "\n",
    "b = 'Isso é uma String'\n",
    "b"
   ]
  },
  {
   "cell_type": "code",
   "execution_count": 7,
   "id": "939db998",
   "metadata": {},
   "outputs": [
    {
     "name": "stdout",
     "output_type": "stream",
     "text": [
      "Isso é uma String\n"
     ]
    }
   ],
   "source": [
    "# ou\n",
    "print(b)"
   ]
  },
  {
   "cell_type": "code",
   "execution_count": 8,
   "id": "f7608ffe",
   "metadata": {},
   "outputs": [
    {
     "data": {
      "text/plain": [
       "str"
      ]
     },
     "execution_count": 8,
     "metadata": {},
     "output_type": "execute_result"
    }
   ],
   "source": [
    "type(b)"
   ]
  },
  {
   "cell_type": "markdown",
   "id": "7bb81b68",
   "metadata": {},
   "source": [
    "Há algumas manipulações simples que podemos fazer com uma string:\n",
    "\n",
    "- Deixar todas as letras maiúsculas/ minúsculas"
   ]
  },
  {
   "cell_type": "code",
   "execution_count": 9,
   "id": "7462a6d0",
   "metadata": {},
   "outputs": [
    {
     "data": {
      "text/plain": [
       "'ISSO É UMA STRING'"
      ]
     },
     "execution_count": 9,
     "metadata": {},
     "output_type": "execute_result"
    }
   ],
   "source": [
    "b.upper()"
   ]
  },
  {
   "cell_type": "code",
   "execution_count": 10,
   "id": "60c52af3",
   "metadata": {
    "scrolled": true
   },
   "outputs": [
    {
     "data": {
      "text/plain": [
       "'isso é uma string'"
      ]
     },
     "execution_count": 10,
     "metadata": {},
     "output_type": "execute_result"
    }
   ],
   "source": [
    "b.lower()"
   ]
  },
  {
   "cell_type": "markdown",
   "id": "df14d159",
   "metadata": {},
   "source": [
    "* Deixar apenas a primeira letra maiúscula"
   ]
  },
  {
   "cell_type": "code",
   "execution_count": 11,
   "id": "55eac84c",
   "metadata": {},
   "outputs": [
    {
     "data": {
      "text/plain": [
       "'Isso é uma string'"
      ]
     },
     "execution_count": 11,
     "metadata": {},
     "output_type": "execute_result"
    }
   ],
   "source": [
    "b.capitalize()"
   ]
  },
  {
   "cell_type": "markdown",
   "id": "0e51d80f",
   "metadata": {},
   "source": [
    "* Seprar cada palavra do texto em strings individuais"
   ]
  },
  {
   "cell_type": "code",
   "execution_count": 12,
   "id": "99875e29",
   "metadata": {},
   "outputs": [
    {
     "data": {
      "text/plain": [
       "['Isso', 'é', 'uma', 'String']"
      ]
     },
     "execution_count": 12,
     "metadata": {},
     "output_type": "execute_result"
    }
   ],
   "source": [
    "b.split()"
   ]
  },
  {
   "cell_type": "markdown",
   "id": "f740dddb",
   "metadata": {},
   "source": [
    "__f-string__\n",
    "\n",
    "As vezes, na hora de usar a função _print()_ você está interessado em misturar um texto padrão com a saída variável dos dados. A maneira mais eficiente de fazer isso é com a utilização da f-string."
   ]
  },
  {
   "cell_type": "code",
   "execution_count": 6,
   "id": "2812a529",
   "metadata": {},
   "outputs": [
    {
     "name": "stdout",
     "output_type": "stream",
     "text": [
      "O aluno Daniel tem 26 anos\n"
     ]
    }
   ],
   "source": [
    "nome = 'Daniel'\n",
    "idade= 26\n",
    "\n",
    "print(f\"O aluno {nome} tem {idade} anos\")"
   ]
  },
  {
   "cell_type": "markdown",
   "id": "beb5d8ac",
   "metadata": {},
   "source": [
    "__raw-string__\n",
    "\n",
    "Em Python, strings prefixadas com r ou R, como r'...' e R\"...\", são chamadas de \"raw-string\" e tratam as barras invertidas como caracteres literais."
   ]
  },
  {
   "cell_type": "code",
   "execution_count": 14,
   "id": "b83ad6a3",
   "metadata": {},
   "outputs": [
    {
     "name": "stdout",
     "output_type": "stream",
     "text": [
      "a\tb\n",
      "A\tB\n"
     ]
    }
   ],
   "source": [
    "#Exemplo\n",
    "\n",
    "s = 'a\\tb\\nA\\tB'\n",
    "print(s)"
   ]
  },
  {
   "cell_type": "code",
   "execution_count": 15,
   "id": "eaaa64e3",
   "metadata": {},
   "outputs": [
    {
     "name": "stdout",
     "output_type": "stream",
     "text": [
      "a\\tb\\nA\\tB\n"
     ]
    }
   ],
   "source": [
    "rs = r'a\\tb\\nA\\tB'\n",
    "print(rs)"
   ]
  },
  {
   "cell_type": "markdown",
   "id": "13c3a687",
   "metadata": {},
   "source": [
    "Essa é uma estratégia muito útil quando estamos lidando com textos no formato _LaTeX_.\n",
    "\n",
    "Também é possível usar a função _repr()_ para converter uma string comum em uma raw-straing"
   ]
  },
  {
   "cell_type": "markdown",
   "id": "e6f13fdb",
   "metadata": {},
   "source": [
    "### 1.2.2 Dados numéricos\n",
    "\n",
    "#### Inteiro (int)\n",
    "\n",
    "Como o nome sugere, dados do tipo _int_ são números inteiros. Com eles podemos fazer todas as operações básicas que já conhecemos da matemática."
   ]
  },
  {
   "cell_type": "code",
   "execution_count": 16,
   "id": "ffd22684",
   "metadata": {},
   "outputs": [
    {
     "name": "stdout",
     "output_type": "stream",
     "text": [
      "18 10\n"
     ]
    }
   ],
   "source": [
    "numero = 18\n",
    "num_int = 10\n",
    "print(numero, num_int)"
   ]
  },
  {
   "cell_type": "code",
   "execution_count": 17,
   "id": "4eab55ba",
   "metadata": {},
   "outputs": [
    {
     "data": {
      "text/plain": [
       "int"
      ]
     },
     "execution_count": 17,
     "metadata": {},
     "output_type": "execute_result"
    }
   ],
   "source": [
    "type(numero)"
   ]
  },
  {
   "cell_type": "markdown",
   "id": "53d4e61f",
   "metadata": {},
   "source": [
    "#### Float\n",
    "\n",
    "Valores de ponto fluante são aqueles que escrevemos na forma decimal. A parte decimal é sempre separada da parte inteira por um ponto (.). Com eles podemos realizar as mesmas operações que fazemos com os números inteiros. "
   ]
  },
  {
   "cell_type": "code",
   "execution_count": 18,
   "id": "b05b5f91",
   "metadata": {
    "scrolled": true
   },
   "outputs": [
    {
     "name": "stdout",
     "output_type": "stream",
     "text": [
      "0.75 2.98\n"
     ]
    }
   ],
   "source": [
    "decimal = 0.75\n",
    "new_float= 2.98\n",
    "print(decimal, new_float)"
   ]
  },
  {
   "cell_type": "code",
   "execution_count": 19,
   "id": "c026a09c",
   "metadata": {},
   "outputs": [
    {
     "data": {
      "text/plain": [
       "float"
      ]
     },
     "execution_count": 19,
     "metadata": {},
     "output_type": "execute_result"
    }
   ],
   "source": [
    "type(decimal)"
   ]
  },
  {
   "cell_type": "markdown",
   "id": "c449eb30",
   "metadata": {},
   "source": [
    "### 1.2.3 Booleanos\n",
    "\n",
    "São dados binários, ou seja, só podem assumir dois valores: True e False. São utilizadas para estabelecer condições e loopings."
   ]
  },
  {
   "cell_type": "code",
   "execution_count": 20,
   "id": "37db6baf",
   "metadata": {},
   "outputs": [
    {
     "data": {
      "text/plain": [
       "True"
      ]
     },
     "execution_count": 20,
     "metadata": {},
     "output_type": "execute_result"
    }
   ],
   "source": [
    "A = True\n",
    "A"
   ]
  },
  {
   "cell_type": "code",
   "execution_count": 21,
   "id": "c4189700",
   "metadata": {
    "scrolled": true
   },
   "outputs": [
    {
     "data": {
      "text/plain": [
       "bool"
      ]
     },
     "execution_count": 21,
     "metadata": {},
     "output_type": "execute_result"
    }
   ],
   "source": [
    "type(A)"
   ]
  },
  {
   "cell_type": "markdown",
   "id": "fd511953",
   "metadata": {},
   "source": [
    "### 1.2.4 Sequências\n",
    "\n",
    "As sequências podem ser listas, tuplas ou dicionários. São utilizadas quando queremos armazenar um conjunto de dados.\n",
    "\n",
    "#### Listas\n",
    "Listas são uma coleção de valores (int, float, bool, str) escritos entre chaves. São mutáveis e muito úteis para armazenar grandes volumes de dados. Também é possível criar lista de listas ou até mesmo iniciar com uma lista vazia a ser preenchida posteriormente. Seus elementos podem ser acessados por meio de um índice.\n"
   ]
  },
  {
   "cell_type": "code",
   "execution_count": 8,
   "id": "e8f3e8f9",
   "metadata": {},
   "outputs": [],
   "source": [
    "lista1 = [1,2,3,4]\n",
    "lista2 = ['nome', 'cpf']\n",
    "lista3 = [True, True, False]\n",
    "lista4 = [2.5, 9.2, 0.7]\n",
    "lista5 = [1,'python', False, 3.2]\n",
    "lista6 = [4, True, [6,7,'Sage']]\n",
    "lista7 = []"
   ]
  },
  {
   "cell_type": "code",
   "execution_count": 9,
   "id": "311abde5",
   "metadata": {},
   "outputs": [
    {
     "data": {
      "text/plain": [
       "list"
      ]
     },
     "execution_count": 9,
     "metadata": {},
     "output_type": "execute_result"
    }
   ],
   "source": [
    "type(lista5)"
   ]
  },
  {
   "cell_type": "code",
   "execution_count": 11,
   "id": "52889136",
   "metadata": {},
   "outputs": [
    {
     "data": {
      "text/plain": [
       "3"
      ]
     },
     "execution_count": 11,
     "metadata": {},
     "output_type": "execute_result"
    }
   ],
   "source": [
    "#Acessar valores\n",
    "\n",
    "lista1[2]"
   ]
  },
  {
   "cell_type": "code",
   "execution_count": 25,
   "id": "97a0d2f5",
   "metadata": {},
   "outputs": [
    {
     "data": {
      "text/plain": [
       "3.2"
      ]
     },
     "execution_count": 25,
     "metadata": {},
     "output_type": "execute_result"
    }
   ],
   "source": [
    "lista5[-1]"
   ]
  },
  {
   "cell_type": "code",
   "execution_count": 26,
   "id": "a6dbfd48",
   "metadata": {},
   "outputs": [
    {
     "data": {
      "text/plain": [
       "[True, [6, 7, 'Sage']]"
      ]
     },
     "execution_count": 26,
     "metadata": {},
     "output_type": "execute_result"
    }
   ],
   "source": [
    "lista6[1:]"
   ]
  },
  {
   "cell_type": "code",
   "execution_count": 27,
   "id": "1a6817ed",
   "metadata": {},
   "outputs": [
    {
     "data": {
      "text/plain": [
       "[4, True]"
      ]
     },
     "execution_count": 27,
     "metadata": {},
     "output_type": "execute_result"
    }
   ],
   "source": [
    "lista6[:2]"
   ]
  },
  {
   "cell_type": "code",
   "execution_count": 28,
   "id": "c6c8c043",
   "metadata": {},
   "outputs": [
    {
     "data": {
      "text/plain": [
       "6"
      ]
     },
     "execution_count": 28,
     "metadata": {},
     "output_type": "execute_result"
    }
   ],
   "source": [
    "lista6[2][0]"
   ]
  },
  {
   "cell_type": "code",
   "execution_count": 29,
   "id": "e8d36c8b",
   "metadata": {},
   "outputs": [
    {
     "data": {
      "text/plain": [
       "4"
      ]
     },
     "execution_count": 29,
     "metadata": {},
     "output_type": "execute_result"
    }
   ],
   "source": [
    "# Verificar o tamanho da lista\n",
    "\n",
    "len(lista5)"
   ]
  },
  {
   "cell_type": "code",
   "execution_count": 30,
   "id": "07fc37e6",
   "metadata": {},
   "outputs": [
    {
     "name": "stdout",
     "output_type": "stream",
     "text": [
      "[2.5, 9.2, 0.7]\n",
      "[2.5, 'oi', 0.7]\n"
     ]
    }
   ],
   "source": [
    "# Modificar uma lista\n",
    "\n",
    "print(lista4)\n",
    "\n",
    "lista4[1]='oi'\n",
    "\n",
    "print(lista4)"
   ]
  },
  {
   "cell_type": "code",
   "execution_count": 31,
   "id": "e450ce47",
   "metadata": {},
   "outputs": [
    {
     "data": {
      "text/plain": [
       "[20]"
      ]
     },
     "execution_count": 31,
     "metadata": {},
     "output_type": "execute_result"
    }
   ],
   "source": [
    "# Adicionar elementos: no final\n",
    "\n",
    "lista7.append(20)\n",
    "lista7"
   ]
  },
  {
   "cell_type": "code",
   "execution_count": 32,
   "id": "b0d81986",
   "metadata": {},
   "outputs": [
    {
     "name": "stdout",
     "output_type": "stream",
     "text": [
      "['nome', 'cpf']\n",
      "['nome', 19, 'cpf']\n"
     ]
    }
   ],
   "source": [
    "# Adicionar elementos: em uma posição específica\n",
    "\n",
    "print(lista2)\n",
    "lista2.insert(1, 19)\n",
    "print(lista2)"
   ]
  },
  {
   "cell_type": "markdown",
   "id": "c848c98d",
   "metadata": {},
   "source": [
    "___OUTROS MÉTODOS DE LISTAS:___\n",
    "\n",
    "* __list.remove(x)__: Remove o primeiro item encontrado na lista cujo valor é igual a x. Se não existir valor igual, o programa retornará um _ValueError_.\n",
    "\n",
    "* __list.clear()__: Remove todos os itens de uma lista.\n",
    "\n",
    "* __list.sort()__: Ordena os itens na lista \n",
    "\n",
    "___FUNÇÕES PRÉ-DEFINIDAS:___\n",
    "\n",
    "* __len()__: retorna a quantidade de elementos da listas\n",
    "\n",
    "* __sum()__: soma os elementos da lista\n",
    "\n",
    "* __max()__: retorna o maior elemento da lista\n",
    "\n",
    "* __min()__: retorna o menor elemento da lista\n",
    "\n",
    "* __sorted()__: retorna a lista com os elementos ordenados\n"
   ]
  },
  {
   "cell_type": "markdown",
   "id": "20f25cf7-4913-48ea-94c8-c4563cfee9e6",
   "metadata": {},
   "source": [
    "#### Tuplas \n",
    "\n",
    "Ao contrário das listas, as tuplas são imutáveis e são definidas por parênteses. No Sage, as matrizes e vetores são tuplas e, portanto, suas entradas não podem ser alteradas após serem declaradas. \n",
    "\n",
    "As tuplas possuem apenas dois métodos: _.count()_ e _.index()_. A sintáxe e funcionalistade é a mesma de listas."
   ]
  },
  {
   "cell_type": "code",
   "execution_count": 16,
   "id": "d42c25b7-7dcd-4678-81d4-e346f88877d7",
   "metadata": {},
   "outputs": [
    {
     "data": {
      "text/plain": [
       "3"
      ]
     },
     "execution_count": 16,
     "metadata": {},
     "output_type": "execute_result"
    }
   ],
   "source": [
    "tup= (1,2,5,8,5)\n",
    "tup1= (\"nome\", 18, (5.7, False))\n",
    "\n",
    "len(tup1)"
   ]
  },
  {
   "cell_type": "code",
   "execution_count": 18,
   "id": "f878b834-ab7f-4d49-a834-2f82405a1f50",
   "metadata": {},
   "outputs": [
    {
     "data": {
      "text/plain": [
       "2"
      ]
     },
     "execution_count": 18,
     "metadata": {},
     "output_type": "execute_result"
    }
   ],
   "source": [
    "tup.count(5)"
   ]
  },
  {
   "cell_type": "code",
   "execution_count": 34,
   "id": "fabb409b-0e7b-4fec-b7ff-309e483f87a0",
   "metadata": {},
   "outputs": [
    {
     "data": {
      "text/plain": [
       "5.7"
      ]
     },
     "execution_count": 34,
     "metadata": {},
     "output_type": "execute_result"
    }
   ],
   "source": [
    "tup1[2][0]"
   ]
  },
  {
   "cell_type": "markdown",
   "id": "eaf55885",
   "metadata": {},
   "source": [
    "#### Dicionários\n",
    "Assim como as listas, dicionários são mutáveis, podem ser iniciados sem valores e comportam grande volume de informações. Entretanto possuem uma configuração mais rica. Seus elementos formam pares chave-valor e são escritos sempre entre chaves. \n",
    "\n",
    "Vantagem: diferente das listas cujos elementos são acessados de acordo com o número da posição que ocupam, nos dicionários a chave pode conter um nome descritivo, que auxilia na interpretação dos dados armazenados."
   ]
  },
  {
   "cell_type": "code",
   "execution_count": 35,
   "id": "d0760122",
   "metadata": {
    "scrolled": true
   },
   "outputs": [
    {
     "data": {
      "text/plain": [
       "{'Isso é uma chave': 54, 'outra chave': 'outro valor', 'mais uma chave': True}"
      ]
     },
     "execution_count": 35,
     "metadata": {},
     "output_type": "execute_result"
    }
   ],
   "source": [
    "dicionario = {'Isso é uma chave': 54, 'outra chave': 'outro valor', 'mais uma chave': True}\n",
    "dicionario"
   ]
  },
  {
   "cell_type": "code",
   "execution_count": 36,
   "id": "a98e7d8c",
   "metadata": {},
   "outputs": [
    {
     "data": {
      "text/plain": [
       "dict"
      ]
     },
     "execution_count": 36,
     "metadata": {},
     "output_type": "execute_result"
    }
   ],
   "source": [
    "type(dicionario)"
   ]
  },
  {
   "cell_type": "code",
   "execution_count": 37,
   "id": "4fe4ed5b",
   "metadata": {},
   "outputs": [],
   "source": [
    "new_dict = {'nome': 'Maria', 'idade': 27, 'cidade': 'São Paulo'}"
   ]
  },
  {
   "cell_type": "code",
   "execution_count": 38,
   "id": "a007b799",
   "metadata": {},
   "outputs": [
    {
     "data": {
      "text/plain": [
       "'Maria'"
      ]
     },
     "execution_count": 38,
     "metadata": {},
     "output_type": "execute_result"
    }
   ],
   "source": [
    "new_dict['nome']"
   ]
  },
  {
   "cell_type": "code",
   "execution_count": 39,
   "id": "4eca2bf0",
   "metadata": {},
   "outputs": [],
   "source": [
    "dicionario2 = {'nomes_alunos':['Maria', 'João', 'Matheus'], 'idades': [27,26,21], 'cidade': 'São Paulo'}"
   ]
  },
  {
   "cell_type": "code",
   "execution_count": 40,
   "id": "f43799e2",
   "metadata": {},
   "outputs": [
    {
     "data": {
      "text/plain": [
       "['Maria', 'João', 'Matheus']"
      ]
     },
     "execution_count": 40,
     "metadata": {},
     "output_type": "execute_result"
    }
   ],
   "source": [
    "dicionario2['nomes_alunos']"
   ]
  },
  {
   "cell_type": "markdown",
   "id": "398533f0-1eef-4ccd-bf88-5fb2bfff8981",
   "metadata": {},
   "source": [
    "Em problemas com muitos dados e constantes, é interessante armazenar múltiplas informações em um dicionário e depois acessar apenas as entradas de interesse. Isso deixa o código mais limpo e mais fácil de trabalhar. "
   ]
  },
  {
   "cell_type": "markdown",
   "id": "c7c1e3fc",
   "metadata": {},
   "source": [
    "### 1.3 Entrada de dados e conversão de tipos\n",
    "\n",
    "Em Python, quando o usuário interage com o programa informando dados utiliza-se a função _input()_. Vale ressaltar que essa função sempre retornará o valor recebido no formato de uma string. Pra poder operar com oa dados, é preciso convertê-los em _int_ ou _float_, por exemplo. "
   ]
  },
  {
   "cell_type": "code",
   "execution_count": 19,
   "id": "63f3a9de",
   "metadata": {},
   "outputs": [
    {
     "name": "stdin",
     "output_type": "stream",
     "text": [
      "Digite sua idade: 26\n"
     ]
    },
    {
     "data": {
      "text/plain": [
       "str"
      ]
     },
     "execution_count": 19,
     "metadata": {},
     "output_type": "execute_result"
    }
   ],
   "source": [
    "idade = input('Digite sua idade:')\n",
    "\n",
    "type(idade)"
   ]
  },
  {
   "cell_type": "code",
   "execution_count": 20,
   "id": "fe02534c",
   "metadata": {},
   "outputs": [
    {
     "name": "stdin",
     "output_type": "stream",
     "text": [
      "Digite sua idade: 26\n"
     ]
    },
    {
     "data": {
      "text/plain": [
       "int"
      ]
     },
     "execution_count": 20,
     "metadata": {},
     "output_type": "execute_result"
    }
   ],
   "source": [
    "idade_new= int(input('Digite sua idade:'))\n",
    "\n",
    "type(idade_new)"
   ]
  },
  {
   "cell_type": "markdown",
   "id": "fc5c2d0c",
   "metadata": {},
   "source": [
    "## 2) OPERADORES"
   ]
  },
  {
   "cell_type": "markdown",
   "id": "100d4881",
   "metadata": {},
   "source": [
    "### 2.1 Operadores aritméticos\n",
    "\n",
    "São utilizados para realizar operações matemáticas.\n",
    "\n",
    "<img src= 'op.png'>"
   ]
  },
  {
   "cell_type": "markdown",
   "id": "091fef5a-446a-4d54-810a-2b789a21ce18",
   "metadata": {},
   "source": [
    "_EXEMPLOS:_"
   ]
  },
  {
   "cell_type": "code",
   "execution_count": 43,
   "id": "59d611e5-dc71-4f5a-8a58-08160a885171",
   "metadata": {},
   "outputs": [
    {
     "data": {
      "text/plain": [
       "7"
      ]
     },
     "execution_count": 43,
     "metadata": {},
     "output_type": "execute_result"
    }
   ],
   "source": [
    "2+5"
   ]
  },
  {
   "cell_type": "code",
   "execution_count": 44,
   "id": "84dbcee3-dc4d-4566-8c6e-a59daba4849f",
   "metadata": {},
   "outputs": [
    {
     "data": {
      "text/plain": [
       "49"
      ]
     },
     "execution_count": 44,
     "metadata": {},
     "output_type": "execute_result"
    }
   ],
   "source": [
    "7*7"
   ]
  },
  {
   "cell_type": "code",
   "execution_count": 45,
   "id": "038d810c-9815-48cc-b840-0db33e29de51",
   "metadata": {},
   "outputs": [
    {
     "data": {
      "text/plain": [
       "100"
      ]
     },
     "execution_count": 45,
     "metadata": {},
     "output_type": "execute_result"
    }
   ],
   "source": [
    "10**2"
   ]
  },
  {
   "cell_type": "code",
   "execution_count": 46,
   "id": "3437aed3-3b3d-42f1-94cf-a2e4e5f4deaa",
   "metadata": {},
   "outputs": [
    {
     "data": {
      "text/plain": [
       "1.3"
      ]
     },
     "execution_count": 46,
     "metadata": {},
     "output_type": "execute_result"
    }
   ],
   "source": [
    "2.5- 1.2"
   ]
  },
  {
   "cell_type": "code",
   "execution_count": 47,
   "id": "829585bc-a7fe-4c98-95f4-69d79e036a2d",
   "metadata": {},
   "outputs": [
    {
     "data": {
      "text/plain": [
       "2"
      ]
     },
     "execution_count": 47,
     "metadata": {},
     "output_type": "execute_result"
    }
   ],
   "source": [
    "True+True"
   ]
  },
  {
   "cell_type": "code",
   "execution_count": 48,
   "id": "f0d0e01c-10e4-4203-b952-6014e6171637",
   "metadata": {},
   "outputs": [
    {
     "data": {
      "text/plain": [
       "1"
      ]
     },
     "execution_count": 48,
     "metadata": {},
     "output_type": "execute_result"
    }
   ],
   "source": [
    "True+False"
   ]
  },
  {
   "cell_type": "code",
   "execution_count": 49,
   "id": "9512d3bb-986a-45aa-931c-218c35f43be1",
   "metadata": {},
   "outputs": [
    {
     "data": {
      "text/plain": [
       "'OIHELLO'"
      ]
     },
     "execution_count": 49,
     "metadata": {},
     "output_type": "execute_result"
    }
   ],
   "source": [
    "'OI' + 'HELLO'"
   ]
  },
  {
   "cell_type": "markdown",
   "id": "434732c2-039e-4eb6-b04a-87870fdae011",
   "metadata": {},
   "source": [
    "#### OBS: Cuidado com as operações entre listas"
   ]
  },
  {
   "cell_type": "code",
   "execution_count": 50,
   "id": "f2048610-75a5-4c6f-b41d-1c7eef14b58d",
   "metadata": {},
   "outputs": [
    {
     "name": "stdout",
     "output_type": "stream",
     "text": [
      "[1, 2, 3, 4]\n",
      "[1, 2, 3, 4, 1, 2, 3, 4]\n"
     ]
    }
   ],
   "source": [
    "print(lista1)\n",
    "\n",
    "x= 2* lista1\n",
    "\n",
    "print(x)"
   ]
  },
  {
   "cell_type": "code",
   "execution_count": 51,
   "id": "bbb8af17-01c6-4a6d-8638-5584919bbbd3",
   "metadata": {},
   "outputs": [
    {
     "data": {
      "text/plain": [
       "[1, 2, 3, 4, 58, 9]"
      ]
     },
     "execution_count": 51,
     "metadata": {},
     "output_type": "execute_result"
    }
   ],
   "source": [
    "y=  lista1 + [58, 9]\n",
    "y"
   ]
  },
  {
   "cell_type": "markdown",
   "id": "2d386f68",
   "metadata": {},
   "source": [
    "### 2.2 Operadores de atribuição\n",
    "\n",
    "<img src= 'op2.png'>"
   ]
  },
  {
   "cell_type": "markdown",
   "id": "5c3baaa5",
   "metadata": {},
   "source": [
    "### 2.3 Operadores lógicos\n",
    "\n",
    "<img src= 'op3.png'>"
   ]
  },
  {
   "cell_type": "markdown",
   "id": "02836f88-74a7-43d7-a73a-960aa0dd8ccf",
   "metadata": {},
   "source": [
    "_EXEMPLOS_"
   ]
  },
  {
   "cell_type": "code",
   "execution_count": 22,
   "id": "88af4343-306f-4333-8bad-16bd223b9b9b",
   "metadata": {},
   "outputs": [
    {
     "data": {
      "text/plain": [
       "False"
      ]
     },
     "execution_count": 22,
     "metadata": {},
     "output_type": "execute_result"
    }
   ],
   "source": [
    "A = 15\n",
    "B = 30\n",
    "\n",
    "A > B"
   ]
  },
  {
   "cell_type": "code",
   "execution_count": 53,
   "id": "caf94c79-0209-4b7f-a7bb-98ad743385e4",
   "metadata": {},
   "outputs": [
    {
     "data": {
      "text/plain": [
       "False"
      ]
     },
     "execution_count": 53,
     "metadata": {},
     "output_type": "execute_result"
    }
   ],
   "source": [
    "C = True\n",
    "\n",
    "not C"
   ]
  },
  {
   "cell_type": "code",
   "execution_count": 25,
   "id": "865f6004-e04e-434a-8086-77fe773b3421",
   "metadata": {},
   "outputs": [
    {
     "data": {
      "text/plain": [
       "True"
      ]
     },
     "execution_count": 25,
     "metadata": {},
     "output_type": "execute_result"
    }
   ],
   "source": [
    "D = 15\n",
    "\n",
    "A == D and A < B"
   ]
  },
  {
   "cell_type": "markdown",
   "id": "32376ecd",
   "metadata": {},
   "source": [
    "### Exercício 1"
   ]
  },
  {
   "cell_type": "markdown",
   "id": "a26fb02b",
   "metadata": {},
   "source": [
    "Construa um programa que solicite que o usuário informe 2 números inteiros positivos. O programa deve calcular:\n",
    "\n",
    "a) O cubo do segundo número\n",
    "\n",
    "b) A média geométrica entre o primeiro e o segundo número, ou seja, \n",
    "\n",
    "<img src= 'media.png'>"
   ]
  },
  {
   "cell_type": "code",
   "execution_count": 33,
   "id": "143dabbc-bb43-4979-891f-acdc1ea5b39f",
   "metadata": {
    "collapsed": true,
    "jupyter": {
     "outputs_hidden": true,
     "source_hidden": true
    },
    "tags": []
   },
   "outputs": [
    {
     "name": "stdin",
     "output_type": "stream",
     "text": [
      "Digite um número: 4\n",
      "Digite um número: 4\n"
     ]
    },
    {
     "name": "stdout",
     "output_type": "stream",
     "text": [
      " O cubo é 64 e a média é 4.0\n"
     ]
    }
   ],
   "source": [
    "num1= int(input(\"Digite um número:\"))\n",
    "num2= int(input(\"Digite um número:\"))\n",
    "\n",
    "cubo = num2**3\n",
    "media= (num1*num2)**(1/2)\n",
    "\n",
    "print(f\" O cubo é {cubo} e a média é {media}\")"
   ]
  },
  {
   "cell_type": "code",
   "execution_count": 99,
   "id": "ffb440c2",
   "metadata": {
    "collapsed": true,
    "jupyter": {
     "outputs_hidden": true,
     "source_hidden": true
    },
    "scrolled": true,
    "tags": []
   },
   "outputs": [
    {
     "name": "stdout",
     "output_type": "stream",
     "text": [
      "Digite o primeiro número: 4\n",
      "Digite o segundo número: 4\n",
      "\n",
      "Cubo de 4 é 64\n",
      "Média geométrica entre 4 e 4 é 4.00\n"
     ]
    }
   ],
   "source": [
    "from math import sqrt\n",
    "\n",
    "num1 = int(input(\"Digite o primeiro número: \"))\n",
    "num2 = int(input(\"Digite o segundo número: \"))\n",
    "\n",
    "cubo      = pow(num2, 3)\n",
    "media_geo = sqrt(num1 * num2)\n",
    "\n",
    "print(f\"\\nCubo de {num2} é {cubo}\")\n",
    "print(f\"Média geométrica entre {num1} e {num2} é {media_geo:.2f}\")"
   ]
  },
  {
   "cell_type": "markdown",
   "id": "7ee40dea",
   "metadata": {
    "tags": []
   },
   "source": [
    "## 3) CONDICIONAIS\n",
    "\n",
    "Os condicionais permitem que o programa teste algumas condições e execute tarefas diferentes, dependendo do resultado do teste."
   ]
  },
  {
   "cell_type": "markdown",
   "id": "14109693",
   "metadata": {},
   "source": [
    "__Estrutura If...else__\n",
    "\n",
    "A estrutura mais simples de um condicional utiliza apenas a palavra-chave _if_.\n",
    "\n",
    "Entretanto, se for necessário executar novas instruções quando o teste do _if_ não for satisfeito, então usando a estrutura _if... else_:\n",
    "\n",
    "<img src= 'cond.png'>"
   ]
  },
  {
   "cell_type": "markdown",
   "id": "16df4317",
   "metadata": {},
   "source": [
    "_EXEMPLO_:"
   ]
  },
  {
   "cell_type": "code",
   "execution_count": 35,
   "id": "507de1cc",
   "metadata": {},
   "outputs": [],
   "source": [
    "nome = 'Tatiane de Paula Moraes '\n",
    "\n",
    "if len(nome) > 20:\n",
    "    print(\"Seu nome é grande, ele possui mais de 20 letras. \")"
   ]
  },
  {
   "cell_type": "code",
   "execution_count": 56,
   "id": "8874a0df",
   "metadata": {},
   "outputs": [
    {
     "name": "stdout",
     "output_type": "stream",
     "text": [
      "Seu nome é grande, ele possui mais de 20 letras. \n"
     ]
    }
   ],
   "source": [
    "nome = 'Tatiane de Paula Moraes'\n",
    "\n",
    "if len(nome) > 20:\n",
    "    print(\"Seu nome é grande, ele possui mais de 20 letras. \")\n",
    "else:\n",
    "    print(\"Seu nome é curto, ele possui menos de 20 letras\")"
   ]
  },
  {
   "cell_type": "markdown",
   "id": "8b8ad8ae",
   "metadata": {},
   "source": [
    "__Estrutura Elif__\n",
    "\n",
    "Se houver a necessidade de inserir múltiplos testes em cadeia, então a estrutura mais apropriada é com o uso do _elif_:\n",
    "\n",
    "<img src= 'cond2.png'>"
   ]
  },
  {
   "cell_type": "markdown",
   "id": "b79b5c9c",
   "metadata": {},
   "source": [
    "_EXEMPLO_:"
   ]
  },
  {
   "cell_type": "code",
   "execution_count": 36,
   "id": "ec994b2f",
   "metadata": {},
   "outputs": [
    {
     "name": "stdout",
     "output_type": "stream",
     "text": [
      "Valor final: R$ 581.25\n"
     ]
    }
   ],
   "source": [
    "numero_camisas = 50\n",
    "valor_camisa = 12.50\n",
    "\n",
    "valorFinal = numero_camisas * valor_camisa\n",
    "\n",
    "if numero_camisas <= 5:\n",
    "    valorFinal = valorFinal * (1 - 3/100)\n",
    "elif numero_camisas <= 10:\n",
    "    valorFinal = valorFinal * (1 - 5/100)\n",
    "else:\n",
    "    valorFinal = valorFinal * (1 - 7/100)\n",
    "print(f\"Valor final: R$ {valorFinal:.2f}\")"
   ]
  },
  {
   "cell_type": "markdown",
   "id": "8ce3829b",
   "metadata": {},
   "source": [
    "## 4) FUNÇÕES\n",
    "\n",
    "Função é o nome dado para um conjunto de comandos que pode ser chamado várias vezes em pontos diferentes do programa, sem a necessidade de repetição de código. \n",
    "\n",
    "Para facilitar, lembre-se da função afim que possuem a forma f(x) = ax + b. Então se f(x) = 3x + 4, ao inserir o valor x=2 teremos o resultado 10. Seguiremos a mesma lógica em Python.\n",
    "\n",
    "A sintaxe é:\n",
    "\n",
    "<img src= 'func.png'>"
   ]
  },
  {
   "cell_type": "markdown",
   "id": "0ce6f205",
   "metadata": {},
   "source": [
    "_EXEMPLOS_"
   ]
  },
  {
   "cell_type": "code",
   "execution_count": 58,
   "id": "3904c35c",
   "metadata": {},
   "outputs": [],
   "source": [
    "def exibirMensagemBoasVindas(pessoa, mensagem):\n",
    "    '''\n",
    "    Recebe um nome de uma pessoa e uma mensagem. \n",
    "    Retorna uma frase contendo a mensagem e o nome citado.\n",
    "    '''\n",
    "    print(f\"{mensagem}, {pessoa}\")"
   ]
  },
  {
   "cell_type": "code",
   "execution_count": 59,
   "id": "030f5650",
   "metadata": {},
   "outputs": [
    {
     "name": "stdout",
     "output_type": "stream",
     "text": [
      "Boa tarde, Pedro\n"
     ]
    }
   ],
   "source": [
    "exibirMensagemBoasVindas(\"Pedro\",\"Boa tarde\")"
   ]
  },
  {
   "cell_type": "code",
   "execution_count": 60,
   "id": "d76579e1",
   "metadata": {},
   "outputs": [
    {
     "name": "stdout",
     "output_type": "stream",
     "text": [
      "Até mais tarde, Ana\n"
     ]
    }
   ],
   "source": [
    "exibirMensagemBoasVindas(\"Ana\",\"Até mais tarde\")"
   ]
  },
  {
   "cell_type": "code",
   "execution_count": 61,
   "id": "c8326d3c",
   "metadata": {},
   "outputs": [],
   "source": [
    "def somaDeElementos(lista_inteiros):\n",
    "    '''\n",
    "    Recebe uma lista com números inteiros.\n",
    "    Retorna a soma de todos os elementos da lista\n",
    "    '''\n",
    "    \n",
    "    soma = 0\n",
    "    for valor in lista_inteiros:\n",
    "        soma = soma + valor\n",
    "    return soma"
   ]
  },
  {
   "cell_type": "code",
   "execution_count": 62,
   "id": "40a95555",
   "metadata": {},
   "outputs": [
    {
     "name": "stdout",
     "output_type": "stream",
     "text": [
      "68\n"
     ]
    }
   ],
   "source": [
    "print(somaDeElementos([3,4,6,9,10,23,13])) "
   ]
  },
  {
   "cell_type": "code",
   "execution_count": 63,
   "id": "17c371c6",
   "metadata": {},
   "outputs": [
    {
     "name": "stdout",
     "output_type": "stream",
     "text": [
      "35\n"
     ]
    }
   ],
   "source": [
    "print(somaDeElementos([2,15,18])) "
   ]
  },
  {
   "cell_type": "markdown",
   "id": "aaf2a1f3",
   "metadata": {},
   "source": [
    "## 5) ESTRUTURA DE REPETIÇÃO: FOR\n",
    "\n",
    "Há situações em que a repetição se faz necessária. Em programação são usadas estruturas conhecidas como iteração (não é interação!), repetição, laço ou loop. Python implementa duas estruturas de repetição: _while_ e _for_.\n",
    "\n",
    "É comum programadores iniciantes se questionarem sobre qual das duas estruturas de repetição é mais adequada. Costuma-se dizer que depende da situação. Em geral, quando a quantidade de iterações é indeterminada, a estrutura _while_ é uma\n",
    "boa alternativa. Por outro lado, quando o número de iterações é definido, a estrutura _for_ é mais adequada."
   ]
  },
  {
   "cell_type": "markdown",
   "id": "8e524c67",
   "metadata": {},
   "source": [
    "__Estrutura FOR___:\n",
    "\n",
    "<img src= 'for.png'>\n",
    "\n",
    "__OBS:__ range(início, fim, passo)"
   ]
  },
  {
   "cell_type": "markdown",
   "id": "a7bf2983",
   "metadata": {},
   "source": [
    "_EXEMPLO:_"
   ]
  },
  {
   "cell_type": "code",
   "execution_count": 41,
   "id": "a52a301a",
   "metadata": {},
   "outputs": [
    {
     "name": "stdout",
     "output_type": "stream",
     "text": [
      "55\n"
     ]
    }
   ],
   "source": [
    "soma = 0\n",
    "\n",
    "for termo in range(1, 11):\n",
    "    soma += termo\n",
    "print(soma)"
   ]
  },
  {
   "cell_type": "markdown",
   "id": "fdba3553",
   "metadata": {},
   "source": [
    "No Python o passo deve ser um número inteiro. O Sage elimina essa restrição de passo inteiro com o comando _srange_.\n",
    "\n",
    "A estrutura _for_ ou os comandos _range_ e _srange_ nos permitem criar listas com elementos igualmente espaçados."
   ]
  },
  {
   "cell_type": "code",
   "execution_count": 65,
   "id": "60f46e41",
   "metadata": {},
   "outputs": [
    {
     "data": {
      "text/plain": [
       "[1, 4, 7, 10, 13, 16, 19]"
      ]
     },
     "execution_count": 65,
     "metadata": {},
     "output_type": "execute_result"
    }
   ],
   "source": [
    "lista_com_passo= list(range(1,20,3))\n",
    "lista_com_passo"
   ]
  },
  {
   "cell_type": "code",
   "execution_count": 66,
   "id": "a638bbd2",
   "metadata": {
    "scrolled": true
   },
   "outputs": [
    {
     "data": {
      "text/plain": [
       "[1, 4, 7]"
      ]
     },
     "execution_count": 66,
     "metadata": {},
     "output_type": "execute_result"
    }
   ],
   "source": [
    "nova_lista = []\n",
    "\n",
    "for numero in lista_com_passo:\n",
    "    if numero < 10:\n",
    "        nova_lista.append(numero)\n",
    "nova_lista  "
   ]
  },
  {
   "cell_type": "markdown",
   "id": "eb9c2f5b",
   "metadata": {},
   "source": [
    "#### List comprehension\n",
    "\n",
    "List Comprehension é uma forma concisa de criar e manipular listas. Em outras palavras: para cada valor de uma lista, você aplica uma operação e coloca todos os resultados em uma nova lista.\n",
    "\n",
    "Sua sintaxe básica é:\n",
    "\n",
    "<img src= 'lc.png'>\n",
    "\n",
    "onde:\n",
    "\n",
    "* _iterável_: é um range, lista, ou qualquer outra sequencia;\n",
    "* _item_:  é a variável que assume os valores do iterável\n",
    "* _expressão_: é a expressão em Sage ou Python calculada para cada item"
   ]
  },
  {
   "cell_type": "code",
   "execution_count": 67,
   "id": "c5690a94",
   "metadata": {},
   "outputs": [
    {
     "data": {
      "text/plain": [
       "[5, 10, 15, 20, 25]"
      ]
     },
     "execution_count": 67,
     "metadata": {},
     "output_type": "execute_result"
    }
   ],
   "source": [
    "# Lista\n",
    "lista_base = [1,2,3,4,5]\n",
    "\n",
    "# Cria nova lista para receber os valores multiplicados\n",
    "mult5 = []\n",
    "\n",
    "# Loop For para multipicar tudo por 5\n",
    "for numero in lista_base:\n",
    "    n = numero * 5\n",
    "    mult5.append(n)\n",
    "    \n",
    "# Print\n",
    "mult5"
   ]
  },
  {
   "cell_type": "markdown",
   "id": "2b97e88b",
   "metadata": {},
   "source": [
    "### Exercício 2\n",
    "\n",
    "Crie um programa no qual o usuário informe 2 números inteiros: a e b. Para que o programa continue sua execução, verifique\n",
    "se a < b. Se sim, calcule a soma dos números inteiros no intervalo [a, b]. Caso contrário, informe uma mensagem de erro.\n"
   ]
  },
  {
   "cell_type": "code",
   "execution_count": 105,
   "id": "d9f43207",
   "metadata": {
    "tags": []
   },
   "outputs": [
    {
     "name": "stdout",
     "output_type": "stream",
     "text": [
      "Digite a: 1\n",
      "Digite b: 3\n",
      "Soma dos inteiros no intervalo [1, 3] é 6.\n"
     ]
    }
   ],
   "source": [
    "a = int(input(\"Digite a: \"))\n",
    "b = int(input(\"Digite b: \"))\n",
    "\n",
    "if a < b:\n",
    "   soma = 0\n",
    "   for x in range(a, b + 1):\n",
    "      soma += x\n",
    "   print(f\"Soma dos inteiros no intervalo [{a}, {b}] é {soma}.\")\n",
    "else:\n",
    "   print(\"ERRO: a deve ser menor que b.\")"
   ]
  },
  {
   "cell_type": "markdown",
   "id": "852c95e2",
   "metadata": {},
   "source": [
    "## 6) BIBLIOTECAS E MÓDULOS\n",
    "\n",
    "Um módulo é um arquivo contendo definições e comandos em Python para serem usados em outros programas em Python. \n",
    "\n",
    "Uma biblioteca (ou pacote) é um conjunto de módulos.\n",
    "\n",
    "Para importar módulos e bibliotecas, utilizamos o comando _import_. As bibliotecas mais interessantes para esse curso são:\n",
    "\n",
    "* NumPy - Computação numérica\n",
    "* SimPy - Cálculos simbólicos\n",
    "* Matplotlib - Gráficos"
   ]
  },
  {
   "cell_type": "code",
   "execution_count": 42,
   "id": "b71a80a3",
   "metadata": {},
   "outputs": [],
   "source": [
    "import numpy as np\n",
    "import matplotlib.pyplot as plt"
   ]
  },
  {
   "cell_type": "markdown",
   "id": "d8bffa24",
   "metadata": {},
   "source": [
    "## 7) NUMPY: ARRAYS\n",
    "\n",
    "NumPy é uma biblioteca para a linguagem de programação Python, que suporta o processamento de grandes, multi-dimensionais arranjos e matrizes, juntamente com uma grande coleção de funções matemáticas de alto nível para operar sobre estas matrizes.\n",
    "\n",
    "O vetor é um array de apenas 1 dimensão e a matriz é um array de 2 (ou mais) dimensões."
   ]
  },
  {
   "cell_type": "markdown",
   "id": "fde346e0-2779-4566-8999-fb0552035736",
   "metadata": {},
   "source": [
    "#### 7.1 Criando um array\n",
    "\n",
    "_Manualmente_"
   ]
  },
  {
   "cell_type": "code",
   "execution_count": 69,
   "id": "65925c0b",
   "metadata": {},
   "outputs": [
    {
     "name": "stdout",
     "output_type": "stream",
     "text": [
      "[0 1 2 3]\n"
     ]
    }
   ],
   "source": [
    "m = np.array([0,1,2,3])\n",
    "print(m)"
   ]
  },
  {
   "cell_type": "code",
   "execution_count": 70,
   "id": "9a71cfd4",
   "metadata": {},
   "outputs": [
    {
     "data": {
      "text/plain": [
       "1"
      ]
     },
     "execution_count": 70,
     "metadata": {},
     "output_type": "execute_result"
    }
   ],
   "source": [
    "m.ndim"
   ]
  },
  {
   "cell_type": "code",
   "execution_count": 43,
   "id": "dcb8bbb9-09b0-4ba5-a2db-f18a5e2eac5e",
   "metadata": {},
   "outputs": [
    {
     "name": "stdout",
     "output_type": "stream",
     "text": [
      "[[ 0  1  2  3  4]\n",
      " [ 8  9 10 11 12]]\n"
     ]
    }
   ],
   "source": [
    "n = np.array([[0,1,2,3,4], [8,9,10,11,12]])\n",
    "print(n)"
   ]
  },
  {
   "cell_type": "code",
   "execution_count": 45,
   "id": "75d9da04-2e43-4c33-b568-9b464751bc03",
   "metadata": {},
   "outputs": [
    {
     "data": {
      "text/plain": [
       "2"
      ]
     },
     "execution_count": 45,
     "metadata": {},
     "output_type": "execute_result"
    }
   ],
   "source": [
    "n.ndim"
   ]
  },
  {
   "cell_type": "code",
   "execution_count": 73,
   "id": "965eb074-4098-4783-aef0-92b81bd868a6",
   "metadata": {},
   "outputs": [
    {
     "name": "stdout",
     "output_type": "stream",
     "text": [
      "(4,)\n",
      "(2, 5)\n",
      "4\n"
     ]
    }
   ],
   "source": [
    "print(m.shape)\n",
    "print(n.shape)\n",
    "print(len(m))"
   ]
  },
  {
   "cell_type": "markdown",
   "id": "efc4d7cb-414e-4c8a-986c-d9db75b68261",
   "metadata": {},
   "source": [
    "_Automaticamente_"
   ]
  },
  {
   "cell_type": "code",
   "execution_count": 74,
   "id": "62f214fa-8a58-4b54-9611-8a6d15c448e0",
   "metadata": {},
   "outputs": [
    {
     "data": {
      "text/plain": [
       "array([0, 1, 2, 3, 4, 5, 6, 7, 8, 9])"
      ]
     },
     "execution_count": 74,
     "metadata": {},
     "output_type": "execute_result"
    }
   ],
   "source": [
    "A = np.arange(10)\n",
    "A"
   ]
  },
  {
   "cell_type": "code",
   "execution_count": 75,
   "id": "40b166ff-ef6c-4f3f-880b-a4aa95b5bb90",
   "metadata": {},
   "outputs": [
    {
     "data": {
      "text/plain": [
       "array([1, 3, 5, 7])"
      ]
     },
     "execution_count": 75,
     "metadata": {},
     "output_type": "execute_result"
    }
   ],
   "source": [
    "B = np.arange(1,9,2)  #início, fim e passo\n",
    "B"
   ]
  },
  {
   "cell_type": "code",
   "execution_count": 76,
   "id": "8e51067c-1668-49b1-8f25-ed36088ecb3a",
   "metadata": {},
   "outputs": [
    {
     "data": {
      "text/plain": [
       "array([0.        , 0.06896552, 0.13793103, 0.20689655, 0.27586207,\n",
       "       0.34482759, 0.4137931 , 0.48275862, 0.55172414, 0.62068966,\n",
       "       0.68965517, 0.75862069, 0.82758621, 0.89655172, 0.96551724,\n",
       "       1.03448276, 1.10344828, 1.17241379, 1.24137931, 1.31034483,\n",
       "       1.37931034, 1.44827586, 1.51724138, 1.5862069 , 1.65517241,\n",
       "       1.72413793, 1.79310345, 1.86206897, 1.93103448, 2.        ])"
      ]
     },
     "execution_count": 76,
     "metadata": {},
     "output_type": "execute_result"
    }
   ],
   "source": [
    "np.linspace(0, 2, 30)"
   ]
  },
  {
   "cell_type": "code",
   "execution_count": 77,
   "id": "74a9358c-6fac-4134-8f6d-5acdda0db33a",
   "metadata": {},
   "outputs": [
    {
     "data": {
      "text/plain": [
       "array([[1., 1., 1.],\n",
       "       [1., 1., 1.],\n",
       "       [1., 1., 1.]])"
      ]
     },
     "execution_count": 77,
     "metadata": {},
     "output_type": "execute_result"
    }
   ],
   "source": [
    "# matriz toda preenchida com 1\n",
    "\n",
    "matriz_um = np.ones((3,3))\n",
    "matriz_um"
   ]
  },
  {
   "cell_type": "code",
   "execution_count": 78,
   "id": "4de5df2c-d490-44c7-a990-3c364c6582df",
   "metadata": {},
   "outputs": [
    {
     "data": {
      "text/plain": [
       "array([[0., 0.],\n",
       "       [0., 0.]])"
      ]
     },
     "execution_count": 78,
     "metadata": {},
     "output_type": "execute_result"
    }
   ],
   "source": [
    "# matriz toda preenchida com 0\n",
    "\n",
    "matriz_zero = np.zeros((2,2))\n",
    "matriz_zero"
   ]
  },
  {
   "cell_type": "code",
   "execution_count": 79,
   "id": "1933e776-8150-462b-8d24-b9e30a80bf78",
   "metadata": {},
   "outputs": [
    {
     "data": {
      "text/plain": [
       "array([[1., 0., 0.],\n",
       "       [0., 1., 0.],\n",
       "       [0., 0., 1.]])"
      ]
     },
     "execution_count": 79,
     "metadata": {},
     "output_type": "execute_result"
    }
   ],
   "source": [
    "# matriz identidade\n",
    "\n",
    "identidade=  np.eye(3)\n",
    "identidade"
   ]
  },
  {
   "cell_type": "code",
   "execution_count": 80,
   "id": "5c6b6a00-2257-48a4-be13-d80498882d2a",
   "metadata": {},
   "outputs": [
    {
     "data": {
      "text/plain": [
       "array([[1, 0, 0, 0],\n",
       "       [0, 2, 0, 0],\n",
       "       [0, 0, 3, 0],\n",
       "       [0, 0, 0, 4]])"
      ]
     },
     "execution_count": 80,
     "metadata": {},
     "output_type": "execute_result"
    }
   ],
   "source": [
    "# matriz diagonal\n",
    "\n",
    "diagonal = np.diag(np.array([1,2,3,4]))\n",
    "diagonal"
   ]
  },
  {
   "cell_type": "code",
   "execution_count": 47,
   "id": "ea27aead-cf46-44a8-9200-6c7a17c87781",
   "metadata": {},
   "outputs": [
    {
     "name": "stdout",
     "output_type": "stream",
     "text": [
      "[0.63095686 0.78740578 0.18918415 0.15973429]\n",
      "[ 0.98842823  0.88397531 -0.85978075 -0.95869145]\n"
     ]
    }
   ],
   "source": [
    "# matriz com entradas aleatórias\n",
    "\n",
    "aleatorio = np.random.rand(4)  \n",
    "print(aleatorio)\n",
    "\n",
    "aleatorio_gaussian = np.random.randn(4)\n",
    "print(aleatorio_gaussian )"
   ]
  },
  {
   "cell_type": "code",
   "execution_count": 82,
   "id": "7eeabd0f-e0c1-48fa-884b-d91d58766f5e",
   "metadata": {},
   "outputs": [],
   "source": [
    "# matriz vazia\n",
    "\n",
    "vazio = np.empty"
   ]
  },
  {
   "cell_type": "markdown",
   "id": "128521c1-a34f-47ae-b54d-d2485efc3491",
   "metadata": {},
   "source": [
    "#### 7.2 Operações com arrays "
   ]
  },
  {
   "cell_type": "code",
   "execution_count": 48,
   "id": "e061c32d-709f-4e22-a172-f69ea45e3622",
   "metadata": {},
   "outputs": [
    {
     "data": {
      "text/plain": [
       "array([1, 2, 3, 4])"
      ]
     },
     "execution_count": 48,
     "metadata": {},
     "output_type": "execute_result"
    }
   ],
   "source": [
    "m1 = np.array([1,2,3,4])\n",
    "m1"
   ]
  },
  {
   "cell_type": "code",
   "execution_count": 84,
   "id": "2a21764a-a16a-4d01-9512-e524497896e9",
   "metadata": {},
   "outputs": [
    {
     "data": {
      "text/plain": [
       "array([2, 3, 4, 5])"
      ]
     },
     "execution_count": 84,
     "metadata": {},
     "output_type": "execute_result"
    }
   ],
   "source": [
    "m1 + 1"
   ]
  },
  {
   "cell_type": "code",
   "execution_count": 85,
   "id": "01848ae9-a7bd-46d6-9df0-c315f5661ae3",
   "metadata": {},
   "outputs": [
    {
     "data": {
      "text/plain": [
       "array([ 2,  4,  8, 16], dtype=int32)"
      ]
     },
     "execution_count": 85,
     "metadata": {},
     "output_type": "execute_result"
    }
   ],
   "source": [
    "2 ** m1"
   ]
  },
  {
   "cell_type": "code",
   "execution_count": 86,
   "id": "48be0425-1427-423f-bd82-72f78e8decef",
   "metadata": {},
   "outputs": [
    {
     "data": {
      "text/plain": [
       "array([2., 2., 2., 2.])"
      ]
     },
     "execution_count": 86,
     "metadata": {},
     "output_type": "execute_result"
    }
   ],
   "source": [
    "m2 = np.ones(4) + 1\n",
    "m2"
   ]
  },
  {
   "cell_type": "code",
   "execution_count": 87,
   "id": "19803607-ee83-4efe-b191-89c9ac399d6f",
   "metadata": {},
   "outputs": [
    {
     "data": {
      "text/plain": [
       "array([-1.,  0.,  1.,  2.])"
      ]
     },
     "execution_count": 87,
     "metadata": {},
     "output_type": "execute_result"
    }
   ],
   "source": [
    "m1 - m2"
   ]
  },
  {
   "cell_type": "code",
   "execution_count": 88,
   "id": "caa9c3fe-d5f7-424f-a6ed-d01b5dcdd5f7",
   "metadata": {},
   "outputs": [
    {
     "data": {
      "text/plain": [
       "array([2., 4., 6., 8.])"
      ]
     },
     "execution_count": 88,
     "metadata": {},
     "output_type": "execute_result"
    }
   ],
   "source": [
    "m1 * m2"
   ]
  },
  {
   "cell_type": "markdown",
   "id": "5f49b0c0-c997-408f-b8c1-848c4b3619e3",
   "metadata": {},
   "source": [
    "__OBS: Multiplicação de arrays não é multiplicação de matrizes__"
   ]
  },
  {
   "cell_type": "code",
   "execution_count": 89,
   "id": "241b5bbd-9b37-4878-ae0a-1b5573537ffc",
   "metadata": {},
   "outputs": [
    {
     "data": {
      "text/plain": [
       "array([[1., 1., 1.],\n",
       "       [1., 1., 1.],\n",
       "       [1., 1., 1.]])"
      ]
     },
     "execution_count": 89,
     "metadata": {},
     "output_type": "execute_result"
    }
   ],
   "source": [
    "# multiplicação de matrizes\n",
    "\n",
    "m3= np.ones((3,3))\n",
    "\n",
    "m3*m3   # isso não é multiplicação de matrizes"
   ]
  },
  {
   "cell_type": "code",
   "execution_count": 116,
   "id": "cd5d3a0e-d252-4ee3-bca7-8eed9ce32dce",
   "metadata": {},
   "outputs": [
    {
     "data": {
      "text/plain": [
       "array([[3., 3., 3.],\n",
       "       [3., 3., 3.],\n",
       "       [3., 3., 3.]])"
      ]
     },
     "execution_count": 116,
     "metadata": {},
     "output_type": "execute_result"
    }
   ],
   "source": [
    "np.matmul(m3,m3)  # isso é"
   ]
  },
  {
   "cell_type": "markdown",
   "id": "bc99c0de-584f-455b-9659-29bf7d08edc0",
   "metadata": {},
   "source": [
    "#### 7.3 Funções e métodos\n",
    "\n",
    "* np.sin()\n",
    "* np.log()\n",
    "* np.exp()\n",
    "\n",
    "\n",
    "\n",
    "\n",
    "\n",
    "* .mean()\n",
    "* .median()\n",
    "* .std()\n",
    "* .sort()"
   ]
  },
  {
   "cell_type": "markdown",
   "id": "3223702e-8f88-47e0-8db9-cbc643c5dc4d",
   "metadata": {},
   "source": [
    "#### 7.4 Aplicação com Matplotlib"
   ]
  },
  {
   "cell_type": "code",
   "execution_count": 50,
   "id": "c5c70e37",
   "metadata": {},
   "outputs": [
    {
     "data": {
      "image/png": "[encoded data removed]",
      "text/plain": [
       "<Figure size 432x288 with 1 Axes>"
      ]
     },
     "metadata": {
      "needs_background": "light"
     },
     "output_type": "display_data"
    }
   ],
   "source": [
    "X = np.linspace(-np.pi, np.pi, 256)\n",
    "\n",
    "C, S = np.cos(X), np.sin(X)\n",
    "\n",
    "plt.plot(X, C)\n",
    "plt.plot(X, S)\n",
    "plt.show()"
   ]
  },
  {
   "cell_type": "code",
   "execution_count": 53,
   "id": "a26a4318",
   "metadata": {},
   "outputs": [
    {
     "data": {
      "text/plain": [
       "[<matplotlib.lines.Line2D at 0x22615842220>]"
      ]
     },
     "execution_count": 53,
     "metadata": {},
     "output_type": "execute_result"
    },
    {
     "data": {
      "image/png": "[encoded data removed]",
      "text/plain": [
       "<Figure size 720x576 with 1 Axes>"
      ]
     },
     "metadata": {
      "needs_background": "light"
     },
     "output_type": "display_data"
    }
   ],
   "source": [
    "X = np.linspace(-np.pi, np.pi, 256)\n",
    "C, S = np.cos(X), np.sin(X)\n",
    "\n",
    "plt.figure(figsize=(10, 8))\n",
    "plt.plot(X, C, color=\"blue\", linewidth=4.5, linestyle=\"--\")\n",
    "plt.plot(X, S, color=\"red\", linewidth=2.5, linestyle=\"-\")"
   ]
  },
  {
   "cell_type": "code",
   "execution_count": 148,
   "id": "762bc8e0",
   "metadata": {},
   "outputs": [
    {
     "data": {
      "text/plain": [
       "<matplotlib.collections.PathCollection at 0x281313134c0>"
      ]
     },
     "execution_count": 148,
     "metadata": {},
     "output_type": "execute_result"
    },
    {
     "data": {
      "image/png": "[encoded data removed]",
      "text/plain": [
       "<Figure size 432x288 with 1 Axes>"
      ]
     },
     "metadata": {
      "needs_background": "light"
     },
     "output_type": "display_data"
    }
   ],
   "source": [
    "n = 150\n",
    "X = np.random.normal(0,1,n)\n",
    "Y = np.random.normal(0,1,n)\n",
    "plt.scatter(X,Y, color=\"black\")"
   ]
  },
  {
   "cell_type": "markdown",
   "id": "51d3cef7",
   "metadata": {},
   "source": [
    "### FIM"
   ]
  }
 ],
 "metadata": {
  "kernelspec": {
   "display_name": "Python 3 (ipykernel)",
   "language": "python",
   "name": "python3"
  },
  "language_info": {
   "codemirror_mode": {
    "name": "ipython",
    "version": 3
   },
   "file_extension": ".py",
   "mimetype": "text/x-python",
   "name": "python",
   "nbconvert_exporter": "python",
   "pygments_lexer": "ipython3",
   "version": "3.9.7"
  }
 },
 "nbformat": 4,
 "nbformat_minor": 5
}
