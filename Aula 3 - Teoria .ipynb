{
 "cells": [
  {
   "cell_type": "markdown",
   "metadata": {},
   "source": [
    "# Minicurso SageMath - Aula 3\n",
    "André Felipe Moraes Luiz Lucchini\n",
    "___"
   ]
  },
  {
   "cell_type": "markdown",
   "metadata": {},
   "source": [
    "## Cronograma \n",
    "\n",
    "   * Aula Teórica:\n",
    "       10 hrs às 12 hrs\n",
    "        \n",
    "   * Aula Pŕatica:\n",
    "        17 hrs às 19 hrs\n",
    "___"
   ]
  },
  {
   "cell_type": "markdown",
   "metadata": {},
   "source": [
    "## Tópicos de aula:\n",
    "\n",
    "   - Cálculo\n",
    "\n",
    "\n",
    "   - Derivadas e Integrais\n",
    "\n",
    "\n",
    "   - Série de Taylor\n",
    "\n",
    "\n",
    "   - Equações diferenciais\n",
    "\n",
    "\n",
    "   - Funções de várias variáveis\n",
    "    \n",
    "___"
   ]
  },
  {
   "cell_type": "markdown",
   "metadata": {},
   "source": [
    "## 1. Pré-documento"
   ]
  },
  {
   "cell_type": "markdown",
   "metadata": {},
   "source": [
    "Usamos `%display latex` para exibir as expreções como no $\\LaTeX{}$"
   ]
  },
  {
   "cell_type": "code",
   "execution_count": 1,
   "metadata": {},
   "outputs": [],
   "source": [
    "%display latex # outras opções são plane, ascii_art e unicode_art"
   ]
  },
  {
   "cell_type": "code",
   "execution_count": 2,
   "metadata": {},
   "outputs": [],
   "source": [
    "reset() #inicializa todas as variáveis"
   ]
  },
  {
   "cell_type": "code",
   "execution_count": 3,
   "metadata": {},
   "outputs": [
    {
     "data": {
      "text/html": [
       "SageMath version 9.3, Release Date: 2021-05-09"
      ],
      "text/plain": [
       "'SageMath version 9.3, Release Date: 2021-05-09'"
      ]
     },
     "execution_count": 3,
     "metadata": {},
     "output_type": "execute_result"
    }
   ],
   "source": [
    "version() #checagem versão do sage"
   ]
  },
  {
   "cell_type": "markdown",
   "metadata": {},
   "source": [
    " "
   ]
  },
  {
   "cell_type": "markdown",
   "metadata": {},
   "source": [
    "## 2. Cálculo"
   ]
  },
  {
   "cell_type": "markdown",
   "metadata": {},
   "source": [
    "### 2.1 Limites"
   ]
  },
  {
   "cell_type": "markdown",
   "metadata": {},
   "source": [
    "Para o cálculo do limite, use a sintaxe `lim(função, argumento, dir=None)`"
   ]
  },
  {
   "cell_type": "code",
   "execution_count": 4,
   "metadata": {},
   "outputs": [
    {
     "data": {
      "text/html": [
       "<html><script type=\"math/tex; mode=display\">\\newcommand{\\Bold}[1]{\\mathbf{#1}}\\frac{x^{\\frac{1}{3}} - 2}{{\\left(x + 19\\right)}^{\\frac{1}{3}} - 3}</script></html>"
      ],
      "text/latex": [
       "$$\\newcommand{\\Bold}[1]{\\mathbf{#1}}\\frac{x^{\\frac{1}{3}} - 2}{{\\left(x + 19\\right)}^{\\frac{1}{3}} - 3}$$"
      ],
      "text/plain": [
       "(x^(1/3) - 2)/((x + 19)^(1/3) - 3)"
      ]
     },
     "execution_count": 4,
     "metadata": {},
     "output_type": "execute_result"
    }
   ],
   "source": [
    "f(x)=(x**(1/3) - 2) / ((x + 19)**(1/3) - 3)\n",
    "f(x)"
   ]
  },
  {
   "cell_type": "code",
   "execution_count": 5,
   "metadata": {},
   "outputs": [
    {
     "data": {
      "text/html": [
       "<html><script type=\"math/tex; mode=display\">\\newcommand{\\Bold}[1]{\\mathbf{#1}}\\frac{9}{4}</script></html>"
      ],
      "text/latex": [
       "$$\\newcommand{\\Bold}[1]{\\mathbf{#1}}\\frac{9}{4}$$"
      ],
      "text/plain": [
       "9/4"
      ]
     },
     "execution_count": 5,
     "metadata": {},
     "output_type": "execute_result"
    }
   ],
   "source": [
    "lim(f(x),x = 8)"
   ]
  },
  {
   "cell_type": "code",
   "execution_count": 6,
   "metadata": {},
   "outputs": [
    {
     "data": {
      "text/html": [
       "<html><script type=\"math/tex; mode=display\">\\newcommand{\\Bold}[1]{\\mathbf{#1}}-\\frac{\\cos\\left(\\frac{1}{4} \\, \\pi - x\\right) - \\tan\\left(x\\right)}{\\sin\\left(\\frac{1}{4} \\, \\pi + x\\right) - 1}</script></html>"
      ],
      "text/latex": [
       "$$\\newcommand{\\Bold}[1]{\\mathbf{#1}}-\\frac{\\cos\\left(\\frac{1}{4} \\, \\pi - x\\right) - \\tan\\left(x\\right)}{\\sin\\left(\\frac{1}{4} \\, \\pi + x\\right) - 1}$$"
      ],
      "text/plain": [
       "-(cos(1/4*pi - x) - tan(x))/(sin(1/4*pi + x) - 1)"
      ]
     },
     "execution_count": 6,
     "metadata": {},
     "output_type": "execute_result"
    }
   ],
   "source": [
    "g(x) = (cos(pi/4-x)-tan(x))/(1-sin(pi/4 + x))\n",
    "g(x)"
   ]
  },
  {
   "cell_type": "code",
   "execution_count": 7,
   "metadata": {},
   "outputs": [
    {
     "data": {
      "text/html": [
       "<html><script type=\"math/tex; mode=display\">\\newcommand{\\Bold}[1]{\\mathbf{#1}}1</script></html>"
      ],
      "text/latex": [
       "$$\\newcommand{\\Bold}[1]{\\mathbf{#1}}1$$"
      ],
      "text/plain": [
       "1"
      ]
     },
     "execution_count": 7,
     "metadata": {},
     "output_type": "execute_result"
    }
   ],
   "source": [
    "lim(sin(x)/x, x = 0) "
   ]
  },
  {
   "cell_type": "code",
   "execution_count": 8,
   "metadata": {},
   "outputs": [
    {
     "data": {
      "text/html": [
       "<html><script type=\"math/tex; mode=display\">\\newcommand{\\Bold}[1]{\\mathbf{#1}}\\infty</script></html>"
      ],
      "text/latex": [
       "$$\\newcommand{\\Bold}[1]{\\mathbf{#1}}\\infty$$"
      ],
      "text/plain": [
       "Infinity"
      ]
     },
     "execution_count": 8,
     "metadata": {},
     "output_type": "execute_result"
    }
   ],
   "source": [
    "lim(g(x),x=pi/4)"
   ]
  },
  {
   "cell_type": "markdown",
   "metadata": {},
   "source": [
    "<div class=\"alert alert-block alert-warning\">\n",
    "A saída acima diz apenas que um dos limites, à esquerda ou à direita, é infinito.\n",
    "</div>"
   ]
  },
  {
   "cell_type": "markdown",
   "metadata": {},
   "source": [
    "Para estudar os limites laterais usamos a opção `dir`:"
   ]
  },
  {
   "cell_type": "code",
   "execution_count": 9,
   "metadata": {},
   "outputs": [
    {
     "data": {
      "text/html": [
       "<html><script type=\"math/tex; mode=display\">\\newcommand{\\Bold}[1]{\\mathbf{#1}}+\\infty</script></html>"
      ],
      "text/latex": [
       "$$\\newcommand{\\Bold}[1]{\\mathbf{#1}}+\\infty$$"
      ],
      "text/plain": [
       "+Infinity"
      ]
     },
     "execution_count": 9,
     "metadata": {},
     "output_type": "execute_result"
    }
   ],
   "source": [
    "limit(g(x), x = pi/4, dir='minus')"
   ]
  },
  {
   "cell_type": "code",
   "execution_count": 10,
   "metadata": {},
   "outputs": [
    {
     "data": {
      "text/html": [
       "<html><script type=\"math/tex; mode=display\">\\newcommand{\\Bold}[1]{\\mathbf{#1}}-\\infty</script></html>"
      ],
      "text/latex": [
       "$$\\newcommand{\\Bold}[1]{\\mathbf{#1}}-\\infty$$"
      ],
      "text/plain": [
       "-Infinity"
      ]
     },
     "execution_count": 10,
     "metadata": {},
     "output_type": "execute_result"
    }
   ],
   "source": [
    "limit(g(x), x = pi/4, dir='plus')"
   ]
  },
  {
   "cell_type": "code",
   "execution_count": 11,
   "metadata": {},
   "outputs": [],
   "source": [
    "lim?"
   ]
  },
  {
   "cell_type": "markdown",
   "metadata": {},
   "source": [
    " "
   ]
  },
  {
   "cell_type": "markdown",
   "metadata": {},
   "source": [
    "## 3 Derivadas e Integrais"
   ]
  },
  {
   "cell_type": "markdown",
   "metadata": {},
   "source": [
    "### 3.1 Derivadas"
   ]
  },
  {
   "cell_type": "markdown",
   "metadata": {},
   "source": [
    "Para utilizar derivadas, tem-se a sintaxe `diff(função, arg, grau)` ou `função.diff(arg, grau)`"
   ]
  },
  {
   "cell_type": "code",
   "execution_count": 12,
   "metadata": {},
   "outputs": [
    {
     "data": {
      "text/html": [
       "<html><script type=\"math/tex; mode=display\">\\newcommand{\\Bold}[1]{\\mathbf{#1}}2 \\, x \\cos\\left(x^{2}\\right)</script></html>"
      ],
      "text/latex": [
       "$$\\newcommand{\\Bold}[1]{\\mathbf{#1}}2 \\, x \\cos\\left(x^{2}\\right)$$"
      ],
      "text/plain": [
       "2*x*cos(x^2)"
      ]
     },
     "execution_count": 12,
     "metadata": {},
     "output_type": "execute_result"
    }
   ],
   "source": [
    "diff(sin(x^2),x)"
   ]
  },
  {
   "cell_type": "markdown",
   "metadata": {},
   "source": [
    "Para ordens superiores"
   ]
  },
  {
   "cell_type": "code",
   "execution_count": 13,
   "metadata": {},
   "outputs": [
    {
     "data": {
      "text/html": [
       "<html><script type=\"math/tex; mode=display\">\\newcommand{\\Bold}[1]{\\mathbf{#1}}16 \\, x^{4} \\sin\\left(x^{2}\\right) - 48 \\, x^{2} \\cos\\left(x^{2}\\right) - 12 \\, \\sin\\left(x^{2}\\right)</script></html>"
      ],
      "text/latex": [
       "$$\\newcommand{\\Bold}[1]{\\mathbf{#1}}16 \\, x^{4} \\sin\\left(x^{2}\\right) - 48 \\, x^{2} \\cos\\left(x^{2}\\right) - 12 \\, \\sin\\left(x^{2}\\right)$$"
      ],
      "text/plain": [
       "16*x^4*sin(x^2) - 48*x^2*cos(x^2) - 12*sin(x^2)"
      ]
     },
     "execution_count": 13,
     "metadata": {},
     "output_type": "execute_result"
    }
   ],
   "source": [
    "diff(sin(x^2), x, 4)"
   ]
  },
  {
   "cell_type": "markdown",
   "metadata": {},
   "source": [
    "Utilizando a derivada parcial"
   ]
  },
  {
   "cell_type": "code",
   "execution_count": 14,
   "metadata": {},
   "outputs": [
    {
     "data": {
      "text/html": [
       "<html><script type=\"math/tex; mode=display\">\\newcommand{\\Bold}[1]{\\mathbf{#1}}\\left( x, y \\right) \\ {\\mapsto} \\ x y^{2} + e^{\\left(-x\\right)} + \\sin\\left(x^{2}\\right)</script></html>"
      ],
      "text/latex": [
       "$$\\newcommand{\\Bold}[1]{\\mathbf{#1}}\\left( x, y \\right) \\ {\\mapsto} \\ x y^{2} + e^{\\left(-x\\right)} + \\sin\\left(x^{2}\\right)$$"
      ],
      "text/plain": [
       "(x, y) |--> x*y^2 + e^(-x) + sin(x^2)"
      ]
     },
     "execution_count": 14,
     "metadata": {},
     "output_type": "execute_result"
    }
   ],
   "source": [
    "h(x,y) = x*y^2 + sin(x^2) + e^(-x)\n",
    "h"
   ]
  },
  {
   "cell_type": "code",
   "execution_count": 15,
   "metadata": {},
   "outputs": [
    {
     "data": {
      "text/html": [
       "<html><script type=\"math/tex; mode=display\">\\newcommand{\\Bold}[1]{\\mathbf{#1}}y^{2} + 2 \\, x \\cos\\left(x^{2}\\right) - e^{\\left(-x\\right)}</script></html>"
      ],
      "text/latex": [
       "$$\\newcommand{\\Bold}[1]{\\mathbf{#1}}y^{2} + 2 \\, x \\cos\\left(x^{2}\\right) - e^{\\left(-x\\right)}$$"
      ],
      "text/plain": [
       "y^2 + 2*x*cos(x^2) - e^(-x)"
      ]
     },
     "execution_count": 15,
     "metadata": {},
     "output_type": "execute_result"
    }
   ],
   "source": [
    "derivative(h(x,y), x)"
   ]
  },
  {
   "cell_type": "code",
   "execution_count": 16,
   "metadata": {},
   "outputs": [
    {
     "data": {
      "text/html": [
       "<html><script type=\"math/tex; mode=display\">\\newcommand{\\Bold}[1]{\\mathbf{#1}}2 \\, x y</script></html>"
      ],
      "text/latex": [
       "$$\\newcommand{\\Bold}[1]{\\mathbf{#1}}2 \\, x y$$"
      ],
      "text/plain": [
       "2*x*y"
      ]
     },
     "execution_count": 16,
     "metadata": {},
     "output_type": "execute_result"
    }
   ],
   "source": [
    "derivative(h(x,y), y)"
   ]
  },
  {
   "cell_type": "code",
   "execution_count": 17,
   "metadata": {},
   "outputs": [],
   "source": [
    "diff?"
   ]
  },
  {
   "cell_type": "markdown",
   "metadata": {},
   "source": [
    " "
   ]
  },
  {
   "cell_type": "markdown",
   "metadata": {},
   "source": [
    "### 3.2 Integrais"
   ]
  },
  {
   "cell_type": "markdown",
   "metadata": {},
   "source": [
    "Para utilizar integrais, utilize a sintaxe `função.integral(var, lim_inf, lim_sup)` ou `integrate(função, var, lim_inf, lim_sup)`"
   ]
  },
  {
   "cell_type": "code",
   "execution_count": 18,
   "metadata": {},
   "outputs": [
    {
     "data": {
      "text/html": [
       "<html><script type=\"math/tex; mode=display\">\\newcommand{\\Bold}[1]{\\mathbf{#1}}\\int_{-\\infty}^{+\\infty} \\frac{1}{x^{2} + 1}\\,{d x}</script></html>"
      ],
      "text/latex": [
       "$$\\newcommand{\\Bold}[1]{\\mathbf{#1}}\\int_{-\\infty}^{+\\infty} \\frac{1}{x^{2} + 1}\\,{d x}$$"
      ],
      "text/plain": [
       "integrate(1/(x^2 + 1), x, -Infinity, +Infinity)"
      ]
     },
     "execution_count": 18,
     "metadata": {},
     "output_type": "execute_result"
    }
   ],
   "source": [
    "(1/(1+x^2)).integral(x, -infinity, infinity, hold=True) "
   ]
  },
  {
   "cell_type": "code",
   "execution_count": 19,
   "metadata": {},
   "outputs": [
    {
     "data": {
      "text/html": [
       "<html><script type=\"math/tex; mode=display\">\\newcommand{\\Bold}[1]{\\mathbf{#1}}\\pi</script></html>"
      ],
      "text/latex": [
       "$$\\newcommand{\\Bold}[1]{\\mathbf{#1}}\\pi$$"
      ],
      "text/plain": [
       "pi"
      ]
     },
     "execution_count": 19,
     "metadata": {},
     "output_type": "execute_result"
    }
   ],
   "source": [
    "(1/(1+x^2)).integral(x, -infinity, infinity)"
   ]
  },
  {
   "cell_type": "code",
   "execution_count": 20,
   "metadata": {},
   "outputs": [
    {
     "data": {
      "text/html": [
       "<html><script type=\"math/tex; mode=display\">\\newcommand{\\Bold}[1]{\\mathbf{#1}}x \\ {\\mapsto}\\ 8 \\, x^{4} + 4 \\, x^{3} - 6 \\, x^{2} - 4 \\, x + 5</script></html>"
      ],
      "text/latex": [
       "$$\\newcommand{\\Bold}[1]{\\mathbf{#1}}x \\ {\\mapsto}\\ 8 \\, x^{4} + 4 \\, x^{3} - 6 \\, x^{2} - 4 \\, x + 5$$"
      ],
      "text/plain": [
       "x |--> 8*x^4 + 4*x^3 - 6*x^2 - 4*x + 5"
      ]
     },
     "execution_count": 20,
     "metadata": {},
     "output_type": "execute_result"
    }
   ],
   "source": [
    "g(x) = 8*x^4 + 4*x^3 - 6*x^2 -4*x + 5\n",
    "g"
   ]
  },
  {
   "cell_type": "code",
   "execution_count": 21,
   "metadata": {},
   "outputs": [
    {
     "data": {
      "text/html": [
       "<html><script type=\"math/tex; mode=display\">\\newcommand{\\Bold}[1]{\\mathbf{#1}}\\int_{0}^{4} 8 \\, x^{4} + 4 \\, x^{3} - 6 \\, x^{2} - 4 \\, x + 5\\,{d x}</script></html>"
      ],
      "text/latex": [
       "$$\\newcommand{\\Bold}[1]{\\mathbf{#1}}\\int_{0}^{4} 8 \\, x^{4} + 4 \\, x^{3} - 6 \\, x^{2} - 4 \\, x + 5\\,{d x}$$"
      ],
      "text/plain": [
       "integrate(8*x^4 + 4*x^3 - 6*x^2 - 4*x + 5, x, 0, 4)"
      ]
     },
     "execution_count": 21,
     "metadata": {},
     "output_type": "execute_result"
    }
   ],
   "source": [
    "integrate(g, x, 0 ,4, hold=True)"
   ]
  },
  {
   "cell_type": "markdown",
   "metadata": {},
   "source": [
    " "
   ]
  },
  {
   "cell_type": "code",
   "execution_count": 22,
   "metadata": {},
   "outputs": [
    {
     "data": {
      "text/html": [
       "<html><script type=\"math/tex; mode=display\">\\newcommand{\\Bold}[1]{\\mathbf{#1}}\\frac{8772}{5}</script></html>"
      ],
      "text/latex": [
       "$$\\newcommand{\\Bold}[1]{\\mathbf{#1}}\\frac{8772}{5}$$"
      ],
      "text/plain": [
       "8772/5"
      ]
     },
     "execution_count": 22,
     "metadata": {},
     "output_type": "execute_result"
    }
   ],
   "source": [
    "integrate(g, x, 0 ,4)"
   ]
  },
  {
   "cell_type": "code",
   "execution_count": 23,
   "metadata": {},
   "outputs": [],
   "source": [
    "integral?"
   ]
  },
  {
   "cell_type": "markdown",
   "metadata": {},
   "source": [
    " "
   ]
  },
  {
   "cell_type": "markdown",
   "metadata": {},
   "source": [
    "### 3.3 Integração numérica"
   ]
  },
  {
   "cell_type": "markdown",
   "metadata": {},
   "source": [
    "Para calcular numericamente uma integral usamos, a função `integral_numerical`.\n",
    "\n",
    "Essa função retorna um par: \n",
    "\n",
    "   * o primeiro valor é a aproximação da integral;\n",
    "   * o segundo uma estimativa do erro correspondente."
   ]
  },
  {
   "cell_type": "code",
   "execution_count": 24,
   "metadata": {},
   "outputs": [
    {
     "data": {
      "text/html": [
       "<html><script type=\"math/tex; mode=display\">\\newcommand{\\Bold}[1]{\\mathbf{#1}}\\left(0.946083070367183, 1.0503632079297087 \\times 10^{-14}\\right)</script></html>"
      ],
      "text/latex": [
       "$$\\newcommand{\\Bold}[1]{\\mathbf{#1}}\\left(0.946083070367183, 1.0503632079297087 \\times 10^{-14}\\right)$$"
      ],
      "text/plain": [
       "(0.946083070367183, 1.0503632079297087e-14)"
      ]
     },
     "execution_count": 24,
     "metadata": {},
     "output_type": "execute_result"
    }
   ],
   "source": [
    "integral_numerical(sin(x)/x, 0, 1)"
   ]
  },
  {
   "cell_type": "markdown",
   "metadata": {},
   "source": [
    "Ou, simplesmente, `integrate(função, arg, lim_inf, lim_sup).n()`"
   ]
  },
  {
   "cell_type": "code",
   "execution_count": 25,
   "metadata": {},
   "outputs": [
    {
     "data": {
      "text/html": [
       "<html><script type=\"math/tex; mode=display\">\\newcommand{\\Bold}[1]{\\mathbf{#1}}0.946083070367183</script></html>"
      ],
      "text/latex": [
       "$$\\newcommand{\\Bold}[1]{\\mathbf{#1}}0.946083070367183$$"
      ],
      "text/plain": [
       "0.946083070367183"
      ]
     },
     "execution_count": 25,
     "metadata": {},
     "output_type": "execute_result"
    }
   ],
   "source": [
    "integrate(sin(x)/x,x, 0, 1).n()"
   ]
  },
  {
   "cell_type": "markdown",
   "metadata": {},
   "source": [
    " "
   ]
  },
  {
   "cell_type": "markdown",
   "metadata": {},
   "source": [
    "### 4 Séries de Taylor"
   ]
  },
  {
   "cell_type": "markdown",
   "metadata": {},
   "source": [
    "Para o calculo de uma série de Taylor, usamos a sintaxe `taylor(função, variável, ponto de expansão, grau)`"
   ]
  },
  {
   "cell_type": "code",
   "execution_count": 26,
   "metadata": {},
   "outputs": [
    {
     "data": {
      "text/html": [
       "<html><script type=\"math/tex; mode=display\">\\newcommand{\\Bold}[1]{\\mathbf{#1}}8 \\, x^{4} + 4 \\, x^{3} - 6 \\, x^{2} - 4 \\, x + 5</script></html>"
      ],
      "text/latex": [
       "$$\\newcommand{\\Bold}[1]{\\mathbf{#1}}8 \\, x^{4} + 4 \\, x^{3} - 6 \\, x^{2} - 4 \\, x + 5$$"
      ],
      "text/plain": [
       "8*x^4 + 4*x^3 - 6*x^2 - 4*x + 5"
      ]
     },
     "execution_count": 26,
     "metadata": {},
     "output_type": "execute_result"
    }
   ],
   "source": [
    "g(x)"
   ]
  },
  {
   "cell_type": "code",
   "execution_count": 27,
   "metadata": {},
   "outputs": [
    {
     "data": {
      "text/html": [
       "<html><script type=\"math/tex; mode=display\">\\newcommand{\\Bold}[1]{\\mathbf{#1}}8 \\, x^{4} + 4 \\, x^{3} - 6 \\, x^{2} - 4 \\, x + 5</script></html>"
      ],
      "text/latex": [
       "$$\\newcommand{\\Bold}[1]{\\mathbf{#1}}8 \\, x^{4} + 4 \\, x^{3} - 6 \\, x^{2} - 4 \\, x + 5$$"
      ],
      "text/plain": [
       "8*x^4 + 4*x^3 - 6*x^2 - 4*x + 5"
      ]
     },
     "execution_count": 27,
     "metadata": {},
     "output_type": "execute_result"
    }
   ],
   "source": [
    "taylor(g(x), x, 0, 4)"
   ]
  },
  {
   "cell_type": "code",
   "execution_count": 28,
   "metadata": {},
   "outputs": [
    {
     "data": {
      "text/html": [
       "<html><script type=\"math/tex; mode=display\">\\newcommand{\\Bold}[1]{\\mathbf{#1}}x \\ {\\mapsto}\\ 5 \\, x^{3} + x + 2</script></html>"
      ],
      "text/latex": [
       "$$\\newcommand{\\Bold}[1]{\\mathbf{#1}}x \\ {\\mapsto}\\ 5 \\, x^{3} + x + 2$$"
      ],
      "text/plain": [
       "x |--> 5*x^3 + x + 2"
      ]
     },
     "execution_count": 28,
     "metadata": {},
     "output_type": "execute_result"
    }
   ],
   "source": [
    "f(x) = 5*x^3 + x + 2\n",
    "f"
   ]
  },
  {
   "cell_type": "code",
   "execution_count": 29,
   "metadata": {},
   "outputs": [
    {
     "data": {
      "text/html": [
       "<html><script type=\"math/tex; mode=display\">\\newcommand{\\Bold}[1]{\\mathbf{#1}}x \\ {\\mapsto}\\ 15 \\, x^{2} - 14 \\, x + 7</script></html>"
      ],
      "text/latex": [
       "$$\\newcommand{\\Bold}[1]{\\mathbf{#1}}x \\ {\\mapsto}\\ 15 \\, x^{2} - 14 \\, x + 7$$"
      ],
      "text/plain": [
       "x |--> 15*x^2 - 14*x + 7"
      ]
     },
     "execution_count": 29,
     "metadata": {},
     "output_type": "execute_result"
    }
   ],
   "source": [
    "taylor(f, x, 1, 2).expand()"
   ]
  },
  {
   "cell_type": "code",
   "execution_count": 30,
   "metadata": {},
   "outputs": [
    {
     "data": {
      "text/html": [
       "<html><script type=\"math/tex; mode=display\">\\newcommand{\\Bold}[1]{\\mathbf{#1}}x \\ {\\mapsto}\\ \\cosh\\left(x\\right)</script></html>"
      ],
      "text/latex": [
       "$$\\newcommand{\\Bold}[1]{\\mathbf{#1}}x \\ {\\mapsto}\\ \\cosh\\left(x\\right)$$"
      ],
      "text/plain": [
       "x |--> cosh(x)"
      ]
     },
     "execution_count": 30,
     "metadata": {},
     "output_type": "execute_result"
    }
   ],
   "source": [
    "h(x) = cosh(x)\n",
    "h"
   ]
  },
  {
   "cell_type": "code",
   "execution_count": 31,
   "metadata": {},
   "outputs": [
    {
     "data": {
      "text/html": [
       "<html><script type=\"math/tex; mode=display\">\\newcommand{\\Bold}[1]{\\mathbf{#1}}x \\ {\\mapsto}\\ \\frac{1}{24} \\, x^{4} + \\frac{1}{2} \\, x^{2} + 1</script></html>"
      ],
      "text/latex": [
       "$$\\newcommand{\\Bold}[1]{\\mathbf{#1}}x \\ {\\mapsto}\\ \\frac{1}{24} \\, x^{4} + \\frac{1}{2} \\, x^{2} + 1$$"
      ],
      "text/plain": [
       "x |--> 1/24*x^4 + 1/2*x^2 + 1"
      ]
     },
     "execution_count": 31,
     "metadata": {},
     "output_type": "execute_result"
    }
   ],
   "source": [
    "taylor(h, x, 0, 4)"
   ]
  },
  {
   "cell_type": "markdown",
   "metadata": {},
   "source": [
    " "
   ]
  },
  {
   "cell_type": "markdown",
   "metadata": {},
   "source": [
    "## 5 Equações Diferenciais"
   ]
  },
  {
   "cell_type": "markdown",
   "metadata": {},
   "source": [
    "Para o calculo de uma equação diferencial ordinária `desolve(equação, dvar, ivar=t)`, onde `dvar` é a variável dependente e `ivar=t` indica que a variável independente é $t$. Use a ajuda `desolve?` se necessário."
   ]
  },
  {
   "cell_type": "code",
   "execution_count": 32,
   "metadata": {},
   "outputs": [],
   "source": [
    "desolve?"
   ]
  },
  {
   "cell_type": "markdown",
   "metadata": {},
   "source": [
    "### 5.1 EDO de 1ª ordem"
   ]
  },
  {
   "cell_type": "code",
   "execution_count": 91,
   "metadata": {},
   "outputs": [
    {
     "data": {
      "text/html": [
       "<html><script type=\"math/tex; mode=display\">\\newcommand{\\Bold}[1]{\\mathbf{#1}}\\left(t, m\\right)</script></html>"
      ],
      "text/latex": [
       "$$\\newcommand{\\Bold}[1]{\\mathbf{#1}}\\left(t, m\\right)$$"
      ],
      "text/plain": [
       "(t, m)"
      ]
     },
     "execution_count": 91,
     "metadata": {},
     "output_type": "execute_result"
    }
   ],
   "source": [
    "var('t m')"
   ]
  },
  {
   "cell_type": "code",
   "execution_count": 92,
   "metadata": {},
   "outputs": [
    {
     "data": {
      "text/html": [
       "<html><script type=\"math/tex; mode=display\">\\newcommand{\\Bold}[1]{\\mathbf{#1}}y\\left(t\\right)</script></html>"
      ],
      "text/latex": [
       "$$\\newcommand{\\Bold}[1]{\\mathbf{#1}}y\\left(t\\right)$$"
      ],
      "text/plain": [
       "y(t)"
      ]
     },
     "execution_count": 92,
     "metadata": {},
     "output_type": "execute_result"
    }
   ],
   "source": [
    "y = function('y')(t)\n",
    "y"
   ]
  },
  {
   "cell_type": "code",
   "execution_count": 93,
   "metadata": {},
   "outputs": [
    {
     "data": {
      "text/html": [
       "<html><script type=\"math/tex; mode=display\">\\newcommand{\\Bold}[1]{\\mathbf{#1}}\\frac{\\partial}{\\partial t}y\\left(t\\right) = -m y\\left(t\\right)</script></html>"
      ],
      "text/latex": [
       "$$\\newcommand{\\Bold}[1]{\\mathbf{#1}}\\frac{\\partial}{\\partial t}y\\left(t\\right) = -m y\\left(t\\right)$$"
      ],
      "text/plain": [
       "diff(y(t), t) == -m*y(t)"
      ]
     },
     "execution_count": 93,
     "metadata": {},
     "output_type": "execute_result"
    }
   ],
   "source": [
    "eq1 = diff(y, t) == -m*y\n",
    "eq1"
   ]
  },
  {
   "cell_type": "code",
   "execution_count": 94,
   "metadata": {},
   "outputs": [
    {
     "data": {
      "text/html": [
       "<html><script type=\"math/tex; mode=display\">\\newcommand{\\Bold}[1]{\\mathbf{#1}}C e^{\\left(-m t\\right)}</script></html>"
      ],
      "text/latex": [
       "$$\\newcommand{\\Bold}[1]{\\mathbf{#1}}C e^{\\left(-m t\\right)}$$"
      ],
      "text/plain": [
       "_C*e^(-m*t)"
      ]
     },
     "execution_count": 94,
     "metadata": {},
     "output_type": "execute_result"
    }
   ],
   "source": [
    "desolve(eq1, y, ivar=t)"
   ]
  },
  {
   "cell_type": "code",
   "execution_count": 95,
   "metadata": {},
   "outputs": [
    {
     "data": {
      "text/html": [
       "<html><script type=\"math/tex; mode=display\">\\newcommand{\\Bold}[1]{\\mathbf{#1}}\\frac{\\partial}{\\partial t}y\\left(t\\right) = x + 5 \\, y\\left(t\\right)</script></html>"
      ],
      "text/latex": [
       "$$\\newcommand{\\Bold}[1]{\\mathbf{#1}}\\frac{\\partial}{\\partial t}y\\left(t\\right) = x + 5 \\, y\\left(t\\right)$$"
      ],
      "text/plain": [
       "diff(y(t), t) == x + 5*y(t)"
      ]
     },
     "execution_count": 95,
     "metadata": {},
     "output_type": "execute_result"
    }
   ],
   "source": [
    "eq2 = diff(y, t) == x + 5*y\n",
    "eq2"
   ]
  },
  {
   "cell_type": "code",
   "execution_count": 96,
   "metadata": {},
   "outputs": [
    {
     "data": {
      "text/html": [
       "<html><script type=\"math/tex; mode=display\">\\newcommand{\\Bold}[1]{\\mathbf{#1}}-\\frac{1}{5} \\, {\\left(x e^{\\left(-5 \\, t\\right)} - 5 \\, C\\right)} e^{\\left(5 \\, t\\right)}</script></html>"
      ],
      "text/latex": [
       "$$\\newcommand{\\Bold}[1]{\\mathbf{#1}}-\\frac{1}{5} \\, {\\left(x e^{\\left(-5 \\, t\\right)} - 5 \\, C\\right)} e^{\\left(5 \\, t\\right)}$$"
      ],
      "text/plain": [
       "-1/5*(x*e^(-5*t) - 5*_C)*e^(5*t)"
      ]
     },
     "execution_count": 96,
     "metadata": {},
     "output_type": "execute_result"
    }
   ],
   "source": [
    "desolve(eq2, y, ivar=t)"
   ]
  },
  {
   "cell_type": "markdown",
   "metadata": {},
   "source": [
    "Para incluir as condições iniciais, use `desolve(equação, dvar, ivar=t, ics=[t_0, y(t_0)])`, onde `t_0, y(t_0)` são as tais condições."
   ]
  },
  {
   "cell_type": "code",
   "execution_count": 97,
   "metadata": {},
   "outputs": [
    {
     "data": {
      "text/html": [
       "<html><script type=\"math/tex; mode=display\">\\newcommand{\\Bold}[1]{\\mathbf{#1}}y\\left(t\\right) + \\frac{\\partial}{\\partial t}y\\left(t\\right) - 1 = 0</script></html>"
      ],
      "text/latex": [
       "$$\\newcommand{\\Bold}[1]{\\mathbf{#1}}y\\left(t\\right) + \\frac{\\partial}{\\partial t}y\\left(t\\right) - 1 = 0$$"
      ],
      "text/plain": [
       "y(t) + diff(y(t), t) - 1 == 0"
      ]
     },
     "execution_count": 97,
     "metadata": {},
     "output_type": "execute_result"
    }
   ],
   "source": [
    "eq3 = diff(y,t) + y - 1 == 0\n",
    "eq3"
   ]
  },
  {
   "cell_type": "code",
   "execution_count": 98,
   "metadata": {},
   "outputs": [
    {
     "data": {
      "text/html": [
       "<html><script type=\"math/tex; mode=display\">\\newcommand{\\Bold}[1]{\\mathbf{#1}}{\\left(e^{10} + e^{t}\\right)} e^{\\left(-t\\right)}</script></html>"
      ],
      "text/latex": [
       "$$\\newcommand{\\Bold}[1]{\\mathbf{#1}}{\\left(e^{10} + e^{t}\\right)} e^{\\left(-t\\right)}$$"
      ],
      "text/plain": [
       "(e^10 + e^t)*e^(-t)"
      ]
     },
     "execution_count": 98,
     "metadata": {},
     "output_type": "execute_result"
    }
   ],
   "source": [
    "desolve(eq3, y, ivar = t, ics=[10,2])"
   ]
  },
  {
   "cell_type": "code",
   "execution_count": 99,
   "metadata": {},
   "outputs": [
    {
     "data": {
      "text/html": [
       "<html><script type=\"math/tex; mode=display\">\\newcommand{\\Bold}[1]{\\mathbf{#1}}\\left[{\\left(C + e^{t}\\right)} e^{\\left(-t\\right)}, \\verb|linear|\\right]</script></html>"
      ],
      "text/latex": [
       "$$\\newcommand{\\Bold}[1]{\\mathbf{#1}}\\left[{\\left(C + e^{t}\\right)} e^{\\left(-t\\right)}, \\verb|linear|\\right]$$"
      ],
      "text/plain": [
       "[(_C + e^t)*e^(-t), 'linear']"
      ]
     },
     "execution_count": 99,
     "metadata": {},
     "output_type": "execute_result"
    }
   ],
   "source": [
    "desolve(eq3,y,show_method=True)"
   ]
  },
  {
   "cell_type": "markdown",
   "metadata": {},
   "source": [
    "A sintaxe `show_method = True` retorna um par, `[solução, método]`. Que representará o método utilizado para encontrar a solução da EDO. Alguns dos métodos são $\\textit{Linear}, \\textit{separável}, \\textit{exata}$ (incluindo com fatores de interação), $\\textit{homogenea}, \\textit{bernoulli}$. Segue mais alguns exemplos usando essa função"
   ]
  },
  {
   "cell_type": "code",
   "execution_count": 100,
   "metadata": {},
   "outputs": [
    {
     "data": {
      "text/html": [
       "<html><script type=\"math/tex; mode=display\">\\newcommand{\\Bold}[1]{\\mathbf{#1}}t \\frac{\\partial}{\\partial t}y\\left(t\\right) + \\frac{\\partial}{\\partial t}y\\left(t\\right)^{2} - y\\left(t\\right) = 0</script></html>"
      ],
      "text/latex": [
       "$$\\newcommand{\\Bold}[1]{\\mathbf{#1}}t \\frac{\\partial}{\\partial t}y\\left(t\\right) + \\frac{\\partial}{\\partial t}y\\left(t\\right)^{2} - y\\left(t\\right) = 0$$"
      ],
      "text/plain": [
       "t*diff(y(t), t) + diff(y(t), t)^2 - y(t) == 0"
      ]
     },
     "execution_count": 100,
     "metadata": {},
     "output_type": "execute_result"
    }
   ],
   "source": [
    "eq_C = diff(y,t)^2 + t*diff(y,t) - y == 0\n",
    "eq_C"
   ]
  },
  {
   "cell_type": "code",
   "execution_count": 101,
   "metadata": {},
   "outputs": [
    {
     "data": {
      "text/html": [
       "<html><script type=\"math/tex; mode=display\">\\newcommand{\\Bold}[1]{\\mathbf{#1}}\\left[\\left[y\\left(t\\right) = C^{2} + C t, y\\left(t\\right) = -\\frac{1}{4} \\, t^{2}\\right], \\verb|clairault|\\right]</script></html>"
      ],
      "text/latex": [
       "$$\\newcommand{\\Bold}[1]{\\mathbf{#1}}\\left[\\left[y\\left(t\\right) = C^{2} + C t, y\\left(t\\right) = -\\frac{1}{4} \\, t^{2}\\right], \\verb|clairault|\\right]$$"
      ],
      "text/plain": [
       "[[y(t) == _C^2 + _C*t, y(t) == -1/4*t^2], 'clairault']"
      ]
     },
     "execution_count": 101,
     "metadata": {},
     "output_type": "execute_result"
    }
   ],
   "source": [
    "desolve(eq_C,y,contrib_ode=True,show_method=True)"
   ]
  },
  {
   "cell_type": "markdown",
   "metadata": {},
   "source": [
    " "
   ]
  },
  {
   "cell_type": "code",
   "execution_count": 103,
   "metadata": {},
   "outputs": [
    {
     "data": {
      "text/html": [
       "<html><script type=\"math/tex; mode=display\">\\newcommand{\\Bold}[1]{\\mathbf{#1}}\\frac{\\partial}{\\partial t}y\\left(t\\right) = {\\left(t + y\\left(t\\right)\\right)}^{2}</script></html>"
      ],
      "text/latex": [
       "$$\\newcommand{\\Bold}[1]{\\mathbf{#1}}\\frac{\\partial}{\\partial t}y\\left(t\\right) = {\\left(t + y\\left(t\\right)\\right)}^{2}$$"
      ],
      "text/plain": [
       "diff(y(t), t) == (t + y(t))^2"
      ]
     },
     "execution_count": 103,
     "metadata": {},
     "output_type": "execute_result"
    }
   ],
   "source": [
    "eq_L = diff(y, t) == (t + y)^2\n",
    "eq_L"
   ]
  },
  {
   "cell_type": "code",
   "execution_count": 104,
   "metadata": {},
   "outputs": [
    {
     "data": {
      "text/html": [
       "<html><script type=\"math/tex; mode=display\">\\newcommand{\\Bold}[1]{\\mathbf{#1}}\\left[\\left[\\left[t = C - \\arctan\\left(\\sqrt{t}\\right), y\\left(t\\right) = -t - \\sqrt{t}\\right], \\left[t = C + \\arctan\\left(\\sqrt{t}\\right), y\\left(t\\right) = -t + \\sqrt{t}\\right]\\right], \\verb|lagrange|\\right]</script></html>"
      ],
      "text/latex": [
       "$$\\newcommand{\\Bold}[1]{\\mathbf{#1}}\\left[\\left[\\left[t = C - \\arctan\\left(\\sqrt{t}\\right), y\\left(t\\right) = -t - \\sqrt{t}\\right], \\left[t = C + \\arctan\\left(\\sqrt{t}\\right), y\\left(t\\right) = -t + \\sqrt{t}\\right]\\right], \\verb|lagrange|\\right]$$"
      ],
      "text/plain": [
       "[[[t == _C - arctan(sqrt(t)), y(t) == -t - sqrt(t)],\n",
       "  [t == _C + arctan(sqrt(t)), y(t) == -t + sqrt(t)]],\n",
       " 'lagrange']"
      ]
     },
     "execution_count": 104,
     "metadata": {},
     "output_type": "execute_result"
    }
   ],
   "source": [
    "desolve(eq_L,y,contrib_ode=True,show_method=True)"
   ]
  },
  {
   "cell_type": "markdown",
   "metadata": {},
   "source": [
    " "
   ]
  },
  {
   "cell_type": "code",
   "execution_count": 106,
   "metadata": {},
   "outputs": [
    {
     "data": {
      "text/html": [
       "<html><script type=\"math/tex; mode=display\">\\newcommand{\\Bold}[1]{\\mathbf{#1}}y\\left(t\\right) + 2 \\, \\frac{\\partial}{\\partial t}y\\left(t\\right) + \\frac{\\partial^{2}}{(\\partial t)^{2}}y\\left(t\\right) = \\cos\\left(t\\right)</script></html>"
      ],
      "text/latex": [
       "$$\\newcommand{\\Bold}[1]{\\mathbf{#1}}y\\left(t\\right) + 2 \\, \\frac{\\partial}{\\partial t}y\\left(t\\right) + \\frac{\\partial^{2}}{(\\partial t)^{2}}y\\left(t\\right) = \\cos\\left(t\\right)$$"
      ],
      "text/plain": [
       "y(t) + 2*diff(y(t), t) + diff(y(t), t, t) == cos(t)"
      ]
     },
     "execution_count": 106,
     "metadata": {},
     "output_type": "execute_result"
    }
   ],
   "source": [
    "eq_v = diff(y,t,2) + 2*diff(y,t) + y == cos(t)\n",
    "eq_v"
   ]
  },
  {
   "cell_type": "code",
   "execution_count": 107,
   "metadata": {},
   "outputs": [
    {
     "data": {
      "text/html": [
       "<html><script type=\"math/tex; mode=display\">\\newcommand{\\Bold}[1]{\\mathbf{#1}}\\left[{\\left(K_{2} t + K_{1}\\right)} e^{\\left(-t\\right)} + \\frac{1}{2} \\, \\sin\\left(t\\right), \\verb|variationofparameters|\\right]</script></html>"
      ],
      "text/latex": [
       "$$\\newcommand{\\Bold}[1]{\\mathbf{#1}}\\left[{\\left(K_{2} t + K_{1}\\right)} e^{\\left(-t\\right)} + \\frac{1}{2} \\, \\sin\\left(t\\right), \\verb|variationofparameters|\\right]$$"
      ],
      "text/plain": [
       "[(_K2*t + _K1)*e^(-t) + 1/2*sin(t), 'variationofparameters']"
      ]
     },
     "execution_count": 107,
     "metadata": {},
     "output_type": "execute_result"
    }
   ],
   "source": [
    "desolve(eq_v,y,show_method=True)"
   ]
  },
  {
   "cell_type": "markdown",
   "metadata": {},
   "source": [
    " "
   ]
  },
  {
   "cell_type": "markdown",
   "metadata": {},
   "source": [
    "### 5.2 EDO de 2ª ordem"
   ]
  },
  {
   "cell_type": "code",
   "execution_count": 108,
   "metadata": {},
   "outputs": [
    {
     "data": {
      "text/html": [
       "<html><script type=\"math/tex; mode=display\">\\newcommand{\\Bold}[1]{\\mathbf{#1}}y\\left(t\\right) \\frac{\\partial}{\\partial t}y\\left(t\\right)^{3} + \\frac{\\partial^{2}}{(\\partial t)^{2}}y\\left(t\\right) = 0</script></html>"
      ],
      "text/latex": [
       "$$\\newcommand{\\Bold}[1]{\\mathbf{#1}}y\\left(t\\right) \\frac{\\partial}{\\partial t}y\\left(t\\right)^{3} + \\frac{\\partial^{2}}{(\\partial t)^{2}}y\\left(t\\right) = 0$$"
      ],
      "text/plain": [
       "y(t)*diff(y(t), t)^3 + diff(y(t), t, t) == 0"
      ]
     },
     "execution_count": 108,
     "metadata": {},
     "output_type": "execute_result"
    }
   ],
   "source": [
    "eq5 = diff(y,t,2)+y*(diff(y,t,1))^3==0\n",
    "eq5"
   ]
  },
  {
   "cell_type": "code",
   "execution_count": 110,
   "metadata": {},
   "outputs": [
    {
     "data": {
      "text/html": [
       "<html><script type=\"math/tex; mode=display\">\\newcommand{\\Bold}[1]{\\mathbf{#1}}\\frac{1}{6} \\, y\\left(t\\right)^{3} + K_{1} y\\left(t\\right) = K_{2} + t</script></html>"
      ],
      "text/latex": [
       "$$\\newcommand{\\Bold}[1]{\\mathbf{#1}}\\frac{1}{6} \\, y\\left(t\\right)^{3} + K_{1} y\\left(t\\right) = K_{2} + t$$"
      ],
      "text/plain": [
       "1/6*y(t)^3 + _K1*y(t) == _K2 + t"
      ]
     },
     "execution_count": 110,
     "metadata": {},
     "output_type": "execute_result"
    }
   ],
   "source": [
    "desolve(eq5, y)"
   ]
  },
  {
   "cell_type": "markdown",
   "metadata": {},
   "source": [
    "Para incluir as condições iniciais, use `desolve(equação, dvar, ivar=t, ics=[t_0, y(t_0), y'(t_0)])`, onde `t_0, y(t_0), y'(t_0)` são as tais condições."
   ]
  },
  {
   "cell_type": "code",
   "execution_count": 111,
   "metadata": {},
   "outputs": [
    {
     "data": {
      "text/html": [
       "<html><script type=\"math/tex; mode=display\">\\newcommand{\\Bold}[1]{\\mathbf{#1}}4 \\, \\frac{\\partial}{\\partial t}y\\left(t\\right) + \\frac{\\partial^{2}}{(\\partial t)^{2}}y\\left(t\\right) = -12 \\, y\\left(t\\right)</script></html>"
      ],
      "text/latex": [
       "$$\\newcommand{\\Bold}[1]{\\mathbf{#1}}4 \\, \\frac{\\partial}{\\partial t}y\\left(t\\right) + \\frac{\\partial^{2}}{(\\partial t)^{2}}y\\left(t\\right) = -12 \\, y\\left(t\\right)$$"
      ],
      "text/plain": [
       "4*diff(y(t), t) + diff(y(t), t, t) == -12*y(t)"
      ]
     },
     "execution_count": 111,
     "metadata": {},
     "output_type": "execute_result"
    }
   ],
   "source": [
    "eq6 = diff(y, t, 2) + 4*diff(y, t, 1) == - 12*y\n",
    "eq6"
   ]
  },
  {
   "cell_type": "code",
   "execution_count": 112,
   "metadata": {},
   "outputs": [
    {
     "data": {
      "text/html": [
       "<html><script type=\"math/tex; mode=display\">\\newcommand{\\Bold}[1]{\\mathbf{#1}}\\left[\\frac{1}{12} \\, {\\left(7 \\, \\sqrt{2} \\sin\\left(2 \\, \\sqrt{2} t\\right) + 6 \\, \\cos\\left(2 \\, \\sqrt{2} t\\right)\\right)} e^{\\left(-2 \\, t\\right)}, \\verb|constcoeff|\\right]</script></html>"
      ],
      "text/latex": [
       "$$\\newcommand{\\Bold}[1]{\\mathbf{#1}}\\left[\\frac{1}{12} \\, {\\left(7 \\, \\sqrt{2} \\sin\\left(2 \\, \\sqrt{2} t\\right) + 6 \\, \\cos\\left(2 \\, \\sqrt{2} t\\right)\\right)} e^{\\left(-2 \\, t\\right)}, \\verb|constcoeff|\\right]$$"
      ],
      "text/plain": [
       "[1/12*(7*sqrt(2)*sin(2*sqrt(2)*t) + 6*cos(2*sqrt(2)*t))*e^(-2*t), 'constcoeff']"
      ]
     },
     "execution_count": 112,
     "metadata": {},
     "output_type": "execute_result"
    }
   ],
   "source": [
    "desolve(eq6, y, ivar = t, ics = [0, 1/2, 4/3], show_method=True)"
   ]
  },
  {
   "cell_type": "markdown",
   "metadata": {},
   "source": [
    "Já para incluir as condições de contorno, use `desolve(equação, dvar, ivar=t, [t_0, y(t_0), t_1 ,y(t_1)])`"
   ]
  },
  {
   "cell_type": "code",
   "execution_count": 113,
   "metadata": {},
   "outputs": [
    {
     "data": {
      "text/html": [
       "<html><script type=\"math/tex; mode=display\">\\newcommand{\\Bold}[1]{\\mathbf{#1}}y\\left(t\\right) \\frac{\\partial}{\\partial t}y\\left(t\\right)^{3} + \\frac{\\partial^{2}}{(\\partial t)^{2}}y\\left(t\\right) = 0</script></html>"
      ],
      "text/latex": [
       "$$\\newcommand{\\Bold}[1]{\\mathbf{#1}}y\\left(t\\right) \\frac{\\partial}{\\partial t}y\\left(t\\right)^{3} + \\frac{\\partial^{2}}{(\\partial t)^{2}}y\\left(t\\right) = 0$$"
      ],
      "text/plain": [
       "y(t)*diff(y(t), t)^3 + diff(y(t), t, t) == 0"
      ]
     },
     "execution_count": 113,
     "metadata": {},
     "output_type": "execute_result"
    }
   ],
   "source": [
    "eq7 = diff(y,t,2)+y*(diff(y,t,1))^3==0\n",
    "eq7"
   ]
  },
  {
   "cell_type": "code",
   "execution_count": 114,
   "metadata": {},
   "outputs": [
    {
     "data": {
      "text/html": [
       "<html><script type=\"math/tex; mode=display\">\\newcommand{\\Bold}[1]{\\mathbf{#1}}\\left[\\frac{1}{6} \\, y\\left(t\\right)^{3} - \\frac{5}{3} \\, y\\left(t\\right) = t - \\frac{3}{2}, \\verb|freeofx|\\right]</script></html>"
      ],
      "text/latex": [
       "$$\\newcommand{\\Bold}[1]{\\mathbf{#1}}\\left[\\frac{1}{6} \\, y\\left(t\\right)^{3} - \\frac{5}{3} \\, y\\left(t\\right) = t - \\frac{3}{2}, \\verb|freeofx|\\right]$$"
      ],
      "text/plain": [
       "[1/6*y(t)^3 - 5/3*y(t) == t - 3/2, 'freeofx']"
      ]
     },
     "execution_count": 114,
     "metadata": {},
     "output_type": "execute_result"
    }
   ],
   "source": [
    "desolve(eq7, y, [0,1,1,3], show_method=True)"
   ]
  },
  {
   "cell_type": "markdown",
   "metadata": {},
   "source": [
    " "
   ]
  },
  {
   "cell_type": "markdown",
   "metadata": {},
   "source": [
    "## 6 Funções de várias variáveis"
   ]
  },
  {
   "cell_type": "markdown",
   "metadata": {},
   "source": [
    "### 6.1 Gradiente $\\vec{\\nabla}f$"
   ]
  },
  {
   "cell_type": "markdown",
   "metadata": {},
   "source": [
    "Para utilizar operadores como Gradiente e Divergente, é necessário primeiro definir o espaço no qual se vai trabalhar. No presente caso, usaremos o Espaço Euclidiano."
   ]
  },
  {
   "cell_type": "markdown",
   "metadata": {},
   "source": [
    "var('x y z')"
   ]
  },
  {
   "cell_type": "code",
   "execution_count": 48,
   "metadata": {},
   "outputs": [],
   "source": [
    "E.<x,y,z> = EuclideanSpace()"
   ]
  },
  {
   "cell_type": "markdown",
   "metadata": {},
   "source": [
    "Para a utilização do Gradiante, assim como os demais que se seguem, é necessário emportá-los com a seguinte sintaxe: `from sage.manifolds.operators import operador`"
   ]
  },
  {
   "cell_type": "code",
   "execution_count": 49,
   "metadata": {},
   "outputs": [],
   "source": [
    "from sage.manifolds.operators import grad"
   ]
  },
  {
   "cell_type": "markdown",
   "metadata": {},
   "source": [
    "Definindo um campo escalar $f$:"
   ]
  },
  {
   "cell_type": "code",
   "execution_count": 50,
   "metadata": {},
   "outputs": [],
   "source": [
    "f = E.scalar_field(sin(x*y), name='f')"
   ]
  },
  {
   "cell_type": "markdown",
   "metadata": {},
   "source": [
    "Para o cálculo do Gradiente, é necessário apenas utilizar a sintaxe `grad(função)`"
   ]
  },
  {
   "cell_type": "code",
   "execution_count": 51,
   "metadata": {},
   "outputs": [],
   "source": [
    "gradie = grad(f)"
   ]
  },
  {
   "cell_type": "code",
   "execution_count": 52,
   "metadata": {},
   "outputs": [
    {
     "data": {
      "text/html": [
       "<html><script type=\"math/tex; mode=display\">\\newcommand{\\Bold}[1]{\\mathbf{#1}}\\mathrm{grad}\\left(f\\right) = y \\cos\\left(x y\\right) e_{ x } + x \\cos\\left(x y\\right) e_{ y }</script></html>"
      ],
      "text/latex": [
       "$$\\newcommand{\\Bold}[1]{\\mathbf{#1}}\\mathrm{grad}\\left(f\\right) = y \\cos\\left(x y\\right) e_{ x } + x \\cos\\left(x y\\right) e_{ y }$$"
      ],
      "text/plain": [
       "grad(f) = y*cos(x*y) e_x + x*cos(x*y) e_y"
      ]
     },
     "execution_count": 52,
     "metadata": {},
     "output_type": "execute_result"
    }
   ],
   "source": [
    "gradie.display()"
   ]
  },
  {
   "cell_type": "code",
   "execution_count": 53,
   "metadata": {},
   "outputs": [
    {
     "data": {
      "text/html": [
       "<html><script type=\"math/tex; mode=display\">\\newcommand{\\Bold}[1]{\\mathbf{#1}}\\left[y \\cos\\left(x y\\right), x \\cos\\left(x y\\right), 0\\right]</script></html>"
      ],
      "text/latex": [
       "$$\\newcommand{\\Bold}[1]{\\mathbf{#1}}\\left[y \\cos\\left(x y\\right), x \\cos\\left(x y\\right), 0\\right]$$"
      ],
      "text/plain": [
       "[y*cos(x*y), x*cos(x*y), 0]"
      ]
     },
     "execution_count": 53,
     "metadata": {},
     "output_type": "execute_result"
    }
   ],
   "source": [
    "gradie[:]"
   ]
  },
  {
   "cell_type": "markdown",
   "metadata": {},
   "source": [
    " "
   ]
  },
  {
   "cell_type": "markdown",
   "metadata": {},
   "source": [
    "### 6.2 Divergente $\\vec{\\nabla} \\cdot \\vec{v}$"
   ]
  },
  {
   "cell_type": "markdown",
   "metadata": {},
   "source": [
    "Para o caso do Divergente, utilizaremos o mesmo princípio anterior, mas definiremos dessa vez um campo vetorial, da forma"
   ]
  },
  {
   "cell_type": "code",
   "execution_count": 54,
   "metadata": {},
   "outputs": [],
   "source": [
    "v = E.vector_field(sin(x), sin(y), 0, name='v')"
   ]
  },
  {
   "cell_type": "code",
   "execution_count": 55,
   "metadata": {},
   "outputs": [
    {
     "data": {
      "text/html": [
       "<html><script type=\"math/tex; mode=display\">\\newcommand{\\Bold}[1]{\\mathbf{#1}}v = \\sin\\left(x\\right) e_{ x } + \\sin\\left(y\\right) e_{ y }</script></html>"
      ],
      "text/latex": [
       "$$\\newcommand{\\Bold}[1]{\\mathbf{#1}}v = \\sin\\left(x\\right) e_{ x } + \\sin\\left(y\\right) e_{ y }$$"
      ],
      "text/plain": [
       "v = sin(x) e_x + sin(y) e_y"
      ]
     },
     "execution_count": 55,
     "metadata": {},
     "output_type": "execute_result"
    }
   ],
   "source": [
    "v.display()"
   ]
  },
  {
   "cell_type": "markdown",
   "metadata": {},
   "source": [
    "Para importar o operador Divergente, devemos utilizar"
   ]
  },
  {
   "cell_type": "code",
   "execution_count": 56,
   "metadata": {},
   "outputs": [],
   "source": [
    "from sage.manifolds.operators import div"
   ]
  },
  {
   "cell_type": "markdown",
   "metadata": {},
   "source": [
    "E, para utilizá-lo é necessário apenas usar `div(função)`"
   ]
  },
  {
   "cell_type": "code",
   "execution_count": 57,
   "metadata": {},
   "outputs": [],
   "source": [
    "diverg = div(v)"
   ]
  },
  {
   "cell_type": "code",
   "execution_count": 58,
   "metadata": {},
   "outputs": [
    {
     "data": {
      "text/html": [
       "<html><script type=\"math/tex; mode=display\">\\newcommand{\\Bold}[1]{\\mathbf{#1}}\\begin{array}{llcl} \\mathrm{div}\\left(v\\right):& \\mathbb{E}^{3} & \\longrightarrow & \\mathbb{R} \\\\ & \\left(x, y, z\\right) & \\longmapsto & \\cos\\left(x\\right) + \\cos\\left(y\\right) \\end{array}</script></html>"
      ],
      "text/latex": [
       "$$\\newcommand{\\Bold}[1]{\\mathbf{#1}}\\begin{array}{llcl} \\mathrm{div}\\left(v\\right):& \\mathbb{E}^{3} & \\longrightarrow & \\mathbb{R} \\\\ & \\left(x, y, z\\right) & \\longmapsto & \\cos\\left(x\\right) + \\cos\\left(y\\right) \\end{array}$$"
      ],
      "text/plain": [
       "div(v): E^3 --> R\n",
       "   (x, y, z) |--> cos(x) + cos(y)"
      ]
     },
     "execution_count": 58,
     "metadata": {},
     "output_type": "execute_result"
    }
   ],
   "source": [
    "diverg.display()"
   ]
  },
  {
   "cell_type": "code",
   "execution_count": 59,
   "metadata": {},
   "outputs": [
    {
     "data": {
      "text/html": [
       "<html><script type=\"math/tex; mode=display\">\\newcommand{\\Bold}[1]{\\mathbf{#1}}\\cos\\left(x\\right) + \\cos\\left(y\\right)</script></html>"
      ],
      "text/latex": [
       "$$\\newcommand{\\Bold}[1]{\\mathbf{#1}}\\cos\\left(x\\right) + \\cos\\left(y\\right)$$"
      ],
      "text/plain": [
       "cos(x) + cos(y)"
      ]
     },
     "execution_count": 59,
     "metadata": {},
     "output_type": "execute_result"
    }
   ],
   "source": [
    "diverg.expr()"
   ]
  },
  {
   "cell_type": "markdown",
   "metadata": {},
   "source": [
    " "
   ]
  },
  {
   "cell_type": "markdown",
   "metadata": {},
   "source": [
    "### 6.3 Rotacional  $\\vec{\\nabla} \\times \\vec{w}$"
   ]
  },
  {
   "cell_type": "markdown",
   "metadata": {},
   "source": [
    "Primeiro definiremos um espaço vetorial"
   ]
  },
  {
   "cell_type": "code",
   "execution_count": 60,
   "metadata": {},
   "outputs": [],
   "source": [
    "w = E.vector_field(sin(y), sin(x), 0, name='w')"
   ]
  },
  {
   "cell_type": "code",
   "execution_count": 61,
   "metadata": {},
   "outputs": [
    {
     "data": {
      "text/html": [
       "<html><script type=\"math/tex; mode=display\">\\newcommand{\\Bold}[1]{\\mathbf{#1}}w = \\sin\\left(y\\right) e_{ x } + \\sin\\left(x\\right) e_{ y }</script></html>"
      ],
      "text/latex": [
       "$$\\newcommand{\\Bold}[1]{\\mathbf{#1}}w = \\sin\\left(y\\right) e_{ x } + \\sin\\left(x\\right) e_{ y }$$"
      ],
      "text/plain": [
       "w = sin(y) e_x + sin(x) e_y"
      ]
     },
     "execution_count": 61,
     "metadata": {},
     "output_type": "execute_result"
    }
   ],
   "source": [
    "w.display()"
   ]
  },
  {
   "cell_type": "markdown",
   "metadata": {},
   "source": [
    "Para importar o operador Rotacional, usaremos"
   ]
  },
  {
   "cell_type": "code",
   "execution_count": 62,
   "metadata": {},
   "outputs": [],
   "source": [
    "from sage.manifolds.operators import curl"
   ]
  },
  {
   "cell_type": "markdown",
   "metadata": {},
   "source": [
    "E para utilizá-lo, devemos usar `curl(função)`"
   ]
  },
  {
   "cell_type": "code",
   "execution_count": 63,
   "metadata": {},
   "outputs": [],
   "source": [
    "rot = curl(w)"
   ]
  },
  {
   "cell_type": "code",
   "execution_count": 64,
   "metadata": {},
   "outputs": [
    {
     "data": {
      "text/html": [
       "<html><script type=\"math/tex; mode=display\">\\newcommand{\\Bold}[1]{\\mathbf{#1}}\\mathrm{curl}\\left(w\\right) = \\left( \\cos\\left(x\\right) - \\cos\\left(y\\right) \\right) e_{ z }</script></html>"
      ],
      "text/latex": [
       "$$\\newcommand{\\Bold}[1]{\\mathbf{#1}}\\mathrm{curl}\\left(w\\right) = \\left( \\cos\\left(x\\right) - \\cos\\left(y\\right) \\right) e_{ z }$$"
      ],
      "text/plain": [
       "curl(w) = (cos(x) - cos(y)) e_z"
      ]
     },
     "execution_count": 64,
     "metadata": {},
     "output_type": "execute_result"
    }
   ],
   "source": [
    "rot.display()"
   ]
  },
  {
   "cell_type": "code",
   "execution_count": 65,
   "metadata": {},
   "outputs": [
    {
     "data": {
      "text/html": [
       "<html><script type=\"math/tex; mode=display\">\\newcommand{\\Bold}[1]{\\mathbf{#1}}\\left[0, 0, \\cos\\left(x\\right) - \\cos\\left(y\\right)\\right]</script></html>"
      ],
      "text/latex": [
       "$$\\newcommand{\\Bold}[1]{\\mathbf{#1}}\\left[0, 0, \\cos\\left(x\\right) - \\cos\\left(y\\right)\\right]$$"
      ],
      "text/plain": [
       "[0, 0, cos(x) - cos(y)]"
      ]
     },
     "execution_count": 65,
     "metadata": {},
     "output_type": "execute_result"
    }
   ],
   "source": [
    "rot[:]"
   ]
  },
  {
   "cell_type": "markdown",
   "metadata": {},
   "source": [
    " "
   ]
  },
  {
   "cell_type": "markdown",
   "metadata": {},
   "source": [
    "### 6.4 Laplaciano $\\nabla^2 f$"
   ]
  },
  {
   "cell_type": "code",
   "execution_count": 66,
   "metadata": {},
   "outputs": [
    {
     "data": {
      "text/html": [
       "<html><script type=\"math/tex; mode=display\">\\newcommand{\\Bold}[1]{\\mathbf{#1}}\\sin\\left(x y\\right)</script></html>"
      ],
      "text/latex": [
       "$$\\newcommand{\\Bold}[1]{\\mathbf{#1}}\\sin\\left(x y\\right)$$"
      ],
      "text/plain": [
       "sin(x*y)"
      ]
     },
     "execution_count": 66,
     "metadata": {},
     "output_type": "execute_result"
    }
   ],
   "source": [
    "f.expr()"
   ]
  },
  {
   "cell_type": "markdown",
   "metadata": {},
   "source": [
    "Para importar o operador Laplaciano, devemos usar"
   ]
  },
  {
   "cell_type": "code",
   "execution_count": 67,
   "metadata": {},
   "outputs": [],
   "source": [
    "from sage.manifolds.operators import laplacian"
   ]
  },
  {
   "cell_type": "markdown",
   "metadata": {},
   "source": [
    "Para utilizá-lo, basta usar a sintaxe `laplacian(função)`"
   ]
  },
  {
   "cell_type": "code",
   "execution_count": 68,
   "metadata": {},
   "outputs": [],
   "source": [
    "lapla = laplacian(f)"
   ]
  },
  {
   "cell_type": "code",
   "execution_count": 69,
   "metadata": {},
   "outputs": [
    {
     "data": {
      "text/html": [
       "<html><script type=\"math/tex; mode=display\">\\newcommand{\\Bold}[1]{\\mathbf{#1}}\\begin{array}{llcl} \\Delta\\left(f\\right):& \\mathbb{E}^{3} & \\longrightarrow & \\mathbb{R} \\\\ & \\left(x, y, z\\right) & \\longmapsto & -{\\left(x^{2} + y^{2}\\right)} \\sin\\left(x y\\right) \\end{array}</script></html>"
      ],
      "text/latex": [
       "$$\\newcommand{\\Bold}[1]{\\mathbf{#1}}\\begin{array}{llcl} \\Delta\\left(f\\right):& \\mathbb{E}^{3} & \\longrightarrow & \\mathbb{R} \\\\ & \\left(x, y, z\\right) & \\longmapsto & -{\\left(x^{2} + y^{2}\\right)} \\sin\\left(x y\\right) \\end{array}$$"
      ],
      "text/plain": [
       "Delta(f): E^3 --> R\n",
       "   (x, y, z) |--> -(x^2 + y^2)*sin(x*y)"
      ]
     },
     "execution_count": 69,
     "metadata": {},
     "output_type": "execute_result"
    }
   ],
   "source": [
    "lapla.display()"
   ]
  },
  {
   "cell_type": "code",
   "execution_count": 70,
   "metadata": {},
   "outputs": [
    {
     "data": {
      "text/html": [
       "<html><script type=\"math/tex; mode=display\">\\newcommand{\\Bold}[1]{\\mathbf{#1}}-{\\left(x^{2} + y^{2}\\right)} \\sin\\left(x y\\right)</script></html>"
      ],
      "text/latex": [
       "$$\\newcommand{\\Bold}[1]{\\mathbf{#1}}-{\\left(x^{2} + y^{2}\\right)} \\sin\\left(x y\\right)$$"
      ],
      "text/plain": [
       "-(x^2 + y^2)*sin(x*y)"
      ]
     },
     "execution_count": 70,
     "metadata": {},
     "output_type": "execute_result"
    }
   ],
   "source": [
    "lapla.expr()"
   ]
  },
  {
   "cell_type": "markdown",
   "metadata": {},
   "source": [
    " | Operador | Comando |\n",
    "| :---: | :---: |\n",
    "| Gradiente | `grad(função)` |\n",
    "| Divergente | `div(função)` |\n",
    "| Rotacional | `curl(função)` |\n",
    "| Laplaciano | `laplacian(função)` |"
   ]
  },
  {
   "cell_type": "markdown",
   "metadata": {},
   "source": [
    "### 6.5 Integrais Múltiplas"
   ]
  },
  {
   "cell_type": "markdown",
   "metadata": {},
   "source": [
    "Para o cálculo de integrais múltiplas, devemos nos basear no $\\textbf{Teorema de Fubini}$. Para as integrais com uma variável de integração, tinhamos a sintaxe `integrate(função, var, lim_inf, lim_sup)`, ou simplesmente `integrate(função, var)`. Já no caso das integrais dúplas, assim como as tríplas, devemos fazer uma integral dentro de outra integral. "
   ]
  },
  {
   "cell_type": "markdown",
   "metadata": {},
   "source": [
    "#### 6.5.1 Integrais Dúplas"
   ]
  },
  {
   "cell_type": "markdown",
   "metadata": {},
   "source": [
    "Dada a integral\n",
    "\n",
    "$$\\begin{align}\n",
    "    \\int \\int_{\\mathop{R}} g(x, y) \\, dA = \\int_a^b \\int_c^d g(x, y)\\, dy\\,  dx = \\int_c^d \\int_a^b g(x, y)\\, dx\\, dy\n",
    "\\end{align}$$\n",
    "\n",
    "Para fazer esse cálculo, devemos primeiro definir as variáveis e a função a ser integrada"
   ]
  },
  {
   "cell_type": "code",
   "execution_count": 71,
   "metadata": {},
   "outputs": [
    {
     "data": {
      "text/html": [
       "<html><script type=\"math/tex; mode=display\">\\newcommand{\\Bold}[1]{\\mathbf{#1}}\\left(x, y\\right)</script></html>"
      ],
      "text/latex": [
       "$$\\newcommand{\\Bold}[1]{\\mathbf{#1}}\\left(x, y\\right)$$"
      ],
      "text/plain": [
       "(x, y)"
      ]
     },
     "execution_count": 71,
     "metadata": {},
     "output_type": "execute_result"
    }
   ],
   "source": [
    "var('x y')"
   ]
  },
  {
   "cell_type": "code",
   "execution_count": 72,
   "metadata": {},
   "outputs": [],
   "source": [
    "g = function('g')(x, y)"
   ]
  },
  {
   "cell_type": "markdown",
   "metadata": {},
   "source": [
    "A sintaxe para as integrais são simples, `integral_2(integral_1(g(x,y), x),y)`, dessa forma"
   ]
  },
  {
   "cell_type": "code",
   "execution_count": 73,
   "metadata": {},
   "outputs": [
    {
     "data": {
      "text/html": [
       "<html><script type=\"math/tex; mode=display\">\\newcommand{\\Bold}[1]{\\mathbf{#1}}\\int \\int g\\left(x, y\\right)\\,{d x}\\,{d y}</script></html>"
      ],
      "text/latex": [
       "$$\\newcommand{\\Bold}[1]{\\mathbf{#1}}\\int \\int g\\left(x, y\\right)\\,{d x}\\,{d y}$$"
      ],
      "text/plain": [
       "integrate(integrate(g(x, y), x), y)"
      ]
     },
     "execution_count": 73,
     "metadata": {},
     "output_type": "execute_result"
    }
   ],
   "source": [
    "integrate(integrate(g(x,y),x),y)"
   ]
  },
  {
   "cell_type": "markdown",
   "metadata": {},
   "source": [
    "Para a utilização de limites de integração, a sintexa se torna `integrate(integrate(g(x,y), x, lim_x_inf, lim_x_sup), y,lim_y_inf, lim_y_sup)`"
   ]
  },
  {
   "cell_type": "code",
   "execution_count": 74,
   "metadata": {},
   "outputs": [
    {
     "data": {
      "text/html": [
       "<html><script type=\"math/tex; mode=display\">\\newcommand{\\Bold}[1]{\\mathbf{#1}}\\left(a, b, c, d\\right)</script></html>"
      ],
      "text/latex": [
       "$$\\newcommand{\\Bold}[1]{\\mathbf{#1}}\\left(a, b, c, d\\right)$$"
      ],
      "text/plain": [
       "(a, b, c, d)"
      ]
     },
     "execution_count": 74,
     "metadata": {},
     "output_type": "execute_result"
    }
   ],
   "source": [
    "var('a b c d')"
   ]
  },
  {
   "cell_type": "code",
   "execution_count": 75,
   "metadata": {},
   "outputs": [
    {
     "data": {
      "text/html": [
       "<html><script type=\"math/tex; mode=display\">\\newcommand{\\Bold}[1]{\\mathbf{#1}}\\int_{c}^{d} \\int_{a}^{b} g\\left(x, y\\right)\\,{d x}\\,{d y}</script></html>"
      ],
      "text/latex": [
       "$$\\newcommand{\\Bold}[1]{\\mathbf{#1}}\\int_{c}^{d} \\int_{a}^{b} g\\left(x, y\\right)\\,{d x}\\,{d y}$$"
      ],
      "text/plain": [
       "integrate(integrate(g(x, y), x, a, b), y, c, d)"
      ]
     },
     "execution_count": 75,
     "metadata": {},
     "output_type": "execute_result"
    }
   ],
   "source": [
    "integrate(integrate(g(x,y),x,a,b), y,c,d)"
   ]
  },
  {
   "cell_type": "markdown",
   "metadata": {},
   "source": [
    "Se definirmos a função $g(x,y) = x^2 y^3$, com os limites $2 \\le x \\le 4$ e $5 \\le y \\le 8$. O cálculo da integral será"
   ]
  },
  {
   "cell_type": "code",
   "execution_count": 76,
   "metadata": {},
   "outputs": [
    {
     "data": {
      "text/html": [
       "<html><script type=\"math/tex; mode=display\">\\newcommand{\\Bold}[1]{\\mathbf{#1}}\\int \\int x^{2} y^{3}\\,{d x}\\,{d y}</script></html>"
      ],
      "text/latex": [
       "$$\\newcommand{\\Bold}[1]{\\mathbf{#1}}\\int \\int x^{2} y^{3}\\,{d x}\\,{d y}$$"
      ],
      "text/plain": [
       "integrate(integrate(x^2*y^3, x), y)"
      ]
     },
     "execution_count": 76,
     "metadata": {},
     "output_type": "execute_result"
    }
   ],
   "source": [
    "integrate(integrate(x^2*y^3,x, hold=True), y, hold=True)"
   ]
  },
  {
   "cell_type": "code",
   "execution_count": 77,
   "metadata": {},
   "outputs": [
    {
     "data": {
      "text/html": [
       "<html><script type=\"math/tex; mode=display\">\\newcommand{\\Bold}[1]{\\mathbf{#1}}\\frac{1}{12} \\, x^{3} y^{4}</script></html>"
      ],
      "text/latex": [
       "$$\\newcommand{\\Bold}[1]{\\mathbf{#1}}\\frac{1}{12} \\, x^{3} y^{4}$$"
      ],
      "text/plain": [
       "1/12*x^3*y^4"
      ]
     },
     "execution_count": 77,
     "metadata": {},
     "output_type": "execute_result"
    }
   ],
   "source": [
    "integrate(integrate(x^2*y^3,x), y)"
   ]
  },
  {
   "cell_type": "code",
   "execution_count": 78,
   "metadata": {},
   "outputs": [
    {
     "data": {
      "text/html": [
       "<html><script type=\"math/tex; mode=display\">\\newcommand{\\Bold}[1]{\\mathbf{#1}}\\int_{5}^{8} \\int_{2}^{4} x^{2} y^{3}\\,{d x}\\,{d y}</script></html>"
      ],
      "text/latex": [
       "$$\\newcommand{\\Bold}[1]{\\mathbf{#1}}\\int_{5}^{8} \\int_{2}^{4} x^{2} y^{3}\\,{d x}\\,{d y}$$"
      ],
      "text/plain": [
       "integrate(integrate(x^2*y^3, x, 2, 4), y, 5, 8)"
      ]
     },
     "execution_count": 78,
     "metadata": {},
     "output_type": "execute_result"
    }
   ],
   "source": [
    "integrate(integrate(x^2*y^3,x,2,4, hold=True), y,5,8, hold=True)"
   ]
  },
  {
   "cell_type": "code",
   "execution_count": 79,
   "metadata": {},
   "outputs": [
    {
     "data": {
      "text/html": [
       "<html><script type=\"math/tex; mode=display\">\\newcommand{\\Bold}[1]{\\mathbf{#1}}16198</script></html>"
      ],
      "text/latex": [
       "$$\\newcommand{\\Bold}[1]{\\mathbf{#1}}16198$$"
      ],
      "text/plain": [
       "16198"
      ]
     },
     "execution_count": 79,
     "metadata": {},
     "output_type": "execute_result"
    }
   ],
   "source": [
    "integrate(integrate(x^2*y^3,x,2,4), y,5,8)"
   ]
  },
  {
   "cell_type": "markdown",
   "metadata": {},
   "source": [
    " "
   ]
  },
  {
   "cell_type": "markdown",
   "metadata": {},
   "source": [
    "Seja a nova função $h(x,y) = (x - 3y^2)$, com os limites $0 \\le x \\le 2$ e $1 \\le y \\le 2$. "
   ]
  },
  {
   "cell_type": "code",
   "execution_count": 80,
   "metadata": {},
   "outputs": [
    {
     "data": {
      "text/html": [
       "<html><script type=\"math/tex; mode=display\">\\newcommand{\\Bold}[1]{\\mathbf{#1}}-3 \\, y^{2} + x</script></html>"
      ],
      "text/latex": [
       "$$\\newcommand{\\Bold}[1]{\\mathbf{#1}}-3 \\, y^{2} + x$$"
      ],
      "text/plain": [
       "-3*y^2 + x"
      ]
     },
     "execution_count": 80,
     "metadata": {},
     "output_type": "execute_result"
    }
   ],
   "source": [
    "h = x - 3*y^2\n",
    "h"
   ]
  },
  {
   "cell_type": "code",
   "execution_count": 81,
   "metadata": {},
   "outputs": [
    {
     "data": {
      "text/html": [
       "<html><script type=\"math/tex; mode=display\">\\newcommand{\\Bold}[1]{\\mathbf{#1}}\\int_{1}^{2} \\int_{0}^{2} -3 \\, y^{2} + x\\,{d x}\\,{d y}</script></html>"
      ],
      "text/latex": [
       "$$\\newcommand{\\Bold}[1]{\\mathbf{#1}}\\int_{1}^{2} \\int_{0}^{2} -3 \\, y^{2} + x\\,{d x}\\,{d y}$$"
      ],
      "text/plain": [
       "integrate(integrate(-3*y^2 + x, x, 0, 2), y, 1, 2)"
      ]
     },
     "execution_count": 81,
     "metadata": {},
     "output_type": "execute_result"
    }
   ],
   "source": [
    "integrate(integrate(h,x,0,2, hold=True), y,1,2, hold=True)"
   ]
  },
  {
   "cell_type": "code",
   "execution_count": 82,
   "metadata": {},
   "outputs": [
    {
     "data": {
      "text/html": [
       "<html><script type=\"math/tex; mode=display\">\\newcommand{\\Bold}[1]{\\mathbf{#1}}-12</script></html>"
      ],
      "text/latex": [
       "$$\\newcommand{\\Bold}[1]{\\mathbf{#1}}-12$$"
      ],
      "text/plain": [
       "-12"
      ]
     },
     "execution_count": 82,
     "metadata": {},
     "output_type": "execute_result"
    }
   ],
   "source": [
    "integrate(integrate(h,x,0,2), y,1,2)"
   ]
  },
  {
   "cell_type": "markdown",
   "metadata": {},
   "source": [
    " "
   ]
  },
  {
   "cell_type": "markdown",
   "metadata": {},
   "source": [
    "#### 6.5.1 Integrais Tríplas"
   ]
  },
  {
   "cell_type": "markdown",
   "metadata": {},
   "source": [
    "Para o cálculo das integrais tríplas, o precedimento é o mesmo adotado anteriormente. A sintaxe será `\\integral_3(integral_2(integral_1(g(x,y), x),y), z)`"
   ]
  },
  {
   "cell_type": "code",
   "execution_count": 83,
   "metadata": {},
   "outputs": [
    {
     "data": {
      "text/html": [
       "<html><script type=\"math/tex; mode=display\">\\newcommand{\\Bold}[1]{\\mathbf{#1}}m\\left(x, y, z\\right)</script></html>"
      ],
      "text/latex": [
       "$$\\newcommand{\\Bold}[1]{\\mathbf{#1}}m\\left(x, y, z\\right)$$"
      ],
      "text/plain": [
       "m(x, y, z)"
      ]
     },
     "execution_count": 83,
     "metadata": {},
     "output_type": "execute_result"
    }
   ],
   "source": [
    "m = function('m')(x, y, z)\n",
    "m"
   ]
  },
  {
   "cell_type": "code",
   "execution_count": 84,
   "metadata": {},
   "outputs": [
    {
     "data": {
      "text/html": [
       "<html><script type=\"math/tex; mode=display\">\\newcommand{\\Bold}[1]{\\mathbf{#1}}\\int \\int \\int m\\left(x, y, z\\right)\\,{d x}\\,{d y}\\,{d z}</script></html>"
      ],
      "text/latex": [
       "$$\\newcommand{\\Bold}[1]{\\mathbf{#1}}\\int \\int \\int m\\left(x, y, z\\right)\\,{d x}\\,{d y}\\,{d z}$$"
      ],
      "text/plain": [
       "integrate(integrate(integrate(m(x, y, z), x), y), z)"
      ]
     },
     "execution_count": 84,
     "metadata": {},
     "output_type": "execute_result"
    }
   ],
   "source": [
    "integrate(integrate(integrate(m,x),y), z)"
   ]
  },
  {
   "cell_type": "markdown",
   "metadata": {},
   "source": [
    "Para fazer esse cálculo com os limetes de integração de $m$, faremos `integrate(integrate(integrate(g(x,y), x, lim_x_inf, lim_x_sup), y,lim_y_inf, lim_y_sup), z, lim_z_inf, lim_z_sup)`"
   ]
  },
  {
   "cell_type": "code",
   "execution_count": 85,
   "metadata": {},
   "outputs": [
    {
     "data": {
      "text/html": [
       "<html><script type=\"math/tex; mode=display\">\\newcommand{\\Bold}[1]{\\mathbf{#1}}\\left(r, s\\right)</script></html>"
      ],
      "text/latex": [
       "$$\\newcommand{\\Bold}[1]{\\mathbf{#1}}\\left(r, s\\right)$$"
      ],
      "text/plain": [
       "(r, s)"
      ]
     },
     "execution_count": 85,
     "metadata": {},
     "output_type": "execute_result"
    }
   ],
   "source": [
    "var('r s')"
   ]
  },
  {
   "cell_type": "code",
   "execution_count": 86,
   "metadata": {},
   "outputs": [
    {
     "data": {
      "text/html": [
       "<html><script type=\"math/tex; mode=display\">\\newcommand{\\Bold}[1]{\\mathbf{#1}}\\int_{r}^{s} \\int_{c}^{d} \\int_{a}^{b} m\\left(x, y, z\\right)\\,{d x}\\,{d y}\\,{d z}</script></html>"
      ],
      "text/latex": [
       "$$\\newcommand{\\Bold}[1]{\\mathbf{#1}}\\int_{r}^{s} \\int_{c}^{d} \\int_{a}^{b} m\\left(x, y, z\\right)\\,{d x}\\,{d y}\\,{d z}$$"
      ],
      "text/plain": [
       "integrate(integrate(integrate(m(x, y, z), x, a, b), y, c, d), z, r, s)"
      ]
     },
     "execution_count": 86,
     "metadata": {},
     "output_type": "execute_result"
    }
   ],
   "source": [
    "integrate(integrate(integrate(m,x,a,b),y,c,d),z,r,s)"
   ]
  },
  {
   "cell_type": "markdown",
   "metadata": {},
   "source": [
    " "
   ]
  },
  {
   "cell_type": "markdown",
   "metadata": {},
   "source": [
    "Seja a nova função $u(x,y) = x y z^2$, com os limites $0 \\le x \\le 1$ e $-1 \\le y \\le 2$ e $0 \\le z \\le 3$. "
   ]
  },
  {
   "cell_type": "code",
   "execution_count": 87,
   "metadata": {},
   "outputs": [
    {
     "data": {
      "text/html": [
       "<html><script type=\"math/tex; mode=display\">\\newcommand{\\Bold}[1]{\\mathbf{#1}}x y z^{2}</script></html>"
      ],
      "text/latex": [
       "$$\\newcommand{\\Bold}[1]{\\mathbf{#1}}x y z^{2}$$"
      ],
      "text/plain": [
       "x*y*z^2"
      ]
     },
     "execution_count": 87,
     "metadata": {},
     "output_type": "execute_result"
    }
   ],
   "source": [
    "u = x*y*z^2\n",
    "u"
   ]
  },
  {
   "cell_type": "code",
   "execution_count": 88,
   "metadata": {},
   "outputs": [
    {
     "data": {
      "text/html": [
       "<html><script type=\"math/tex; mode=display\">\\newcommand{\\Bold}[1]{\\mathbf{#1}}\\int_{0}^{3} \\int_{-1}^{2} \\int_{0}^{1} x y z^{2}\\,{d x}\\,{d y}\\,{d z}</script></html>"
      ],
      "text/latex": [
       "$$\\newcommand{\\Bold}[1]{\\mathbf{#1}}\\int_{0}^{3} \\int_{-1}^{2} \\int_{0}^{1} x y z^{2}\\,{d x}\\,{d y}\\,{d z}$$"
      ],
      "text/plain": [
       "integrate(integrate(integrate(x*y*z^2, x, 0, 1), y, -1, 2), z, 0, 3)"
      ]
     },
     "execution_count": 88,
     "metadata": {},
     "output_type": "execute_result"
    }
   ],
   "source": [
    "integrate(integrate(integrate(u,x,0,1, hold=True),y,-1,2, hold=True),z,0,3, hold=True)"
   ]
  },
  {
   "cell_type": "code",
   "execution_count": 89,
   "metadata": {},
   "outputs": [
    {
     "data": {
      "text/html": [
       "<html><script type=\"math/tex; mode=display\">\\newcommand{\\Bold}[1]{\\mathbf{#1}}\\frac{27}{4}</script></html>"
      ],
      "text/latex": [
       "$$\\newcommand{\\Bold}[1]{\\mathbf{#1}}\\frac{27}{4}$$"
      ],
      "text/plain": [
       "27/4"
      ]
     },
     "execution_count": 89,
     "metadata": {},
     "output_type": "execute_result"
    }
   ],
   "source": [
    "integrate(integrate(integrate(u,x,0,1),y,-1,2),z,0,3)"
   ]
  },
  {
   "cell_type": "markdown",
   "metadata": {},
   "source": [
    " "
   ]
  }
 ],
 "metadata": {
  "kernelspec": {
   "display_name": "SageMath 9.3",
   "language": "sage",
   "name": "sagemath"
  },
  "language_info": {
   "codemirror_mode": {
    "name": "ipython",
    "version": 3
   },
   "file_extension": ".py",
   "mimetype": "text/x-python",
   "name": "python",
   "nbconvert_exporter": "python",
   "pygments_lexer": "ipython3",
   "version": "3.9.2"
  }
 },
 "nbformat": 4,
 "nbformat_minor": 4
}
