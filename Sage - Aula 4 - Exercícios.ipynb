{
 "cells": [
  {
   "cell_type": "code",
   "execution_count": 35,
   "metadata": {},
   "outputs": [],
   "source": [
    "%display latex\n",
    "reset()"
   ]
  },
  {
   "cell_type": "markdown",
   "metadata": {},
   "source": [
    "# Exercícios"
   ]
  },
  {
   "cell_type": "markdown",
   "metadata": {},
   "source": [
    "1. Plote separadamente a função $f(x)= \\sin(4x)\\cos(x)$ e as suas derivadas primeira e segunda. Após isso contrua um único gráfico com todos. Cada gráfico deve conter\n",
    "- Legenda;\n",
    "- Linhas de grade;\n",
    "- Cor diferente;\n",
    "- Frame;\n",
    "\n",
    "no último gráfico coloque também o Título \"Primitiva e derivadas\". \n",
    "\n",
    "---"
   ]
  },
  {
   "cell_type": "markdown",
   "metadata": {},
   "source": [
    "2. Um determinado grupo, na disciplina de física experimental num experimento _Efeito Foto-elétrico_ colheu as seguintes medidas paara o potêncial de corte para determinada frequência da luz incidente.\n",
    "\n",
    "Frequência | Potêncial de corte \n",
    ":-----------:|:-------------------:\n",
    "5,19$\\times 10^{14}$| $0,57$\n",
    "5,49$\\times 10^{14}$|$0,65$\n",
    "6,88$\\times 10^{14}$|$1,23$\n",
    "7,41$\\times 10^{14}$|$1,34$\n",
    "8,20$\\times 10^{14}$|$1,55$\n",
    "\n",
    "Plote o potêncial de corte em termos da frequência da luz incidente em ponto, como uma linha passando por todos os pontos e crie um único gráficos com os dois anteriores colocando o nome de cada eixo e um título.\n",
    "\n",
    "---"
   ]
  },
  {
   "cell_type": "markdown",
   "metadata": {},
   "source": [
    "3. O espaço-tempo de Minkowski é a estrutura matemática onde é estabelecida a relatividade restrita, ele é munido de uma métrica dada por\n",
    "\\begin{equation}\n",
    "\\eta = [\\eta_{\\mu\\nu}] = \\left(\n",
    " \\begin{array}{cccc}\n",
    " -1&0&0&0 \\\\\n",
    " 0&1&0&0 \\\\\n",
    " 0&0&1&0 \\\\\n",
    " 0&0&0&1\n",
    " \\end{array}\n",
    "\\right).\n",
    "\\end{equation}\n",
    "\n",
    "No espaço-tempo de Minkowski existem três tipos de vetores dependendo do sinal do produto interno\n",
    "\n",
    "- Tipo-tempo se $\\eta(v,v)<0$\n",
    "- Tipo-espaço se $\\eta(v,v)>0$\n",
    "- Tipo-nulo se $\\eta(v,v)=0$.\n",
    "\n",
    "Dados os vetores $e_{0} = (1,0,0,0)$, $e_{1} = (0,1,0,0)$, $e_{2} = (0,0,1,0)$ e $e_{0} = (0,0,0,1)$, vefique realizando o produto $e_{i}\\eta e_{i}$ se são do tipo-tempo, espaço ou nulo. Faça o mesmo para o vetor $v = (x,x,0,0)$ onde $x \\in \\mathbb{R}$.\n",
    "\n",
    "---"
   ]
  },
  {
   "cell_type": "markdown",
   "metadata": {},
   "source": [
    "4. Plote o campo vetorial gradiente de $f(x,y,z) = x^2 + y^2 + z^2$ e uma esfera centrada na origem de raio 3 e opacidade 0.3.\n",
    "\n",
    "**Dica:** Para opacidade use o comando `opacity=`.\n",
    "\n",
    "---"
   ]
  },
  {
   "cell_type": "markdown",
   "metadata": {},
   "source": [
    "5. Usando vetores represente a base do $\\mathbb{R}^3$, e adicionalmente, plote uma esfera de raio 0.5 centrada na origem.\n",
    "\n",
    "---"
   ]
  },
  {
   "cell_type": "markdown",
   "metadata": {},
   "source": [
    "6. Dada a métrica de Schwarzschild em termo das coordenadas de entrada de Eddington–Finkelstein é dada por\n",
    "\\begin{equation}\n",
    "[g] = \\left(\\begin{array}{cccc}\n",
    "-\\left(1-\\frac{2M}{r}\\right)&1&0&0 \\\\\n",
    "1&0&0&0 \\\\\n",
    "0&0&r^2 & 0 \\\\\n",
    "0&0&0 &r^2 \\sin^2(\\theta)\n",
    "\\end{array}\\right)\n",
    "\\end{equation}\n",
    "\n",
    "calcule sua inversa $[g^{-1}]$, e verifique se de fato é a inversa fazendo $[g][g^{-1}]$.\n",
    "\n",
    "---"
   ]
  }
 ],
 "metadata": {
  "kernelspec": {
   "display_name": "SageMath 9.3",
   "language": "sage",
   "name": "sagemath"
  },
  "language_info": {
   "codemirror_mode": {
    "name": "ipython",
    "version": 3
   },
   "file_extension": ".py",
   "mimetype": "text/x-python",
   "name": "python",
   "nbconvert_exporter": "python",
   "pygments_lexer": "ipython3",
   "version": "3.9.2"
  }
 },
 "nbformat": 4,
 "nbformat_minor": 4
}
