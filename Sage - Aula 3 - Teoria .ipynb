{
 "cells": [
  {
   "cell_type": "markdown",
   "metadata": {},
   "source": [
    "# Minicurso SageMath - Aula 3\n",
    "André Felipe Moraes Luiz Lucchini\n",
    "___"
   ]
  },
  {
   "cell_type": "markdown",
   "metadata": {},
   "source": [
    "## Cronograma \n",
    "\n",
    "   * Aula Teórica:\n",
    "       10 hrs às 12 hrs\n",
    "        \n",
    "   * Aula Prática:\n",
    "        17 hrs às 19 hrs\n",
    "___"
   ]
  },
  {
   "cell_type": "markdown",
   "metadata": {},
   "source": [
    "## Tópicos de aula:\n",
    "\n",
    "   - Cálculo\n",
    "\n",
    "\n",
    "   - Derivadas e Integrais\n",
    "\n",
    "\n",
    "   - Série de Taylor\n",
    "\n",
    "\n",
    "   - Equações diferenciais ordinárias\n",
    "\n",
    "\n",
    "   - Funções de várias variáveis\n",
    "    \n",
    "___"
   ]
  },
  {
   "cell_type": "markdown",
   "metadata": {},
   "source": [
    "## 1. Pré-documento"
   ]
  },
  {
   "cell_type": "markdown",
   "metadata": {},
   "source": [
    "Usamos `%display latex` para exibir as expreções como no $\\LaTeX{}$"
   ]
  },
  {
   "cell_type": "code",
   "execution_count": 191,
   "metadata": {},
   "outputs": [],
   "source": [
    "%display latex # outras opções são plane, ascii_art e unicode_art"
   ]
  },
  {
   "cell_type": "code",
   "execution_count": 192,
   "metadata": {},
   "outputs": [],
   "source": [
    "reset() #inicializa todas as variáveis"
   ]
  },
  {
   "cell_type": "code",
   "execution_count": 193,
   "metadata": {},
   "outputs": [
    {
     "data": {
      "text/html": [
       "SageMath version 9.3, Release Date: 2021-05-09"
      ],
      "text/plain": [
       "'SageMath version 9.3, Release Date: 2021-05-09'"
      ]
     },
     "execution_count": 193,
     "metadata": {},
     "output_type": "execute_result"
    }
   ],
   "source": [
    "version() #checagem versão do sage"
   ]
  },
  {
   "cell_type": "markdown",
   "metadata": {},
   "source": [
    " "
   ]
  },
  {
   "cell_type": "markdown",
   "metadata": {},
   "source": [
    "## 2. Cálculo"
   ]
  },
  {
   "cell_type": "markdown",
   "metadata": {},
   "source": [
    "### 2.1 Limites"
   ]
  },
  {
   "cell_type": "markdown",
   "metadata": {},
   "source": [
    "Para o cálculo do limite, use a sintaxe `lim(função, argumento)`"
   ]
  },
  {
   "cell_type": "code",
   "execution_count": 196,
   "metadata": {},
   "outputs": [
    {
     "data": {
      "text/html": [
       "<html><script type=\"math/tex; mode=display\">\\newcommand{\\Bold}[1]{\\mathbf{#1}}x \\ {\\mapsto}\\ \\frac{x^{\\frac{1}{3}} - 2}{{\\left(x + 19\\right)}^{\\frac{1}{3}} - 3}</script></html>"
      ],
      "text/latex": [
       "$$\\newcommand{\\Bold}[1]{\\mathbf{#1}}x \\ {\\mapsto}\\ \\frac{x^{\\frac{1}{3}} - 2}{{\\left(x + 19\\right)}^{\\frac{1}{3}} - 3}$$"
      ],
      "text/plain": [
       "x |--> (x^(1/3) - 2)/((x + 19)^(1/3) - 3)"
      ]
     },
     "execution_count": 196,
     "metadata": {},
     "output_type": "execute_result"
    }
   ],
   "source": [
    "f(x)=(x^(1/3) - 2) / ((x + 19)**(1/3) - 3)\n",
    "f"
   ]
  },
  {
   "cell_type": "code",
   "execution_count": 199,
   "metadata": {},
   "outputs": [
    {
     "data": {
      "text/html": [
       "<html><script type=\"math/tex; mode=display\">\\newcommand{\\Bold}[1]{\\mathbf{#1}}-\\frac{2}{19^{\\frac{1}{3}} - 3}</script></html>"
      ],
      "text/latex": [
       "$$\\newcommand{\\Bold}[1]{\\mathbf{#1}}-\\frac{2}{19^{\\frac{1}{3}} - 3}$$"
      ],
      "text/plain": [
       "-2/(19^(1/3) - 3)"
      ]
     },
     "execution_count": 199,
     "metadata": {},
     "output_type": "execute_result"
    }
   ],
   "source": [
    "lim(f(x), x = 0)"
   ]
  },
  {
   "cell_type": "code",
   "execution_count": 200,
   "metadata": {},
   "outputs": [
    {
     "data": {
      "text/html": [
       "<html><script type=\"math/tex; mode=display\">\\newcommand{\\Bold}[1]{\\mathbf{#1}}-\\frac{\\cos\\left(\\frac{1}{4} \\, \\pi - x\\right) - \\tan\\left(x\\right)}{\\sin\\left(\\frac{1}{4} \\, \\pi + x\\right) - 1}</script></html>"
      ],
      "text/latex": [
       "$$\\newcommand{\\Bold}[1]{\\mathbf{#1}}-\\frac{\\cos\\left(\\frac{1}{4} \\, \\pi - x\\right) - \\tan\\left(x\\right)}{\\sin\\left(\\frac{1}{4} \\, \\pi + x\\right) - 1}$$"
      ],
      "text/plain": [
       "-(cos(1/4*pi - x) - tan(x))/(sin(1/4*pi + x) - 1)"
      ]
     },
     "execution_count": 200,
     "metadata": {},
     "output_type": "execute_result"
    }
   ],
   "source": [
    "g(x) = (cos(pi/4-x)-tan(x))/(1-sin(pi/4 + x))\n",
    "g(x)"
   ]
  },
  {
   "cell_type": "code",
   "execution_count": 203,
   "metadata": {},
   "outputs": [
    {
     "data": {
      "text/html": [
       "<html><script type=\"math/tex; mode=display\">\\newcommand{\\Bold}[1]{\\mathbf{#1}}-\\frac{\\sqrt{2}}{\\sqrt{2} + 2}</script></html>"
      ],
      "text/latex": [
       "$$\\newcommand{\\Bold}[1]{\\mathbf{#1}}-\\frac{\\sqrt{2}}{\\sqrt{2} + 2}$$"
      ],
      "text/plain": [
       "-sqrt(2)/(sqrt(2) + 2)"
      ]
     },
     "execution_count": 203,
     "metadata": {},
     "output_type": "execute_result"
    }
   ],
   "source": [
    "lim(g(x), x = π)"
   ]
  },
  {
   "cell_type": "code",
   "execution_count": 204,
   "metadata": {},
   "outputs": [
    {
     "data": {
      "text/html": [
       "<html><script type=\"math/tex; mode=display\">\\newcommand{\\Bold}[1]{\\mathbf{#1}}1</script></html>"
      ],
      "text/latex": [
       "$$\\newcommand{\\Bold}[1]{\\mathbf{#1}}1$$"
      ],
      "text/plain": [
       "1"
      ]
     },
     "execution_count": 204,
     "metadata": {},
     "output_type": "execute_result"
    }
   ],
   "source": [
    "lim(sin(x)/x, x = 0) "
   ]
  },
  {
   "cell_type": "code",
   "execution_count": 205,
   "metadata": {},
   "outputs": [
    {
     "data": {
      "text/html": [
       "<html><script type=\"math/tex; mode=display\">\\newcommand{\\Bold}[1]{\\mathbf{#1}}\\infty</script></html>"
      ],
      "text/latex": [
       "$$\\newcommand{\\Bold}[1]{\\mathbf{#1}}\\infty$$"
      ],
      "text/plain": [
       "Infinity"
      ]
     },
     "execution_count": 205,
     "metadata": {},
     "output_type": "execute_result"
    }
   ],
   "source": [
    "lim(g(x), x=pi/4)"
   ]
  },
  {
   "cell_type": "markdown",
   "metadata": {},
   "source": [
    "<div class=\"alert alert-block alert-warning\">\n",
    "A saída acima diz apenas que um dos limites, à esquerda ou à direita, é infinito.\n",
    "</div>"
   ]
  },
  {
   "cell_type": "markdown",
   "metadata": {},
   "source": [
    "Para estudar os limites laterais usamos a opção `dir`: `lim(função, x, dir='minus/plus')`"
   ]
  },
  {
   "cell_type": "code",
   "execution_count": 206,
   "metadata": {},
   "outputs": [
    {
     "data": {
      "text/html": [
       "<html><script type=\"math/tex; mode=display\">\\newcommand{\\Bold}[1]{\\mathbf{#1}}+\\infty</script></html>"
      ],
      "text/latex": [
       "$$\\newcommand{\\Bold}[1]{\\mathbf{#1}}+\\infty$$"
      ],
      "text/plain": [
       "+Infinity"
      ]
     },
     "execution_count": 206,
     "metadata": {},
     "output_type": "execute_result"
    }
   ],
   "source": [
    "limit(g(x), x = pi/4, dir='minus')"
   ]
  },
  {
   "cell_type": "code",
   "execution_count": 207,
   "metadata": {},
   "outputs": [
    {
     "data": {
      "text/html": [
       "<html><script type=\"math/tex; mode=display\">\\newcommand{\\Bold}[1]{\\mathbf{#1}}-\\infty</script></html>"
      ],
      "text/latex": [
       "$$\\newcommand{\\Bold}[1]{\\mathbf{#1}}-\\infty$$"
      ],
      "text/plain": [
       "-Infinity"
      ]
     },
     "execution_count": 207,
     "metadata": {},
     "output_type": "execute_result"
    }
   ],
   "source": [
    "limit(g(x), x = pi/4, dir='plus')"
   ]
  },
  {
   "cell_type": "code",
   "execution_count": 208,
   "metadata": {},
   "outputs": [],
   "source": [
    "lim?"
   ]
  },
  {
   "cell_type": "markdown",
   "metadata": {},
   "source": [
    " "
   ]
  },
  {
   "cell_type": "markdown",
   "metadata": {},
   "source": [
    "## 3 Derivadas e Integrais"
   ]
  },
  {
   "cell_type": "markdown",
   "metadata": {},
   "source": [
    "### 3.1 Derivadas"
   ]
  },
  {
   "cell_type": "markdown",
   "metadata": {},
   "source": [
    "Para utilizar derivadas, tem-se a sintaxe `diff(função, arg, grau)` ou `função.diff(arg, grau)`"
   ]
  },
  {
   "cell_type": "code",
   "execution_count": 210,
   "metadata": {},
   "outputs": [
    {
     "data": {
      "text/html": [
       "<html><script type=\"math/tex; mode=display\">\\newcommand{\\Bold}[1]{\\mathbf{#1}}2 \\, x \\cos\\left(x^{2}\\right)</script></html>"
      ],
      "text/latex": [
       "$$\\newcommand{\\Bold}[1]{\\mathbf{#1}}2 \\, x \\cos\\left(x^{2}\\right)$$"
      ],
      "text/plain": [
       "2*x*cos(x^2)"
      ]
     },
     "execution_count": 210,
     "metadata": {},
     "output_type": "execute_result"
    }
   ],
   "source": [
    "diff(sin(x^2), x, 1)"
   ]
  },
  {
   "cell_type": "markdown",
   "metadata": {},
   "source": [
    "Para ordens superiores"
   ]
  },
  {
   "cell_type": "code",
   "execution_count": 212,
   "metadata": {},
   "outputs": [
    {
     "data": {
      "text/html": [
       "<html><script type=\"math/tex; mode=display\">\\newcommand{\\Bold}[1]{\\mathbf{#1}}32 \\, x^{5} \\cos\\left(x^{2}\\right) + 160 \\, x^{3} \\sin\\left(x^{2}\\right) - 120 \\, x \\cos\\left(x^{2}\\right)</script></html>"
      ],
      "text/latex": [
       "$$\\newcommand{\\Bold}[1]{\\mathbf{#1}}32 \\, x^{5} \\cos\\left(x^{2}\\right) + 160 \\, x^{3} \\sin\\left(x^{2}\\right) - 120 \\, x \\cos\\left(x^{2}\\right)$$"
      ],
      "text/plain": [
       "32*x^5*cos(x^2) + 160*x^3*sin(x^2) - 120*x*cos(x^2)"
      ]
     },
     "execution_count": 212,
     "metadata": {},
     "output_type": "execute_result"
    }
   ],
   "source": [
    "diff(sin(x^2), x, 5)"
   ]
  },
  {
   "cell_type": "markdown",
   "metadata": {},
   "source": [
    "Utilizando a derivada parcial"
   ]
  },
  {
   "cell_type": "code",
   "execution_count": 213,
   "metadata": {},
   "outputs": [
    {
     "data": {
      "text/html": [
       "<html><script type=\"math/tex; mode=display\">\\newcommand{\\Bold}[1]{\\mathbf{#1}}\\left( x, y \\right) \\ {\\mapsto} \\ x y^{2} + e^{\\left(-x\\right)} + \\sin\\left(x^{2}\\right)</script></html>"
      ],
      "text/latex": [
       "$$\\newcommand{\\Bold}[1]{\\mathbf{#1}}\\left( x, y \\right) \\ {\\mapsto} \\ x y^{2} + e^{\\left(-x\\right)} + \\sin\\left(x^{2}\\right)$$"
      ],
      "text/plain": [
       "(x, y) |--> x*y^2 + e^(-x) + sin(x^2)"
      ]
     },
     "execution_count": 213,
     "metadata": {},
     "output_type": "execute_result"
    }
   ],
   "source": [
    "h(x,y) = x*y^2 + sin(x^2) + e^(-x)\n",
    "h"
   ]
  },
  {
   "cell_type": "markdown",
   "metadata": {},
   "source": [
    "Sintaxe derivadas parciais `diff(função, var, grau)` ou `derivative(função, var, grau)`"
   ]
  },
  {
   "cell_type": "code",
   "execution_count": 222,
   "metadata": {},
   "outputs": [
    {
     "data": {
      "text/html": [
       "<html><script type=\"math/tex; mode=display\">\\newcommand{\\Bold}[1]{\\mathbf{#1}}16 \\, x^{4} \\sin\\left(x^{2}\\right) - 48 \\, x^{2} \\cos\\left(x^{2}\\right) + e^{\\left(-x\\right)} - 12 \\, \\sin\\left(x^{2}\\right)</script></html>"
      ],
      "text/latex": [
       "$$\\newcommand{\\Bold}[1]{\\mathbf{#1}}16 \\, x^{4} \\sin\\left(x^{2}\\right) - 48 \\, x^{2} \\cos\\left(x^{2}\\right) + e^{\\left(-x\\right)} - 12 \\, \\sin\\left(x^{2}\\right)$$"
      ],
      "text/plain": [
       "16*x^4*sin(x^2) - 48*x^2*cos(x^2) + e^(-x) - 12*sin(x^2)"
      ]
     },
     "execution_count": 222,
     "metadata": {},
     "output_type": "execute_result"
    }
   ],
   "source": [
    "diff(h(x,y), x, 4)"
   ]
  },
  {
   "cell_type": "code",
   "execution_count": 223,
   "metadata": {},
   "outputs": [
    {
     "data": {
      "text/html": [
       "<html><script type=\"math/tex; mode=display\">\\newcommand{\\Bold}[1]{\\mathbf{#1}}0</script></html>"
      ],
      "text/latex": [
       "$$\\newcommand{\\Bold}[1]{\\mathbf{#1}}0$$"
      ],
      "text/plain": [
       "0"
      ]
     },
     "execution_count": 223,
     "metadata": {},
     "output_type": "execute_result"
    }
   ],
   "source": [
    "derivative(h(x,y), y, 3)"
   ]
  },
  {
   "cell_type": "code",
   "execution_count": 221,
   "metadata": {},
   "outputs": [],
   "source": [
    "derivative?"
   ]
  },
  {
   "cell_type": "markdown",
   "metadata": {},
   "source": [
    " "
   ]
  },
  {
   "cell_type": "markdown",
   "metadata": {},
   "source": [
    "### 3.2 Integrais"
   ]
  },
  {
   "cell_type": "markdown",
   "metadata": {},
   "source": [
    "Para utilizar integrais, utilize a sintaxe `função.integral(var, lim_inf, lim_sup)` ou `integrate(função, var, lim_inf, lim_sup)`"
   ]
  },
  {
   "cell_type": "code",
   "execution_count": 224,
   "metadata": {},
   "outputs": [
    {
     "data": {
      "text/html": [
       "<html><script type=\"math/tex; mode=display\">\\newcommand{\\Bold}[1]{\\mathbf{#1}}\\int_{-\\infty}^{+\\infty} \\frac{1}{x^{2} + 1}\\,{d x}</script></html>"
      ],
      "text/latex": [
       "$$\\newcommand{\\Bold}[1]{\\mathbf{#1}}\\int_{-\\infty}^{+\\infty} \\frac{1}{x^{2} + 1}\\,{d x}$$"
      ],
      "text/plain": [
       "integrate(1/(x^2 + 1), x, -Infinity, +Infinity)"
      ]
     },
     "execution_count": 224,
     "metadata": {},
     "output_type": "execute_result"
    }
   ],
   "source": [
    "(1/(1+x^2)).integral(x, -infinity, infinity, hold=True) "
   ]
  },
  {
   "cell_type": "code",
   "execution_count": 225,
   "metadata": {},
   "outputs": [
    {
     "data": {
      "text/html": [
       "<html><script type=\"math/tex; mode=display\">\\newcommand{\\Bold}[1]{\\mathbf{#1}}\\pi</script></html>"
      ],
      "text/latex": [
       "$$\\newcommand{\\Bold}[1]{\\mathbf{#1}}\\pi$$"
      ],
      "text/plain": [
       "pi"
      ]
     },
     "execution_count": 225,
     "metadata": {},
     "output_type": "execute_result"
    }
   ],
   "source": [
    "(1/(1+x^2)).integral(x, -infinity, infinity)"
   ]
  },
  {
   "cell_type": "code",
   "execution_count": 226,
   "metadata": {},
   "outputs": [
    {
     "data": {
      "text/html": [
       "<html><script type=\"math/tex; mode=display\">\\newcommand{\\Bold}[1]{\\mathbf{#1}}x \\ {\\mapsto}\\ 8 \\, x^{4} + 4 \\, x^{3} - 6 \\, x^{2} - 4 \\, x + 5</script></html>"
      ],
      "text/latex": [
       "$$\\newcommand{\\Bold}[1]{\\mathbf{#1}}x \\ {\\mapsto}\\ 8 \\, x^{4} + 4 \\, x^{3} - 6 \\, x^{2} - 4 \\, x + 5$$"
      ],
      "text/plain": [
       "x |--> 8*x^4 + 4*x^3 - 6*x^2 - 4*x + 5"
      ]
     },
     "execution_count": 226,
     "metadata": {},
     "output_type": "execute_result"
    }
   ],
   "source": [
    "g(x) = 8*x^4 + 4*x^3 - 6*x^2 -4*x + 5\n",
    "g"
   ]
  },
  {
   "cell_type": "code",
   "execution_count": 227,
   "metadata": {},
   "outputs": [
    {
     "data": {
      "text/html": [
       "<html><script type=\"math/tex; mode=display\">\\newcommand{\\Bold}[1]{\\mathbf{#1}}\\int_{0}^{4} 8 \\, x^{4} + 4 \\, x^{3} - 6 \\, x^{2} - 4 \\, x + 5\\,{d x}</script></html>"
      ],
      "text/latex": [
       "$$\\newcommand{\\Bold}[1]{\\mathbf{#1}}\\int_{0}^{4} 8 \\, x^{4} + 4 \\, x^{3} - 6 \\, x^{2} - 4 \\, x + 5\\,{d x}$$"
      ],
      "text/plain": [
       "integrate(8*x^4 + 4*x^3 - 6*x^2 - 4*x + 5, x, 0, 4)"
      ]
     },
     "execution_count": 227,
     "metadata": {},
     "output_type": "execute_result"
    }
   ],
   "source": [
    "integrate(g(x), x, 0 ,4, hold=True)"
   ]
  },
  {
   "cell_type": "markdown",
   "metadata": {},
   "source": [
    " "
   ]
  },
  {
   "cell_type": "code",
   "execution_count": 228,
   "metadata": {},
   "outputs": [
    {
     "data": {
      "text/html": [
       "<html><script type=\"math/tex; mode=display\">\\newcommand{\\Bold}[1]{\\mathbf{#1}}\\frac{8772}{5}</script></html>"
      ],
      "text/latex": [
       "$$\\newcommand{\\Bold}[1]{\\mathbf{#1}}\\frac{8772}{5}$$"
      ],
      "text/plain": [
       "8772/5"
      ]
     },
     "execution_count": 228,
     "metadata": {},
     "output_type": "execute_result"
    }
   ],
   "source": [
    "integrate(g, x, 0 ,4)"
   ]
  },
  {
   "cell_type": "code",
   "execution_count": 229,
   "metadata": {},
   "outputs": [],
   "source": [
    "integral?"
   ]
  },
  {
   "cell_type": "markdown",
   "metadata": {},
   "source": [
    " "
   ]
  },
  {
   "cell_type": "markdown",
   "metadata": {},
   "source": [
    "### 3.3 Integração numérica"
   ]
  },
  {
   "cell_type": "markdown",
   "metadata": {},
   "source": [
    "Para calcular numericamente uma integral usamos, a função `integral_numerical` ou `função.n()`.\n",
    "\n",
    "Essa função retorna um par: \n",
    "\n",
    "   * o primeiro valor é a aproximação da integral;\n",
    "   * o segundo uma estimativa do erro correspondente."
   ]
  },
  {
   "cell_type": "code",
   "execution_count": 230,
   "metadata": {},
   "outputs": [
    {
     "data": {
      "text/html": [
       "<html><script type=\"math/tex; mode=display\">\\newcommand{\\Bold}[1]{\\mathbf{#1}}\\left(0.946083070367183, 1.0503632079297087 \\times 10^{-14}\\right)</script></html>"
      ],
      "text/latex": [
       "$$\\newcommand{\\Bold}[1]{\\mathbf{#1}}\\left(0.946083070367183, 1.0503632079297087 \\times 10^{-14}\\right)$$"
      ],
      "text/plain": [
       "(0.946083070367183, 1.0503632079297087e-14)"
      ]
     },
     "execution_count": 230,
     "metadata": {},
     "output_type": "execute_result"
    }
   ],
   "source": [
    "integral_numerical(sin(x)/x, 0, 1)"
   ]
  },
  {
   "cell_type": "markdown",
   "metadata": {},
   "source": [
    "Ou, simplesmente, `integrate(função, arg, lim_inf, lim_sup).n()`"
   ]
  },
  {
   "cell_type": "code",
   "execution_count": 232,
   "metadata": {},
   "outputs": [
    {
     "data": {
      "text/html": [
       "<html><script type=\"math/tex; mode=display\">\\newcommand{\\Bold}[1]{\\mathbf{#1}}0.946083070367183</script></html>"
      ],
      "text/latex": [
       "$$\\newcommand{\\Bold}[1]{\\mathbf{#1}}0.946083070367183$$"
      ],
      "text/plain": [
       "0.946083070367183"
      ]
     },
     "execution_count": 232,
     "metadata": {},
     "output_type": "execute_result"
    }
   ],
   "source": [
    "integrate(sin(x)/x,x, 0, 1).n()"
   ]
  },
  {
   "cell_type": "markdown",
   "metadata": {},
   "source": [
    " "
   ]
  },
  {
   "cell_type": "markdown",
   "metadata": {},
   "source": [
    "### 4 Séries de Taylor"
   ]
  },
  {
   "cell_type": "markdown",
   "metadata": {},
   "source": [
    "Para o calculo de uma série de Taylor, usamos a sintaxe `taylor(função, variável, ponto de expansão, grau)`"
   ]
  },
  {
   "cell_type": "code",
   "execution_count": 233,
   "metadata": {},
   "outputs": [
    {
     "data": {
      "text/html": [
       "<html><script type=\"math/tex; mode=display\">\\newcommand{\\Bold}[1]{\\mathbf{#1}}8 \\, x^{4} + 4 \\, x^{3} - 6 \\, x^{2} - 4 \\, x + 5</script></html>"
      ],
      "text/latex": [
       "$$\\newcommand{\\Bold}[1]{\\mathbf{#1}}8 \\, x^{4} + 4 \\, x^{3} - 6 \\, x^{2} - 4 \\, x + 5$$"
      ],
      "text/plain": [
       "8*x^4 + 4*x^3 - 6*x^2 - 4*x + 5"
      ]
     },
     "execution_count": 233,
     "metadata": {},
     "output_type": "execute_result"
    }
   ],
   "source": [
    "g(x)"
   ]
  },
  {
   "cell_type": "code",
   "execution_count": 235,
   "metadata": {},
   "outputs": [
    {
     "data": {
      "text/html": [
       "<html><script type=\"math/tex; mode=display\">\\newcommand{\\Bold}[1]{\\mathbf{#1}}4 \\, x^{3} - 6 \\, x^{2} - 4 \\, x + 5</script></html>"
      ],
      "text/latex": [
       "$$\\newcommand{\\Bold}[1]{\\mathbf{#1}}4 \\, x^{3} - 6 \\, x^{2} - 4 \\, x + 5$$"
      ],
      "text/plain": [
       "4*x^3 - 6*x^2 - 4*x + 5"
      ]
     },
     "execution_count": 235,
     "metadata": {},
     "output_type": "execute_result"
    }
   ],
   "source": [
    "taylor(g(x), x, 0, 3)"
   ]
  },
  {
   "cell_type": "code",
   "execution_count": 236,
   "metadata": {},
   "outputs": [
    {
     "data": {
      "text/html": [
       "<html><script type=\"math/tex; mode=display\">\\newcommand{\\Bold}[1]{\\mathbf{#1}}x \\ {\\mapsto}\\ 5 \\, x^{3} + x + 2</script></html>"
      ],
      "text/latex": [
       "$$\\newcommand{\\Bold}[1]{\\mathbf{#1}}x \\ {\\mapsto}\\ 5 \\, x^{3} + x + 2$$"
      ],
      "text/plain": [
       "x |--> 5*x^3 + x + 2"
      ]
     },
     "execution_count": 236,
     "metadata": {},
     "output_type": "execute_result"
    }
   ],
   "source": [
    "f(x) = 5*x^3 + x + 2\n",
    "f"
   ]
  },
  {
   "cell_type": "code",
   "execution_count": 239,
   "metadata": {},
   "outputs": [
    {
     "data": {
      "text/html": [
       "<html><script type=\"math/tex; mode=display\">\\newcommand{\\Bold}[1]{\\mathbf{#1}}x \\ {\\mapsto}\\ 15 \\, x^{2} - 14 \\, x + 7</script></html>"
      ],
      "text/latex": [
       "$$\\newcommand{\\Bold}[1]{\\mathbf{#1}}x \\ {\\mapsto}\\ 15 \\, x^{2} - 14 \\, x + 7$$"
      ],
      "text/plain": [
       "x |--> 15*x^2 - 14*x + 7"
      ]
     },
     "execution_count": 239,
     "metadata": {},
     "output_type": "execute_result"
    }
   ],
   "source": [
    "taylor(f, x, 1, 2).expand()"
   ]
  },
  {
   "cell_type": "code",
   "execution_count": 240,
   "metadata": {},
   "outputs": [
    {
     "data": {
      "text/html": [
       "<html><script type=\"math/tex; mode=display\">\\newcommand{\\Bold}[1]{\\mathbf{#1}}x \\ {\\mapsto}\\ \\cosh\\left(x\\right)</script></html>"
      ],
      "text/latex": [
       "$$\\newcommand{\\Bold}[1]{\\mathbf{#1}}x \\ {\\mapsto}\\ \\cosh\\left(x\\right)$$"
      ],
      "text/plain": [
       "x |--> cosh(x)"
      ]
     },
     "execution_count": 240,
     "metadata": {},
     "output_type": "execute_result"
    }
   ],
   "source": [
    "h(x) = cosh(x)\n",
    "h"
   ]
  },
  {
   "cell_type": "code",
   "execution_count": 241,
   "metadata": {},
   "outputs": [
    {
     "data": {
      "text/html": [
       "<html><script type=\"math/tex; mode=display\">\\newcommand{\\Bold}[1]{\\mathbf{#1}}x \\ {\\mapsto}\\ \\frac{1}{24} \\, x^{4} + \\frac{1}{2} \\, x^{2} + 1</script></html>"
      ],
      "text/latex": [
       "$$\\newcommand{\\Bold}[1]{\\mathbf{#1}}x \\ {\\mapsto}\\ \\frac{1}{24} \\, x^{4} + \\frac{1}{2} \\, x^{2} + 1$$"
      ],
      "text/plain": [
       "x |--> 1/24*x^4 + 1/2*x^2 + 1"
      ]
     },
     "execution_count": 241,
     "metadata": {},
     "output_type": "execute_result"
    }
   ],
   "source": [
    "taylor(h, x, 0, 4)"
   ]
  },
  {
   "cell_type": "code",
   "execution_count": 244,
   "metadata": {},
   "outputs": [
    {
     "data": {
      "text/html": [
       "<html><script type=\"math/tex; mode=display\">\\newcommand{\\Bold}[1]{\\mathbf{#1}}\\frac{1}{24} \\, x^{4} \\cos\\left(2\\right) - \\frac{1}{3} \\, x^{3} \\cos\\left(2\\right) + \\frac{1}{6} \\, x^{3} \\sin\\left(2\\right) + \\frac{1}{2} \\, x^{2} \\cos\\left(2\\right) - x^{2} \\sin\\left(2\\right) + \\frac{2}{3} \\, x \\cos\\left(2\\right) + x \\sin\\left(2\\right) - \\frac{1}{3} \\, \\cos\\left(2\\right) + \\frac{2}{3} \\, \\sin\\left(2\\right)</script></html>"
      ],
      "text/latex": [
       "$$\\newcommand{\\Bold}[1]{\\mathbf{#1}}\\frac{1}{24} \\, x^{4} \\cos\\left(2\\right) - \\frac{1}{3} \\, x^{3} \\cos\\left(2\\right) + \\frac{1}{6} \\, x^{3} \\sin\\left(2\\right) + \\frac{1}{2} \\, x^{2} \\cos\\left(2\\right) - x^{2} \\sin\\left(2\\right) + \\frac{2}{3} \\, x \\cos\\left(2\\right) + x \\sin\\left(2\\right) - \\frac{1}{3} \\, \\cos\\left(2\\right) + \\frac{2}{3} \\, \\sin\\left(2\\right)$$"
      ],
      "text/plain": [
       "1/24*x^4*cos(2) - 1/3*x^3*cos(2) + 1/6*x^3*sin(2) + 1/2*x^2*cos(2) - x^2*sin(2) + 2/3*x*cos(2) + x*sin(2) - 1/3*cos(2) + 2/3*sin(2)"
      ]
     },
     "execution_count": 244,
     "metadata": {},
     "output_type": "execute_result"
    }
   ],
   "source": [
    "taylor(cos(x), x, 2, 4).expand()"
   ]
  },
  {
   "cell_type": "markdown",
   "metadata": {},
   "source": [
    " "
   ]
  },
  {
   "cell_type": "markdown",
   "metadata": {},
   "source": [
    "## 5 Equações Diferenciais"
   ]
  },
  {
   "cell_type": "markdown",
   "metadata": {},
   "source": [
    "Para o calculo de uma equação diferencial ordinária `desolve(equação, dvar, ivar=t)`, onde `dvar` é a variável dependente e `ivar=t` indica que a variável independente é $t$. Use a ajuda `desolve?` se necessário."
   ]
  },
  {
   "cell_type": "code",
   "execution_count": 295,
   "metadata": {},
   "outputs": [],
   "source": [
    "desolve?"
   ]
  },
  {
   "cell_type": "markdown",
   "metadata": {},
   "source": [
    "### 5.1 EDO de 1ª ordem"
   ]
  },
  {
   "cell_type": "code",
   "execution_count": 247,
   "metadata": {},
   "outputs": [
    {
     "data": {
      "text/html": [
       "<html><script type=\"math/tex; mode=display\">\\newcommand{\\Bold}[1]{\\mathbf{#1}}\\left(t, m\\right)</script></html>"
      ],
      "text/latex": [
       "$$\\newcommand{\\Bold}[1]{\\mathbf{#1}}\\left(t, m\\right)$$"
      ],
      "text/plain": [
       "(t, m)"
      ]
     },
     "execution_count": 247,
     "metadata": {},
     "output_type": "execute_result"
    }
   ],
   "source": [
    "var('t m')"
   ]
  },
  {
   "cell_type": "code",
   "execution_count": 302,
   "metadata": {},
   "outputs": [
    {
     "data": {
      "text/html": [
       "<html><script type=\"math/tex; mode=display\">\\newcommand{\\Bold}[1]{\\mathbf{#1}}y\\left(t\\right)</script></html>"
      ],
      "text/latex": [
       "$$\\newcommand{\\Bold}[1]{\\mathbf{#1}}y\\left(t\\right)$$"
      ],
      "text/plain": [
       "y(t)"
      ]
     },
     "execution_count": 302,
     "metadata": {},
     "output_type": "execute_result"
    }
   ],
   "source": [
    "y = function('y')(t)\n",
    "y"
   ]
  },
  {
   "cell_type": "code",
   "execution_count": 249,
   "metadata": {},
   "outputs": [
    {
     "data": {
      "text/html": [
       "<html><script type=\"math/tex; mode=display\">\\newcommand{\\Bold}[1]{\\mathbf{#1}}\\frac{\\partial}{\\partial t}y\\left(t\\right) = -m y\\left(t\\right)</script></html>"
      ],
      "text/latex": [
       "$$\\newcommand{\\Bold}[1]{\\mathbf{#1}}\\frac{\\partial}{\\partial t}y\\left(t\\right) = -m y\\left(t\\right)$$"
      ],
      "text/plain": [
       "diff(y(t), t) == -m*y(t)"
      ]
     },
     "execution_count": 249,
     "metadata": {},
     "output_type": "execute_result"
    }
   ],
   "source": [
    "eq1 = diff(y, t) == -m*y\n",
    "eq1"
   ]
  },
  {
   "cell_type": "code",
   "execution_count": 250,
   "metadata": {},
   "outputs": [
    {
     "data": {
      "text/html": [
       "<html><script type=\"math/tex; mode=display\">\\newcommand{\\Bold}[1]{\\mathbf{#1}}C e^{\\left(-m t\\right)}</script></html>"
      ],
      "text/latex": [
       "$$\\newcommand{\\Bold}[1]{\\mathbf{#1}}C e^{\\left(-m t\\right)}$$"
      ],
      "text/plain": [
       "_C*e^(-m*t)"
      ]
     },
     "execution_count": 250,
     "metadata": {},
     "output_type": "execute_result"
    }
   ],
   "source": [
    "desolve(eq1, y, ivar=t)"
   ]
  },
  {
   "cell_type": "code",
   "execution_count": 251,
   "metadata": {},
   "outputs": [
    {
     "data": {
      "text/html": [
       "<html><script type=\"math/tex; mode=display\">\\newcommand{\\Bold}[1]{\\mathbf{#1}}\\frac{\\partial}{\\partial t}y\\left(t\\right) = x + 5 \\, y\\left(t\\right)</script></html>"
      ],
      "text/latex": [
       "$$\\newcommand{\\Bold}[1]{\\mathbf{#1}}\\frac{\\partial}{\\partial t}y\\left(t\\right) = x + 5 \\, y\\left(t\\right)$$"
      ],
      "text/plain": [
       "diff(y(t), t) == x + 5*y(t)"
      ]
     },
     "execution_count": 251,
     "metadata": {},
     "output_type": "execute_result"
    }
   ],
   "source": [
    "eq2 = diff(y, t) == x + 5*y\n",
    "eq2"
   ]
  },
  {
   "cell_type": "code",
   "execution_count": 253,
   "metadata": {},
   "outputs": [
    {
     "data": {
      "text/html": [
       "<html><script type=\"math/tex; mode=display\">\\newcommand{\\Bold}[1]{\\mathbf{#1}}C e^{\\left(5 \\, t\\right)} - \\frac{1}{5} \\, x</script></html>"
      ],
      "text/latex": [
       "$$\\newcommand{\\Bold}[1]{\\mathbf{#1}}C e^{\\left(5 \\, t\\right)} - \\frac{1}{5} \\, x$$"
      ],
      "text/plain": [
       "_C*e^(5*t) - 1/5*x"
      ]
     },
     "execution_count": 253,
     "metadata": {},
     "output_type": "execute_result"
    }
   ],
   "source": [
    "desolve(eq2, y, ivar=t).expand()"
   ]
  },
  {
   "cell_type": "markdown",
   "metadata": {},
   "source": [
    "Para incluir as condições iniciais, use `desolve(equação, dvar, ivar=t, ics=[t_0, y(t_0)])`, onde `t_0, y(t_0)` são as tais condições."
   ]
  },
  {
   "cell_type": "code",
   "execution_count": 254,
   "metadata": {},
   "outputs": [
    {
     "data": {
      "text/html": [
       "<html><script type=\"math/tex; mode=display\">\\newcommand{\\Bold}[1]{\\mathbf{#1}}y\\left(t\\right) + \\frac{\\partial}{\\partial t}y\\left(t\\right) - 1 = 0</script></html>"
      ],
      "text/latex": [
       "$$\\newcommand{\\Bold}[1]{\\mathbf{#1}}y\\left(t\\right) + \\frac{\\partial}{\\partial t}y\\left(t\\right) - 1 = 0$$"
      ],
      "text/plain": [
       "y(t) + diff(y(t), t) - 1 == 0"
      ]
     },
     "execution_count": 254,
     "metadata": {},
     "output_type": "execute_result"
    }
   ],
   "source": [
    "eq3 = diff(y,t) + y - 1 == 0\n",
    "eq3"
   ]
  },
  {
   "cell_type": "code",
   "execution_count": 256,
   "metadata": {},
   "outputs": [
    {
     "data": {
      "text/html": [
       "<html><script type=\"math/tex; mode=display\">\\newcommand{\\Bold}[1]{\\mathbf{#1}}e^{\\left(-t + 10\\right)} + 1</script></html>"
      ],
      "text/latex": [
       "$$\\newcommand{\\Bold}[1]{\\mathbf{#1}}e^{\\left(-t + 10\\right)} + 1$$"
      ],
      "text/plain": [
       "e^(-t + 10) + 1"
      ]
     },
     "execution_count": 256,
     "metadata": {},
     "output_type": "execute_result"
    }
   ],
   "source": [
    "desolve(eq3, y, ivar = t, ics=[10,2]).expand()"
   ]
  },
  {
   "cell_type": "code",
   "execution_count": 257,
   "metadata": {},
   "outputs": [
    {
     "data": {
      "text/html": [
       "<html><script type=\"math/tex; mode=display\">\\newcommand{\\Bold}[1]{\\mathbf{#1}}\\left[{\\left(C + e^{t}\\right)} e^{\\left(-t\\right)}, \\verb|linear|\\right]</script></html>"
      ],
      "text/latex": [
       "$$\\newcommand{\\Bold}[1]{\\mathbf{#1}}\\left[{\\left(C + e^{t}\\right)} e^{\\left(-t\\right)}, \\verb|linear|\\right]$$"
      ],
      "text/plain": [
       "[(_C + e^t)*e^(-t), 'linear']"
      ]
     },
     "execution_count": 257,
     "metadata": {},
     "output_type": "execute_result"
    }
   ],
   "source": [
    "desolve(eq3,y, ivar=t, show_method=True)"
   ]
  },
  {
   "cell_type": "markdown",
   "metadata": {},
   "source": [
    "A sintaxe `show_method = True` retorna um par, `[solução, método]`. Que representará o método utilizado para encontrar a solução da EDO. Alguns dos métodos são $\\textit{Linear}, \\textit{separável}, \\textit{exata}$ (incluindo com fatores de interação), $\\textit{homogenea}, \\textit{bernoulli}$. Segue mais alguns exemplos usando essa função"
   ]
  },
  {
   "cell_type": "code",
   "execution_count": 258,
   "metadata": {},
   "outputs": [
    {
     "data": {
      "text/html": [
       "<html><script type=\"math/tex; mode=display\">\\newcommand{\\Bold}[1]{\\mathbf{#1}}t \\frac{\\partial}{\\partial t}y\\left(t\\right) + \\frac{\\partial}{\\partial t}y\\left(t\\right)^{2} - y\\left(t\\right) = 0</script></html>"
      ],
      "text/latex": [
       "$$\\newcommand{\\Bold}[1]{\\mathbf{#1}}t \\frac{\\partial}{\\partial t}y\\left(t\\right) + \\frac{\\partial}{\\partial t}y\\left(t\\right)^{2} - y\\left(t\\right) = 0$$"
      ],
      "text/plain": [
       "t*diff(y(t), t) + diff(y(t), t)^2 - y(t) == 0"
      ]
     },
     "execution_count": 258,
     "metadata": {},
     "output_type": "execute_result"
    }
   ],
   "source": [
    "eq_C = diff(y,t)^2 + t*diff(y,t) - y == 0\n",
    "eq_C"
   ]
  },
  {
   "cell_type": "code",
   "execution_count": 272,
   "metadata": {},
   "outputs": [
    {
     "data": {
      "text/html": [
       "<html><script type=\"math/tex; mode=display\">\\newcommand{\\Bold}[1]{\\mathbf{#1}}\\left[\\left[y\\left(t\\right) = C^{2} + C t, y\\left(t\\right) = -\\frac{1}{4} \\, t^{2}\\right], \\verb|clairault|\\right]</script></html>"
      ],
      "text/latex": [
       "$$\\newcommand{\\Bold}[1]{\\mathbf{#1}}\\left[\\left[y\\left(t\\right) = C^{2} + C t, y\\left(t\\right) = -\\frac{1}{4} \\, t^{2}\\right], \\verb|clairault|\\right]$$"
      ],
      "text/plain": [
       "[[y(t) == _C^2 + _C*t, y(t) == -1/4*t^2], 'clairault']"
      ]
     },
     "execution_count": 272,
     "metadata": {},
     "output_type": "execute_result"
    }
   ],
   "source": [
    "desolve(eq_C, y, ivar=t, contrib_ode = True, show_method = True, algorithm='maxima')"
   ]
  },
  {
   "cell_type": "markdown",
   "metadata": {},
   "source": [
    " "
   ]
  },
  {
   "cell_type": "code",
   "execution_count": 271,
   "metadata": {},
   "outputs": [
    {
     "data": {
      "text/html": [
       "<html><script type=\"math/tex; mode=display\">\\newcommand{\\Bold}[1]{\\mathbf{#1}}\\frac{\\partial}{\\partial t}y\\left(t\\right) = {\\left(t + y\\left(t\\right)\\right)}^{2}</script></html>"
      ],
      "text/latex": [
       "$$\\newcommand{\\Bold}[1]{\\mathbf{#1}}\\frac{\\partial}{\\partial t}y\\left(t\\right) = {\\left(t + y\\left(t\\right)\\right)}^{2}$$"
      ],
      "text/plain": [
       "diff(y(t), t) == (t + y(t))^2"
      ]
     },
     "execution_count": 271,
     "metadata": {},
     "output_type": "execute_result"
    }
   ],
   "source": [
    "eq_L = diff(y, t) == (t + y)^2\n",
    "eq_L"
   ]
  },
  {
   "cell_type": "code",
   "execution_count": 274,
   "metadata": {},
   "outputs": [
    {
     "data": {
      "text/html": [
       "<html><script type=\"math/tex; mode=display\">\\newcommand{\\Bold}[1]{\\mathbf{#1}}\\left[\\left[\\left[t = C - \\arctan\\left(\\sqrt{t}\\right), y\\left(t\\right) = -t - \\sqrt{t}\\right], \\left[t = C + \\arctan\\left(\\sqrt{t}\\right), y\\left(t\\right) = -t + \\sqrt{t}\\right]\\right], \\verb|lagrange|\\right]</script></html>"
      ],
      "text/latex": [
       "$$\\newcommand{\\Bold}[1]{\\mathbf{#1}}\\left[\\left[\\left[t = C - \\arctan\\left(\\sqrt{t}\\right), y\\left(t\\right) = -t - \\sqrt{t}\\right], \\left[t = C + \\arctan\\left(\\sqrt{t}\\right), y\\left(t\\right) = -t + \\sqrt{t}\\right]\\right], \\verb|lagrange|\\right]$$"
      ],
      "text/plain": [
       "[[[t == _C - arctan(sqrt(t)), y(t) == -t - sqrt(t)],\n",
       "  [t == _C + arctan(sqrt(t)), y(t) == -t + sqrt(t)]],\n",
       " 'lagrange']"
      ]
     },
     "execution_count": 274,
     "metadata": {},
     "output_type": "execute_result"
    }
   ],
   "source": [
    "desolve(eq_L,y,contrib_ode=True,show_method=True)"
   ]
  },
  {
   "cell_type": "markdown",
   "metadata": {},
   "source": [
    " "
   ]
  },
  {
   "cell_type": "code",
   "execution_count": 277,
   "metadata": {},
   "outputs": [
    {
     "data": {
      "text/html": [
       "<html><script type=\"math/tex; mode=display\">\\newcommand{\\Bold}[1]{\\mathbf{#1}}y\\left(t\\right) + 2 \\, \\frac{\\partial}{\\partial t}y\\left(t\\right) + \\frac{\\partial^{2}}{(\\partial t)^{2}}y\\left(t\\right) = \\cos\\left(t\\right)</script></html>"
      ],
      "text/latex": [
       "$$\\newcommand{\\Bold}[1]{\\mathbf{#1}}y\\left(t\\right) + 2 \\, \\frac{\\partial}{\\partial t}y\\left(t\\right) + \\frac{\\partial^{2}}{(\\partial t)^{2}}y\\left(t\\right) = \\cos\\left(t\\right)$$"
      ],
      "text/plain": [
       "y(t) + 2*diff(y(t), t) + diff(y(t), t, t) == cos(t)"
      ]
     },
     "execution_count": 277,
     "metadata": {},
     "output_type": "execute_result"
    }
   ],
   "source": [
    "eq_v = diff(y,t,2) + 2*diff(y,t) + y == cos(t)\n",
    "eq_v"
   ]
  },
  {
   "cell_type": "code",
   "execution_count": 281,
   "metadata": {},
   "outputs": [
    {
     "data": {
      "text/html": [
       "<html><script type=\"math/tex; mode=display\">\\newcommand{\\Bold}[1]{\\mathbf{#1}}\\left[{\\left(K_{2} t + K_{1}\\right)} e^{\\left(-t\\right)} + \\frac{1}{2} \\, \\sin\\left(t\\right), \\verb|variationofparameters|\\right]</script></html>"
      ],
      "text/latex": [
       "$$\\newcommand{\\Bold}[1]{\\mathbf{#1}}\\left[{\\left(K_{2} t + K_{1}\\right)} e^{\\left(-t\\right)} + \\frac{1}{2} \\, \\sin\\left(t\\right), \\verb|variationofparameters|\\right]$$"
      ],
      "text/plain": [
       "[(_K2*t + _K1)*e^(-t) + 1/2*sin(t), 'variationofparameters']"
      ]
     },
     "execution_count": 281,
     "metadata": {},
     "output_type": "execute_result"
    }
   ],
   "source": [
    "desolve(eq_v,y, ivar=t,show_method=True)"
   ]
  },
  {
   "cell_type": "markdown",
   "metadata": {},
   "source": [
    " "
   ]
  },
  {
   "cell_type": "markdown",
   "metadata": {},
   "source": [
    "### 5.2 EDO de 2ª ordem"
   ]
  },
  {
   "cell_type": "code",
   "execution_count": 303,
   "metadata": {},
   "outputs": [
    {
     "data": {
      "text/html": [
       "<html><script type=\"math/tex; mode=display\">\\newcommand{\\Bold}[1]{\\mathbf{#1}}y\\left(t\\right) \\frac{\\partial}{\\partial t}y\\left(t\\right)^{3} + \\frac{\\partial^{2}}{(\\partial t)^{2}}y\\left(t\\right) = 0</script></html>"
      ],
      "text/latex": [
       "$$\\newcommand{\\Bold}[1]{\\mathbf{#1}}y\\left(t\\right) \\frac{\\partial}{\\partial t}y\\left(t\\right)^{3} + \\frac{\\partial^{2}}{(\\partial t)^{2}}y\\left(t\\right) = 0$$"
      ],
      "text/plain": [
       "y(t)*diff(y(t), t)^3 + diff(y(t), t, t) == 0"
      ]
     },
     "execution_count": 303,
     "metadata": {},
     "output_type": "execute_result"
    }
   ],
   "source": [
    "eq5 = diff(y,t,2)+y*(diff(y,t,1))^3==0\n",
    "eq5"
   ]
  },
  {
   "cell_type": "code",
   "execution_count": 304,
   "metadata": {},
   "outputs": [
    {
     "data": {
      "text/html": [
       "<html><script type=\"math/tex; mode=display\">\\newcommand{\\Bold}[1]{\\mathbf{#1}}\\frac{1}{6} \\, y\\left(t\\right)^{3} + K_{1} y\\left(t\\right) = K_{2} + t</script></html>"
      ],
      "text/latex": [
       "$$\\newcommand{\\Bold}[1]{\\mathbf{#1}}\\frac{1}{6} \\, y\\left(t\\right)^{3} + K_{1} y\\left(t\\right) = K_{2} + t$$"
      ],
      "text/plain": [
       "1/6*y(t)^3 + _K1*y(t) == _K2 + t"
      ]
     },
     "execution_count": 304,
     "metadata": {},
     "output_type": "execute_result"
    }
   ],
   "source": [
    "desolve(eq5, y, ivar=t)"
   ]
  },
  {
   "cell_type": "markdown",
   "metadata": {},
   "source": [
    "Para incluir as condições iniciais, use `desolve(equação, dvar, ivar=t, ics=[t_0, y(t_0), y'(t_0)])`, onde `t_0, y(t_0), y'(t_0)` são as tais condições."
   ]
  },
  {
   "cell_type": "code",
   "execution_count": 286,
   "metadata": {},
   "outputs": [
    {
     "data": {
      "text/html": [
       "<html><script type=\"math/tex; mode=display\">\\newcommand{\\Bold}[1]{\\mathbf{#1}}4 \\, \\frac{\\partial}{\\partial t}y\\left(t\\right) + \\frac{\\partial^{2}}{(\\partial t)^{2}}y\\left(t\\right) = -12 \\, y\\left(t\\right)</script></html>"
      ],
      "text/latex": [
       "$$\\newcommand{\\Bold}[1]{\\mathbf{#1}}4 \\, \\frac{\\partial}{\\partial t}y\\left(t\\right) + \\frac{\\partial^{2}}{(\\partial t)^{2}}y\\left(t\\right) = -12 \\, y\\left(t\\right)$$"
      ],
      "text/plain": [
       "4*diff(y(t), t) + diff(y(t), t, t) == -12*y(t)"
      ]
     },
     "execution_count": 286,
     "metadata": {},
     "output_type": "execute_result"
    }
   ],
   "source": [
    "eq6 = diff(y, t, 2) + 4*diff(y, t, 1) == - 12*y\n",
    "eq6"
   ]
  },
  {
   "cell_type": "code",
   "execution_count": 305,
   "metadata": {},
   "outputs": [
    {
     "data": {
      "text/html": [
       "<html><script type=\"math/tex; mode=display\">\\newcommand{\\Bold}[1]{\\mathbf{#1}}\\frac{1}{12} \\, {\\left(7 \\, \\sqrt{2} \\sin\\left(2 \\, \\sqrt{2} t\\right) + 6 \\, \\cos\\left(2 \\, \\sqrt{2} t\\right)\\right)} e^{\\left(-2 \\, t\\right)}</script></html>"
      ],
      "text/latex": [
       "$$\\newcommand{\\Bold}[1]{\\mathbf{#1}}\\frac{1}{12} \\, {\\left(7 \\, \\sqrt{2} \\sin\\left(2 \\, \\sqrt{2} t\\right) + 6 \\, \\cos\\left(2 \\, \\sqrt{2} t\\right)\\right)} e^{\\left(-2 \\, t\\right)}$$"
      ],
      "text/plain": [
       "1/12*(7*sqrt(2)*sin(2*sqrt(2)*t) + 6*cos(2*sqrt(2)*t))*e^(-2*t)"
      ]
     },
     "execution_count": 305,
     "metadata": {},
     "output_type": "execute_result"
    }
   ],
   "source": [
    "desolve(eq6, y, ics = [0, 1/2, 4/3])"
   ]
  },
  {
   "cell_type": "markdown",
   "metadata": {},
   "source": [
    "Já para incluir as condições de contorno, use `desolve(equação, dvar, [t_0, y(t_0), t_1 ,y(t_1)], ivar=t)`, exclusivamente nessa ordem."
   ]
  },
  {
   "cell_type": "code",
   "execution_count": 315,
   "metadata": {},
   "outputs": [
    {
     "data": {
      "text/html": [
       "<html><script type=\"math/tex; mode=display\">\\newcommand{\\Bold}[1]{\\mathbf{#1}}x y\\left(t\\right) \\frac{\\partial}{\\partial t}y\\left(t\\right)^{3} + \\frac{\\partial^{2}}{(\\partial t)^{2}}y\\left(t\\right) = 0</script></html>"
      ],
      "text/latex": [
       "$$\\newcommand{\\Bold}[1]{\\mathbf{#1}}x y\\left(t\\right) \\frac{\\partial}{\\partial t}y\\left(t\\right)^{3} + \\frac{\\partial^{2}}{(\\partial t)^{2}}y\\left(t\\right) = 0$$"
      ],
      "text/plain": [
       "x*y(t)*diff(y(t), t)^3 + diff(y(t), t, t) == 0"
      ]
     },
     "execution_count": 315,
     "metadata": {},
     "output_type": "execute_result"
    }
   ],
   "source": [
    "eq7 = diff(y,t,2)+y*x*(diff(y,t,1))^3 == 0\n",
    "eq7"
   ]
  },
  {
   "cell_type": "code",
   "execution_count": 321,
   "metadata": {},
   "outputs": [
    {
     "data": {
      "text/html": [
       "<html><script type=\"math/tex; mode=display\">\\newcommand{\\Bold}[1]{\\mathbf{#1}}\\frac{1}{6} \\, x y\\left(t\\right)^{3} - \\frac{1}{6} \\, {\\left(13 \\, x - 3\\right)} y\\left(t\\right) = t - 2 \\, x + \\frac{1}{2}</script></html>"
      ],
      "text/latex": [
       "$$\\newcommand{\\Bold}[1]{\\mathbf{#1}}\\frac{1}{6} \\, x y\\left(t\\right)^{3} - \\frac{1}{6} \\, {\\left(13 \\, x - 3\\right)} y\\left(t\\right) = t - 2 \\, x + \\frac{1}{2}$$"
      ],
      "text/plain": [
       "1/6*x*y(t)^3 - 1/6*(13*x - 3)*y(t) == t - 2*x + 1/2"
      ]
     },
     "execution_count": 321,
     "metadata": {},
     "output_type": "execute_result"
    }
   ],
   "source": [
    "desolve(eq7, y, [0,1,1,3], ivar=t)"
   ]
  },
  {
   "cell_type": "code",
   "execution_count": 322,
   "metadata": {},
   "outputs": [],
   "source": [
    "desolve?"
   ]
  },
  {
   "cell_type": "markdown",
   "metadata": {},
   "source": [
    " "
   ]
  },
  {
   "cell_type": "markdown",
   "metadata": {},
   "source": [
    "## 6 Funções de várias variáveis"
   ]
  },
  {
   "cell_type": "markdown",
   "metadata": {},
   "source": [
    "### 6.1 Gradiente $\\vec{\\nabla}f$"
   ]
  },
  {
   "cell_type": "markdown",
   "metadata": {},
   "source": [
    "Para utilizar operadores como Gradiente e Divergente, é necessário primeiro definir o espaço no qual se vai trabalhar. No presente caso, usaremos o Espaço Euclidiano."
   ]
  },
  {
   "cell_type": "code",
   "execution_count": 323,
   "metadata": {},
   "outputs": [
    {
     "data": {
      "text/html": [
       "<html><script type=\"math/tex; mode=display\">\\newcommand{\\Bold}[1]{\\mathbf{#1}}\\left(x, y, z\\right)</script></html>"
      ],
      "text/latex": [
       "$$\\newcommand{\\Bold}[1]{\\mathbf{#1}}\\left(x, y, z\\right)$$"
      ],
      "text/plain": [
       "(x, y, z)"
      ]
     },
     "execution_count": 323,
     "metadata": {},
     "output_type": "execute_result"
    }
   ],
   "source": [
    "var('x y z')"
   ]
  },
  {
   "cell_type": "markdown",
   "metadata": {},
   "source": [
    "Definindo um campo escalar $f$:"
   ]
  },
  {
   "cell_type": "code",
   "execution_count": 341,
   "metadata": {},
   "outputs": [
    {
     "data": {
      "text/html": [
       "<html><script type=\"math/tex; mode=display\">\\newcommand{\\Bold}[1]{\\mathbf{#1}}\\left( x, y \\right) \\ {\\mapsto} \\ \\sin\\left(x y\\right)</script></html>"
      ],
      "text/latex": [
       "$$\\newcommand{\\Bold}[1]{\\mathbf{#1}}\\left( x, y \\right) \\ {\\mapsto} \\ \\sin\\left(x y\\right)$$"
      ],
      "text/plain": [
       "(x, y) |--> sin(x*y)"
      ]
     },
     "execution_count": 341,
     "metadata": {},
     "output_type": "execute_result"
    }
   ],
   "source": [
    "f(x, y) = sin(x*y)\n",
    "f"
   ]
  },
  {
   "cell_type": "markdown",
   "metadata": {},
   "source": [
    "Para o cálculo do Gradiente, é necessário apenas utilizar a sintaxe `função.gradient()`"
   ]
  },
  {
   "cell_type": "code",
   "execution_count": 342,
   "metadata": {},
   "outputs": [
    {
     "data": {
      "text/html": [
       "<html><script type=\"math/tex; mode=display\">\\newcommand{\\Bold}[1]{\\mathbf{#1}}\\left( x, y \\right) \\ {\\mapsto} \\ \\left(y \\cos\\left(x y\\right),\\,x \\cos\\left(x y\\right)\\right)</script></html>"
      ],
      "text/latex": [
       "$$\\newcommand{\\Bold}[1]{\\mathbf{#1}}\\left( x, y \\right) \\ {\\mapsto} \\ \\left(y \\cos\\left(x y\\right),\\,x \\cos\\left(x y\\right)\\right)$$"
      ],
      "text/plain": [
       "(x, y) |--> (y*cos(x*y), x*cos(x*y))"
      ]
     },
     "execution_count": 342,
     "metadata": {},
     "output_type": "execute_result"
    }
   ],
   "source": [
    "f.gradient()"
   ]
  },
  {
   "cell_type": "markdown",
   "metadata": {},
   "source": [
    " "
   ]
  },
  {
   "cell_type": "markdown",
   "metadata": {},
   "source": [
    "### 6.2 Divergente $\\vec{\\nabla} \\cdot \\vec{v}$"
   ]
  },
  {
   "cell_type": "markdown",
   "metadata": {},
   "source": [
    "Para o caso do Divergente, utilizaremos o mesmo princípio anterior, mas definiremos dessa vez um campo vetorial, da forma"
   ]
  },
  {
   "cell_type": "code",
   "execution_count": 346,
   "metadata": {},
   "outputs": [
    {
     "data": {
      "text/html": [
       "<html><script type=\"math/tex; mode=display\">\\newcommand{\\Bold}[1]{\\mathbf{#1}}\\left(x^{2} y,\\,y z,\\,z\\right)</script></html>"
      ],
      "text/latex": [
       "$$\\newcommand{\\Bold}[1]{\\mathbf{#1}}\\left(x^{2} y,\\,y z,\\,z\\right)$$"
      ],
      "text/plain": [
       "(x^2*y, y*z, z)"
      ]
     },
     "execution_count": 346,
     "metadata": {},
     "output_type": "execute_result"
    }
   ],
   "source": [
    "v = vector([x^2*y, y*z, z])\n",
    "v"
   ]
  },
  {
   "cell_type": "markdown",
   "metadata": {},
   "source": [
    "Para o cálculo do divergnete de um vetor, a sintaxe é `vetor.div([variáveis])`"
   ]
  },
  {
   "cell_type": "code",
   "execution_count": 348,
   "metadata": {},
   "outputs": [
    {
     "data": {
      "text/html": [
       "<html><script type=\"math/tex; mode=display\">\\newcommand{\\Bold}[1]{\\mathbf{#1}}2 \\, x y + z + 1</script></html>"
      ],
      "text/latex": [
       "$$\\newcommand{\\Bold}[1]{\\mathbf{#1}}2 \\, x y + z + 1$$"
      ],
      "text/plain": [
       "2*x*y + z + 1"
      ]
     },
     "execution_count": 348,
     "metadata": {},
     "output_type": "execute_result"
    }
   ],
   "source": [
    "v.div([x, y, z])"
   ]
  },
  {
   "cell_type": "markdown",
   "metadata": {},
   "source": [
    " "
   ]
  },
  {
   "cell_type": "markdown",
   "metadata": {},
   "source": [
    "### 6.3 Rotacional  $\\vec{\\nabla} \\times \\vec{w}$"
   ]
  },
  {
   "cell_type": "markdown",
   "metadata": {},
   "source": [
    "Primeiro definiremos um espaço vetorial"
   ]
  },
  {
   "cell_type": "code",
   "execution_count": 350,
   "metadata": {},
   "outputs": [
    {
     "data": {
      "text/html": [
       "<html><script type=\"math/tex; mode=display\">\\newcommand{\\Bold}[1]{\\mathbf{#1}}\\left(\\sin\\left(y\\right),\\,\\sin\\left(x\\right),\\,0\\right)</script></html>"
      ],
      "text/latex": [
       "$$\\newcommand{\\Bold}[1]{\\mathbf{#1}}\\left(\\sin\\left(y\\right),\\,\\sin\\left(x\\right),\\,0\\right)$$"
      ],
      "text/plain": [
       "(sin(y), sin(x), 0)"
      ]
     },
     "execution_count": 350,
     "metadata": {},
     "output_type": "execute_result"
    }
   ],
   "source": [
    "w = vector([sin(y), sin(x), 0])\n",
    "w"
   ]
  },
  {
   "cell_type": "markdown",
   "metadata": {},
   "source": [
    "E para utilizá-lo, devemos usar `vetor.curl([x, y, z])`"
   ]
  },
  {
   "cell_type": "code",
   "execution_count": 351,
   "metadata": {},
   "outputs": [
    {
     "data": {
      "text/html": [
       "<html><script type=\"math/tex; mode=display\">\\newcommand{\\Bold}[1]{\\mathbf{#1}}\\left(0,\\,0,\\,\\cos\\left(x\\right) - \\cos\\left(y\\right)\\right)</script></html>"
      ],
      "text/latex": [
       "$$\\newcommand{\\Bold}[1]{\\mathbf{#1}}\\left(0,\\,0,\\,\\cos\\left(x\\right) - \\cos\\left(y\\right)\\right)$$"
      ],
      "text/plain": [
       "(0, 0, cos(x) - cos(y))"
      ]
     },
     "execution_count": 351,
     "metadata": {},
     "output_type": "execute_result"
    }
   ],
   "source": [
    "w.curl([x, y, z])"
   ]
  },
  {
   "cell_type": "markdown",
   "metadata": {},
   "source": [
    " "
   ]
  },
  {
   "cell_type": "markdown",
   "metadata": {},
   "source": [
    "### 6.4 Laplaciano $\\nabla^2 f$"
   ]
  },
  {
   "cell_type": "code",
   "execution_count": 352,
   "metadata": {},
   "outputs": [
    {
     "data": {
      "text/html": [
       "<html><script type=\"math/tex; mode=display\">\\newcommand{\\Bold}[1]{\\mathbf{#1}}\\left( x, y \\right) \\ {\\mapsto} \\ \\sin\\left(x y\\right)</script></html>"
      ],
      "text/latex": [
       "$$\\newcommand{\\Bold}[1]{\\mathbf{#1}}\\left( x, y \\right) \\ {\\mapsto} \\ \\sin\\left(x y\\right)$$"
      ],
      "text/plain": [
       "(x, y) |--> sin(x*y)"
      ]
     },
     "execution_count": 352,
     "metadata": {},
     "output_type": "execute_result"
    }
   ],
   "source": [
    "f"
   ]
  },
  {
   "cell_type": "markdown",
   "metadata": {},
   "source": [
    "Para utilizá-lo, basta usar a sintaxe `(função.gradient()).div([variaveis])`"
   ]
  },
  {
   "cell_type": "code",
   "execution_count": 357,
   "metadata": {},
   "outputs": [
    {
     "data": {
      "text/html": [
       "<html><script type=\"math/tex; mode=display\">\\newcommand{\\Bold}[1]{\\mathbf{#1}}\\left( x, y \\right) \\ {\\mapsto} \\ \\left(y \\cos\\left(x y\\right),\\,x \\cos\\left(x y\\right)\\right)</script></html>"
      ],
      "text/latex": [
       "$$\\newcommand{\\Bold}[1]{\\mathbf{#1}}\\left( x, y \\right) \\ {\\mapsto} \\ \\left(y \\cos\\left(x y\\right),\\,x \\cos\\left(x y\\right)\\right)$$"
      ],
      "text/plain": [
       "(x, y) |--> (y*cos(x*y), x*cos(x*y))"
      ]
     },
     "execution_count": 357,
     "metadata": {},
     "output_type": "execute_result"
    }
   ],
   "source": [
    "grad_f = f.gradient()\n",
    "grad_f"
   ]
  },
  {
   "cell_type": "code",
   "execution_count": 359,
   "metadata": {},
   "outputs": [
    {
     "data": {
      "text/html": [
       "<html><script type=\"math/tex; mode=display\">\\newcommand{\\Bold}[1]{\\mathbf{#1}}\\left( x, y \\right) \\ {\\mapsto} \\ -x^{2} \\sin\\left(x y\\right) - y^{2} \\sin\\left(x y\\right)</script></html>"
      ],
      "text/latex": [
       "$$\\newcommand{\\Bold}[1]{\\mathbf{#1}}\\left( x, y \\right) \\ {\\mapsto} \\ -x^{2} \\sin\\left(x y\\right) - y^{2} \\sin\\left(x y\\right)$$"
      ],
      "text/plain": [
       "(x, y) |--> -x^2*sin(x*y) - y^2*sin(x*y)"
      ]
     },
     "execution_count": 359,
     "metadata": {},
     "output_type": "execute_result"
    }
   ],
   "source": [
    "laplacian = grad_f.div()\n",
    "laplacian"
   ]
  },
  {
   "cell_type": "markdown",
   "metadata": {},
   "source": [
    " | Operador | Comando |\n",
    "| :---: | :---: |\n",
    "| Gradiente | `função.gradient()` |\n",
    "| Divergente | `vetor.div([variáveis])` |\n",
    "| Rotacional | `vetor.curl()` |\n",
    "| Laplaciano | `(função.gradient()).div()` |"
   ]
  },
  {
   "cell_type": "markdown",
   "metadata": {},
   "source": [
    "### 6.5 Integrais Múltiplas"
   ]
  },
  {
   "cell_type": "markdown",
   "metadata": {},
   "source": [
    "Para o cálculo de integrais múltiplas, devemos nos basear no $\\textbf{Teorema de Fubini}$. Para as integrais com uma variável de integração, tinhamos a sintaxe `integrate(função, var, lim_inf, lim_sup)`, ou simplesmente `integrate(função, var)`. Já no caso das integrais dúplas, assim como as tríplas, devemos fazer uma integral dentro de outra integral. "
   ]
  },
  {
   "cell_type": "markdown",
   "metadata": {},
   "source": [
    "#### 6.5.1 Integrais Dúplas"
   ]
  },
  {
   "cell_type": "markdown",
   "metadata": {},
   "source": [
    "Dada a integral\n",
    "\n",
    "$$\\begin{align}\n",
    "    \\int \\int_{\\mathop{R}} g(x, y) \\, dA = \\int_a^b \\int_c^d g(x, y)\\, dy\\,  dx = \\int_c^d \\int_a^b g(x, y)\\, dx\\, dy\n",
    "\\end{align}$$\n",
    "\n",
    "Para fazer esse cálculo, devemos primeiro definir as variáveis e a função a ser integrada"
   ]
  },
  {
   "cell_type": "code",
   "execution_count": 360,
   "metadata": {},
   "outputs": [
    {
     "data": {
      "text/html": [
       "<html><script type=\"math/tex; mode=display\">\\newcommand{\\Bold}[1]{\\mathbf{#1}}\\left(x, y\\right)</script></html>"
      ],
      "text/latex": [
       "$$\\newcommand{\\Bold}[1]{\\mathbf{#1}}\\left(x, y\\right)$$"
      ],
      "text/plain": [
       "(x, y)"
      ]
     },
     "execution_count": 360,
     "metadata": {},
     "output_type": "execute_result"
    }
   ],
   "source": [
    "var('x y')"
   ]
  },
  {
   "cell_type": "code",
   "execution_count": 361,
   "metadata": {},
   "outputs": [],
   "source": [
    "g = function('g')(x, y)"
   ]
  },
  {
   "cell_type": "markdown",
   "metadata": {},
   "source": [
    "A sintaxe para as integrais são simples, `integral_2(integral_1(g(x,y), x),y)`, dessa forma"
   ]
  },
  {
   "cell_type": "code",
   "execution_count": 362,
   "metadata": {},
   "outputs": [
    {
     "data": {
      "text/html": [
       "<html><script type=\"math/tex; mode=display\">\\newcommand{\\Bold}[1]{\\mathbf{#1}}\\int \\int g\\left(x, y\\right)\\,{d x}\\,{d y}</script></html>"
      ],
      "text/latex": [
       "$$\\newcommand{\\Bold}[1]{\\mathbf{#1}}\\int \\int g\\left(x, y\\right)\\,{d x}\\,{d y}$$"
      ],
      "text/plain": [
       "integrate(integrate(g(x, y), x), y)"
      ]
     },
     "execution_count": 362,
     "metadata": {},
     "output_type": "execute_result"
    }
   ],
   "source": [
    "integrate(integrate(g(x,y),x),y)"
   ]
  },
  {
   "cell_type": "code",
   "execution_count": 365,
   "metadata": {},
   "outputs": [
    {
     "data": {
      "text/html": [
       "<html><script type=\"math/tex; mode=display\">\\newcommand{\\Bold}[1]{\\mathbf{#1}}\\int \\int g\\left(x, y\\right)\\,{d x}\\,{d y}</script></html>"
      ],
      "text/latex": [
       "$$\\newcommand{\\Bold}[1]{\\mathbf{#1}}\\int \\int g\\left(x, y\\right)\\,{d x}\\,{d y}$$"
      ],
      "text/plain": [
       "integrate(integrate(g(x, y), x), y)"
      ]
     },
     "execution_count": 365,
     "metadata": {},
     "output_type": "execute_result"
    }
   ],
   "source": [
    "g.integral(x).integral(y)"
   ]
  },
  {
   "cell_type": "markdown",
   "metadata": {},
   "source": [
    "Para a utilização de limites de integração, a sintexa se torna `função.integral(x, lim_x_inf, lim_x_sup).integral(y,lim_y_inf, lim_y_sup)`"
   ]
  },
  {
   "cell_type": "code",
   "execution_count": 366,
   "metadata": {},
   "outputs": [
    {
     "data": {
      "text/html": [
       "<html><script type=\"math/tex; mode=display\">\\newcommand{\\Bold}[1]{\\mathbf{#1}}\\left(a, b, c, d\\right)</script></html>"
      ],
      "text/latex": [
       "$$\\newcommand{\\Bold}[1]{\\mathbf{#1}}\\left(a, b, c, d\\right)$$"
      ],
      "text/plain": [
       "(a, b, c, d)"
      ]
     },
     "execution_count": 366,
     "metadata": {},
     "output_type": "execute_result"
    }
   ],
   "source": [
    "var('a b c d')"
   ]
  },
  {
   "cell_type": "code",
   "execution_count": 367,
   "metadata": {},
   "outputs": [
    {
     "data": {
      "text/html": [
       "<html><script type=\"math/tex; mode=display\">\\newcommand{\\Bold}[1]{\\mathbf{#1}}\\int_{c}^{d} \\int_{a}^{b} g\\left(x, y\\right)\\,{d x}\\,{d y}</script></html>"
      ],
      "text/latex": [
       "$$\\newcommand{\\Bold}[1]{\\mathbf{#1}}\\int_{c}^{d} \\int_{a}^{b} g\\left(x, y\\right)\\,{d x}\\,{d y}$$"
      ],
      "text/plain": [
       "integrate(integrate(g(x, y), x, a, b), y, c, d)"
      ]
     },
     "execution_count": 367,
     "metadata": {},
     "output_type": "execute_result"
    }
   ],
   "source": [
    "integrate(integrate(g(x,y),x,a,b), y,c,d)"
   ]
  },
  {
   "cell_type": "code",
   "execution_count": 368,
   "metadata": {},
   "outputs": [
    {
     "data": {
      "text/html": [
       "<html><script type=\"math/tex; mode=display\">\\newcommand{\\Bold}[1]{\\mathbf{#1}}\\int_{c}^{d} \\int_{a}^{b} g\\left(x, y\\right)\\,{d x}\\,{d y}</script></html>"
      ],
      "text/latex": [
       "$$\\newcommand{\\Bold}[1]{\\mathbf{#1}}\\int_{c}^{d} \\int_{a}^{b} g\\left(x, y\\right)\\,{d x}\\,{d y}$$"
      ],
      "text/plain": [
       "integrate(integrate(g(x, y), x, a, b), y, c, d)"
      ]
     },
     "execution_count": 368,
     "metadata": {},
     "output_type": "execute_result"
    }
   ],
   "source": [
    "g.integral(x, a, b).integral(y, c, d)"
   ]
  },
  {
   "cell_type": "markdown",
   "metadata": {},
   "source": [
    "Se definirmos a função $g(x,y) = x^2 y^3$, com os limites $2 \\le x \\le 4$ e $5 \\le y \\le 8$. O cálculo da integral será"
   ]
  },
  {
   "cell_type": "code",
   "execution_count": 177,
   "metadata": {},
   "outputs": [
    {
     "data": {
      "text/html": [
       "<html><script type=\"math/tex; mode=display\">\\newcommand{\\Bold}[1]{\\mathbf{#1}}\\int \\int x^{2} y^{3}\\,{d x}\\,{d y}</script></html>"
      ],
      "text/latex": [
       "$$\\newcommand{\\Bold}[1]{\\mathbf{#1}}\\int \\int x^{2} y^{3}\\,{d x}\\,{d y}$$"
      ],
      "text/plain": [
       "integrate(integrate(x^2*y^3, x), y)"
      ]
     },
     "execution_count": 177,
     "metadata": {},
     "output_type": "execute_result"
    }
   ],
   "source": [
    "integrate(integrate(x^2*y^3,x, hold=True), y, hold=True)"
   ]
  },
  {
   "cell_type": "code",
   "execution_count": 369,
   "metadata": {},
   "outputs": [
    {
     "data": {
      "text/html": [
       "<html><script type=\"math/tex; mode=display\">\\newcommand{\\Bold}[1]{\\mathbf{#1}}16198</script></html>"
      ],
      "text/latex": [
       "$$\\newcommand{\\Bold}[1]{\\mathbf{#1}}16198$$"
      ],
      "text/plain": [
       "16198"
      ]
     },
     "execution_count": 369,
     "metadata": {},
     "output_type": "execute_result"
    }
   ],
   "source": [
    "(x^2*y^3).integral(x, 2, 4).integral(y, 5, 8)"
   ]
  },
  {
   "cell_type": "code",
   "execution_count": 370,
   "metadata": {},
   "outputs": [
    {
     "data": {
      "text/html": [
       "<html><script type=\"math/tex; mode=display\">\\newcommand{\\Bold}[1]{\\mathbf{#1}}\\int_{5}^{8} \\int_{2}^{4} x^{2} y^{3}\\,{d x}\\,{d y}</script></html>"
      ],
      "text/latex": [
       "$$\\newcommand{\\Bold}[1]{\\mathbf{#1}}\\int_{5}^{8} \\int_{2}^{4} x^{2} y^{3}\\,{d x}\\,{d y}$$"
      ],
      "text/plain": [
       "integrate(integrate(x^2*y^3, x, 2, 4), y, 5, 8)"
      ]
     },
     "execution_count": 370,
     "metadata": {},
     "output_type": "execute_result"
    }
   ],
   "source": [
    "integrate(integrate(x^2*y^3,x,2,4, hold=True), y,5,8, hold=True)"
   ]
  },
  {
   "cell_type": "code",
   "execution_count": 371,
   "metadata": {},
   "outputs": [
    {
     "data": {
      "text/html": [
       "<html><script type=\"math/tex; mode=display\">\\newcommand{\\Bold}[1]{\\mathbf{#1}}16198</script></html>"
      ],
      "text/latex": [
       "$$\\newcommand{\\Bold}[1]{\\mathbf{#1}}16198$$"
      ],
      "text/plain": [
       "16198"
      ]
     },
     "execution_count": 371,
     "metadata": {},
     "output_type": "execute_result"
    }
   ],
   "source": [
    "integrate(integrate(x^2*y^3,x,2,4), y,5,8)"
   ]
  },
  {
   "cell_type": "markdown",
   "metadata": {},
   "source": [
    " "
   ]
  },
  {
   "cell_type": "markdown",
   "metadata": {},
   "source": [
    "Seja a nova função $h(x,y) = (x - 3y^2)$, com os limites $0 \\le x \\le 2$ e $1 \\le y \\le 2$. "
   ]
  },
  {
   "cell_type": "code",
   "execution_count": 373,
   "metadata": {},
   "outputs": [
    {
     "data": {
      "text/html": [
       "<html><script type=\"math/tex; mode=display\">\\newcommand{\\Bold}[1]{\\mathbf{#1}}\\left( x, y \\right) \\ {\\mapsto} \\ -3 \\, y^{2} + x</script></html>"
      ],
      "text/latex": [
       "$$\\newcommand{\\Bold}[1]{\\mathbf{#1}}\\left( x, y \\right) \\ {\\mapsto} \\ -3 \\, y^{2} + x$$"
      ],
      "text/plain": [
       "(x, y) |--> -3*y^2 + x"
      ]
     },
     "execution_count": 373,
     "metadata": {},
     "output_type": "execute_result"
    }
   ],
   "source": [
    "h(x,y) = x - 3*y^2\n",
    "h"
   ]
  },
  {
   "cell_type": "code",
   "execution_count": 374,
   "metadata": {},
   "outputs": [
    {
     "data": {
      "text/html": [
       "<html><script type=\"math/tex; mode=display\">\\newcommand{\\Bold}[1]{\\mathbf{#1}}\\int_{1}^{2} \\int_{0}^{2} -3 \\, y^{2} + x\\,{d x}\\,{d y}</script></html>"
      ],
      "text/latex": [
       "$$\\newcommand{\\Bold}[1]{\\mathbf{#1}}\\int_{1}^{2} \\int_{0}^{2} -3 \\, y^{2} + x\\,{d x}\\,{d y}$$"
      ],
      "text/plain": [
       "integrate(integrate(-3*y^2 + x, x, 0, 2), y, 1, 2)"
      ]
     },
     "execution_count": 374,
     "metadata": {},
     "output_type": "execute_result"
    }
   ],
   "source": [
    "integrate(integrate(h,x,0,2, hold=True), y,1,2, hold=True)"
   ]
  },
  {
   "cell_type": "code",
   "execution_count": 375,
   "metadata": {},
   "outputs": [
    {
     "data": {
      "text/html": [
       "<html><script type=\"math/tex; mode=display\">\\newcommand{\\Bold}[1]{\\mathbf{#1}}-12</script></html>"
      ],
      "text/latex": [
       "$$\\newcommand{\\Bold}[1]{\\mathbf{#1}}-12$$"
      ],
      "text/plain": [
       "-12"
      ]
     },
     "execution_count": 375,
     "metadata": {},
     "output_type": "execute_result"
    }
   ],
   "source": [
    "integrate(integrate(h,x,0,2), y,1,2)"
   ]
  },
  {
   "cell_type": "markdown",
   "metadata": {},
   "source": [
    " "
   ]
  },
  {
   "cell_type": "markdown",
   "metadata": {},
   "source": [
    "#### 6.5.1 Integrais Tríplas"
   ]
  },
  {
   "cell_type": "markdown",
   "metadata": {},
   "source": [
    "Para o cálculo das integrais tríplas, o precedimento é o mesmo adotado anteriormente. A sintaxe será `função.integral(x).integral(y).integral(z)`"
   ]
  },
  {
   "cell_type": "code",
   "execution_count": 376,
   "metadata": {},
   "outputs": [
    {
     "data": {
      "text/html": [
       "<html><script type=\"math/tex; mode=display\">\\newcommand{\\Bold}[1]{\\mathbf{#1}}m\\left(x, y, z\\right)</script></html>"
      ],
      "text/latex": [
       "$$\\newcommand{\\Bold}[1]{\\mathbf{#1}}m\\left(x, y, z\\right)$$"
      ],
      "text/plain": [
       "m(x, y, z)"
      ]
     },
     "execution_count": 376,
     "metadata": {},
     "output_type": "execute_result"
    }
   ],
   "source": [
    "m = function('m')(x, y, z)\n",
    "m"
   ]
  },
  {
   "cell_type": "code",
   "execution_count": 377,
   "metadata": {},
   "outputs": [
    {
     "data": {
      "text/html": [
       "<html><script type=\"math/tex; mode=display\">\\newcommand{\\Bold}[1]{\\mathbf{#1}}\\int \\int \\int m\\left(x, y, z\\right)\\,{d x}\\,{d y}\\,{d z}</script></html>"
      ],
      "text/latex": [
       "$$\\newcommand{\\Bold}[1]{\\mathbf{#1}}\\int \\int \\int m\\left(x, y, z\\right)\\,{d x}\\,{d y}\\,{d z}$$"
      ],
      "text/plain": [
       "integrate(integrate(integrate(m(x, y, z), x), y), z)"
      ]
     },
     "execution_count": 377,
     "metadata": {},
     "output_type": "execute_result"
    }
   ],
   "source": [
    "integrate(integrate(integrate(m,x),y), z)"
   ]
  },
  {
   "cell_type": "code",
   "execution_count": 378,
   "metadata": {},
   "outputs": [
    {
     "data": {
      "text/html": [
       "<html><script type=\"math/tex; mode=display\">\\newcommand{\\Bold}[1]{\\mathbf{#1}}\\int \\int \\int m\\left(x, y, z\\right)\\,{d x}\\,{d y}\\,{d z}</script></html>"
      ],
      "text/latex": [
       "$$\\newcommand{\\Bold}[1]{\\mathbf{#1}}\\int \\int \\int m\\left(x, y, z\\right)\\,{d x}\\,{d y}\\,{d z}$$"
      ],
      "text/plain": [
       "integrate(integrate(integrate(m(x, y, z), x), y), z)"
      ]
     },
     "execution_count": 378,
     "metadata": {},
     "output_type": "execute_result"
    }
   ],
   "source": [
    "m.integral(x).integral(y).integral(z)"
   ]
  },
  {
   "cell_type": "markdown",
   "metadata": {},
   "source": [
    "Para fazer esse cálculo com os limetes de integração de $m$, faremos  `função.integral(x, lim_x_inf, lim_x_sup).integral(y,lim_y_inf, lim_y_sup).integral(z, lim_z_inf, lim_z_sup)`"
   ]
  },
  {
   "cell_type": "code",
   "execution_count": 379,
   "metadata": {},
   "outputs": [
    {
     "data": {
      "text/html": [
       "<html><script type=\"math/tex; mode=display\">\\newcommand{\\Bold}[1]{\\mathbf{#1}}\\left(r, s\\right)</script></html>"
      ],
      "text/latex": [
       "$$\\newcommand{\\Bold}[1]{\\mathbf{#1}}\\left(r, s\\right)$$"
      ],
      "text/plain": [
       "(r, s)"
      ]
     },
     "execution_count": 379,
     "metadata": {},
     "output_type": "execute_result"
    }
   ],
   "source": [
    "var('r s')"
   ]
  },
  {
   "cell_type": "code",
   "execution_count": 380,
   "metadata": {},
   "outputs": [
    {
     "data": {
      "text/html": [
       "<html><script type=\"math/tex; mode=display\">\\newcommand{\\Bold}[1]{\\mathbf{#1}}\\int_{r}^{s} \\int_{c}^{d} \\int_{a}^{b} m\\left(x, y, z\\right)\\,{d x}\\,{d y}\\,{d z}</script></html>"
      ],
      "text/latex": [
       "$$\\newcommand{\\Bold}[1]{\\mathbf{#1}}\\int_{r}^{s} \\int_{c}^{d} \\int_{a}^{b} m\\left(x, y, z\\right)\\,{d x}\\,{d y}\\,{d z}$$"
      ],
      "text/plain": [
       "integrate(integrate(integrate(m(x, y, z), x, a, b), y, c, d), z, r, s)"
      ]
     },
     "execution_count": 380,
     "metadata": {},
     "output_type": "execute_result"
    }
   ],
   "source": [
    "integrate(integrate(integrate(m,x,a,b),y,c,d),z,r,s)"
   ]
  },
  {
   "cell_type": "markdown",
   "metadata": {},
   "source": [
    " "
   ]
  },
  {
   "cell_type": "markdown",
   "metadata": {},
   "source": [
    "Seja a nova função $u(x,y) = x y z^2$, com os limites $0 \\le x \\le 1$ e $-1 \\le y \\le 2$ e $0 \\le z \\le 3$. "
   ]
  },
  {
   "cell_type": "code",
   "execution_count": 384,
   "metadata": {},
   "outputs": [
    {
     "data": {
      "text/html": [
       "<html><script type=\"math/tex; mode=display\">\\newcommand{\\Bold}[1]{\\mathbf{#1}}\\left( x, y, z \\right) \\ {\\mapsto} \\ x y z^{2}</script></html>"
      ],
      "text/latex": [
       "$$\\newcommand{\\Bold}[1]{\\mathbf{#1}}\\left( x, y, z \\right) \\ {\\mapsto} \\ x y z^{2}$$"
      ],
      "text/plain": [
       "(x, y, z) |--> x*y*z^2"
      ]
     },
     "execution_count": 384,
     "metadata": {},
     "output_type": "execute_result"
    }
   ],
   "source": [
    "u(x,y,z) = x*y*z^2\n",
    "u"
   ]
  },
  {
   "cell_type": "code",
   "execution_count": 385,
   "metadata": {},
   "outputs": [
    {
     "data": {
      "text/html": [
       "<html><script type=\"math/tex; mode=display\">\\newcommand{\\Bold}[1]{\\mathbf{#1}}\\int_{0}^{3} \\int_{-1}^{2} \\int_{0}^{1} x y z^{2}\\,{d x}\\,{d y}\\,{d z}</script></html>"
      ],
      "text/latex": [
       "$$\\newcommand{\\Bold}[1]{\\mathbf{#1}}\\int_{0}^{3} \\int_{-1}^{2} \\int_{0}^{1} x y z^{2}\\,{d x}\\,{d y}\\,{d z}$$"
      ],
      "text/plain": [
       "integrate(integrate(integrate(x*y*z^2, x, 0, 1), y, -1, 2), z, 0, 3)"
      ]
     },
     "execution_count": 385,
     "metadata": {},
     "output_type": "execute_result"
    }
   ],
   "source": [
    "integrate(integrate(integrate(u,x,0,1, hold=True),y,-1,2, hold=True),z,0,3, hold=True)"
   ]
  },
  {
   "cell_type": "code",
   "execution_count": 386,
   "metadata": {},
   "outputs": [
    {
     "data": {
      "text/html": [
       "<html><script type=\"math/tex; mode=display\">\\newcommand{\\Bold}[1]{\\mathbf{#1}}\\frac{27}{4}</script></html>"
      ],
      "text/latex": [
       "$$\\newcommand{\\Bold}[1]{\\mathbf{#1}}\\frac{27}{4}$$"
      ],
      "text/plain": [
       "27/4"
      ]
     },
     "execution_count": 386,
     "metadata": {},
     "output_type": "execute_result"
    }
   ],
   "source": [
    "integrate(integrate(integrate(u,x,0,1),y,-1,2),z,0,3)"
   ]
  },
  {
   "cell_type": "code",
   "execution_count": 387,
   "metadata": {},
   "outputs": [
    {
     "data": {
      "text/html": [
       "<html><script type=\"math/tex; mode=display\">\\newcommand{\\Bold}[1]{\\mathbf{#1}}\\frac{27}{4}</script></html>"
      ],
      "text/latex": [
       "$$\\newcommand{\\Bold}[1]{\\mathbf{#1}}\\frac{27}{4}$$"
      ],
      "text/plain": [
       "27/4"
      ]
     },
     "execution_count": 387,
     "metadata": {},
     "output_type": "execute_result"
    }
   ],
   "source": [
    "u.integral(x, 0,1).integral(y, -1,2).integral(z, 0, 3)"
   ]
  },
  {
   "cell_type": "markdown",
   "metadata": {},
   "source": [
    " "
   ]
  }
 ],
 "metadata": {
  "kernelspec": {
   "display_name": "SageMath 9.3",
   "language": "sage",
   "name": "sagemath"
  },
  "language_info": {
   "codemirror_mode": {
    "name": "ipython",
    "version": 3
   },
   "file_extension": ".py",
   "mimetype": "text/x-python",
   "name": "python",
   "nbconvert_exporter": "python",
   "pygments_lexer": "ipython3",
   "version": "3.9.2"
  }
 },
 "nbformat": 4,
 "nbformat_minor": 4
}
