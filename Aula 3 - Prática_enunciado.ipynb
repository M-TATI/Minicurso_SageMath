{
 "cells": [
  {
   "cell_type": "markdown",
   "metadata": {},
   "source": [
    "# Minicurso SageMath - Aula 3\n",
    "André Felipe Moraes Luiz Lucchini\n",
    "___"
   ]
  },
  {
   "cell_type": "code",
   "execution_count": 1,
   "metadata": {},
   "outputs": [],
   "source": [
    "%display latex"
   ]
  },
  {
   "cell_type": "code",
   "execution_count": 2,
   "metadata": {},
   "outputs": [],
   "source": [
    "reset()"
   ]
  },
  {
   "cell_type": "markdown",
   "metadata": {},
   "source": [
    "1. \n",
    "\n",
    "    a. Verifique que $\\displaystyle\\int\\limits_{-\\infty}^\\infty e^{-\\frac{1}{2}x^2}dx = \\sqrt{2\\pi}$\n",
    "    \n",
    "    b. Defina a variável simbólica \"$a$\". Assuma $a>0$ e determine $\\displaystyle\\int\\limits_{-\\infty}^\\infty e^{-\\frac{1}{2}ax^2}dx$"
   ]
  },
  {
   "cell_type": "markdown",
   "metadata": {},
   "source": [
    "a)"
   ]
  },
  {
   "cell_type": "code",
   "execution_count": 1,
   "metadata": {},
   "outputs": [],
   "source": [
    "#Resolução"
   ]
  },
  {
   "cell_type": "markdown",
   "metadata": {},
   "source": [
    "b)"
   ]
  },
  {
   "cell_type": "code",
   "execution_count": 2,
   "metadata": {},
   "outputs": [],
   "source": [
    "#Resolução"
   ]
  },
  {
   "cell_type": "markdown",
   "metadata": {},
   "source": [
    " "
   ]
  },
  {
   "cell_type": "markdown",
   "metadata": {},
   "source": [
    "2. A superfície de um lago é representada por uma região $D$ no plano $xy$, tal que a profundidade sob o ponto correspondente a $(x,y)$ é dada por\n",
    "\n",
    "$$\\begin{align}\n",
    "    g(x,y) = 300 - 2x^2 - 3y^3\n",
    "\\end{align}$$\n",
    "\n",
    "Se um nadador está no ponto $(4,9)$, em que direção deve nadar para que a profundidade sob ele decresça mais rapidamente?"
   ]
  },
  {
   "cell_type": "code",
   "execution_count": 3,
   "metadata": {},
   "outputs": [],
   "source": [
    "#Resolução"
   ]
  },
  {
   "cell_type": "markdown",
   "metadata": {},
   "source": [
    " "
   ]
  },
  {
   "cell_type": "markdown",
   "metadata": {},
   "source": [
    "3. Para os seguintes campos de vetores encontre o rotacional no ponto indicado\n",
    "\n",
    "$$\\begin{align}\n",
    "    &a) \\quad \\vec{A}(x, y, z) = 3xy^2 \\, \\hat{i} - xy^2z \\, \\hat{j} - 4x^2 \\ln{y} \\, \\hat{k}; \\qquad &&(x,y,z) = (4,2,2)\\\\\n",
    "    &b) \\quad \\vec{A}(x, y, z) = \\cos{x}\\sin{y} \\, \\hat{i} - z \\, \\hat{j}; \\qquad &&(x,y,z) = (0, \\pi, 1)\\\\\n",
    "    &c) \\quad \\vec{A}(x, y, z) = (x^2 + y^2) \\, \\hat{i} + (x^2-z^2) \\, \\hat{k}; \\qquad &&(x,y,z) = (2,1,0)\n",
    "\\end{align}$$"
   ]
  },
  {
   "cell_type": "markdown",
   "metadata": {},
   "source": [
    "a)"
   ]
  },
  {
   "cell_type": "code",
   "execution_count": 4,
   "metadata": {},
   "outputs": [],
   "source": [
    "#Resolução"
   ]
  },
  {
   "cell_type": "markdown",
   "metadata": {},
   "source": [
    " "
   ]
  },
  {
   "cell_type": "markdown",
   "metadata": {},
   "source": [
    "b) "
   ]
  },
  {
   "cell_type": "code",
   "execution_count": 5,
   "metadata": {},
   "outputs": [],
   "source": [
    "#Resolução"
   ]
  },
  {
   "cell_type": "markdown",
   "metadata": {},
   "source": [
    " "
   ]
  },
  {
   "cell_type": "markdown",
   "metadata": {},
   "source": [
    "c)"
   ]
  },
  {
   "cell_type": "code",
   "execution_count": 6,
   "metadata": {},
   "outputs": [],
   "source": [
    "#Resolução"
   ]
  },
  {
   "cell_type": "markdown",
   "metadata": {},
   "source": [
    " "
   ]
  },
  {
   "cell_type": "markdown",
   "metadata": {},
   "source": [
    "4. Determine o rotacional e o divergente dos campos vetoriais\n",
    "\n",
    "$$\\begin{align}\n",
    "    &a) \\vec{F_1}(x,y,z)=(\\ln{x},\\ln{(xy)},\\ln{(xyz)})\\\\\n",
    "    &b) \\vec{F_2}(x,y,z)=e^{xy}\\sin{z}\\, \\hat{j} + y\\left(\\tan{\\frac{x}{z}}\\right)^{-1}k.\n",
    "\\end{align}$$"
   ]
  },
  {
   "cell_type": "markdown",
   "metadata": {},
   "source": [
    "a)"
   ]
  },
  {
   "cell_type": "code",
   "execution_count": 7,
   "metadata": {},
   "outputs": [],
   "source": [
    "#Resolução"
   ]
  },
  {
   "cell_type": "markdown",
   "metadata": {},
   "source": [
    " "
   ]
  },
  {
   "cell_type": "markdown",
   "metadata": {},
   "source": [
    "b)"
   ]
  },
  {
   "cell_type": "code",
   "execution_count": 8,
   "metadata": {},
   "outputs": [],
   "source": [
    "#Resolução"
   ]
  },
  {
   "cell_type": "markdown",
   "metadata": {},
   "source": [
    "5. Determine se os campos vetoriais\n",
    "\n",
    "$$\\begin{align}\n",
    "    &a) \\vec{F_3}(x,y,z)= y\\cos{(xy)}\\, \\hat{i} + x\\cos{(xy)}\\,\\hat{j}− sin{z}\\,\\hat{k}\\\\\n",
    "    &b) \\vec{F_4}(x,y,z)= y e^{-x}\\,\\hat{i} + e^{-x}\\,\\hat{j} + 2z\\,\\hat{k}\n",
    "\\end{align}$$\n",
    "\n",
    "são conservativos ou não. Se forem conservativos, determine uma função $f$ para cada um delestal que $\\vec{F} = \\vec{\\nabla}f$."
   ]
  },
  {
   "cell_type": "markdown",
   "metadata": {},
   "source": [
    "a)"
   ]
  },
  {
   "cell_type": "code",
   "execution_count": 9,
   "metadata": {},
   "outputs": [],
   "source": [
    "#Resolução"
   ]
  },
  {
   "cell_type": "markdown",
   "metadata": {},
   "source": [
    " "
   ]
  },
  {
   "cell_type": "markdown",
   "metadata": {},
   "source": [
    "b)"
   ]
  },
  {
   "cell_type": "code",
   "execution_count": 10,
   "metadata": {},
   "outputs": [],
   "source": [
    "#Resolução"
   ]
  },
  {
   "cell_type": "markdown",
   "metadata": {},
   "source": [
    "   "
   ]
  },
  {
   "cell_type": "markdown",
   "metadata": {},
   "source": [
    "6. Oscilador amortecido\n",
    "\n",
    "    a. Oscilador amortecido $$m\\ddot{y}(t) +b\\dot{y}(t)= -ky(t).$$\n",
    "\n",
    "Para resolver a EDO você precisará:\n",
    " - Definir as variáveis simbólicas e funções involvidas (ver guia de referencia rápida);\n",
    " - Estabelecer a equação diferencial;\n",
    " - Assuma $4mk-b^2>0$;\n",
    " - Resolver a equação diferencial usando o comando `desolve`."
   ]
  },
  {
   "cell_type": "markdown",
   "metadata": {},
   "source": [
    "A sintáxe do comando é `desolve(equação, dvar, ivar=t)`, onde `dvar` é a variável dependente e `ivar=t` indica que a variável independente e $t$. Use a ajuda `desolve?` se necessário."
   ]
  },
  {
   "cell_type": "markdown",
   "metadata": {},
   "source": [
    "a)"
   ]
  },
  {
   "cell_type": "code",
   "execution_count": 11,
   "metadata": {},
   "outputs": [],
   "source": [
    "#Resolução"
   ]
  },
  {
   "cell_type": "markdown",
   "metadata": {},
   "source": [
    "    "
   ]
  },
  {
   "cell_type": "markdown",
   "metadata": {},
   "source": [
    "b. Suponha que um sistema mecânico seja governado por pela equação diferencial $$\\ddot{y}(t) +\\frac{1}{5}\\dot{y}(t)= -\\frac{1}{4}y(t).$$\n",
    "Encontre a solução assumindo as condições iniciais $$y(0) = \\frac{1}{2}, \\dot{y}(0) = \\frac{7}{4}.$$"
   ]
  },
  {
   "cell_type": "markdown",
   "metadata": {},
   "source": [
    "Para incluir as condições iniciais, use `desolve(equação, dvar, ivar=t, ics=[t_0, y(t_0), y'(t_0)])`, onde `t_0, y(t_0), y'(t_0)` são as tais condições."
   ]
  },
  {
   "cell_type": "code",
   "execution_count": 12,
   "metadata": {},
   "outputs": [],
   "source": [
    "#Resolução"
   ]
  },
  {
   "cell_type": "markdown",
   "metadata": {},
   "source": [
    "    "
   ]
  },
  {
   "cell_type": "markdown",
   "metadata": {},
   "source": [
    "   "
   ]
  },
  {
   "cell_type": "markdown",
   "metadata": {},
   "source": [
    "7. Determine o valor de $\\frac{\\partial f}{\\partial u}(0,1,1)$, para \n",
    "$$\n",
    "f(s,t,u)=\\frac{s+tu}{\\sqrt{s^2+t^2+u^2}}\n",
    "$$"
   ]
  },
  {
   "cell_type": "code",
   "execution_count": 13,
   "metadata": {},
   "outputs": [],
   "source": [
    "#Resolução"
   ]
  },
  {
   "cell_type": "markdown",
   "metadata": {},
   "source": [
    "   "
   ]
  },
  {
   "cell_type": "markdown",
   "metadata": {},
   "source": [
    "   "
   ]
  },
  {
   "cell_type": "markdown",
   "metadata": {},
   "source": [
    "8. Seja $g$ a aceleração da gravidade na superfície da Terra. Em termos da teoria de Newton, se $R$ é o raio da terra e $M$ sua massa, \n",
    "$$g = \\frac{GM}{R^2}.$$ \n",
    "Determine a expansão de até terceira ordem para a modificação em $g$ a uma altura $h$ acima da superfície da terra."
   ]
  },
  {
   "cell_type": "markdown",
   "metadata": {},
   "source": [
    "   Um corpo de massa $m$ move-se ao longo de uma haste $r$, inclinada sob um ângulo variável $\\theta$ com a horizontal. Supondo $\\theta = \\omega\\,t$, com $\\omega = \\text{const}$, de modo que em $t_0$ o corpo esteja a uma distância $r_0$ da origem."
   ]
  },
  {
   "cell_type": "markdown",
   "metadata": {},
   "source": [
    "Para esse exercício, teremos a decomposição:\n",
    "\n",
    "$$\\begin{align}\n",
    "        \\left \\{ \\begin{matrix} \n",
    "        x = r\\cos{\\theta}\\\\\n",
    "        y = r\\sin{\\theta}\n",
    "        \\end{matrix} \\right.\n",
    "\\end{align}$$"
   ]
  },
  {
   "cell_type": "markdown",
   "metadata": {},
   "source": [
    "Para a Lagrangiana, temos: $L = T - U$"
   ]
  },
  {
   "cell_type": "markdown",
   "metadata": {},
   "source": [
    "Com\n",
    "$$\n",
    "\\begin{equation}\n",
    "\\left \\{ \\begin{matrix} \n",
    "    \\dot{x} = \\dot{r}\\cos{\\theta} - r\\dot{\\theta}\\sin{\\theta} \\\\\n",
    "    \\dot{y} = \\dot{r}\\sin{\\theta} + r\\dot{\\theta}\\cos{\\theta}\n",
    "\\end{matrix} \\right.\n",
    "\\end{equation}\n",
    "$$"
   ]
  },
  {
   "cell_type": "markdown",
   "metadata": {},
   "source": [
    "- O próximo passo é aplicar a lagrangiana na Eq. De Euler-Lagrange para determinar a Equação de Movimento:\n",
    "\n",
    "$$\\begin{align}\n",
    "        \\frac{d}{dt}\\left(\\frac{\\partial L}{\\partial \\dot{r}}\\right) - \\left(\\frac{\\partial L}{\\partial r}\\right) = 0\n",
    "    \\end{align}$$"
   ]
  },
  {
   "cell_type": "code",
   "execution_count": 14,
   "metadata": {},
   "outputs": [],
   "source": [
    "#Resolução"
   ]
  },
  {
   "cell_type": "markdown",
   "metadata": {},
   "source": [
    "   "
   ]
  },
  {
   "cell_type": "markdown",
   "metadata": {},
   "source": [
    "9. Resolve a equação de Schrödinger 1D para poço infinito"
   ]
  },
  {
   "cell_type": "markdown",
   "metadata": {},
   "source": [
    "Para o caso do _Poço de potencial infinito_, temos matematicamente:\n",
    "\n",
    "$$\n",
    "V(x) = \\left \\{ \\begin{matrix}\n",
    "\\infty, & \\mbox{se } x \\le -\\frac{a}{2} \\mbox{ ou } x\\ge +\\frac{a}{2}\\\\ \n",
    "0, & \\mbox{se } -\\frac{a}{2} < x < +\\frac{a}{2}\n",
    "\\end{matrix} \\right.\n",
    "$$"
   ]
  },
  {
   "cell_type": "markdown",
   "metadata": {},
   "source": [
    "Para esse proprósito, usaremos da _Equação de Schrödinger independente do tempo_:\n",
    "$$\n",
    "-\\frac{\\hbar^2}{2m}\\frac{d^2}{dx^2}\\Psi(x) + V(x)\\Psi(x) = E\\Psi(x)\n",
    "$$"
   ]
  },
  {
   "cell_type": "markdown",
   "metadata": {},
   "source": [
    "Não há nenhum valor de $k$ que anule, simultaneamente, $\\cos{(ak/2)}$ e $\\sin{(ak/2)}$. O que é o que procuramos, do contrário, a partícula não estaria confinada no poço. Podemos assumir duas hipóteses:\n",
    "\n",
    "$$\\begin{align}\n",
    "\\cos{(ak/2)} &= 0 \\quad \\text{e} \\quad C_1 = 0\\\\\n",
    "\\text{ou}\\\\\n",
    "\\quad \\sin{(ak/2)} &= 0 \\quad \\text{e} \\quad C_0 = 0\n",
    "\\end{align}$$"
   ]
  },
  {
   "cell_type": "markdown",
   "metadata": {},
   "source": [
    "Para o primeiro caso, os valores possíveis de $k$ são $ka/2 = \\pi/2, 3\\pi/2, 5\\pi/2, \\cdots$. Já para o segundo caso, os valores possíveis de $k$ são $ka/2 = \\pi, 2\\pi, 3\\pi, \\cdots$. Lembrando que $ka/2=0$ não é aceitável pois nem $k$, nem $a$ são iguais à zero.\n",
    "\n",
    "Dessa forma, teremos para a solução de _Equaçção de Schrödinger independente do tempo para o poço de potencial infinito_."
   ]
  },
  {
   "cell_type": "code",
   "execution_count": 15,
   "metadata": {},
   "outputs": [],
   "source": [
    "#Resolução"
   ]
  },
  {
   "cell_type": "markdown",
   "metadata": {},
   "source": [
    "Onde $k_n = n\\pi/a$\n",
    "\n",
    "Por fim\n",
    "\n",
    "$$\n",
    "\\psi(x) = \\left \\{ \\begin{matrix}\n",
    "{C_0}_n\\cos{(k_n x)}; & n = 1, 3, 5, \\cdots\\\\ \n",
    "{C_1}_n\\sin{(k_n x)}; & n = 2, 4, 6, \\cdots \n",
    "\\end{matrix} \\right.\n",
    "$$"
   ]
  },
  {
   "cell_type": "markdown",
   "metadata": {},
   "source": [
    " "
   ]
  }
 ],
 "metadata": {
  "kernelspec": {
   "display_name": "SageMath 9.3",
   "language": "sage",
   "name": "sagemath"
  },
  "language_info": {
   "codemirror_mode": {
    "name": "ipython",
    "version": 3
   },
   "file_extension": ".py",
   "mimetype": "text/x-python",
   "name": "python",
   "nbconvert_exporter": "python",
   "pygments_lexer": "ipython3",
   "version": "3.9.2"
  }
 },
 "nbformat": 4,
 "nbformat_minor": 2
}
