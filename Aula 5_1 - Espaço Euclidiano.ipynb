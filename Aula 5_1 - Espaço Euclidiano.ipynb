{
 "cells": [
  {
   "cell_type": "markdown",
   "id": "4e5dd172-d948-4323-b790-05bac47ba569",
   "metadata": {
    "jp-MarkdownHeadingCollapsed": true,
    "tags": []
   },
   "source": [
    "# Cálculo vetorial e espaço Euclidiano"
   ]
  },
  {
   "cell_type": "markdown",
   "id": "feeb7ade-90f1-475e-afd0-b3321d2f2600",
   "metadata": {},
   "source": [
    "Hoje veremos algumas funcionalidades de cálculo vectorial do SageMath. Para isso adotaremos o espaço euclidiano tridimensional. As ferramentas correspondentes foram desenvolvidas no projeto [SageManifolds](https://sagemanifolds.obspm.fr).\n",
    "\n",
    "Este notebook é baseado no [tutorial de cálculo vetorial no espaço euclidiano](https://doc.sagemath.org/html/en/thematic_tutorials/vector_calculus.html)."
   ]
  },
  {
   "cell_type": "code",
   "execution_count": 175,
   "id": "a4f41daa-2bc2-4d91-a8c9-0b2068a25510",
   "metadata": {},
   "outputs": [],
   "source": [
    "%display latex"
   ]
  },
  {
   "cell_type": "markdown",
   "id": "644c1b8f-a91f-451f-a69c-877bd58bb1d7",
   "metadata": {
    "jp-MarkdownHeadingCollapsed": true,
    "tags": [],
    "toc-hr-collapsed": true
   },
   "source": [
    "## Coordenadas cartesianas"
   ]
  },
  {
   "cell_type": "markdown",
   "id": "e67f5a97-ff37-4cea-b26a-31b774510d74",
   "metadata": {},
   "source": [
    "Começamos declarando o espaço euclidiano tridimensional $\\mathbb{E}^3$, com $(x,y,z)$ em coordenadas cartesianas:"
   ]
  },
  {
   "cell_type": "code",
   "execution_count": 152,
   "id": "dc1b4f20-fde4-4d0c-84de-c74228bf8df5",
   "metadata": {},
   "outputs": [
    {
     "name": "stdout",
     "output_type": "stream",
     "text": [
      "Euclidean space E^3\n"
     ]
    },
    {
     "data": {
      "text/html": [
       "<html>\\(\\displaystyle \\mathbb{E}^{3}\\)</html>"
      ],
      "text/latex": [
       "$\\displaystyle \\mathbb{E}^{3}$"
      ],
      "text/plain": [
       "Euclidean space E^3"
      ]
     },
     "execution_count": 152,
     "metadata": {},
     "output_type": "execute_result"
    }
   ],
   "source": [
    "E.<x,y,z> = EuclideanSpace()\n",
    "print(E)\n",
    "E"
   ]
  },
  {
   "cell_type": "code",
   "execution_count": 153,
   "id": "7029d8e3-559b-4f0f-9871-dbb26c9547c0",
   "metadata": {},
   "outputs": [
    {
     "data": {
      "text/html": [
       "<html>\\(\\displaystyle \\left[\\left(\\mathbb{E}^{3},(x, y, z)\\right)\\right]\\)</html>"
      ],
      "text/latex": [
       "$\\displaystyle \\left[\\left(\\mathbb{E}^{3},(x, y, z)\\right)\\right]$"
      ],
      "text/plain": [
       "[Chart (E^3, (x, y, z))]"
      ]
     },
     "execution_count": 153,
     "metadata": {},
     "output_type": "execute_result"
    }
   ],
   "source": [
    "E.atlas()"
   ]
  },
  {
   "cell_type": "markdown",
   "id": "20e61b61-8a26-4b4d-a73e-4b87e0758998",
   "metadata": {},
   "source": [
    "Denominemos por `cartesian` o mapa de coordenadas cartesianas:"
   ]
  },
  {
   "cell_type": "code",
   "execution_count": 154,
   "id": "797f3a4a-6258-4e40-a9a0-c3599dbbabd6",
   "metadata": {},
   "outputs": [
    {
     "data": {
      "text/html": [
       "<html>\\(\\displaystyle \\left(\\mathbb{E}^{3},(x, y, z)\\right)\\)</html>"
      ],
      "text/latex": [
       "$\\displaystyle \\left(\\mathbb{E}^{3},(x, y, z)\\right)$"
      ],
      "text/plain": [
       "Chart (E^3, (x, y, z))"
      ]
     },
     "execution_count": 154,
     "metadata": {},
     "output_type": "execute_result"
    }
   ],
   "source": [
    "cartesian = E.cartesian_coordinates()\n",
    "cartesian"
   ]
  },
  {
   "cell_type": "markdown",
   "id": "5055637c-1de7-4dd2-ac40-7dc85f431bcb",
   "metadata": {},
   "source": [
    "O acesso às coordenadas individuais é feito através de colchetes. Mesma notação de listas e tuplas:"
   ]
  },
  {
   "cell_type": "code",
   "execution_count": 159,
   "id": "bfc6a561-08d6-4722-8a2b-ad67fc010f9e",
   "metadata": {},
   "outputs": [
    {
     "data": {
      "text/html": [
       "<html>\\(\\displaystyle y\\)</html>"
      ],
      "text/latex": [
       "$\\displaystyle y$"
      ],
      "text/plain": [
       "y"
      ]
     },
     "execution_count": 159,
     "metadata": {},
     "output_type": "execute_result"
    }
   ],
   "source": [
    "cartesian[2]"
   ]
  },
  {
   "cell_type": "code",
   "execution_count": 160,
   "id": "661644b8-c0cd-40d8-b84b-6526e4ee02af",
   "metadata": {},
   "outputs": [
    {
     "data": {
      "text/html": [
       "<html>\\(\\displaystyle \\left(x, y, z\\right)\\)</html>"
      ],
      "text/latex": [
       "$\\displaystyle \\left(x, y, z\\right)$"
      ],
      "text/plain": [
       "(x, y, z)"
      ]
     },
     "execution_count": 160,
     "metadata": {},
     "output_type": "execute_result"
    }
   ],
   "source": [
    "cartesian[:]"
   ]
  },
  {
   "cell_type": "markdown",
   "id": "f933d131-6e9b-49be-bdc0-4f698d4b760b",
   "metadata": {},
   "source": [
    "Graças à utilização de `<x,y,z>` ao declarar `E`, as variáveis Python `x`, `y` e `z` foram criadas (ou seja, não há necessidade de as declarar por algo como `y = var('y')`)"
   ]
  },
  {
   "cell_type": "code",
   "execution_count": 161,
   "id": "363e5104-b624-4eca-89cd-d054d49f902b",
   "metadata": {},
   "outputs": [
    {
     "data": {
      "text/html": [
       "<html>\\(\\displaystyle \\verb|&lt;class|\\verb| |\\verb|'sage.symbolic.expression.Expression'>|\\)</html>"
      ],
      "text/latex": [
       "$\\displaystyle \\verb|<class|\\verb| |\\verb|'sage.symbolic.expression.Expression'>|$"
      ],
      "text/plain": [
       "<class 'sage.symbolic.expression.Expression'>"
      ]
     },
     "execution_count": 161,
     "metadata": {},
     "output_type": "execute_result"
    }
   ],
   "source": [
    "type(y)"
   ]
  },
  {
   "cell_type": "markdown",
   "id": "0a8b5222-559e-4420-bdb7-1a9efc0a90d2",
   "metadata": {},
   "source": [
    "Cada uma das coordenadas cartesianas cobre toda a reta real:"
   ]
  },
  {
   "cell_type": "code",
   "execution_count": 162,
   "id": "0e594cfd-cab0-45e5-8c36-d6e730d65cf1",
   "metadata": {},
   "outputs": [
    {
     "data": {
      "text/html": [
       "<html>\\(\\displaystyle x :\\ \\left( -\\infty, +\\infty \\right) ;\\quad y :\\ \\left( -\\infty, +\\infty \\right) ;\\quad z :\\ \\left( -\\infty, +\\infty \\right)\\)</html>"
      ],
      "text/latex": [
       "$\\displaystyle x :\\ \\left( -\\infty, +\\infty \\right) ;\\quad y :\\ \\left( -\\infty, +\\infty \\right) ;\\quad z :\\ \\left( -\\infty, +\\infty \\right)$"
      ],
      "text/plain": [
       "x: (-oo, +oo); y: (-oo, +oo); z: (-oo, +oo)"
      ]
     },
     "execution_count": 162,
     "metadata": {},
     "output_type": "execute_result"
    }
   ],
   "source": [
    "cartesian.coord_range()"
   ]
  },
  {
   "cell_type": "markdown",
   "id": "3126e2aa-f212-4f84-ae82-f162f88dd425",
   "metadata": {},
   "source": [
    "Sendo o único sistema de coordenadas definido até agora, `cartesian` é o sistema de coordenadas padrão em `E`:"
   ]
  },
  {
   "cell_type": "code",
   "execution_count": 163,
   "id": "35e7b825-b772-4d66-b311-a95bbbf73da2",
   "metadata": {},
   "outputs": [
    {
     "data": {
      "text/html": [
       "<html>\\(\\displaystyle \\mathrm{True}\\)</html>"
      ],
      "text/latex": [
       "$\\displaystyle \\mathrm{True}$"
      ],
      "text/plain": [
       "True"
      ]
     },
     "execution_count": 163,
     "metadata": {},
     "output_type": "execute_result"
    }
   ],
   "source": [
    "cartesian is E.default_chart()"
   ]
  },
  {
   "cell_type": "markdown",
   "id": "384fab7e-4305-4f48-a4e6-867051524658",
   "metadata": {},
   "source": [
    "$\\mathbb{E}^3$ é dotado de uma base ortonormal $(e_x, e_y, e_z)$ associada às coordenadas cartesianas: "
   ]
  },
  {
   "cell_type": "code",
   "execution_count": 164,
   "id": "f598c838-b9c3-4c43-a07f-c46d6ed135f0",
   "metadata": {},
   "outputs": [
    {
     "data": {
      "text/html": [
       "<html>\\(\\displaystyle \\left[\\left(\\mathbb{E}^{3}, \\left(e_{ x },e_{ y },e_{ z }\\right)\\right)\\right]\\)</html>"
      ],
      "text/latex": [
       "$\\displaystyle \\left[\\left(\\mathbb{E}^{3}, \\left(e_{ x },e_{ y },e_{ z }\\right)\\right)\\right]$"
      ],
      "text/plain": [
       "[Coordinate frame (E^3, (e_x,e_y,e_z))]"
      ]
     },
     "execution_count": 164,
     "metadata": {},
     "output_type": "execute_result"
    }
   ],
   "source": [
    "E.frames()"
   ]
  },
  {
   "cell_type": "markdown",
   "id": "c271ea81-4b4c-45c6-aefe-0e2d0db0ee6a",
   "metadata": {},
   "source": [
    "Que denominaremos por `cartesian_frame`:"
   ]
  },
  {
   "cell_type": "code",
   "execution_count": 165,
   "id": "f7823c3f-ad27-424c-8139-64519e567af5",
   "metadata": {},
   "outputs": [
    {
     "data": {
      "text/html": [
       "<html>\\(\\displaystyle \\left(\\mathbb{E}^{3}, \\left(e_{ x },e_{ y },e_{ z }\\right)\\right)\\)</html>"
      ],
      "text/latex": [
       "$\\displaystyle \\left(\\mathbb{E}^{3}, \\left(e_{ x },e_{ y },e_{ z }\\right)\\right)$"
      ],
      "text/plain": [
       "Coordinate frame (E^3, (e_x,e_y,e_z))"
      ]
     },
     "execution_count": 165,
     "metadata": {},
     "output_type": "execute_result"
    }
   ],
   "source": [
    "cartesian_frame = E.cartesian_frame()\n",
    "cartesian_frame"
   ]
  },
  {
   "cell_type": "code",
   "execution_count": 166,
   "id": "6ea58d1f-f8e3-4586-b8ce-a3ed4f430db6",
   "metadata": {},
   "outputs": [
    {
     "data": {
      "text/html": [
       "<html>\\(\\displaystyle \\mathrm{True}\\)</html>"
      ],
      "text/latex": [
       "$\\displaystyle \\mathrm{True}$"
      ],
      "text/plain": [
       "True"
      ]
     },
     "execution_count": 166,
     "metadata": {},
     "output_type": "execute_result"
    }
   ],
   "source": [
    "cartesian_frame is E.default_frame()"
   ]
  },
  {
   "cell_type": "markdown",
   "id": "427607eb-4dbe-47fc-8fc9-917e23a8c4e1",
   "metadata": {},
   "source": [
    "Cada elemento desta base é um campo vectorial unitário. De modo que, por exemplo,  $e_x\\cdot e_x = 1$:"
   ]
  },
  {
   "cell_type": "code",
   "execution_count": 167,
   "id": "4335538e-94f3-4663-94aa-ca0f8e85e357",
   "metadata": {},
   "outputs": [
    {
     "data": {
      "text/html": [
       "<html>\\(\\displaystyle e_{ x }\\)</html>"
      ],
      "text/latex": [
       "$\\displaystyle e_{ x }$"
      ],
      "text/plain": [
       "Vector field e_x on the Euclidean space E^3"
      ]
     },
     "execution_count": 167,
     "metadata": {},
     "output_type": "execute_result"
    }
   ],
   "source": [
    "e_x = cartesian_frame[1]\n",
    "e_x"
   ]
  },
  {
   "cell_type": "code",
   "execution_count": 174,
   "id": "625c9ce0-92f3-4fb0-be88-0904f7f49d77",
   "metadata": {},
   "outputs": [
    {
     "data": {
      "text/html": [
       "<html>\\(\\displaystyle 1\\)</html>"
      ],
      "text/latex": [
       "$\\displaystyle 1$"
      ],
      "text/plain": [
       "1"
      ]
     },
     "execution_count": 174,
     "metadata": {},
     "output_type": "execute_result"
    }
   ],
   "source": [
    "e_x.dot(e_x).expr()"
   ]
  },
  {
   "cell_type": "markdown",
   "id": "43b840a2-02bb-45b2-a25a-f56f7b036119",
   "metadata": {},
   "source": [
    "Assim como $e_x\\cdot e_y = 0$:"
   ]
  },
  {
   "cell_type": "code",
   "execution_count": 169,
   "id": "fb552215-f063-464e-ba7d-686f017aa74f",
   "metadata": {},
   "outputs": [
    {
     "data": {
      "text/html": [
       "<html>\\(\\displaystyle 0\\)</html>"
      ],
      "text/latex": [
       "$\\displaystyle 0$"
      ],
      "text/plain": [
       "0"
      ]
     },
     "execution_count": 169,
     "metadata": {},
     "output_type": "execute_result"
    }
   ],
   "source": [
    "e_y = cartesian_frame[2]\n",
    "e_x.dot(e_y).expr()"
   ]
  },
  {
   "cell_type": "markdown",
   "id": "049038fb-5cd9-4982-8d5e-0be84ef074f3",
   "metadata": {
    "jp-MarkdownHeadingCollapsed": true,
    "tags": []
   },
   "source": [
    "## Coordenadas esféricas"
   ]
  },
  {
   "cell_type": "markdown",
   "id": "0962068d-4776-43fb-82f4-994441bbdaff",
   "metadata": {},
   "source": [
    "As coordenadas esféricas são introduzidas por"
   ]
  },
  {
   "cell_type": "code",
   "execution_count": 176,
   "id": "03fddfd1-98d4-47e5-848c-66eec4660996",
   "metadata": {},
   "outputs": [
    {
     "data": {
      "text/html": [
       "<html>\\(\\displaystyle \\left(\\mathbb{E}^{3},(r, {\\theta}, {\\phi})\\right)\\)</html>"
      ],
      "text/latex": [
       "$\\displaystyle \\left(\\mathbb{E}^{3},(r, {\\theta}, {\\phi})\\right)$"
      ],
      "text/plain": [
       "Chart (E^3, (r, th, ph))"
      ]
     },
     "execution_count": 176,
     "metadata": {},
     "output_type": "execute_result"
    }
   ],
   "source": [
    "spherical.<r,th,ph> = E.spherical_coordinates()\n",
    "spherical"
   ]
  },
  {
   "cell_type": "markdown",
   "id": "1de23941-91e3-4e93-b269-b594b9e29c0a",
   "metadata": {},
   "source": [
    "Temos"
   ]
  },
  {
   "cell_type": "code",
   "execution_count": 177,
   "id": "c404fabf-4373-454a-b492-560539ed4fc6",
   "metadata": {},
   "outputs": [
    {
     "data": {
      "text/html": [
       "<html>\\(\\displaystyle \\left(r, {\\theta}, {\\phi}\\right)\\)</html>"
      ],
      "text/latex": [
       "$\\displaystyle \\left(r, {\\theta}, {\\phi}\\right)$"
      ],
      "text/plain": [
       "(r, th, ph)"
      ]
     },
     "execution_count": 177,
     "metadata": {},
     "output_type": "execute_result"
    }
   ],
   "source": [
    "spherical[:]"
   ]
  },
  {
   "cell_type": "code",
   "execution_count": 178,
   "id": "ded1f220-0ffc-4bfb-8091-8cf2c4607b7c",
   "metadata": {},
   "outputs": [
    {
     "data": {
      "text/html": [
       "<html>\\(\\displaystyle r :\\ \\left( 0 , +\\infty \\right) ;\\quad {\\theta} :\\ \\left( 0 , \\pi \\right) ;\\quad {\\phi} :\\ \\left[ 0 , 2 \\, \\pi \\right] \\mbox{(periodic)}\\)</html>"
      ],
      "text/latex": [
       "$\\displaystyle r :\\ \\left( 0 , +\\infty \\right) ;\\quad {\\theta} :\\ \\left( 0 , \\pi \\right) ;\\quad {\\phi} :\\ \\left[ 0 , 2 \\, \\pi \\right] \\mbox{(periodic)}$"
      ],
      "text/plain": [
       "r: (0, +oo); th: (0, pi); ph: [0, 2*pi] (periodic)"
      ]
     },
     "execution_count": 178,
     "metadata": {},
     "output_type": "execute_result"
    }
   ],
   "source": [
    "spherical.coord_range()"
   ]
  },
  {
   "cell_type": "markdown",
   "id": "92114b16-d8d0-4f04-be66-f3bd152170c6",
   "metadata": {},
   "source": [
    "$\\mathbb{E}^3$ é agora munido de dois sistemas de coordenadas:"
   ]
  },
  {
   "cell_type": "code",
   "execution_count": 179,
   "id": "6f136dfd-e157-4ad8-b32d-5620a46afb38",
   "metadata": {},
   "outputs": [
    {
     "data": {
      "text/html": [
       "<html>\\(\\displaystyle \\left[\\left(\\mathbb{E}^{3},(x, y, z)\\right), \\left(\\mathbb{E}^{3},(r, {\\theta}, {\\phi})\\right)\\right]\\)</html>"
      ],
      "text/latex": [
       "$\\displaystyle \\left[\\left(\\mathbb{E}^{3},(x, y, z)\\right), \\left(\\mathbb{E}^{3},(r, {\\theta}, {\\phi})\\right)\\right]$"
      ],
      "text/plain": [
       "[Chart (E^3, (x, y, z)), Chart (E^3, (r, th, ph))]"
      ]
     },
     "execution_count": 179,
     "metadata": {},
     "output_type": "execute_result"
    }
   ],
   "source": [
    "E.atlas()"
   ]
  },
  {
   "cell_type": "markdown",
   "id": "c5e5ef0f-3f96-4bd2-82a0-3e856ec2575d",
   "metadata": {},
   "source": [
    "As fórmulas de mudança de coordenadas foram automaticamente implementadas na definição de coordenadas esféricas `E.spherical_coordinates()`:"
   ]
  },
  {
   "cell_type": "code",
   "execution_count": 180,
   "id": "bb8c572f-c733-417f-9b6b-7cfaaf69f013",
   "metadata": {},
   "outputs": [
    {
     "data": {
      "text/html": [
       "<html>\\(\\displaystyle \\left\\{\\begin{array}{lcl} x & = & r \\cos\\left({\\phi}\\right) \\sin\\left({\\theta}\\right) \\\\ y & = & r \\sin\\left({\\phi}\\right) \\sin\\left({\\theta}\\right) \\\\ z & = & r \\cos\\left({\\theta}\\right) \\end{array}\\right.\\)</html>"
      ],
      "text/latex": [
       "$\\displaystyle \\left\\{\\begin{array}{lcl} x & = & r \\cos\\left({\\phi}\\right) \\sin\\left({\\theta}\\right) \\\\ y & = & r \\sin\\left({\\phi}\\right) \\sin\\left({\\theta}\\right) \\\\ z & = & r \\cos\\left({\\theta}\\right) \\end{array}\\right.$"
      ],
      "text/plain": [
       "x = r*cos(ph)*sin(th)\n",
       "y = r*sin(ph)*sin(th)\n",
       "z = r*cos(th)"
      ]
     },
     "execution_count": 180,
     "metadata": {},
     "output_type": "execute_result"
    }
   ],
   "source": [
    "E.coord_change(spherical, cartesian).display()"
   ]
  },
  {
   "cell_type": "code",
   "execution_count": 181,
   "id": "6d99d07e-0262-44fe-b1c9-28bd0ade7fd8",
   "metadata": {},
   "outputs": [
    {
     "data": {
      "text/html": [
       "<html>\\(\\displaystyle \\left\\{\\begin{array}{lcl} r & = & \\sqrt{x^{2} + y^{2} + z^{2}} \\\\ {\\theta} & = & \\arctan\\left(\\sqrt{x^{2} + y^{2}}, z\\right) \\\\ {\\phi} & = & \\arctan\\left(y, x\\right) \\end{array}\\right.\\)</html>"
      ],
      "text/latex": [
       "$\\displaystyle \\left\\{\\begin{array}{lcl} r & = & \\sqrt{x^{2} + y^{2} + z^{2}} \\\\ {\\theta} & = & \\arctan\\left(\\sqrt{x^{2} + y^{2}}, z\\right) \\\\ {\\phi} & = & \\arctan\\left(y, x\\right) \\end{array}\\right.$"
      ],
      "text/plain": [
       "r = sqrt(x^2 + y^2 + z^2)\n",
       "th = arctan2(sqrt(x^2 + y^2), z)\n",
       "ph = arctan2(y, x)"
      ]
     },
     "execution_count": 181,
     "metadata": {},
     "output_type": "execute_result"
    }
   ],
   "source": [
    "E.coord_change(cartesian, spherical).display()"
   ]
  },
  {
   "cell_type": "markdown",
   "id": "0cf46ee1-a252-43e2-99f7-6e43f239a786",
   "metadata": {},
   "source": [
    "$\\mathbb{E}^3$ é agora munido de 3 bases:"
   ]
  },
  {
   "cell_type": "code",
   "execution_count": 182,
   "id": "afdff4bc-72bc-4bb9-b6ae-547a779e2d70",
   "metadata": {},
   "outputs": [
    {
     "data": {
      "text/html": [
       "<html>\\(\\displaystyle \\left[\\left(\\mathbb{E}^{3}, \\left(e_{ x },e_{ y },e_{ z }\\right)\\right), \\left(\\mathbb{E}^{3}, \\left(\\frac{\\partial}{\\partial r },\\frac{\\partial}{\\partial {\\theta} },\\frac{\\partial}{\\partial {\\phi} }\\right)\\right), \\left(\\mathbb{E}^{3}, \\left(e_{ r },e_{ {\\theta} },e_{ {\\phi} }\\right)\\right)\\right]\\)</html>"
      ],
      "text/latex": [
       "$\\displaystyle \\left[\\left(\\mathbb{E}^{3}, \\left(e_{ x },e_{ y },e_{ z }\\right)\\right), \\left(\\mathbb{E}^{3}, \\left(\\frac{\\partial}{\\partial r },\\frac{\\partial}{\\partial {\\theta} },\\frac{\\partial}{\\partial {\\phi} }\\right)\\right), \\left(\\mathbb{E}^{3}, \\left(e_{ r },e_{ {\\theta} },e_{ {\\phi} }\\right)\\right)\\right]$"
      ],
      "text/plain": [
       "[Coordinate frame (E^3, (e_x,e_y,e_z)),\n",
       " Coordinate frame (E^3, (∂/∂r,∂/∂th,∂/∂ph)),\n",
       " Vector frame (E^3, (e_r,e_th,e_ph))]"
      ]
     },
     "execution_count": 182,
     "metadata": {},
     "output_type": "execute_result"
    }
   ],
   "source": [
    "E.frames()"
   ]
  },
  {
   "cell_type": "markdown",
   "id": "d70e932e-d4c9-4dd3-a99d-fed559e76e79",
   "metadata": {},
   "source": [
    "A segunda é a base de coordenadas esféricas, enquanto a terceira é a base ortonormal padrão associada às coordenadas esféricas. Para coordenadas cartesianas, a base de coordenadas e a base ortonormal coincidem: é $(e_x,e_y,e_z)$. Para coordenadas esféricas, a base ortonormal é designada $(e_r,e_teta,e_\\phi)$ e é obtida pelo método `spherical_frame()`:"
   ]
  },
  {
   "cell_type": "code",
   "execution_count": 183,
   "id": "46a27860-c6d4-44fd-b39f-66276ccbdec4",
   "metadata": {},
   "outputs": [
    {
     "data": {
      "text/html": [
       "<html>\\(\\displaystyle \\left(\\mathbb{E}^{3}, \\left(e_{ r },e_{ {\\theta} },e_{ {\\phi} }\\right)\\right)\\)</html>"
      ],
      "text/latex": [
       "$\\displaystyle \\left(\\mathbb{E}^{3}, \\left(e_{ r },e_{ {\\theta} },e_{ {\\phi} }\\right)\\right)$"
      ],
      "text/plain": [
       "Vector frame (E^3, (e_r,e_th,e_ph))"
      ]
     },
     "execution_count": 183,
     "metadata": {},
     "output_type": "execute_result"
    }
   ],
   "source": [
    "spherical_frame = E.spherical_frame()\n",
    "spherical_frame"
   ]
  },
  {
   "cell_type": "markdown",
   "id": "5ac267d0-aca5-4911-a983-1040fe017f67",
   "metadata": {},
   "source": [
    "Podemos verificar que se trata de uma base ortonormal:"
   ]
  },
  {
   "cell_type": "code",
   "execution_count": 184,
   "id": "032ea26c-afd5-4d1c-aacd-fe4121434b9e",
   "metadata": {
    "scrolled": true
   },
   "outputs": [
    {
     "data": {
      "text/html": [
       "<html>\\(\\displaystyle \\left[\\left[1, 0, 0\\right], \\left[0, 1, 0\\right], \\left[0, 0, 1\\right]\\right]\\)</html>"
      ],
      "text/latex": [
       "$\\displaystyle \\left[\\left[1, 0, 0\\right], \\left[0, 1, 0\\right], \\left[0, 0, 1\\right]\\right]$"
      ],
      "text/plain": [
       "[[1, 0, 0], [0, 1, 0], [0, 0, 1]]"
      ]
     },
     "execution_count": 184,
     "metadata": {},
     "output_type": "execute_result"
    }
   ],
   "source": [
    "es = spherical_frame\n",
    "[[es[i].dot(es[j]).expr() for j in E.irange()] for i in E.irange()]"
   ]
  },
  {
   "cell_type": "markdown",
   "id": "cfc859f2-cf9f-4531-a605-31d43f55abd8",
   "metadata": {},
   "source": [
    "A base ortonormal esférica pode ser expressa em termos da cartesiana: "
   ]
  },
  {
   "cell_type": "code",
   "execution_count": 185,
   "id": "0f90e49b-be4a-47cb-9133-634cdad92786",
   "metadata": {},
   "outputs": [
    {
     "data": {
      "text/html": [
       "<html>\\(\\displaystyle e_{ r } = \\cos\\left({\\phi}\\right) \\sin\\left({\\theta}\\right) e_{ x } + \\sin\\left({\\phi}\\right) \\sin\\left({\\theta}\\right) e_{ y } + \\cos\\left({\\theta}\\right) e_{ z }\\)</html>"
      ],
      "text/latex": [
       "$\\displaystyle e_{ r } = \\cos\\left({\\phi}\\right) \\sin\\left({\\theta}\\right) e_{ x } + \\sin\\left({\\phi}\\right) \\sin\\left({\\theta}\\right) e_{ y } + \\cos\\left({\\theta}\\right) e_{ z }$"
      ],
      "text/plain": [
       "e_r = cos(ph)*sin(th) e_x + sin(ph)*sin(th) e_y + cos(th) e_z"
      ]
     },
     "metadata": {},
     "output_type": "display_data"
    },
    {
     "data": {
      "text/html": [
       "<html>\\(\\displaystyle e_{ {\\theta} } = \\cos\\left({\\phi}\\right) \\cos\\left({\\theta}\\right) e_{ x } + \\cos\\left({\\theta}\\right) \\sin\\left({\\phi}\\right) e_{ y } -\\sin\\left({\\theta}\\right) e_{ z }\\)</html>"
      ],
      "text/latex": [
       "$\\displaystyle e_{ {\\theta} } = \\cos\\left({\\phi}\\right) \\cos\\left({\\theta}\\right) e_{ x } + \\cos\\left({\\theta}\\right) \\sin\\left({\\phi}\\right) e_{ y } -\\sin\\left({\\theta}\\right) e_{ z }$"
      ],
      "text/plain": [
       "e_th = cos(ph)*cos(th) e_x + cos(th)*sin(ph) e_y - sin(th) e_z"
      ]
     },
     "metadata": {},
     "output_type": "display_data"
    },
    {
     "data": {
      "text/html": [
       "<html>\\(\\displaystyle e_{ {\\phi} } = -\\sin\\left({\\phi}\\right) e_{ x } + \\cos\\left({\\phi}\\right) e_{ y }\\)</html>"
      ],
      "text/latex": [
       "$\\displaystyle e_{ {\\phi} } = -\\sin\\left({\\phi}\\right) e_{ x } + \\cos\\left({\\phi}\\right) e_{ y }$"
      ],
      "text/plain": [
       "e_ph = -sin(ph) e_x + cos(ph) e_y"
      ]
     },
     "metadata": {},
     "output_type": "display_data"
    }
   ],
   "source": [
    "for vec in spherical_frame:\n",
    "    show(vec.display(cartesian_frame, spherical))"
   ]
  },
  {
   "cell_type": "markdown",
   "id": "7e9869cd-10e0-47eb-a1b2-771f53572b0c",
   "metadata": {},
   "source": [
    "Ou o inverso:"
   ]
  },
  {
   "cell_type": "code",
   "execution_count": 186,
   "id": "c550bcbe-4d4d-4e7c-91c0-5e9e1b404e6d",
   "metadata": {},
   "outputs": [
    {
     "data": {
      "text/html": [
       "<html>\\(\\displaystyle e_{ x } = \\cos\\left({\\phi}\\right) \\sin\\left({\\theta}\\right) e_{ r } + \\cos\\left({\\phi}\\right) \\cos\\left({\\theta}\\right) e_{ {\\theta} } -\\sin\\left({\\phi}\\right) e_{ {\\phi} }\\)</html>"
      ],
      "text/latex": [
       "$\\displaystyle e_{ x } = \\cos\\left({\\phi}\\right) \\sin\\left({\\theta}\\right) e_{ r } + \\cos\\left({\\phi}\\right) \\cos\\left({\\theta}\\right) e_{ {\\theta} } -\\sin\\left({\\phi}\\right) e_{ {\\phi} }$"
      ],
      "text/plain": [
       "e_x = cos(ph)*sin(th) e_r + cos(ph)*cos(th) e_th - sin(ph) e_ph"
      ]
     },
     "metadata": {},
     "output_type": "display_data"
    },
    {
     "data": {
      "text/html": [
       "<html>\\(\\displaystyle e_{ y } = \\sin\\left({\\phi}\\right) \\sin\\left({\\theta}\\right) e_{ r } + \\cos\\left({\\theta}\\right) \\sin\\left({\\phi}\\right) e_{ {\\theta} } + \\cos\\left({\\phi}\\right) e_{ {\\phi} }\\)</html>"
      ],
      "text/latex": [
       "$\\displaystyle e_{ y } = \\sin\\left({\\phi}\\right) \\sin\\left({\\theta}\\right) e_{ r } + \\cos\\left({\\theta}\\right) \\sin\\left({\\phi}\\right) e_{ {\\theta} } + \\cos\\left({\\phi}\\right) e_{ {\\phi} }$"
      ],
      "text/plain": [
       "e_y = sin(ph)*sin(th) e_r + cos(th)*sin(ph) e_th + cos(ph) e_ph"
      ]
     },
     "metadata": {},
     "output_type": "display_data"
    },
    {
     "data": {
      "text/html": [
       "<html>\\(\\displaystyle e_{ z } = \\cos\\left({\\theta}\\right) e_{ r } -\\sin\\left({\\theta}\\right) e_{ {\\theta} }\\)</html>"
      ],
      "text/latex": [
       "$\\displaystyle e_{ z } = \\cos\\left({\\theta}\\right) e_{ r } -\\sin\\left({\\theta}\\right) e_{ {\\theta} }$"
      ],
      "text/plain": [
       "e_z = cos(th) e_r - sin(th) e_th"
      ]
     },
     "metadata": {},
     "output_type": "display_data"
    }
   ],
   "source": [
    "for vec in cartesian_frame:\n",
    "    show(vec.display(spherical_frame, spherical))"
   ]
  },
  {
   "cell_type": "markdown",
   "id": "c3d2ec04-561e-4b9f-8539-27a98d3a58e9",
   "metadata": {},
   "source": [
    "OU ainda"
   ]
  },
  {
   "cell_type": "code",
   "execution_count": 187,
   "id": "04b5d21f-a670-4189-9722-ed08b5adff5d",
   "metadata": {},
   "outputs": [
    {
     "data": {
      "text/html": [
       "<html>\\(\\displaystyle e_{ x } = \\left( \\frac{x}{\\sqrt{x^{2} + y^{2} + z^{2}}} \\right) e_{ r } + \\left( \\frac{x z}{\\sqrt{x^{2} + y^{2} + z^{2}} \\sqrt{x^{2} + y^{2}}} \\right) e_{ {\\theta} } + \\left( -\\frac{y}{\\sqrt{x^{2} + y^{2}}} \\right) e_{ {\\phi} }\\)</html>"
      ],
      "text/latex": [
       "$\\displaystyle e_{ x } = \\left( \\frac{x}{\\sqrt{x^{2} + y^{2} + z^{2}}} \\right) e_{ r } + \\left( \\frac{x z}{\\sqrt{x^{2} + y^{2} + z^{2}} \\sqrt{x^{2} + y^{2}}} \\right) e_{ {\\theta} } + \\left( -\\frac{y}{\\sqrt{x^{2} + y^{2}}} \\right) e_{ {\\phi} }$"
      ],
      "text/plain": [
       "e_x = x/sqrt(x^2 + y^2 + z^2) e_r + x*z/(sqrt(x^2 + y^2 + z^2)*sqrt(x^2 + y^2)) e_th - y/sqrt(x^2 + y^2) e_ph"
      ]
     },
     "metadata": {},
     "output_type": "display_data"
    },
    {
     "data": {
      "text/html": [
       "<html>\\(\\displaystyle e_{ y } = \\left( \\frac{y}{\\sqrt{x^{2} + y^{2} + z^{2}}} \\right) e_{ r } + \\left( \\frac{y z}{\\sqrt{x^{2} + y^{2} + z^{2}} \\sqrt{x^{2} + y^{2}}} \\right) e_{ {\\theta} } + \\left( \\frac{x}{\\sqrt{x^{2} + y^{2}}} \\right) e_{ {\\phi} }\\)</html>"
      ],
      "text/latex": [
       "$\\displaystyle e_{ y } = \\left( \\frac{y}{\\sqrt{x^{2} + y^{2} + z^{2}}} \\right) e_{ r } + \\left( \\frac{y z}{\\sqrt{x^{2} + y^{2} + z^{2}} \\sqrt{x^{2} + y^{2}}} \\right) e_{ {\\theta} } + \\left( \\frac{x}{\\sqrt{x^{2} + y^{2}}} \\right) e_{ {\\phi} }$"
      ],
      "text/plain": [
       "e_y = y/sqrt(x^2 + y^2 + z^2) e_r + y*z/(sqrt(x^2 + y^2 + z^2)*sqrt(x^2 + y^2)) e_th + x/sqrt(x^2 + y^2) e_ph"
      ]
     },
     "metadata": {},
     "output_type": "display_data"
    },
    {
     "data": {
      "text/html": [
       "<html>\\(\\displaystyle e_{ z } = \\left( \\frac{z}{\\sqrt{x^{2} + y^{2} + z^{2}}} \\right) e_{ r } + \\left( -\\frac{\\sqrt{x^{2} + y^{2}}}{\\sqrt{x^{2} + y^{2} + z^{2}}} \\right) e_{ {\\theta} }\\)</html>"
      ],
      "text/latex": [
       "$\\displaystyle e_{ z } = \\left( \\frac{z}{\\sqrt{x^{2} + y^{2} + z^{2}}} \\right) e_{ r } + \\left( -\\frac{\\sqrt{x^{2} + y^{2}}}{\\sqrt{x^{2} + y^{2} + z^{2}}} \\right) e_{ {\\theta} }$"
      ],
      "text/plain": [
       "e_z = z/sqrt(x^2 + y^2 + z^2) e_r - sqrt(x^2 + y^2)/sqrt(x^2 + y^2 + z^2) e_th"
      ]
     },
     "metadata": {},
     "output_type": "display_data"
    }
   ],
   "source": [
    "for vec in cartesian_frame:\n",
    "    show(vec.display(spherical_frame, cartesian))"
   ]
  },
  {
   "cell_type": "markdown",
   "id": "a13b5fbc-4815-4ae8-8a96-381641530e97",
   "metadata": {},
   "source": [
    "A base ortonormal $(e_r,e_\\theta,e_\\phi)$ expressa em termos da base de coordenadas $\\left(\\frac{\\partial}{\\partial r}, \\frac{\\partial}{\\partial\\theta}, \\frac{\\partial}{\\partial \\phi}\\right)$ :"
   ]
  },
  {
   "cell_type": "code",
   "execution_count": 188,
   "id": "83e384a5-42ff-4d8b-8fe7-99188ef050a7",
   "metadata": {},
   "outputs": [
    {
     "data": {
      "text/html": [
       "<html>\\(\\displaystyle e_{ r } = \\frac{\\partial}{\\partial r }\\)</html>"
      ],
      "text/latex": [
       "$\\displaystyle e_{ r } = \\frac{\\partial}{\\partial r }$"
      ],
      "text/plain": [
       "e_r = ∂/∂r"
      ]
     },
     "metadata": {},
     "output_type": "display_data"
    },
    {
     "data": {
      "text/html": [
       "<html>\\(\\displaystyle e_{ {\\theta} } = \\frac{1}{r} \\frac{\\partial}{\\partial {\\theta} }\\)</html>"
      ],
      "text/latex": [
       "$\\displaystyle e_{ {\\theta} } = \\frac{1}{r} \\frac{\\partial}{\\partial {\\theta} }$"
      ],
      "text/plain": [
       "e_th = 1/r ∂/∂th"
      ]
     },
     "metadata": {},
     "output_type": "display_data"
    },
    {
     "data": {
      "text/html": [
       "<html>\\(\\displaystyle e_{ {\\phi} } = \\frac{1}{r \\sin\\left({\\theta}\\right)} \\frac{\\partial}{\\partial {\\phi} }\\)</html>"
      ],
      "text/latex": [
       "$\\displaystyle e_{ {\\phi} } = \\frac{1}{r \\sin\\left({\\theta}\\right)} \\frac{\\partial}{\\partial {\\phi} }$"
      ],
      "text/plain": [
       "e_ph = 1/(r*sin(th)) ∂/∂ph"
      ]
     },
     "metadata": {},
     "output_type": "display_data"
    }
   ],
   "source": [
    "for vec in spherical_frame:\n",
    "    show(vec.display(spherical.frame(), spherical))"
   ]
  },
  {
   "cell_type": "markdown",
   "id": "b099cac5-f44d-4635-9f6e-2c2dd8e6a0b6",
   "metadata": {
    "jp-MarkdownHeadingCollapsed": true,
    "tags": []
   },
   "source": [
    "## Coordenadas cilíndricas"
   ]
  },
  {
   "cell_type": "markdown",
   "id": "fd2d5370-6aa3-4987-ad16-a566b61a7181",
   "metadata": {},
   "source": [
    "Coordenadas cilíndricas são introduzidas por"
   ]
  },
  {
   "cell_type": "code",
   "execution_count": 189,
   "id": "6f271b0c-e1f6-4a96-b888-e97719ecccf5",
   "metadata": {
    "scrolled": true,
    "tags": []
   },
   "outputs": [
    {
     "data": {
      "text/html": [
       "<html>\\(\\displaystyle \\left(\\mathbb{E}^{3},({\\rho}, {\\phi}, z)\\right)\\)</html>"
      ],
      "text/latex": [
       "$\\displaystyle \\left(\\mathbb{E}^{3},({\\rho}, {\\phi}, z)\\right)$"
      ],
      "text/plain": [
       "Chart (E^3, (rh, ph, z))"
      ]
     },
     "execution_count": 189,
     "metadata": {},
     "output_type": "execute_result"
    }
   ],
   "source": [
    "cylindrical.<rh,ph,z> = E.cylindrical_coordinates()\n",
    "cylindrical"
   ]
  },
  {
   "cell_type": "markdown",
   "id": "e6d9b467-93d7-4e3d-8b3c-6fb80fae5ac7",
   "metadata": {},
   "source": [
    "De modo que"
   ]
  },
  {
   "cell_type": "code",
   "execution_count": 190,
   "id": "4179b8bf-6c62-4c51-a8fd-e7b5fbdff419",
   "metadata": {},
   "outputs": [
    {
     "data": {
      "text/html": [
       "<html>\\(\\displaystyle \\left({\\rho}, {\\phi}, z\\right)\\)</html>"
      ],
      "text/latex": [
       "$\\displaystyle \\left({\\rho}, {\\phi}, z\\right)$"
      ],
      "text/plain": [
       "(rh, ph, z)"
      ]
     },
     "execution_count": 190,
     "metadata": {},
     "output_type": "execute_result"
    }
   ],
   "source": [
    "cylindrical[:]"
   ]
  },
  {
   "cell_type": "code",
   "execution_count": 191,
   "id": "0a252ad1-8f8b-47e8-b025-f0f846da2eb2",
   "metadata": {},
   "outputs": [
    {
     "data": {
      "text/html": [
       "<html>\\(\\displaystyle \\mathrm{True}\\)</html>"
      ],
      "text/latex": [
       "$\\displaystyle \\mathrm{True}$"
      ],
      "text/plain": [
       "True"
      ]
     },
     "execution_count": 191,
     "metadata": {},
     "output_type": "execute_result"
    }
   ],
   "source": [
    "rh is cylindrical[1]"
   ]
  },
  {
   "cell_type": "code",
   "execution_count": 192,
   "id": "d17d8957-55cb-4598-befd-896227fd5b93",
   "metadata": {},
   "outputs": [
    {
     "data": {
      "text/html": [
       "<html>\\(\\displaystyle {\\rho} :\\ \\left( 0 , +\\infty \\right) ;\\quad {\\phi} :\\ \\left[ 0 , 2 \\, \\pi \\right] \\mbox{(periodic)} ;\\quad z :\\ \\left( -\\infty, +\\infty \\right)\\)</html>"
      ],
      "text/latex": [
       "$\\displaystyle {\\rho} :\\ \\left( 0 , +\\infty \\right) ;\\quad {\\phi} :\\ \\left[ 0 , 2 \\, \\pi \\right] \\mbox{(periodic)} ;\\quad z :\\ \\left( -\\infty, +\\infty \\right)$"
      ],
      "text/plain": [
       "rh: (0, +oo); ph: [0, 2*pi] (periodic); z: (-oo, +oo)"
      ]
     },
     "execution_count": 192,
     "metadata": {},
     "output_type": "execute_result"
    }
   ],
   "source": [
    "cylindrical.coord_range()"
   ]
  },
  {
   "cell_type": "markdown",
   "id": "45ee5cd4-22c9-4f46-8efb-e335b049bf37",
   "metadata": {},
   "source": [
    "$\\mathbb{E}^3$ é agora munido de 3 sistemas de coordenadas:"
   ]
  },
  {
   "cell_type": "code",
   "execution_count": 193,
   "id": "3233591e-977f-4cf8-92c1-23ed7acc32ef",
   "metadata": {},
   "outputs": [
    {
     "data": {
      "text/html": [
       "<html>\\(\\displaystyle \\left[\\left(\\mathbb{E}^{3},(x, y, z)\\right), \\left(\\mathbb{E}^{3},(r, {\\theta}, {\\phi})\\right), \\left(\\mathbb{E}^{3},({\\rho}, {\\phi}, z)\\right)\\right]\\)</html>"
      ],
      "text/latex": [
       "$\\displaystyle \\left[\\left(\\mathbb{E}^{3},(x, y, z)\\right), \\left(\\mathbb{E}^{3},(r, {\\theta}, {\\phi})\\right), \\left(\\mathbb{E}^{3},({\\rho}, {\\phi}, z)\\right)\\right]$"
      ],
      "text/plain": [
       "[Chart (E^3, (x, y, z)), Chart (E^3, (r, th, ph)), Chart (E^3, (rh, ph, z))]"
      ]
     },
     "execution_count": 193,
     "metadata": {},
     "output_type": "execute_result"
    }
   ],
   "source": [
    "E.atlas()"
   ]
  },
  {
   "cell_type": "markdown",
   "id": "accc7723-f9c4-4168-807d-3bdbc7e809ce",
   "metadata": {},
   "source": [
    "As transformações que ligam as coordenadas cilíndricas às cartesianas são"
   ]
  },
  {
   "cell_type": "code",
   "execution_count": 194,
   "id": "c2f49769-d912-4676-a428-ac6eee3c6b23",
   "metadata": {},
   "outputs": [
    {
     "data": {
      "text/html": [
       "<html>\\(\\displaystyle \\left\\{\\begin{array}{lcl} x & = & {\\rho} \\cos\\left({\\phi}\\right) \\\\ y & = & {\\rho} \\sin\\left({\\phi}\\right) \\\\ z & = & z \\end{array}\\right.\\)</html>"
      ],
      "text/latex": [
       "$\\displaystyle \\left\\{\\begin{array}{lcl} x & = & {\\rho} \\cos\\left({\\phi}\\right) \\\\ y & = & {\\rho} \\sin\\left({\\phi}\\right) \\\\ z & = & z \\end{array}\\right.$"
      ],
      "text/plain": [
       "x = rh*cos(ph)\n",
       "y = rh*sin(ph)\n",
       "z = z"
      ]
     },
     "execution_count": 194,
     "metadata": {},
     "output_type": "execute_result"
    }
   ],
   "source": [
    "E.coord_change(cylindrical, cartesian).display()"
   ]
  },
  {
   "cell_type": "code",
   "execution_count": 195,
   "id": "98c34986-087e-4006-a2d5-77c308e8d18f",
   "metadata": {},
   "outputs": [
    {
     "data": {
      "text/html": [
       "<html>\\(\\displaystyle \\left\\{\\begin{array}{lcl} {\\rho} & = & \\sqrt{x^{2} + y^{2}} \\\\ {\\phi} & = & \\arctan\\left(y, x\\right) \\\\ z & = & z \\end{array}\\right.\\)</html>"
      ],
      "text/latex": [
       "$\\displaystyle \\left\\{\\begin{array}{lcl} {\\rho} & = & \\sqrt{x^{2} + y^{2}} \\\\ {\\phi} & = & \\arctan\\left(y, x\\right) \\\\ z & = & z \\end{array}\\right.$"
      ],
      "text/plain": [
       "rh = sqrt(x^2 + y^2)\n",
       "ph = arctan2(y, x)\n",
       "z = z"
      ]
     },
     "execution_count": 195,
     "metadata": {},
     "output_type": "execute_result"
    }
   ],
   "source": [
    "E.coord_change(cartesian, cylindrical).display()"
   ]
  },
  {
   "cell_type": "markdown",
   "id": "c86e2194-b270-4e3e-aa84-7da6747df4ca",
   "metadata": {},
   "source": [
    "$\\mathbb{E}^3$ tem agora as bases:"
   ]
  },
  {
   "cell_type": "code",
   "execution_count": 196,
   "id": "2d786373-0b49-4417-9790-1fc8cd022654",
   "metadata": {},
   "outputs": [
    {
     "data": {
      "text/html": [
       "<html>\\(\\displaystyle \\left[\\left(\\mathbb{E}^{3}, \\left(e_{ x },e_{ y },e_{ z }\\right)\\right), \\left(\\mathbb{E}^{3}, \\left(\\frac{\\partial}{\\partial r },\\frac{\\partial}{\\partial {\\theta} },\\frac{\\partial}{\\partial {\\phi} }\\right)\\right), \\left(\\mathbb{E}^{3}, \\left(e_{ r },e_{ {\\theta} },e_{ {\\phi} }\\right)\\right), \\left(\\mathbb{E}^{3}, \\left(\\frac{\\partial}{\\partial {\\rho} },\\frac{\\partial}{\\partial {\\phi} },\\frac{\\partial}{\\partial z }\\right)\\right), \\left(\\mathbb{E}^{3}, \\left(e_{ {\\rho} },e_{ {\\phi} },e_{ z }\\right)\\right)\\right]\\)</html>"
      ],
      "text/latex": [
       "$\\displaystyle \\left[\\left(\\mathbb{E}^{3}, \\left(e_{ x },e_{ y },e_{ z }\\right)\\right), \\left(\\mathbb{E}^{3}, \\left(\\frac{\\partial}{\\partial r },\\frac{\\partial}{\\partial {\\theta} },\\frac{\\partial}{\\partial {\\phi} }\\right)\\right), \\left(\\mathbb{E}^{3}, \\left(e_{ r },e_{ {\\theta} },e_{ {\\phi} }\\right)\\right), \\left(\\mathbb{E}^{3}, \\left(\\frac{\\partial}{\\partial {\\rho} },\\frac{\\partial}{\\partial {\\phi} },\\frac{\\partial}{\\partial z }\\right)\\right), \\left(\\mathbb{E}^{3}, \\left(e_{ {\\rho} },e_{ {\\phi} },e_{ z }\\right)\\right)\\right]$"
      ],
      "text/plain": [
       "[Coordinate frame (E^3, (e_x,e_y,e_z)),\n",
       " Coordinate frame (E^3, (∂/∂r,∂/∂th,∂/∂ph)),\n",
       " Vector frame (E^3, (e_r,e_th,e_ph)),\n",
       " Coordinate frame (E^3, (∂/∂rh,∂/∂ph,∂/∂z)),\n",
       " Vector frame (E^3, (e_rh,e_ph,e_z))]"
      ]
     },
     "execution_count": 196,
     "metadata": {},
     "output_type": "execute_result"
    }
   ],
   "source": [
    "E.frames()"
   ]
  },
  {
   "cell_type": "markdown",
   "id": "364b2211-7367-4782-a4ad-43a27f4da31b",
   "metadata": {},
   "source": [
    "Base ortonormal em coordenadas cilíndricas $(e_\\rho, e_\\phi, e_z)$:"
   ]
  },
  {
   "cell_type": "code",
   "execution_count": 197,
   "id": "05e90541-3ea0-44c6-ac60-0fd97752cd2a",
   "metadata": {},
   "outputs": [
    {
     "data": {
      "text/html": [
       "<html>\\(\\displaystyle \\left(\\mathbb{E}^{3}, \\left(e_{ {\\rho} },e_{ {\\phi} },e_{ z }\\right)\\right)\\)</html>"
      ],
      "text/latex": [
       "$\\displaystyle \\left(\\mathbb{E}^{3}, \\left(e_{ {\\rho} },e_{ {\\phi} },e_{ z }\\right)\\right)$"
      ],
      "text/plain": [
       "Vector frame (E^3, (e_rh,e_ph,e_z))"
      ]
     },
     "execution_count": 197,
     "metadata": {},
     "output_type": "execute_result"
    }
   ],
   "source": [
    "cylindrical_frame = E.cylindrical_frame()\n",
    "cylindrical_frame"
   ]
  },
  {
   "cell_type": "markdown",
   "id": "033d91ab-dee8-43ea-92bc-5fea1368e518",
   "metadata": {},
   "source": [
    "Novamente podemos verificar que se trata de uma base ortonormal:"
   ]
  },
  {
   "cell_type": "code",
   "execution_count": 198,
   "id": "4acbfcf3-3f6e-4430-a387-14ac90f4c65a",
   "metadata": {},
   "outputs": [
    {
     "data": {
      "text/html": [
       "<html>\\(\\displaystyle \\left[\\left[1, 0, 0\\right], \\left[0, 1, 0\\right], \\left[0, 0, 1\\right]\\right]\\)</html>"
      ],
      "text/latex": [
       "$\\displaystyle \\left[\\left[1, 0, 0\\right], \\left[0, 1, 0\\right], \\left[0, 0, 1\\right]\\right]$"
      ],
      "text/plain": [
       "[[1, 0, 0], [0, 1, 0], [0, 0, 1]]"
      ]
     },
     "execution_count": 198,
     "metadata": {},
     "output_type": "execute_result"
    }
   ],
   "source": [
    "ec = cylindrical_frame\n",
    "[[ec[i].dot(ec[j]).expr() for j in E.irange()] for i in E.irange()]"
   ]
  },
  {
   "cell_type": "markdown",
   "id": "70b189a9-eedd-431f-917f-5ad99cbb3e54",
   "metadata": {},
   "source": [
    "Base cilíndrica ortonormal expressa em termos da cartesiana: "
   ]
  },
  {
   "cell_type": "code",
   "execution_count": 199,
   "id": "54d41861-37b8-4c99-bd34-67f6282c9583",
   "metadata": {},
   "outputs": [
    {
     "data": {
      "text/html": [
       "<html>\\(\\displaystyle e_{ {\\rho} } = \\cos\\left({\\phi}\\right) e_{ x } + \\sin\\left({\\phi}\\right) e_{ y }\\)</html>"
      ],
      "text/latex": [
       "$\\displaystyle e_{ {\\rho} } = \\cos\\left({\\phi}\\right) e_{ x } + \\sin\\left({\\phi}\\right) e_{ y }$"
      ],
      "text/plain": [
       "e_rh = cos(ph) e_x + sin(ph) e_y"
      ]
     },
     "metadata": {},
     "output_type": "display_data"
    },
    {
     "data": {
      "text/html": [
       "<html>\\(\\displaystyle e_{ {\\phi} } = -\\sin\\left({\\phi}\\right) e_{ x } + \\cos\\left({\\phi}\\right) e_{ y }\\)</html>"
      ],
      "text/latex": [
       "$\\displaystyle e_{ {\\phi} } = -\\sin\\left({\\phi}\\right) e_{ x } + \\cos\\left({\\phi}\\right) e_{ y }$"
      ],
      "text/plain": [
       "e_ph = -sin(ph) e_x + cos(ph) e_y"
      ]
     },
     "metadata": {},
     "output_type": "display_data"
    },
    {
     "data": {
      "text/html": [
       "<html>\\(\\displaystyle e_{ z } = e_{ z }\\)</html>"
      ],
      "text/latex": [
       "$\\displaystyle e_{ z } = e_{ z }$"
      ],
      "text/plain": [
       "e_z = e_z"
      ]
     },
     "metadata": {},
     "output_type": "display_data"
    }
   ],
   "source": [
    "for vec in cylindrical_frame:\n",
    "    show(vec.display(cartesian_frame, cylindrical))"
   ]
  },
  {
   "cell_type": "markdown",
   "id": "b4e53d67-eb63-4496-9c2d-d3a170dbd01f",
   "metadata": {},
   "source": [
    "Inverso"
   ]
  },
  {
   "cell_type": "code",
   "execution_count": 200,
   "id": "70760b4d-4c6a-44c2-8842-cf9d5d80bf22",
   "metadata": {},
   "outputs": [
    {
     "data": {
      "text/html": [
       "<html>\\(\\displaystyle e_{ x } = \\cos\\left({\\phi}\\right) e_{ {\\rho} } -\\sin\\left({\\phi}\\right) e_{ {\\phi} }\\)</html>"
      ],
      "text/latex": [
       "$\\displaystyle e_{ x } = \\cos\\left({\\phi}\\right) e_{ {\\rho} } -\\sin\\left({\\phi}\\right) e_{ {\\phi} }$"
      ],
      "text/plain": [
       "e_x = cos(ph) e_rh - sin(ph) e_ph"
      ]
     },
     "metadata": {},
     "output_type": "display_data"
    },
    {
     "data": {
      "text/html": [
       "<html>\\(\\displaystyle e_{ y } = \\sin\\left({\\phi}\\right) e_{ {\\rho} } + \\cos\\left({\\phi}\\right) e_{ {\\phi} }\\)</html>"
      ],
      "text/latex": [
       "$\\displaystyle e_{ y } = \\sin\\left({\\phi}\\right) e_{ {\\rho} } + \\cos\\left({\\phi}\\right) e_{ {\\phi} }$"
      ],
      "text/plain": [
       "e_y = sin(ph) e_rh + cos(ph) e_ph"
      ]
     },
     "metadata": {},
     "output_type": "display_data"
    },
    {
     "data": {
      "text/html": [
       "<html>\\(\\displaystyle e_{ z } = e_{ z }\\)</html>"
      ],
      "text/latex": [
       "$\\displaystyle e_{ z } = e_{ z }$"
      ],
      "text/plain": [
       "e_z = e_z"
      ]
     },
     "metadata": {},
     "output_type": "display_data"
    }
   ],
   "source": [
    "for vec in cartesian_frame:\n",
    "    show(vec.display(cylindrical_frame, cylindrical))"
   ]
  },
  {
   "cell_type": "markdown",
   "id": "c8395a2b-008c-44c4-9719-d6a89291bdc6",
   "metadata": {},
   "source": [
    "Base cilíndrica ortonormal expressa em termos da esférica: "
   ]
  },
  {
   "cell_type": "code",
   "execution_count": 201,
   "id": "c7401ee8-ee8f-427a-8943-d55f140acbc0",
   "metadata": {},
   "outputs": [
    {
     "data": {
      "text/html": [
       "<html>\\(\\displaystyle e_{ {\\rho} } = \\sin\\left({\\theta}\\right) e_{ r } + \\cos\\left({\\theta}\\right) e_{ {\\theta} }\\)</html>"
      ],
      "text/latex": [
       "$\\displaystyle e_{ {\\rho} } = \\sin\\left({\\theta}\\right) e_{ r } + \\cos\\left({\\theta}\\right) e_{ {\\theta} }$"
      ],
      "text/plain": [
       "e_rh = sin(th) e_r + cos(th) e_th"
      ]
     },
     "metadata": {},
     "output_type": "display_data"
    },
    {
     "data": {
      "text/html": [
       "<html>\\(\\displaystyle e_{ {\\phi} } = e_{ {\\phi} }\\)</html>"
      ],
      "text/latex": [
       "$\\displaystyle e_{ {\\phi} } = e_{ {\\phi} }$"
      ],
      "text/plain": [
       "e_ph = e_ph"
      ]
     },
     "metadata": {},
     "output_type": "display_data"
    },
    {
     "data": {
      "text/html": [
       "<html>\\(\\displaystyle e_{ z } = \\cos\\left({\\theta}\\right) e_{ r } -\\sin\\left({\\theta}\\right) e_{ {\\theta} }\\)</html>"
      ],
      "text/latex": [
       "$\\displaystyle e_{ z } = \\cos\\left({\\theta}\\right) e_{ r } -\\sin\\left({\\theta}\\right) e_{ {\\theta} }$"
      ],
      "text/plain": [
       "e_z = cos(th) e_r - sin(th) e_th"
      ]
     },
     "metadata": {},
     "output_type": "display_data"
    }
   ],
   "source": [
    "for vec in cylindrical_frame:\n",
    "    show(vec.display(spherical_frame, spherical))"
   ]
  },
  {
   "cell_type": "markdown",
   "id": "63dea052-38fd-4d8e-83e8-d39fb7ff5f18",
   "metadata": {},
   "source": [
    "O inverso"
   ]
  },
  {
   "cell_type": "code",
   "execution_count": 202,
   "id": "aeb06f3b-92e6-4688-a14f-6d82fbff5c2c",
   "metadata": {},
   "outputs": [
    {
     "data": {
      "text/html": [
       "<html>\\(\\displaystyle e_{ r } = \\sin\\left({\\theta}\\right) e_{ {\\rho} } + \\cos\\left({\\theta}\\right) e_{ z }\\)</html>"
      ],
      "text/latex": [
       "$\\displaystyle e_{ r } = \\sin\\left({\\theta}\\right) e_{ {\\rho} } + \\cos\\left({\\theta}\\right) e_{ z }$"
      ],
      "text/plain": [
       "e_r = sin(th) e_rh + cos(th) e_z"
      ]
     },
     "metadata": {},
     "output_type": "display_data"
    },
    {
     "data": {
      "text/html": [
       "<html>\\(\\displaystyle e_{ {\\theta} } = \\cos\\left({\\theta}\\right) e_{ {\\rho} } -\\sin\\left({\\theta}\\right) e_{ z }\\)</html>"
      ],
      "text/latex": [
       "$\\displaystyle e_{ {\\theta} } = \\cos\\left({\\theta}\\right) e_{ {\\rho} } -\\sin\\left({\\theta}\\right) e_{ z }$"
      ],
      "text/plain": [
       "e_th = cos(th) e_rh - sin(th) e_z"
      ]
     },
     "metadata": {},
     "output_type": "display_data"
    },
    {
     "data": {
      "text/html": [
       "<html>\\(\\displaystyle e_{ {\\phi} } = e_{ {\\phi} }\\)</html>"
      ],
      "text/latex": [
       "$\\displaystyle e_{ {\\phi} } = e_{ {\\phi} }$"
      ],
      "text/plain": [
       "e_ph = e_ph"
      ]
     },
     "metadata": {},
     "output_type": "display_data"
    }
   ],
   "source": [
    "for vec in spherical_frame:\n",
    "    show(vec.display(cylindrical_frame, spherical))"
   ]
  },
  {
   "cell_type": "markdown",
   "id": "4a3ef44b-7d37-4fd7-84e4-3957297951a6",
   "metadata": {},
   "source": [
    "Base ortonormal $(e_\\rho,e_\\phi,e_z)$ expressa em termos da base de coordenadas $\\left(\\frac{\\partial}{\\partial\\rho}, \\frac{\\partial}{\\partial\\phi}, \\frac{\\partial}{\\partial z}\\right)$:"
   ]
  },
  {
   "cell_type": "code",
   "execution_count": 203,
   "id": "b368d2de-381e-4ec4-a4a5-4a2030c5380c",
   "metadata": {},
   "outputs": [
    {
     "data": {
      "text/html": [
       "<html>\\(\\displaystyle e_{ {\\rho} } = \\frac{\\partial}{\\partial {\\rho} }\\)</html>"
      ],
      "text/latex": [
       "$\\displaystyle e_{ {\\rho} } = \\frac{\\partial}{\\partial {\\rho} }$"
      ],
      "text/plain": [
       "e_rh = ∂/∂rh"
      ]
     },
     "metadata": {},
     "output_type": "display_data"
    },
    {
     "data": {
      "text/html": [
       "<html>\\(\\displaystyle e_{ {\\phi} } = \\frac{1}{{\\rho}} \\frac{\\partial}{\\partial {\\phi} }\\)</html>"
      ],
      "text/latex": [
       "$\\displaystyle e_{ {\\phi} } = \\frac{1}{{\\rho}} \\frac{\\partial}{\\partial {\\phi} }$"
      ],
      "text/plain": [
       "e_ph = 1/rh ∂/∂ph"
      ]
     },
     "metadata": {},
     "output_type": "display_data"
    },
    {
     "data": {
      "text/html": [
       "<html>\\(\\displaystyle e_{ z } = \\frac{\\partial}{\\partial z }\\)</html>"
      ],
      "text/latex": [
       "$\\displaystyle e_{ z } = \\frac{\\partial}{\\partial z }$"
      ],
      "text/plain": [
       "e_z = ∂/∂z"
      ]
     },
     "metadata": {},
     "output_type": "display_data"
    }
   ],
   "source": [
    "for vec in cylindrical_frame:\n",
    "    show(vec.display(cylindrical.frame(), cylindrical))"
   ]
  },
  {
   "cell_type": "markdown",
   "id": "f2cb031e-7ff9-44b4-a330-1643c5b78979",
   "metadata": {
    "jp-MarkdownHeadingCollapsed": true,
    "tags": []
   },
   "source": [
    "## Coordenadas de um ponto"
   ]
  },
  {
   "cell_type": "markdown",
   "id": "324fe425-3f53-4148-b3f9-e2853785e5cb",
   "metadata": {},
   "source": [
    "Introduzimos um ponto $p\\in \\mathbb{E}^3$ através da sintaxe"
   ]
  },
  {
   "cell_type": "code",
   "execution_count": 204,
   "id": "80da567a-99e7-4718-a90e-1b18df8e092c",
   "metadata": {},
   "outputs": [
    {
     "name": "stdout",
     "output_type": "stream",
     "text": [
      "Point p on the Euclidean space E^3\n"
     ]
    }
   ],
   "source": [
    "p = E((-1, 1,0), chart=cartesian, name='p')\n",
    "print(p)"
   ]
  },
  {
   "cell_type": "markdown",
   "id": "9cfe0ade-18a9-419d-9bcb-d63dd1c91691",
   "metadata": {},
   "source": [
    "Na verdade, uma vez que as coordenadas cartesianas são as predefinidas, comando acima é equivalente a"
   ]
  },
  {
   "cell_type": "code",
   "execution_count": 205,
   "id": "5dd6d5b3-ffc6-4e36-add6-f874eb8dd925",
   "metadata": {},
   "outputs": [
    {
     "name": "stdout",
     "output_type": "stream",
     "text": [
      "Point p on the Euclidean space E^3\n"
     ]
    }
   ],
   "source": [
    "p = E((-1, 1,0), name='p')\n",
    "print(p)"
   ]
  },
  {
   "cell_type": "markdown",
   "id": "0cf8ad67-5363-4471-ad76-2b2f591dfcf5",
   "metadata": {},
   "source": [
    "As coordenadas de $p$ num dado sistema de coordenadas são obtidas atuando com o sistema de coordenadas correspondente sobre $p$:"
   ]
  },
  {
   "cell_type": "code",
   "execution_count": 206,
   "id": "380e592c-7be7-4ceb-81a2-593e5c8777e6",
   "metadata": {},
   "outputs": [
    {
     "data": {
      "text/html": [
       "<html>\\(\\displaystyle \\left(-1, 1, 0\\right)\\)</html>"
      ],
      "text/latex": [
       "$\\displaystyle \\left(-1, 1, 0\\right)$"
      ],
      "text/plain": [
       "(-1, 1, 0)"
      ]
     },
     "execution_count": 206,
     "metadata": {},
     "output_type": "execute_result"
    }
   ],
   "source": [
    "cartesian(p)"
   ]
  },
  {
   "cell_type": "code",
   "execution_count": 207,
   "id": "af103e80-317d-49e2-8e58-16797ff917dc",
   "metadata": {},
   "outputs": [
    {
     "data": {
      "text/html": [
       "<html>\\(\\displaystyle \\left(\\sqrt{2}, \\frac{1}{2} \\, \\pi, \\frac{3}{4} \\, \\pi\\right)\\)</html>"
      ],
      "text/latex": [
       "$\\displaystyle \\left(\\sqrt{2}, \\frac{1}{2} \\, \\pi, \\frac{3}{4} \\, \\pi\\right)$"
      ],
      "text/plain": [
       "(sqrt(2), 1/2*pi, 3/4*pi)"
      ]
     },
     "execution_count": 207,
     "metadata": {},
     "output_type": "execute_result"
    }
   ],
   "source": [
    "spherical(p)"
   ]
  },
  {
   "cell_type": "code",
   "execution_count": 208,
   "id": "8828d65a-68d2-4992-ad52-b1088a92db37",
   "metadata": {},
   "outputs": [
    {
     "data": {
      "text/html": [
       "<html>\\(\\displaystyle \\left(\\sqrt{2}, \\frac{3}{4} \\, \\pi, 0\\right)\\)</html>"
      ],
      "text/latex": [
       "$\\displaystyle \\left(\\sqrt{2}, \\frac{3}{4} \\, \\pi, 0\\right)$"
      ],
      "text/plain": [
       "(sqrt(2), 3/4*pi, 0)"
      ]
     },
     "execution_count": 208,
     "metadata": {},
     "output_type": "execute_result"
    }
   ],
   "source": [
    "cylindrical(p)"
   ]
  },
  {
   "cell_type": "markdown",
   "id": "5c89de52-da3d-4edc-be61-e581761f60b6",
   "metadata": {},
   "source": [
    "Um ponto definido a partir das coordenadas esféricas:"
   ]
  },
  {
   "cell_type": "code",
   "execution_count": 209,
   "id": "175883ca-287c-4b14-bafc-de8a973f84c7",
   "metadata": {},
   "outputs": [
    {
     "name": "stdout",
     "output_type": "stream",
     "text": [
      "Point q on the Euclidean space E^3\n"
     ]
    }
   ],
   "source": [
    "q = E((4,pi/3,pi), chart=spherical, name='q')\n",
    "print(q)"
   ]
  },
  {
   "cell_type": "code",
   "execution_count": 210,
   "id": "d987950e-4afc-4d5a-a193-88d000970a80",
   "metadata": {},
   "outputs": [
    {
     "data": {
      "text/html": [
       "<html>\\(\\displaystyle \\left(4, \\frac{1}{3} \\, \\pi, \\pi\\right)\\)</html>"
      ],
      "text/latex": [
       "$\\displaystyle \\left(4, \\frac{1}{3} \\, \\pi, \\pi\\right)$"
      ],
      "text/plain": [
       "(4, 1/3*pi, pi)"
      ]
     },
     "execution_count": 210,
     "metadata": {},
     "output_type": "execute_result"
    }
   ],
   "source": [
    "spherical(q)"
   ]
  },
  {
   "cell_type": "code",
   "execution_count": 211,
   "id": "a85a2d1f-2d9c-449c-b322-bb964fffcc9f",
   "metadata": {},
   "outputs": [
    {
     "data": {
      "text/html": [
       "<html>\\(\\displaystyle \\left(-2 \\, \\sqrt{3}, 0, 2\\right)\\)</html>"
      ],
      "text/latex": [
       "$\\displaystyle \\left(-2 \\, \\sqrt{3}, 0, 2\\right)$"
      ],
      "text/plain": [
       "(-2*sqrt(3), 0, 2)"
      ]
     },
     "execution_count": 211,
     "metadata": {},
     "output_type": "execute_result"
    }
   ],
   "source": [
    "cartesian(q)"
   ]
  },
  {
   "cell_type": "code",
   "execution_count": 212,
   "id": "62661b80-7992-4d8d-a812-cf9c8ccd5605",
   "metadata": {},
   "outputs": [
    {
     "data": {
      "text/html": [
       "<html>\\(\\displaystyle \\left(2 \\, \\sqrt{3}, \\pi, 2\\right)\\)</html>"
      ],
      "text/latex": [
       "$\\displaystyle \\left(2 \\, \\sqrt{3}, \\pi, 2\\right)$"
      ],
      "text/plain": [
       "(2*sqrt(3), pi, 2)"
      ]
     },
     "execution_count": 212,
     "metadata": {},
     "output_type": "execute_result"
    }
   ],
   "source": [
    "cylindrical(q)"
   ]
  },
  {
   "cell_type": "markdown",
   "id": "1b1272f5-1882-4294-bed1-235d3d76dab0",
   "metadata": {
    "jp-MarkdownHeadingCollapsed": true,
    "tags": []
   },
   "source": [
    "## Expressões de um campo escalar em vários sistemas de coordenadas"
   ]
  },
  {
   "cell_type": "markdown",
   "id": "de0e2164-7eb6-4941-842f-e56f60c44e53",
   "metadata": {},
   "source": [
    "Vamos definir um campo escalar em $\\mathbb{E}^3$ a partir da sua expressão em coordenadas cartesianas:"
   ]
  },
  {
   "cell_type": "code",
   "execution_count": 213,
   "id": "276c616b-e3db-42c1-87e0-9d1fe976f3d2",
   "metadata": {},
   "outputs": [],
   "source": [
    "f = E.scalar_field(x^2+y^2 - z^2, name='f')"
   ]
  },
  {
   "cell_type": "markdown",
   "id": "b06d70a7-7fdb-4a92-8eb6-a41652ae808b",
   "metadata": {},
   "source": [
    "Note-se que como as coordenadas cartesianas são as predefinidas, não as especificamos na definição acima. Graças às transformações de coordenadas conhecidas, a expressão de $f$ em termos de outras coordenadas é automaticamente calculada:"
   ]
  },
  {
   "cell_type": "code",
   "execution_count": 217,
   "id": "fe1c8fa6-6adf-4539-a434-6bc0a5c5f67a",
   "metadata": {},
   "outputs": [
    {
     "name": "stdout",
     "output_type": "stream",
     "text": [
      "Scalar field f on the Euclidean space E^3\n"
     ]
    }
   ],
   "source": [
    "print(f)"
   ]
  },
  {
   "cell_type": "code",
   "execution_count": 214,
   "id": "eb9968bc-4e5b-4988-bef6-4cac3817100b",
   "metadata": {},
   "outputs": [
    {
     "data": {
      "text/html": [
       "<html>\\(\\displaystyle \\begin{array}{llcl} f:& \\mathbb{E}^{3} & \\longrightarrow & \\mathbb{R} \\\\ & \\left(x, y, z\\right) & \\longmapsto & x^{2} + y^{2} - z^{2} \\\\ & \\left(r, {\\theta}, {\\phi}\\right) & \\longmapsto & -2 \\, r^{2} \\cos\\left({\\theta}\\right)^{2} + r^{2} \\\\ & \\left({\\rho}, {\\phi}, z\\right) & \\longmapsto & {\\rho}^{2} - z^{2} \\end{array}\\)</html>"
      ],
      "text/latex": [
       "$\\displaystyle \\begin{array}{llcl} f:& \\mathbb{E}^{3} & \\longrightarrow & \\mathbb{R} \\\\ & \\left(x, y, z\\right) & \\longmapsto & x^{2} + y^{2} - z^{2} \\\\ & \\left(r, {\\theta}, {\\phi}\\right) & \\longmapsto & -2 \\, r^{2} \\cos\\left({\\theta}\\right)^{2} + r^{2} \\\\ & \\left({\\rho}, {\\phi}, z\\right) & \\longmapsto & {\\rho}^{2} - z^{2} \\end{array}$"
      ],
      "text/plain": [
       "f: E^3 → ℝ\n",
       "   (x, y, z) ↦ x^2 + y^2 - z^2\n",
       "   (r, th, ph) ↦ -2*r^2*cos(th)^2 + r^2\n",
       "   (rh, ph, z) ↦ rh^2 - z^2"
      ]
     },
     "execution_count": 214,
     "metadata": {},
     "output_type": "execute_result"
    }
   ],
   "source": [
    "f.display()"
   ]
  },
  {
   "cell_type": "markdown",
   "id": "037c5b60-f62f-434e-801e-051cca23994f",
   "metadata": {},
   "source": [
    "Podemos limitar a saída a um único sistema de coordenadas:"
   ]
  },
  {
   "cell_type": "code",
   "execution_count": 218,
   "id": "65fc31ba-10e0-4afb-86be-784b2f886a9b",
   "metadata": {},
   "outputs": [
    {
     "data": {
      "text/html": [
       "<html>\\(\\displaystyle \\begin{array}{llcl} f:& \\mathbb{E}^{3} & \\longrightarrow & \\mathbb{R} \\\\ & \\left(x, y, z\\right) & \\longmapsto & x^{2} + y^{2} - z^{2} \\end{array}\\)</html>"
      ],
      "text/latex": [
       "$\\displaystyle \\begin{array}{llcl} f:& \\mathbb{E}^{3} & \\longrightarrow & \\mathbb{R} \\\\ & \\left(x, y, z\\right) & \\longmapsto & x^{2} + y^{2} - z^{2} \\end{array}$"
      ],
      "text/plain": [
       "f: E^3 → ℝ\n",
       "   (x, y, z) ↦ x^2 + y^2 - z^2"
      ]
     },
     "execution_count": 218,
     "metadata": {},
     "output_type": "execute_result"
    }
   ],
   "source": [
    "f.display(cartesian)"
   ]
  },
  {
   "cell_type": "code",
   "execution_count": 219,
   "id": "035e9faa-4171-40d6-bb85-ca91cb2b28e0",
   "metadata": {},
   "outputs": [
    {
     "data": {
      "text/html": [
       "<html>\\(\\displaystyle \\begin{array}{llcl} f:& \\mathbb{E}^{3} & \\longrightarrow & \\mathbb{R} \\\\ & \\left({\\rho}, {\\phi}, z\\right) & \\longmapsto & {\\rho}^{2} - z^{2} \\end{array}\\)</html>"
      ],
      "text/latex": [
       "$\\displaystyle \\begin{array}{llcl} f:& \\mathbb{E}^{3} & \\longrightarrow & \\mathbb{R} \\\\ & \\left({\\rho}, {\\phi}, z\\right) & \\longmapsto & {\\rho}^{2} - z^{2} \\end{array}$"
      ],
      "text/plain": [
       "f: E^3 → ℝ\n",
       "   (rh, ph, z) ↦ rh^2 - z^2"
      ]
     },
     "execution_count": 219,
     "metadata": {},
     "output_type": "execute_result"
    }
   ],
   "source": [
    "f.display(cylindrical)"
   ]
  },
  {
   "cell_type": "markdown",
   "id": "bc9a711b-0ee1-439c-b423-6d514aaa952a",
   "metadata": {},
   "source": [
    "A expressão simbólica de $f$ em um determinado sistema de coordenadas é obtida através do método `expr()`"
   ]
  },
  {
   "cell_type": "code",
   "execution_count": 220,
   "id": "7e3333bf-2fb6-4778-972d-371c34e2df1e",
   "metadata": {},
   "outputs": [
    {
     "data": {
      "text/html": [
       "<html>\\(\\displaystyle x^{2} + y^{2} - z^{2}\\)</html>"
      ],
      "text/latex": [
       "$\\displaystyle x^{2} + y^{2} - z^{2}$"
      ],
      "text/plain": [
       "x^2 + y^2 - z^2"
      ]
     },
     "execution_count": 220,
     "metadata": {},
     "output_type": "execute_result"
    }
   ],
   "source": [
    "f.expr()  #  (Cartesianas)"
   ]
  },
  {
   "cell_type": "code",
   "execution_count": 221,
   "id": "280ae750-abac-4e4d-bb23-266e5e420f04",
   "metadata": {},
   "outputs": [
    {
     "data": {
      "text/html": [
       "<html>\\(\\displaystyle -2 \\, r^{2} \\cos\\left({\\theta}\\right)^{2} + r^{2}\\)</html>"
      ],
      "text/latex": [
       "$\\displaystyle -2 \\, r^{2} \\cos\\left({\\theta}\\right)^{2} + r^{2}$"
      ],
      "text/plain": [
       "-2*r^2*cos(th)^2 + r^2"
      ]
     },
     "execution_count": 221,
     "metadata": {},
     "output_type": "execute_result"
    }
   ],
   "source": [
    "f.expr(spherical)"
   ]
  },
  {
   "cell_type": "code",
   "execution_count": 222,
   "id": "cd2b476f-5427-4e17-bfc8-2a0635015493",
   "metadata": {},
   "outputs": [
    {
     "data": {
      "text/html": [
       "<html>\\(\\displaystyle {\\rho}^{2} - z^{2}\\)</html>"
      ],
      "text/latex": [
       "$\\displaystyle {\\rho}^{2} - z^{2}$"
      ],
      "text/plain": [
       "rh^2 - z^2"
      ]
     },
     "execution_count": 222,
     "metadata": {},
     "output_type": "execute_result"
    }
   ],
   "source": [
    "f.expr(cylindrical)"
   ]
  },
  {
   "cell_type": "markdown",
   "id": "5e8033ba-312e-4b7d-a909-80f6334a598d",
   "metadata": {},
   "source": [
    "O valor de $f$ nos pontos $p$ e $q$:"
   ]
  },
  {
   "cell_type": "code",
   "execution_count": 223,
   "id": "9c269994-64c2-44cd-969e-aa86df5e27a5",
   "metadata": {},
   "outputs": [
    {
     "data": {
      "text/html": [
       "<html>\\(\\displaystyle 2\\)</html>"
      ],
      "text/latex": [
       "$\\displaystyle 2$"
      ],
      "text/plain": [
       "2"
      ]
     },
     "execution_count": 223,
     "metadata": {},
     "output_type": "execute_result"
    }
   ],
   "source": [
    "f(p)"
   ]
  },
  {
   "cell_type": "code",
   "execution_count": 224,
   "id": "a6e5a5fa-d547-43dd-9a92-ac8031b05ed4",
   "metadata": {},
   "outputs": [
    {
     "data": {
      "text/html": [
       "<html>\\(\\displaystyle 8\\)</html>"
      ],
      "text/latex": [
       "$\\displaystyle 8$"
      ],
      "text/plain": [
       "8"
      ]
     },
     "execution_count": 224,
     "metadata": {},
     "output_type": "execute_result"
    }
   ],
   "source": [
    "f(q)"
   ]
  },
  {
   "cell_type": "markdown",
   "id": "e0e6f701-bc95-4c74-a949-a2e91e4300ca",
   "metadata": {},
   "source": [
    "Evidentemente, podemos definir um campo escalar a partir da sua expressão coordenada num sistema de coordenadas que não é o padrão:"
   ]
  },
  {
   "cell_type": "code",
   "execution_count": 229,
   "id": "5274c609-a17f-4b1a-971f-d013e02fc70f",
   "metadata": {},
   "outputs": [],
   "source": [
    "h = E.scalar_field(r^2, chart=spherical, name='h')"
   ]
  },
  {
   "cell_type": "code",
   "execution_count": 230,
   "id": "4cadebac-48c9-478f-89dd-c14802eba8ec",
   "metadata": {},
   "outputs": [
    {
     "data": {
      "text/html": [
       "<html>\\(\\displaystyle \\begin{array}{llcl} h:& \\mathbb{E}^{3} & \\longrightarrow & \\mathbb{R} \\\\ & \\left(x, y, z\\right) & \\longmapsto & x^{2} + y^{2} + z^{2} \\\\ & \\left(r, {\\theta}, {\\phi}\\right) & \\longmapsto & r^{2} \\\\ & \\left({\\rho}, {\\phi}, z\\right) & \\longmapsto & {\\rho}^{2} + z^{2} \\end{array}\\)</html>"
      ],
      "text/latex": [
       "$\\displaystyle \\begin{array}{llcl} h:& \\mathbb{E}^{3} & \\longrightarrow & \\mathbb{R} \\\\ & \\left(x, y, z\\right) & \\longmapsto & x^{2} + y^{2} + z^{2} \\\\ & \\left(r, {\\theta}, {\\phi}\\right) & \\longmapsto & r^{2} \\\\ & \\left({\\rho}, {\\phi}, z\\right) & \\longmapsto & {\\rho}^{2} + z^{2} \\end{array}$"
      ],
      "text/plain": [
       "h: E^3 → ℝ\n",
       "   (x, y, z) ↦ x^2 + y^2 + z^2\n",
       "   (r, th, ph) ↦ r^2\n",
       "   (rh, ph, z) ↦ rh^2 + z^2"
      ]
     },
     "execution_count": 230,
     "metadata": {},
     "output_type": "execute_result"
    }
   ],
   "source": [
    "h.display()"
   ]
  },
  {
   "cell_type": "markdown",
   "id": "d3c1d0f7-c2fc-419b-8935-61b87f2b26fb",
   "metadata": {
    "jp-MarkdownHeadingCollapsed": true,
    "tags": []
   },
   "source": [
    "## Expressão de um campo vetorial em vários sistemas de coordenadas"
   ]
  },
  {
   "cell_type": "markdown",
   "id": "e9ff6ed3-e582-4d20-a569-96c7815525d0",
   "metadata": {},
   "source": [
    "Vamos introduzir um campo vectorial em $\\mathbb{E}^3$ pelos seus componentes em coordenadas cartesianas. Uma vez que este é o referencial padrão em $\\mathbb{E}^3$, é suficiente escrever:"
   ]
  },
  {
   "cell_type": "code",
   "execution_count": 231,
   "id": "59a0dc57-e076-46df-934e-40f34e64027b",
   "metadata": {},
   "outputs": [
    {
     "data": {
      "text/html": [
       "<html>\\(\\displaystyle v = -y e_{ x } + x e_{ y } + z^{2} e_{ z }\\)</html>"
      ],
      "text/latex": [
       "$\\displaystyle v = -y e_{ x } + x e_{ y } + z^{2} e_{ z }$"
      ],
      "text/plain": [
       "v = -y e_x + x e_y + z^2 e_z"
      ]
     },
     "execution_count": 231,
     "metadata": {},
     "output_type": "execute_result"
    }
   ],
   "source": [
    "v = E.vector_field(-y, x, z^2, name='v')\n",
    "v.display()"
   ]
  },
  {
   "cell_type": "markdown",
   "id": "98affa60-12a7-48d2-8782-53c2bf9231e4",
   "metadata": {},
   "source": [
    "Igualmente, um campo vectorial pode ser definido directamente a partir da sua expansão na base cartesiana: "
   ]
  },
  {
   "cell_type": "code",
   "execution_count": 232,
   "id": "4fb01083-f716-445a-b8b7-ec80d5d80d17",
   "metadata": {},
   "outputs": [
    {
     "data": {
      "text/html": [
       "<html>\\(\\displaystyle -y e_{ x } + x e_{ y } + z^{2} e_{ z }\\)</html>"
      ],
      "text/latex": [
       "$\\displaystyle -y e_{ x } + x e_{ y } + z^{2} e_{ z }$"
      ],
      "text/plain": [
       "-y e_x + x e_y + z^2 e_z"
      ]
     },
     "execution_count": 232,
     "metadata": {},
     "output_type": "execute_result"
    }
   ],
   "source": [
    "ex, ey, ez = cartesian_frame[:]\n",
    "v = -y*ex + x*ey + z^2*ez\n",
    "v.display()"
   ]
  },
  {
   "cell_type": "markdown",
   "id": "cb273213-4de0-4da0-b1ca-a1d394b50030",
   "metadata": {},
   "source": [
    "Vamos fornecer a `v` um nome, como acima:"
   ]
  },
  {
   "cell_type": "code",
   "execution_count": 233,
   "id": "52551a0c-d9ea-44d2-ac8f-b13ff6908215",
   "metadata": {},
   "outputs": [
    {
     "data": {
      "text/html": [
       "<html>\\(\\displaystyle v = -y e_{ x } + x e_{ y } + z^{2} e_{ z }\\)</html>"
      ],
      "text/latex": [
       "$\\displaystyle v = -y e_{ x } + x e_{ y } + z^{2} e_{ z }$"
      ],
      "text/plain": [
       "v = -y e_x + x e_y + z^2 e_z"
      ]
     },
     "execution_count": 233,
     "metadata": {},
     "output_type": "execute_result"
    }
   ],
   "source": [
    "v.set_name('v')\n",
    "v.display()"
   ]
  },
  {
   "cell_type": "markdown",
   "id": "f2b4c819-772f-4294-8204-efc30eeadb90",
   "metadata": {},
   "source": [
    "As componentes de $v$ são obtidas usando a notação de listas:"
   ]
  },
  {
   "cell_type": "code",
   "execution_count": 236,
   "id": "fd35408f-37a4-4f33-be52-4dff5753a1d6",
   "metadata": {},
   "outputs": [
    {
     "data": {
      "text/html": [
       "<html>\\(\\displaystyle z^{2}\\)</html>"
      ],
      "text/latex": [
       "$\\displaystyle z^{2}$"
      ],
      "text/plain": [
       "z^2"
      ]
     },
     "execution_count": 236,
     "metadata": {},
     "output_type": "execute_result"
    }
   ],
   "source": [
    "v[3]"
   ]
  },
  {
   "cell_type": "code",
   "execution_count": 237,
   "id": "83372880-2784-4c89-9d32-4ad09a5033de",
   "metadata": {},
   "outputs": [
    {
     "data": {
      "text/html": [
       "<html>\\(\\displaystyle \\left[-y, x, z^{2}\\right]\\)</html>"
      ],
      "text/latex": [
       "$\\displaystyle \\left[-y, x, z^{2}\\right]$"
      ],
      "text/plain": [
       "[-y, x, z^2]"
      ]
     },
     "execution_count": 237,
     "metadata": {},
     "output_type": "execute_result"
    }
   ],
   "source": [
    "v[:]"
   ]
  },
  {
   "cell_type": "markdown",
   "id": "9971f2cd-6d4f-40e6-8c8a-2d51d2b5572f",
   "metadata": {},
   "source": [
    "A expressão de $v$ em termos da base ortonormal esférica é obtida por"
   ]
  },
  {
   "cell_type": "code",
   "execution_count": 238,
   "id": "6b95d2c1-5b19-4804-96be-f31d49b290ad",
   "metadata": {},
   "outputs": [
    {
     "data": {
      "text/html": [
       "<html>\\(\\displaystyle v = \\left( \\frac{z^{3}}{\\sqrt{x^{2} + y^{2} + z^{2}}} \\right) e_{ r } + \\left( -\\frac{\\sqrt{x^{2} + y^{2}} z^{2}}{\\sqrt{x^{2} + y^{2} + z^{2}}} \\right) e_{ {\\theta} } + \\left( \\sqrt{x^{2} + y^{2}} \\right) e_{ {\\phi} }\\)</html>"
      ],
      "text/latex": [
       "$\\displaystyle v = \\left( \\frac{z^{3}}{\\sqrt{x^{2} + y^{2} + z^{2}}} \\right) e_{ r } + \\left( -\\frac{\\sqrt{x^{2} + y^{2}} z^{2}}{\\sqrt{x^{2} + y^{2} + z^{2}}} \\right) e_{ {\\theta} } + \\left( \\sqrt{x^{2} + y^{2}} \\right) e_{ {\\phi} }$"
      ],
      "text/plain": [
       "v = z^3/sqrt(x^2 + y^2 + z^2) e_r - sqrt(x^2 + y^2)*z^2/sqrt(x^2 + y^2 + z^2) e_th + sqrt(x^2 + y^2) e_ph"
      ]
     },
     "execution_count": 238,
     "metadata": {},
     "output_type": "execute_result"
    }
   ],
   "source": [
    "v.display(spherical_frame)"
   ]
  },
  {
   "cell_type": "markdown",
   "id": "77492801-8830-476d-957c-4d79f5542dce",
   "metadata": {},
   "source": [
    "Note que as componentes ainda estão em coordenadas cartesianas. Para que sejam expressas em coordenadas esféricas, basta passar como segundo argumento do método `display()`:"
   ]
  },
  {
   "cell_type": "code",
   "execution_count": 239,
   "id": "57248bde-f2f5-47dd-9e4e-4edcf77dff04",
   "metadata": {},
   "outputs": [
    {
     "data": {
      "text/html": [
       "<html>\\(\\displaystyle v = r^{2} \\cos\\left({\\theta}\\right)^{3} e_{ r } -r^{2} \\cos\\left({\\theta}\\right)^{2} \\sin\\left({\\theta}\\right) e_{ {\\theta} } + r \\sin\\left({\\theta}\\right) e_{ {\\phi} }\\)</html>"
      ],
      "text/latex": [
       "$\\displaystyle v = r^{2} \\cos\\left({\\theta}\\right)^{3} e_{ r } -r^{2} \\cos\\left({\\theta}\\right)^{2} \\sin\\left({\\theta}\\right) e_{ {\\theta} } + r \\sin\\left({\\theta}\\right) e_{ {\\phi} }$"
      ],
      "text/plain": [
       "v = r^2*cos(th)^3 e_r - r^2*cos(th)^2*sin(th) e_th + r*sin(th) e_ph"
      ]
     },
     "execution_count": 239,
     "metadata": {},
     "output_type": "execute_result"
    }
   ],
   "source": [
    "v.display(spherical_frame, spherical)"
   ]
  },
  {
   "cell_type": "code",
   "execution_count": 240,
   "id": "f27742a2-6f5a-4fca-b034-dc6025a73de6",
   "metadata": {},
   "outputs": [
    {
     "data": {
      "text/html": [
       "<html>\\(\\displaystyle \\frac{z^{3}}{\\sqrt{x^{2} + y^{2} + z^{2}}}\\)</html>"
      ],
      "text/latex": [
       "$\\displaystyle \\frac{z^{3}}{\\sqrt{x^{2} + y^{2} + z^{2}}}$"
      ],
      "text/plain": [
       "z^3/sqrt(x^2 + y^2 + z^2)"
      ]
     },
     "execution_count": 240,
     "metadata": {},
     "output_type": "execute_result"
    }
   ],
   "source": [
    "v[spherical_frame, 1]"
   ]
  },
  {
   "cell_type": "code",
   "execution_count": 241,
   "id": "bec87953-e5d0-4cfd-9ebe-f78e46bf6faa",
   "metadata": {},
   "outputs": [
    {
     "data": {
      "text/html": [
       "<html>\\(\\displaystyle r^{2} \\cos\\left({\\theta}\\right)^{3}\\)</html>"
      ],
      "text/latex": [
       "$\\displaystyle r^{2} \\cos\\left({\\theta}\\right)^{3}$"
      ],
      "text/plain": [
       "r^2*cos(th)^3"
      ]
     },
     "execution_count": 241,
     "metadata": {},
     "output_type": "execute_result"
    }
   ],
   "source": [
    "v[spherical_frame, 1, spherical]"
   ]
  },
  {
   "cell_type": "code",
   "execution_count": 242,
   "id": "2631c5a6-f543-4b8b-852a-4512ab188c34",
   "metadata": {},
   "outputs": [
    {
     "data": {
      "text/html": [
       "<html>\\(\\displaystyle \\left[r^{2} \\cos\\left({\\theta}\\right)^{3}, -r^{2} \\cos\\left({\\theta}\\right)^{2} \\sin\\left({\\theta}\\right), r \\sin\\left({\\theta}\\right)\\right]\\)</html>"
      ],
      "text/latex": [
       "$\\displaystyle \\left[r^{2} \\cos\\left({\\theta}\\right)^{3}, -r^{2} \\cos\\left({\\theta}\\right)^{2} \\sin\\left({\\theta}\\right), r \\sin\\left({\\theta}\\right)\\right]$"
      ],
      "text/plain": [
       "[r^2*cos(th)^3, -r^2*cos(th)^2*sin(th), r*sin(th)]"
      ]
     },
     "execution_count": 242,
     "metadata": {},
     "output_type": "execute_result"
    }
   ],
   "source": [
    "v[spherical_frame, :, spherical]"
   ]
  },
  {
   "cell_type": "markdown",
   "id": "8ba12867-262b-4b64-8d74-f03731e662c6",
   "metadata": {},
   "source": [
    "Da mesma forma, a expressão de $v$ em termos da base e coordenadas cilíndrica"
   ]
  },
  {
   "cell_type": "code",
   "execution_count": 243,
   "id": "db2abf23-e1f5-4992-9fcb-d1c16cb6d2a7",
   "metadata": {},
   "outputs": [
    {
     "data": {
      "text/html": [
       "<html>\\(\\displaystyle v = {\\rho} e_{ {\\phi} } + z^{2} e_{ z }\\)</html>"
      ],
      "text/latex": [
       "$\\displaystyle v = {\\rho} e_{ {\\phi} } + z^{2} e_{ z }$"
      ],
      "text/plain": [
       "v = rh e_ph + z^2 e_z"
      ]
     },
     "execution_count": 243,
     "metadata": {},
     "output_type": "execute_result"
    }
   ],
   "source": [
    "v.display(cylindrical_frame, cylindrical)"
   ]
  },
  {
   "cell_type": "code",
   "execution_count": 244,
   "id": "6f0f4a84-a4c5-4500-899b-d1dfd941b5d0",
   "metadata": {},
   "outputs": [
    {
     "data": {
      "text/html": [
       "<html>\\(\\displaystyle \\left[0, {\\rho}, z^{2}\\right]\\)</html>"
      ],
      "text/latex": [
       "$\\displaystyle \\left[0, {\\rho}, z^{2}\\right]$"
      ],
      "text/plain": [
       "[0, rh, z^2]"
      ]
     },
     "execution_count": 244,
     "metadata": {},
     "output_type": "execute_result"
    }
   ],
   "source": [
    "v[cylindrical_frame,:,cylindrical]"
   ]
  },
  {
   "cell_type": "markdown",
   "id": "0caab284-715a-4c42-9522-673f60695e48",
   "metadata": {},
   "source": [
    "O valor do campo vetorial $v$ no ponto $p$:"
   ]
  },
  {
   "cell_type": "code",
   "execution_count": 245,
   "id": "71a52c3d-ed4a-457a-97b2-471936f1c6a1",
   "metadata": {},
   "outputs": [
    {
     "name": "stdout",
     "output_type": "stream",
     "text": [
      "Vector v at Point p on the Euclidean space E^3\n"
     ]
    }
   ],
   "source": [
    "vp = v.at(p)\n",
    "print(vp)"
   ]
  },
  {
   "cell_type": "code",
   "execution_count": 246,
   "id": "a8159389-0b93-4509-a7e1-c59c9d23def2",
   "metadata": {},
   "outputs": [
    {
     "data": {
      "text/html": [
       "<html>\\(\\displaystyle v = -e_{ x }-e_{ y }\\)</html>"
      ],
      "text/latex": [
       "$\\displaystyle v = -e_{ x }-e_{ y }$"
      ],
      "text/plain": [
       "v = -e_x - e_y"
      ]
     },
     "execution_count": 246,
     "metadata": {},
     "output_type": "execute_result"
    }
   ],
   "source": [
    "vp.display()"
   ]
  },
  {
   "cell_type": "code",
   "execution_count": 247,
   "id": "201caa8d-8774-435e-ab6b-9f80339345f6",
   "metadata": {},
   "outputs": [
    {
     "data": {
      "text/html": [
       "<html>\\(\\displaystyle v = \\sqrt{2} e_{ {\\phi} }\\)</html>"
      ],
      "text/latex": [
       "$\\displaystyle v = \\sqrt{2} e_{ {\\phi} }$"
      ],
      "text/plain": [
       "v = sqrt(2) e_ph"
      ]
     },
     "execution_count": 247,
     "metadata": {},
     "output_type": "execute_result"
    }
   ],
   "source": [
    "vp.display(spherical_frame.at(p))"
   ]
  },
  {
   "cell_type": "code",
   "execution_count": 248,
   "id": "83aa1c55-a18b-4c72-9aa8-4ef85b589394",
   "metadata": {},
   "outputs": [
    {
     "data": {
      "text/html": [
       "<html>\\(\\displaystyle v = \\sqrt{2} e_{ {\\phi} }\\)</html>"
      ],
      "text/latex": [
       "$\\displaystyle v = \\sqrt{2} e_{ {\\phi} }$"
      ],
      "text/plain": [
       "v = sqrt(2) e_ph"
      ]
     },
     "execution_count": 248,
     "metadata": {},
     "output_type": "execute_result"
    }
   ],
   "source": [
    "vp.display(cylindrical_frame.at(p))"
   ]
  },
  {
   "cell_type": "markdown",
   "id": "aebb6d94-4931-4c2e-a0ee-2831998ff00c",
   "metadata": {},
   "source": [
    "O valor do campo vectorial $v$ no ponto $q$:"
   ]
  },
  {
   "cell_type": "code",
   "execution_count": 249,
   "id": "a1b4ed4f-562f-45f6-8722-40cf25460c08",
   "metadata": {},
   "outputs": [
    {
     "name": "stdout",
     "output_type": "stream",
     "text": [
      "Vector v at Point q on the Euclidean space E^3\n"
     ]
    }
   ],
   "source": [
    "vq = v.at(q)\n",
    "print(vq)"
   ]
  },
  {
   "cell_type": "code",
   "execution_count": 250,
   "id": "deee4c77-7484-40fc-aa27-d45eae883baf",
   "metadata": {},
   "outputs": [
    {
     "data": {
      "text/html": [
       "<html>\\(\\displaystyle v = -2 \\, \\sqrt{3} e_{ y } + 4 e_{ z }\\)</html>"
      ],
      "text/latex": [
       "$\\displaystyle v = -2 \\, \\sqrt{3} e_{ y } + 4 e_{ z }$"
      ],
      "text/plain": [
       "v = -2*sqrt(3) e_y + 4 e_z"
      ]
     },
     "execution_count": 250,
     "metadata": {},
     "output_type": "execute_result"
    }
   ],
   "source": [
    "vq.display()"
   ]
  },
  {
   "cell_type": "code",
   "execution_count": 251,
   "id": "b6bf08b4-ff04-492d-8c09-cbeece210a72",
   "metadata": {},
   "outputs": [
    {
     "data": {
      "text/html": [
       "<html>\\(\\displaystyle v = 2 e_{ r } -2 \\, \\sqrt{3} e_{ {\\theta} } + 2 \\, \\sqrt{3} e_{ {\\phi} }\\)</html>"
      ],
      "text/latex": [
       "$\\displaystyle v = 2 e_{ r } -2 \\, \\sqrt{3} e_{ {\\theta} } + 2 \\, \\sqrt{3} e_{ {\\phi} }$"
      ],
      "text/plain": [
       "v = 2 e_r - 2*sqrt(3) e_th + 2*sqrt(3) e_ph"
      ]
     },
     "execution_count": 251,
     "metadata": {},
     "output_type": "execute_result"
    }
   ],
   "source": [
    "vq.display(spherical_frame.at(q))"
   ]
  },
  {
   "cell_type": "code",
   "execution_count": 252,
   "id": "cd454c70-0b36-4e6e-94d3-17e63645f36e",
   "metadata": {},
   "outputs": [
    {
     "data": {
      "text/html": [
       "<html>\\(\\displaystyle v = 2 \\, \\sqrt{3} e_{ {\\phi} } + 4 e_{ z }\\)</html>"
      ],
      "text/latex": [
       "$\\displaystyle v = 2 \\, \\sqrt{3} e_{ {\\phi} } + 4 e_{ z }$"
      ],
      "text/plain": [
       "v = 2*sqrt(3) e_ph + 4 e_z"
      ]
     },
     "execution_count": 252,
     "metadata": {},
     "output_type": "execute_result"
    }
   ],
   "source": [
    "vq.display(cylindrical_frame.at(q))"
   ]
  },
  {
   "cell_type": "markdown",
   "id": "1338ace2-8034-434b-aa4d-ea7b1b1dbdf9",
   "metadata": {},
   "source": [
    "Podemos alterar a base e o sistema de coordenadas padão"
   ]
  },
  {
   "cell_type": "code",
   "execution_count": 253,
   "id": "1de5feb5-25e7-4a6e-871f-8a3186c3da07",
   "metadata": {},
   "outputs": [],
   "source": [
    "E.set_default_chart(spherical)"
   ]
  },
  {
   "cell_type": "code",
   "execution_count": 254,
   "id": "d338044e-b226-4e03-8219-433fd6c2bbdf",
   "metadata": {},
   "outputs": [],
   "source": [
    "E.set_default_frame(spherical_frame)"
   ]
  },
  {
   "cell_type": "markdown",
   "id": "b21de617-c41e-4d3e-afdd-8c637207d5a5",
   "metadata": {},
   "source": [
    "E definir um campo vetorial com componentes genericas:"
   ]
  },
  {
   "cell_type": "code",
   "execution_count": 255,
   "id": "d4f66aac-2701-4161-b95c-580f38d46fab",
   "metadata": {},
   "outputs": [
    {
     "data": {
      "text/html": [
       "<html>\\(\\displaystyle u = u_{r}\\left(r, {\\theta}, {\\phi}\\right) e_{ r } + u_{\\theta}\\left(r, {\\theta}, {\\phi}\\right) e_{ {\\theta} } + u_{\\phi}\\left(r, {\\theta}, {\\phi}\\right) e_{ {\\phi} }\\)</html>"
      ],
      "text/latex": [
       "$\\displaystyle u = u_{r}\\left(r, {\\theta}, {\\phi}\\right) e_{ r } + u_{\\theta}\\left(r, {\\theta}, {\\phi}\\right) e_{ {\\theta} } + u_{\\phi}\\left(r, {\\theta}, {\\phi}\\right) e_{ {\\phi} }$"
      ],
      "text/plain": [
       "u = u_r(r, th, ph) e_r + u_theta(r, th, ph) e_th + u_phi(r, th, ph) e_ph"
      ]
     },
     "execution_count": 255,
     "metadata": {},
     "output_type": "execute_result"
    }
   ],
   "source": [
    "u = E.vector_field(function('u_r')(r,th,ph),\n",
    "                   function('u_theta')(r,th,ph),\n",
    "                   function('u_phi')(r,th,ph),\n",
    "                   name='u')\n",
    "u.display()"
   ]
  },
  {
   "cell_type": "code",
   "execution_count": 256,
   "id": "2f80c46a-b4f6-45c8-9198-b5879096905d",
   "metadata": {},
   "outputs": [
    {
     "data": {
      "text/html": [
       "<html>\\(\\displaystyle \\left[u_{r}\\left(r, {\\theta}, {\\phi}\\right), u_{\\theta}\\left(r, {\\theta}, {\\phi}\\right), u_{\\phi}\\left(r, {\\theta}, {\\phi}\\right)\\right]\\)</html>"
      ],
      "text/latex": [
       "$\\displaystyle \\left[u_{r}\\left(r, {\\theta}, {\\phi}\\right), u_{\\theta}\\left(r, {\\theta}, {\\phi}\\right), u_{\\phi}\\left(r, {\\theta}, {\\phi}\\right)\\right]$"
      ],
      "text/plain": [
       "[u_r(r, th, ph), u_theta(r, th, ph), u_phi(r, th, ph)]"
      ]
     },
     "execution_count": 256,
     "metadata": {},
     "output_type": "execute_result"
    }
   ],
   "source": [
    "u[:]"
   ]
  },
  {
   "cell_type": "code",
   "execution_count": 257,
   "id": "450c1c4a-d4d2-47aa-9552-1e201f41c46d",
   "metadata": {},
   "outputs": [
    {
     "data": {
      "text/html": [
       "<html>\\(\\displaystyle u = \\left( -\\frac{1}{2} \\, \\sqrt{2} u_{\\phi}\\left(\\sqrt{2}, \\frac{1}{2} \\, \\pi, \\frac{3}{4} \\, \\pi\\right) - \\frac{1}{2} \\, \\sqrt{2} u_{r}\\left(\\sqrt{2}, \\frac{1}{2} \\, \\pi, \\frac{3}{4} \\, \\pi\\right) \\right) e_{ x } + \\left( -\\frac{1}{2} \\, \\sqrt{2} u_{\\phi}\\left(\\sqrt{2}, \\frac{1}{2} \\, \\pi, \\frac{3}{4} \\, \\pi\\right) + \\frac{1}{2} \\, \\sqrt{2} u_{r}\\left(\\sqrt{2}, \\frac{1}{2} \\, \\pi, \\frac{3}{4} \\, \\pi\\right) \\right) e_{ y } -u_{\\theta}\\left(\\sqrt{2}, \\frac{1}{2} \\, \\pi, \\frac{3}{4} \\, \\pi\\right) e_{ z }\\)</html>"
      ],
      "text/latex": [
       "$\\displaystyle u = \\left( -\\frac{1}{2} \\, \\sqrt{2} u_{\\phi}\\left(\\sqrt{2}, \\frac{1}{2} \\, \\pi, \\frac{3}{4} \\, \\pi\\right) - \\frac{1}{2} \\, \\sqrt{2} u_{r}\\left(\\sqrt{2}, \\frac{1}{2} \\, \\pi, \\frac{3}{4} \\, \\pi\\right) \\right) e_{ x } + \\left( -\\frac{1}{2} \\, \\sqrt{2} u_{\\phi}\\left(\\sqrt{2}, \\frac{1}{2} \\, \\pi, \\frac{3}{4} \\, \\pi\\right) + \\frac{1}{2} \\, \\sqrt{2} u_{r}\\left(\\sqrt{2}, \\frac{1}{2} \\, \\pi, \\frac{3}{4} \\, \\pi\\right) \\right) e_{ y } -u_{\\theta}\\left(\\sqrt{2}, \\frac{1}{2} \\, \\pi, \\frac{3}{4} \\, \\pi\\right) e_{ z }$"
      ],
      "text/plain": [
       "u = (-1/2*sqrt(2)*u_phi(sqrt(2), 1/2*pi, 3/4*pi) - 1/2*sqrt(2)*u_r(sqrt(2), 1/2*pi, 3/4*pi)) e_x + (-1/2*sqrt(2)*u_phi(sqrt(2), 1/2*pi, 3/4*pi) + 1/2*sqrt(2)*u_r(sqrt(2), 1/2*pi, 3/4*pi)) e_y - u_theta(sqrt(2), 1/2*pi, 3/4*pi) e_z"
      ]
     },
     "execution_count": 257,
     "metadata": {},
     "output_type": "execute_result"
    }
   ],
   "source": [
    "up = u.at(p)\n",
    "up.display()"
   ]
  },
  {
   "cell_type": "markdown",
   "id": "769da45e-6538-4d40-9086-dbf70b99e180",
   "metadata": {
    "tags": []
   },
   "source": [
    "## Operações algébricas em campos vectoriais"
   ]
  },
  {
   "cell_type": "markdown",
   "id": "3742efc9-a2ca-4e42-a1e0-716388b69ba0",
   "metadata": {
    "jp-MarkdownHeadingCollapsed": true,
    "tags": []
   },
   "source": [
    "### Produto escalar"
   ]
  },
  {
   "cell_type": "markdown",
   "id": "145c1c84-2b15-41b1-8305-f593f21f5714",
   "metadata": {},
   "source": [
    "O produto escalar dos campos vectoriais $u$ e $v$ é obtido pelo método `dot_product`, que admite `dot` como um atalho:"
   ]
  },
  {
   "cell_type": "code",
   "execution_count": 258,
   "id": "35da451f-3d0f-4b29-a61e-daa4ec773ffe",
   "metadata": {},
   "outputs": [
    {
     "data": {
      "text/html": [
       "<html>\\(\\displaystyle {u}\\cdot{v}\\)</html>"
      ],
      "text/latex": [
       "$\\displaystyle {u}\\cdot{v}$"
      ],
      "text/plain": [
       "Scalar field u.v on the Euclidean space E^3"
      ]
     },
     "execution_count": 258,
     "metadata": {},
     "output_type": "execute_result"
    }
   ],
   "source": [
    "s = u.dot(v)\n",
    "s"
   ]
  },
  {
   "cell_type": "code",
   "execution_count": 259,
   "id": "310e067d-290d-43dc-b2f3-a439dc2aaac0",
   "metadata": {},
   "outputs": [
    {
     "name": "stdout",
     "output_type": "stream",
     "text": [
      "Scalar field u.v on the Euclidean space E^3\n"
     ]
    }
   ],
   "source": [
    "print(s)"
   ]
  },
  {
   "cell_type": "markdown",
   "id": "ce367473-ec75-4a4a-881d-373d7a2dacb3",
   "metadata": {},
   "source": [
    "$s= u\\cdot v$ é um *campo escalar*, i.e. uma função $\\mathbb{E}^3 \\rightarrow \\mathbb{R}$:"
   ]
  },
  {
   "cell_type": "code",
   "execution_count": 260,
   "id": "e61e8e88-f526-4fe2-ac31-f20addecae37",
   "metadata": {},
   "outputs": [
    {
     "data": {
      "text/html": [
       "<html>\\(\\displaystyle \\begin{array}{llcl} {u}\\cdot{v}:& \\mathbb{E}^{3} & \\longrightarrow & \\mathbb{R} \\\\ & \\left(x, y, z\\right) & \\longmapsto & \\frac{{\\left(x^{2} + y^{2} + z^{2}\\right)} \\sqrt{x^{2} + y^{2}} u_{\\phi}\\left(\\sqrt{x^{2} + y^{2} + z^{2}}, \\arctan\\left(\\sqrt{x^{2} + y^{2}}, z\\right), \\arctan\\left(y, x\\right)\\right) + {\\left(z^{3} u_{r}\\left(\\sqrt{x^{2} + y^{2} + z^{2}}, \\arctan\\left(\\sqrt{x^{2} + y^{2}}, z\\right), \\arctan\\left(y, x\\right)\\right) - \\sqrt{x^{2} + y^{2}} z^{2} u_{\\theta}\\left(\\sqrt{x^{2} + y^{2} + z^{2}}, \\arctan\\left(\\sqrt{x^{2} + y^{2}}, z\\right), \\arctan\\left(y, x\\right)\\right)\\right)} \\sqrt{x^{2} + y^{2} + z^{2}}}{x^{2} + y^{2} + z^{2}} \\\\ & \\left(r, {\\theta}, {\\phi}\\right) & \\longmapsto & r^{2} \\cos\\left({\\theta}\\right)^{3} u_{r}\\left(r, {\\theta}, {\\phi}\\right) - {\\left(r^{2} \\cos\\left({\\theta}\\right)^{2} u_{\\theta}\\left(r, {\\theta}, {\\phi}\\right) - r u_{\\phi}\\left(r, {\\theta}, {\\phi}\\right)\\right)} \\sin\\left({\\theta}\\right) \\\\ & \\left({\\rho}, {\\phi}, z\\right) & \\longmapsto & \\frac{{\\left({\\rho}^{3} + {\\rho} z^{2}\\right)} u_{\\phi}\\left(\\sqrt{{\\rho}^{2} + z^{2}}, \\arctan\\left({\\rho}, z\\right), {\\phi}\\right) + {\\left(z^{3} u_{r}\\left(\\sqrt{{\\rho}^{2} + z^{2}}, \\arctan\\left({\\rho}, z\\right), {\\phi}\\right) - {\\rho} z^{2} u_{\\theta}\\left(\\sqrt{{\\rho}^{2} + z^{2}}, \\arctan\\left({\\rho}, z\\right), {\\phi}\\right)\\right)} \\sqrt{{\\rho}^{2} + z^{2}}}{{\\rho}^{2} + z^{2}} \\end{array}\\)</html>"
      ],
      "text/latex": [
       "$\\displaystyle \\begin{array}{llcl} {u}\\cdot{v}:& \\mathbb{E}^{3} & \\longrightarrow & \\mathbb{R} \\\\ & \\left(x, y, z\\right) & \\longmapsto & \\frac{{\\left(x^{2} + y^{2} + z^{2}\\right)} \\sqrt{x^{2} + y^{2}} u_{\\phi}\\left(\\sqrt{x^{2} + y^{2} + z^{2}}, \\arctan\\left(\\sqrt{x^{2} + y^{2}}, z\\right), \\arctan\\left(y, x\\right)\\right) + {\\left(z^{3} u_{r}\\left(\\sqrt{x^{2} + y^{2} + z^{2}}, \\arctan\\left(\\sqrt{x^{2} + y^{2}}, z\\right), \\arctan\\left(y, x\\right)\\right) - \\sqrt{x^{2} + y^{2}} z^{2} u_{\\theta}\\left(\\sqrt{x^{2} + y^{2} + z^{2}}, \\arctan\\left(\\sqrt{x^{2} + y^{2}}, z\\right), \\arctan\\left(y, x\\right)\\right)\\right)} \\sqrt{x^{2} + y^{2} + z^{2}}}{x^{2} + y^{2} + z^{2}} \\\\ & \\left(r, {\\theta}, {\\phi}\\right) & \\longmapsto & r^{2} \\cos\\left({\\theta}\\right)^{3} u_{r}\\left(r, {\\theta}, {\\phi}\\right) - {\\left(r^{2} \\cos\\left({\\theta}\\right)^{2} u_{\\theta}\\left(r, {\\theta}, {\\phi}\\right) - r u_{\\phi}\\left(r, {\\theta}, {\\phi}\\right)\\right)} \\sin\\left({\\theta}\\right) \\\\ & \\left({\\rho}, {\\phi}, z\\right) & \\longmapsto & \\frac{{\\left({\\rho}^{3} + {\\rho} z^{2}\\right)} u_{\\phi}\\left(\\sqrt{{\\rho}^{2} + z^{2}}, \\arctan\\left({\\rho}, z\\right), {\\phi}\\right) + {\\left(z^{3} u_{r}\\left(\\sqrt{{\\rho}^{2} + z^{2}}, \\arctan\\left({\\rho}, z\\right), {\\phi}\\right) - {\\rho} z^{2} u_{\\theta}\\left(\\sqrt{{\\rho}^{2} + z^{2}}, \\arctan\\left({\\rho}, z\\right), {\\phi}\\right)\\right)} \\sqrt{{\\rho}^{2} + z^{2}}}{{\\rho}^{2} + z^{2}} \\end{array}$"
      ],
      "text/plain": [
       "u.v: E^3 → ℝ\n",
       "   (x, y, z) ↦ ((x^2 + y^2 + z^2)*sqrt(x^2 + y^2)*u_phi(sqrt(x^2 + y^2 + z^2), arctan2(sqrt(x^2 + y^2), z), arctan2(y, x)) + (z^3*u_r(sqrt(x^2 + y^2 + z^2), arctan2(sqrt(x^2 + y^2), z), arctan2(y, x)) - sqrt(x^2 + y^2)*z^2*u_theta(sqrt(x^2 + y^2 + z^2), arctan2(sqrt(x^2 + y^2), z), arctan2(y, x)))*sqrt(x^2 + y^2 + z^2))/(x^2 + y^2 + z^2)\n",
       "   (r, th, ph) ↦ r^2*cos(th)^3*u_r(r, th, ph) - (r^2*cos(th)^2*u_theta(r, th, ph) - r*u_phi(r, th, ph))*sin(th)\n",
       "   (rh, ph, z) ↦ ((rh^3 + rh*z^2)*u_phi(sqrt(rh^2 + z^2), arctan2(rh, z), ph) + (z^3*u_r(sqrt(rh^2 + z^2), arctan2(rh, z), ph) - rh*z^2*u_theta(sqrt(rh^2 + z^2), arctan2(rh, z), ph))*sqrt(rh^2 + z^2))/(rh^2 + z^2)"
      ]
     },
     "execution_count": 260,
     "metadata": {},
     "output_type": "execute_result"
    }
   ],
   "source": [
    "s.display()"
   ]
  },
  {
   "cell_type": "markdown",
   "id": "ea50ce37-2152-4530-9abf-c4ed87fc696a",
   "metadata": {},
   "source": [
    "Que leva pontos de $\\mathbb{E}^3$ em números reais:"
   ]
  },
  {
   "cell_type": "code",
   "execution_count": 261,
   "id": "10dd987c-a8e4-4c83-b6a9-ddc66ab7de46",
   "metadata": {},
   "outputs": [
    {
     "data": {
      "text/html": [
       "<html>\\(\\displaystyle \\sqrt{2} u_{\\phi}\\left(\\sqrt{2}, \\frac{1}{2} \\, \\pi, \\frac{3}{4} \\, \\pi\\right)\\)</html>"
      ],
      "text/latex": [
       "$\\displaystyle \\sqrt{2} u_{\\phi}\\left(\\sqrt{2}, \\frac{1}{2} \\, \\pi, \\frac{3}{4} \\, \\pi\\right)$"
      ],
      "text/plain": [
       "sqrt(2)*u_phi(sqrt(2), 1/2*pi, 3/4*pi)"
      ]
     },
     "execution_count": 261,
     "metadata": {},
     "output_type": "execute_result"
    }
   ],
   "source": [
    "s(p)"
   ]
  },
  {
   "cell_type": "markdown",
   "id": "b6c89652-d216-4ea9-8dce-509bbe027225",
   "metadata": {},
   "source": [
    "Expressão simbólica (nas coordenadas padrão)"
   ]
  },
  {
   "cell_type": "code",
   "execution_count": 264,
   "id": "e5e9bb39-d4a7-4c01-ad4c-392486509c5a",
   "metadata": {},
   "outputs": [
    {
     "data": {
      "text/html": [
       "<html>\\(\\displaystyle r^{2} \\cos\\left({\\theta}\\right)^{3} u_{r}\\left(r, {\\theta}, {\\phi}\\right) - {\\left(r^{2} \\cos\\left({\\theta}\\right)^{2} u_{\\theta}\\left(r, {\\theta}, {\\phi}\\right) - r u_{\\phi}\\left(r, {\\theta}, {\\phi}\\right)\\right)} \\sin\\left({\\theta}\\right)\\)</html>"
      ],
      "text/latex": [
       "$\\displaystyle r^{2} \\cos\\left({\\theta}\\right)^{3} u_{r}\\left(r, {\\theta}, {\\phi}\\right) - {\\left(r^{2} \\cos\\left({\\theta}\\right)^{2} u_{\\theta}\\left(r, {\\theta}, {\\phi}\\right) - r u_{\\phi}\\left(r, {\\theta}, {\\phi}\\right)\\right)} \\sin\\left({\\theta}\\right)$"
      ],
      "text/plain": [
       "r^2*cos(th)^3*u_r(r, th, ph) - (r^2*cos(th)^2*u_theta(r, th, ph) - r*u_phi(r, th, ph))*sin(th)"
      ]
     },
     "execution_count": 264,
     "metadata": {},
     "output_type": "execute_result"
    }
   ],
   "source": [
    "s.expr()"
   ]
  },
  {
   "cell_type": "markdown",
   "id": "55457f6c-aae5-4206-90b2-5603be55a405",
   "metadata": {
    "jp-MarkdownHeadingCollapsed": true,
    "tags": []
   },
   "source": [
    "### Norma"
   ]
  },
  {
   "cell_type": "markdown",
   "id": "87e56e79-a7a4-43fd-bc2d-0eb987ad26eb",
   "metadata": {},
   "source": [
    "Norma de um campo vetorial"
   ]
  },
  {
   "cell_type": "code",
   "execution_count": 268,
   "id": "21bab768-f713-4099-815f-f30842a067c2",
   "metadata": {},
   "outputs": [
    {
     "data": {
      "text/html": [
       "<html>\\(\\displaystyle \\left\\|u\\right\\|\\)</html>"
      ],
      "text/latex": [
       "$\\displaystyle \\left\\|u\\right\\|$"
      ],
      "text/plain": [
       "Scalar field |u| on the Euclidean space E^3"
      ]
     },
     "execution_count": 268,
     "metadata": {},
     "output_type": "execute_result"
    }
   ],
   "source": [
    "s = norm(u)\n",
    "s"
   ]
  },
  {
   "cell_type": "code",
   "execution_count": 269,
   "id": "5e717b6e-1673-4da9-a19d-e9072421f826",
   "metadata": {},
   "outputs": [
    {
     "data": {
      "text/html": [
       "<html>\\(\\displaystyle \\begin{array}{llcl} \\left\\|u\\right\\|:& \\mathbb{E}^{3} & \\longrightarrow & \\mathbb{R} \\\\ & \\left(x, y, z\\right) & \\longmapsto & \\sqrt{u_{\\phi}\\left(\\sqrt{x^{2} + y^{2} + z^{2}}, \\arctan\\left(\\sqrt{x^{2} + y^{2}}, z\\right), \\arctan\\left(y, x\\right)\\right)^{2} + u_{r}\\left(\\sqrt{x^{2} + y^{2} + z^{2}}, \\arctan\\left(\\sqrt{x^{2} + y^{2}}, z\\right), \\arctan\\left(y, x\\right)\\right)^{2} + u_{\\theta}\\left(\\sqrt{x^{2} + y^{2} + z^{2}}, \\arctan\\left(\\sqrt{x^{2} + y^{2}}, z\\right), \\arctan\\left(y, x\\right)\\right)^{2}} \\\\ & \\left(r, {\\theta}, {\\phi}\\right) & \\longmapsto & \\sqrt{u_{\\phi}\\left(r, {\\theta}, {\\phi}\\right)^{2} + u_{r}\\left(r, {\\theta}, {\\phi}\\right)^{2} + u_{\\theta}\\left(r, {\\theta}, {\\phi}\\right)^{2}} \\\\ & \\left({\\rho}, {\\phi}, z\\right) & \\longmapsto & \\sqrt{u_{\\phi}\\left(\\sqrt{{\\rho}^{2} + z^{2}}, \\arctan\\left({\\rho}, z\\right), {\\phi}\\right)^{2} + u_{r}\\left(\\sqrt{{\\rho}^{2} + z^{2}}, \\arctan\\left({\\rho}, z\\right), {\\phi}\\right)^{2} + u_{\\theta}\\left(\\sqrt{{\\rho}^{2} + z^{2}}, \\arctan\\left({\\rho}, z\\right), {\\phi}\\right)^{2}} \\end{array}\\)</html>"
      ],
      "text/latex": [
       "$\\displaystyle \\begin{array}{llcl} \\left\\|u\\right\\|:& \\mathbb{E}^{3} & \\longrightarrow & \\mathbb{R} \\\\ & \\left(x, y, z\\right) & \\longmapsto & \\sqrt{u_{\\phi}\\left(\\sqrt{x^{2} + y^{2} + z^{2}}, \\arctan\\left(\\sqrt{x^{2} + y^{2}}, z\\right), \\arctan\\left(y, x\\right)\\right)^{2} + u_{r}\\left(\\sqrt{x^{2} + y^{2} + z^{2}}, \\arctan\\left(\\sqrt{x^{2} + y^{2}}, z\\right), \\arctan\\left(y, x\\right)\\right)^{2} + u_{\\theta}\\left(\\sqrt{x^{2} + y^{2} + z^{2}}, \\arctan\\left(\\sqrt{x^{2} + y^{2}}, z\\right), \\arctan\\left(y, x\\right)\\right)^{2}} \\\\ & \\left(r, {\\theta}, {\\phi}\\right) & \\longmapsto & \\sqrt{u_{\\phi}\\left(r, {\\theta}, {\\phi}\\right)^{2} + u_{r}\\left(r, {\\theta}, {\\phi}\\right)^{2} + u_{\\theta}\\left(r, {\\theta}, {\\phi}\\right)^{2}} \\\\ & \\left({\\rho}, {\\phi}, z\\right) & \\longmapsto & \\sqrt{u_{\\phi}\\left(\\sqrt{{\\rho}^{2} + z^{2}}, \\arctan\\left({\\rho}, z\\right), {\\phi}\\right)^{2} + u_{r}\\left(\\sqrt{{\\rho}^{2} + z^{2}}, \\arctan\\left({\\rho}, z\\right), {\\phi}\\right)^{2} + u_{\\theta}\\left(\\sqrt{{\\rho}^{2} + z^{2}}, \\arctan\\left({\\rho}, z\\right), {\\phi}\\right)^{2}} \\end{array}$"
      ],
      "text/plain": [
       "|u|: E^3 → ℝ\n",
       "   (x, y, z) ↦ sqrt(u_phi(sqrt(x^2 + y^2 + z^2), arctan2(sqrt(x^2 + y^2), z), arctan2(y, x))^2 + u_r(sqrt(x^2 + y^2 + z^2), arctan2(sqrt(x^2 + y^2), z), arctan2(y, x))^2 + u_theta(sqrt(x^2 + y^2 + z^2), arctan2(sqrt(x^2 + y^2), z), arctan2(y, x))^2)\n",
       "   (r, th, ph) ↦ sqrt(u_phi(r, th, ph)^2 + u_r(r, th, ph)^2 + u_theta(r, th, ph)^2)\n",
       "   (rh, ph, z) ↦ sqrt(u_phi(sqrt(rh^2 + z^2), arctan2(rh, z), ph)^2 + u_r(sqrt(rh^2 + z^2), arctan2(rh, z), ph)^2 + u_theta(sqrt(rh^2 + z^2), arctan2(rh, z), ph)^2)"
      ]
     },
     "execution_count": 269,
     "metadata": {},
     "output_type": "execute_result"
    }
   ],
   "source": [
    "s.display()"
   ]
  },
  {
   "cell_type": "code",
   "execution_count": 270,
   "id": "12ad8840-11d4-4454-ac6e-e3bda088523a",
   "metadata": {},
   "outputs": [
    {
     "data": {
      "text/html": [
       "<html>\\(\\displaystyle \\sqrt{u_{\\phi}\\left(r, {\\theta}, {\\phi}\\right)^{2} + u_{r}\\left(r, {\\theta}, {\\phi}\\right)^{2} + u_{\\theta}\\left(r, {\\theta}, {\\phi}\\right)^{2}}\\)</html>"
      ],
      "text/latex": [
       "$\\displaystyle \\sqrt{u_{\\phi}\\left(r, {\\theta}, {\\phi}\\right)^{2} + u_{r}\\left(r, {\\theta}, {\\phi}\\right)^{2} + u_{\\theta}\\left(r, {\\theta}, {\\phi}\\right)^{2}}$"
      ],
      "text/plain": [
       "sqrt(u_phi(r, th, ph)^2 + u_r(r, th, ph)^2 + u_theta(r, th, ph)^2)"
      ]
     },
     "execution_count": 270,
     "metadata": {},
     "output_type": "execute_result"
    }
   ],
   "source": [
    "s.expr()"
   ]
  },
  {
   "cell_type": "markdown",
   "id": "c206c75f-3482-4036-8b0a-869fd989a100",
   "metadata": {},
   "source": [
    "Podemos verificar que $\\|u\\|^2 = u\\cdot u$:"
   ]
  },
  {
   "cell_type": "code",
   "execution_count": 271,
   "id": "3d556cf6-66cc-4791-a59d-3a43fcf2635f",
   "metadata": {},
   "outputs": [
    {
     "data": {
      "text/html": [
       "<html>\\(\\displaystyle \\mathrm{True}\\)</html>"
      ],
      "text/latex": [
       "$\\displaystyle \\mathrm{True}$"
      ],
      "text/plain": [
       "True"
      ]
     },
     "execution_count": 271,
     "metadata": {},
     "output_type": "execute_result"
    }
   ],
   "source": [
    "norm(u)^2 == u.dot(u)"
   ]
  },
  {
   "cell_type": "markdown",
   "id": "7b3f18ff-f49d-4656-8b26-672c46608fc1",
   "metadata": {},
   "source": [
    "Para $v$, "
   ]
  },
  {
   "cell_type": "code",
   "execution_count": 272,
   "id": "80dce22b-44c4-4361-8772-716bfe3482a0",
   "metadata": {},
   "outputs": [
    {
     "data": {
      "text/html": [
       "<html>\\(\\displaystyle \\sqrt{r^{2} \\cos\\left({\\theta}\\right)^{4} + \\sin\\left({\\theta}\\right)^{2}} r\\)</html>"
      ],
      "text/latex": [
       "$\\displaystyle \\sqrt{r^{2} \\cos\\left({\\theta}\\right)^{4} + \\sin\\left({\\theta}\\right)^{2}} r$"
      ],
      "text/plain": [
       "sqrt(r^2*cos(th)^4 + sin(th)^2)*r"
      ]
     },
     "execution_count": 272,
     "metadata": {},
     "output_type": "execute_result"
    }
   ],
   "source": [
    "norm(v).expr()"
   ]
  },
  {
   "cell_type": "markdown",
   "id": "bd54805e-f3be-4f29-9ac8-9b957e62c653",
   "metadata": {
    "jp-MarkdownHeadingCollapsed": true,
    "tags": []
   },
   "source": [
    "### Produto vetorial"
   ]
  },
  {
   "cell_type": "markdown",
   "id": "7e6af7cf-4949-4144-a482-7492a95bf916",
   "metadata": {},
   "source": [
    "O produto vetorial de $u$ por $v$ é obtido através do método `cross_product`, que admite `cross` como um atalho:"
   ]
  },
  {
   "cell_type": "code",
   "execution_count": 273,
   "id": "16d93d5b-8656-40f9-83fd-fef89fd8dbe7",
   "metadata": {},
   "outputs": [
    {
     "name": "stdout",
     "output_type": "stream",
     "text": [
      "Vector field u x v on the Euclidean space E^3\n"
     ]
    }
   ],
   "source": [
    "s = u.cross(v)\n",
    "print(s)"
   ]
  },
  {
   "cell_type": "code",
   "execution_count": 274,
   "id": "cdd88c74-6369-4534-8804-200e2c6d4d9f",
   "metadata": {},
   "outputs": [
    {
     "data": {
      "text/html": [
       "<html>\\(\\displaystyle {u}\\times{v} = {\\left(r^{2} \\cos\\left({\\theta}\\right)^{2} u_{\\phi}\\left(r, {\\theta}, {\\phi}\\right) + r u_{\\theta}\\left(r, {\\theta}, {\\phi}\\right)\\right)} \\sin\\left({\\theta}\\right) e_{ r } + \\left( r^{2} \\cos\\left({\\theta}\\right)^{3} u_{\\phi}\\left(r, {\\theta}, {\\phi}\\right) - r \\sin\\left({\\theta}\\right) u_{r}\\left(r, {\\theta}, {\\phi}\\right) \\right) e_{ {\\theta} } + \\left( -r^{2} \\cos\\left({\\theta}\\right)^{2} \\sin\\left({\\theta}\\right) u_{r}\\left(r, {\\theta}, {\\phi}\\right) - r^{2} \\cos\\left({\\theta}\\right)^{3} u_{\\theta}\\left(r, {\\theta}, {\\phi}\\right) \\right) e_{ {\\phi} }\\)</html>"
      ],
      "text/latex": [
       "$\\displaystyle {u}\\times{v} = {\\left(r^{2} \\cos\\left({\\theta}\\right)^{2} u_{\\phi}\\left(r, {\\theta}, {\\phi}\\right) + r u_{\\theta}\\left(r, {\\theta}, {\\phi}\\right)\\right)} \\sin\\left({\\theta}\\right) e_{ r } + \\left( r^{2} \\cos\\left({\\theta}\\right)^{3} u_{\\phi}\\left(r, {\\theta}, {\\phi}\\right) - r \\sin\\left({\\theta}\\right) u_{r}\\left(r, {\\theta}, {\\phi}\\right) \\right) e_{ {\\theta} } + \\left( -r^{2} \\cos\\left({\\theta}\\right)^{2} \\sin\\left({\\theta}\\right) u_{r}\\left(r, {\\theta}, {\\phi}\\right) - r^{2} \\cos\\left({\\theta}\\right)^{3} u_{\\theta}\\left(r, {\\theta}, {\\phi}\\right) \\right) e_{ {\\phi} }$"
      ],
      "text/plain": [
       "u x v = (r^2*cos(th)^2*u_phi(r, th, ph) + r*u_theta(r, th, ph))*sin(th) e_r + (r^2*cos(th)^3*u_phi(r, th, ph) - r*sin(th)*u_r(r, th, ph)) e_th + (-r^2*cos(th)^2*sin(th)*u_r(r, th, ph) - r^2*cos(th)^3*u_theta(r, th, ph)) e_ph"
      ]
     },
     "execution_count": 274,
     "metadata": {},
     "output_type": "execute_result"
    }
   ],
   "source": [
    "s.display()"
   ]
  },
  {
   "cell_type": "markdown",
   "id": "5a6d4bd0-3d60-4274-87c6-0f79f909cb11",
   "metadata": {
    "jp-MarkdownHeadingCollapsed": true,
    "tags": []
   },
   "source": [
    "### Produto triplo"
   ]
  },
  {
   "cell_type": "markdown",
   "id": "abd60ec5-66e0-40a4-960b-febeeb9ea564",
   "metadata": {},
   "source": [
    "Vamos introduzir um terceiro campo vectorial. Como exemplo, não passamos os componentes como argumentos de 'campo_vectorial', como fizemos para $u$ e $v$. Em vez disso, inicializamos as componentes através do operador de colchete, assumindo-se que qualquer componente não definido é nula:"
   ]
  },
  {
   "cell_type": "code",
   "execution_count": 275,
   "id": "d5c6f2ec-fbf5-428c-883a-591d81d21f9b",
   "metadata": {},
   "outputs": [
    {
     "data": {
      "text/html": [
       "<html>\\(\\displaystyle w = r e_{ r }\\)</html>"
      ],
      "text/latex": [
       "$\\displaystyle w = r e_{ r }$"
      ],
      "text/plain": [
       "w = r e_r"
      ]
     },
     "execution_count": 275,
     "metadata": {},
     "output_type": "execute_result"
    }
   ],
   "source": [
    "w = E.vector_field(name='w')\n",
    "w[1] = r\n",
    "w.display()"
   ]
  },
  {
   "cell_type": "markdown",
   "id": "7a799f34-b086-436c-a567-08b06dfb455b",
   "metadata": {},
   "source": [
    "O produto triplo dos campos vectoriais $u$, $v$ e $w$ é obtido da seguinte forma: "
   ]
  },
  {
   "cell_type": "code",
   "execution_count": 276,
   "id": "cc959b2f-ba4b-46d7-bc3d-7f547ca95d81",
   "metadata": {},
   "outputs": [
    {
     "name": "stdout",
     "output_type": "stream",
     "text": [
      "Scalar field epsilon(u,v,w) on the Euclidean space E^3\n"
     ]
    }
   ],
   "source": [
    "triple_product = E.scalar_triple_product()\n",
    "s = triple_product(u, v, w)\n",
    "print(s)"
   ]
  },
  {
   "cell_type": "code",
   "execution_count": 277,
   "id": "74c9ccb3-6f76-4d02-b294-0fe10b435014",
   "metadata": {},
   "outputs": [
    {
     "data": {
      "text/html": [
       "<html>\\(\\displaystyle {\\left(r^{3} \\cos\\left({\\theta}\\right)^{2} u_{\\phi}\\left(r, {\\theta}, {\\phi}\\right) + r^{2} u_{\\theta}\\left(r, {\\theta}, {\\phi}\\right)\\right)} \\sin\\left({\\theta}\\right)\\)</html>"
      ],
      "text/latex": [
       "$\\displaystyle {\\left(r^{3} \\cos\\left({\\theta}\\right)^{2} u_{\\phi}\\left(r, {\\theta}, {\\phi}\\right) + r^{2} u_{\\theta}\\left(r, {\\theta}, {\\phi}\\right)\\right)} \\sin\\left({\\theta}\\right)$"
      ],
      "text/plain": [
       "(r^3*cos(th)^2*u_phi(r, th, ph) + r^2*u_theta(r, th, ph))*sin(th)"
      ]
     },
     "execution_count": 277,
     "metadata": {},
     "output_type": "execute_result"
    }
   ],
   "source": [
    "s.expr()"
   ]
  },
  {
   "cell_type": "markdown",
   "id": "177ba60e-6623-45d6-a528-f9f32f16e0d2",
   "metadata": {},
   "source": [
    "Vamos verificar se o produto triplo escalar de $u$, $v$ e $w$ é $u\\cdot(v\\times w)$:"
   ]
  },
  {
   "cell_type": "code",
   "execution_count": 278,
   "id": "c7133b38-0af3-4c4b-b0f3-6e8c50158e15",
   "metadata": {},
   "outputs": [
    {
     "data": {
      "text/html": [
       "<html>\\(\\displaystyle \\mathrm{True}\\)</html>"
      ],
      "text/latex": [
       "$\\displaystyle \\mathrm{True}$"
      ],
      "text/plain": [
       "True"
      ]
     },
     "execution_count": 278,
     "metadata": {},
     "output_type": "execute_result"
    }
   ],
   "source": [
    "s == u.dot(v.cross(w))"
   ]
  },
  {
   "cell_type": "markdown",
   "id": "5f6b133a-d0b1-40a0-ab9f-2b8aef94cca1",
   "metadata": {
    "jp-MarkdownHeadingCollapsed": true,
    "tags": []
   },
   "source": [
    "## Operadores diferenciais"
   ]
  },
  {
   "cell_type": "markdown",
   "id": "41af9a56-e11c-42ea-a535-ad58276d8d91",
   "metadata": {},
   "source": [
    "Os operadores padrão $\\mathrm{grad}$, $\\mathrm{div}$, $\\mathrm{curl}$, etc. do cálculo vectorial são acessíveis através da notação de pontos (por exemplo `v.div()`), mas vamos importar funções `grad`, `div`, `curl`, etc. que permitem a utilização da notação matemáticas padrão\n",
    "(por exemplo, `div(v)`):"
   ]
  },
  {
   "cell_type": "code",
   "execution_count": 279,
   "id": "90ef03e3-09dc-4aa9-9365-140acd21e4d9",
   "metadata": {},
   "outputs": [],
   "source": [
    "from sage.manifolds.operators import *"
   ]
  },
  {
   "cell_type": "markdown",
   "id": "cd49eedf-60ce-4750-b31e-58b3073ab4ba",
   "metadata": {
    "jp-MarkdownHeadingCollapsed": true,
    "tags": []
   },
   "source": [
    "### Gradiente de um campo escalar"
   ]
  },
  {
   "cell_type": "markdown",
   "id": "dd40e59c-b11d-418c-ab30-242ee7d04c38",
   "metadata": {},
   "source": [
    "Introduzimos um novo campo escalar consideramos uma função não especificada de $(r,\\theta,\\phi)$:"
   ]
  },
  {
   "cell_type": "code",
   "execution_count": 280,
   "id": "ba050a01-9b78-4a65-8ee5-678e76066a1a",
   "metadata": {},
   "outputs": [
    {
     "data": {
      "text/html": [
       "<html>\\(\\displaystyle \\begin{array}{llcl} F:& \\mathbb{E}^{3} & \\longrightarrow & \\mathbb{R} \\\\ & \\left(x, y, z\\right) & \\longmapsto & f\\left(\\sqrt{x^{2} + y^{2} + z^{2}}, \\arctan\\left(\\sqrt{x^{2} + y^{2}}, z\\right), \\arctan\\left(y, x\\right)\\right) \\\\ & \\left(r, {\\theta}, {\\phi}\\right) & \\longmapsto & f\\left(r, {\\theta}, {\\phi}\\right) \\\\ & \\left({\\rho}, {\\phi}, z\\right) & \\longmapsto & f\\left(\\sqrt{{\\rho}^{2} + z^{2}}, \\arctan\\left({\\rho}, z\\right), {\\phi}\\right) \\end{array}\\)</html>"
      ],
      "text/latex": [
       "$\\displaystyle \\begin{array}{llcl} F:& \\mathbb{E}^{3} & \\longrightarrow & \\mathbb{R} \\\\ & \\left(x, y, z\\right) & \\longmapsto & f\\left(\\sqrt{x^{2} + y^{2} + z^{2}}, \\arctan\\left(\\sqrt{x^{2} + y^{2}}, z\\right), \\arctan\\left(y, x\\right)\\right) \\\\ & \\left(r, {\\theta}, {\\phi}\\right) & \\longmapsto & f\\left(r, {\\theta}, {\\phi}\\right) \\\\ & \\left({\\rho}, {\\phi}, z\\right) & \\longmapsto & f\\left(\\sqrt{{\\rho}^{2} + z^{2}}, \\arctan\\left({\\rho}, z\\right), {\\phi}\\right) \\end{array}$"
      ],
      "text/plain": [
       "F: E^3 → ℝ\n",
       "   (x, y, z) ↦ f(sqrt(x^2 + y^2 + z^2), arctan2(sqrt(x^2 + y^2), z), arctan2(y, x))\n",
       "   (r, th, ph) ↦ f(r, th, ph)\n",
       "   (rh, ph, z) ↦ f(sqrt(rh^2 + z^2), arctan2(rh, z), ph)"
      ]
     },
     "execution_count": 280,
     "metadata": {},
     "output_type": "execute_result"
    }
   ],
   "source": [
    "F = E.scalar_field(function('f')(r,th,ph), name='F')\n",
    "F.display()"
   ]
  },
  {
   "cell_type": "markdown",
   "id": "a70f681b-6936-44d8-95e8-205a76e99df6",
   "metadata": {},
   "source": [
    "Avaliando $F$ no ponto $p$:"
   ]
  },
  {
   "cell_type": "code",
   "execution_count": 281,
   "id": "f6ceb5ea-11a5-4acc-bfde-0bcbc8226f10",
   "metadata": {},
   "outputs": [
    {
     "data": {
      "text/html": [
       "<html>\\(\\displaystyle f\\left(\\sqrt{2}, \\frac{1}{2} \\, \\pi, \\frac{3}{4} \\, \\pi\\right)\\)</html>"
      ],
      "text/latex": [
       "$\\displaystyle f\\left(\\sqrt{2}, \\frac{1}{2} \\, \\pi, \\frac{3}{4} \\, \\pi\\right)$"
      ],
      "text/plain": [
       "f(sqrt(2), 1/2*pi, 3/4*pi)"
      ]
     },
     "execution_count": 281,
     "metadata": {},
     "output_type": "execute_result"
    }
   ],
   "source": [
    "F(p)"
   ]
  },
  {
   "cell_type": "markdown",
   "id": "3ce5ab09-3c53-4ff9-891e-769f6f235605",
   "metadata": {},
   "source": [
    "Gradiente de $F$:"
   ]
  },
  {
   "cell_type": "code",
   "execution_count": 282,
   "id": "ac8b1aa0-fd35-40f5-b94e-9c8ba8046700",
   "metadata": {},
   "outputs": [
    {
     "name": "stdout",
     "output_type": "stream",
     "text": [
      "Vector field grad(F) on the Euclidean space E^3\n"
     ]
    }
   ],
   "source": [
    "print(grad(F))"
   ]
  },
  {
   "cell_type": "code",
   "execution_count": 283,
   "id": "6a849c54-c874-49d9-bbe4-818039e004a7",
   "metadata": {},
   "outputs": [
    {
     "data": {
      "text/html": [
       "<html>\\(\\displaystyle \\mathrm{grad}\\left(F\\right) = \\frac{\\partial\\,f}{\\partial r} e_{ r } + \\frac{\\frac{\\partial\\,f}{\\partial {\\theta}}}{r} e_{ {\\theta} } + \\frac{\\frac{\\partial\\,f}{\\partial {\\phi}}}{r \\sin\\left({\\theta}\\right)} e_{ {\\phi} }\\)</html>"
      ],
      "text/latex": [
       "$\\displaystyle \\mathrm{grad}\\left(F\\right) = \\frac{\\partial\\,f}{\\partial r} e_{ r } + \\frac{\\frac{\\partial\\,f}{\\partial {\\theta}}}{r} e_{ {\\theta} } + \\frac{\\frac{\\partial\\,f}{\\partial {\\phi}}}{r \\sin\\left({\\theta}\\right)} e_{ {\\phi} }$"
      ],
      "text/plain": [
       "grad(F) = d(f)/dr e_r + d(f)/dth/r e_th + d(f)/dph/(r*sin(th)) e_ph"
      ]
     },
     "execution_count": 283,
     "metadata": {},
     "output_type": "execute_result"
    }
   ],
   "source": [
    "grad(F).display()"
   ]
  },
  {
   "cell_type": "code",
   "execution_count": 284,
   "id": "9e40f210-620c-4b99-8421-432ad8f8b24a",
   "metadata": {},
   "outputs": [
    {
     "data": {
      "text/html": [
       "<html>\\(\\displaystyle \\begin{array}{llcl} \\left\\|\\mathrm{grad}\\left(F\\right)\\right\\|:& \\mathbb{E}^{3} & \\longrightarrow & \\mathbb{R} \\\\ & \\left(x, y, z\\right) & \\longmapsto & \\frac{\\sqrt{x^{4} \\left(\\frac{\\partial\\,f}{\\partial \\left( \\sqrt{x^{2} + y^{2} + z^{2}} \\right)}\\right)^{2} + 2 \\, x^{2} y^{2} \\left(\\frac{\\partial\\,f}{\\partial \\left( \\sqrt{x^{2} + y^{2} + z^{2}} \\right)}\\right)^{2} + y^{4} \\left(\\frac{\\partial\\,f}{\\partial \\left( \\sqrt{x^{2} + y^{2} + z^{2}} \\right)}\\right)^{2} + {\\left(x^{2} \\left(\\frac{\\partial\\,f}{\\partial \\left( \\sqrt{x^{2} + y^{2} + z^{2}} \\right)}\\right)^{2} + y^{2} \\left(\\frac{\\partial\\,f}{\\partial \\left( \\sqrt{x^{2} + y^{2} + z^{2}} \\right)}\\right)^{2}\\right)} z^{2} + {\\left(x^{2} + y^{2}\\right)} \\left(\\frac{\\partial\\,f}{\\partial \\left( \\arctan\\left(\\sqrt{x^{2} + y^{2}}, z\\right) \\right)}\\right)^{2} + {\\left(x^{2} + y^{2} + z^{2}\\right)} \\left(\\frac{\\partial\\,f}{\\partial \\left( \\arctan\\left(y, x\\right) \\right)}\\right)^{2}}}{\\sqrt{x^{2} + y^{2} + z^{2}} \\sqrt{x^{2} + y^{2}}} \\\\ & \\left(r, {\\theta}, {\\phi}\\right) & \\longmapsto & \\frac{\\sqrt{{\\left(r^{2} \\left(\\frac{\\partial\\,f}{\\partial r}\\right)^{2} + \\left(\\frac{\\partial\\,f}{\\partial {\\theta}}\\right)^{2}\\right)} \\sin\\left({\\theta}\\right)^{2} + \\left(\\frac{\\partial\\,f}{\\partial {\\phi}}\\right)^{2}}}{r \\sin\\left({\\theta}\\right)} \\\\ & \\left({\\rho}, {\\phi}, z\\right) & \\longmapsto & \\frac{\\sqrt{{\\rho}^{4} \\left(\\frac{\\partial\\,f}{\\partial \\left( \\sqrt{{\\rho}^{2} + z^{2}} \\right)}\\right)^{2} + {\\rho}^{2} z^{2} \\left(\\frac{\\partial\\,f}{\\partial \\left( \\sqrt{{\\rho}^{2} + z^{2}} \\right)}\\right)^{2} + {\\rho}^{2} \\left(\\frac{\\partial\\,f}{\\partial \\left( \\arctan\\left({\\rho}, z\\right) \\right)}\\right)^{2} + {\\left({\\rho}^{2} + z^{2}\\right)} \\left(\\frac{\\partial\\,f}{\\partial {\\phi}}\\right)^{2}}}{\\sqrt{{\\rho}^{2} + z^{2}} {\\rho}} \\end{array}\\)</html>"
      ],
      "text/latex": [
       "$\\displaystyle \\begin{array}{llcl} \\left\\|\\mathrm{grad}\\left(F\\right)\\right\\|:& \\mathbb{E}^{3} & \\longrightarrow & \\mathbb{R} \\\\ & \\left(x, y, z\\right) & \\longmapsto & \\frac{\\sqrt{x^{4} \\left(\\frac{\\partial\\,f}{\\partial \\left( \\sqrt{x^{2} + y^{2} + z^{2}} \\right)}\\right)^{2} + 2 \\, x^{2} y^{2} \\left(\\frac{\\partial\\,f}{\\partial \\left( \\sqrt{x^{2} + y^{2} + z^{2}} \\right)}\\right)^{2} + y^{4} \\left(\\frac{\\partial\\,f}{\\partial \\left( \\sqrt{x^{2} + y^{2} + z^{2}} \\right)}\\right)^{2} + {\\left(x^{2} \\left(\\frac{\\partial\\,f}{\\partial \\left( \\sqrt{x^{2} + y^{2} + z^{2}} \\right)}\\right)^{2} + y^{2} \\left(\\frac{\\partial\\,f}{\\partial \\left( \\sqrt{x^{2} + y^{2} + z^{2}} \\right)}\\right)^{2}\\right)} z^{2} + {\\left(x^{2} + y^{2}\\right)} \\left(\\frac{\\partial\\,f}{\\partial \\left( \\arctan\\left(\\sqrt{x^{2} + y^{2}}, z\\right) \\right)}\\right)^{2} + {\\left(x^{2} + y^{2} + z^{2}\\right)} \\left(\\frac{\\partial\\,f}{\\partial \\left( \\arctan\\left(y, x\\right) \\right)}\\right)^{2}}}{\\sqrt{x^{2} + y^{2} + z^{2}} \\sqrt{x^{2} + y^{2}}} \\\\ & \\left(r, {\\theta}, {\\phi}\\right) & \\longmapsto & \\frac{\\sqrt{{\\left(r^{2} \\left(\\frac{\\partial\\,f}{\\partial r}\\right)^{2} + \\left(\\frac{\\partial\\,f}{\\partial {\\theta}}\\right)^{2}\\right)} \\sin\\left({\\theta}\\right)^{2} + \\left(\\frac{\\partial\\,f}{\\partial {\\phi}}\\right)^{2}}}{r \\sin\\left({\\theta}\\right)} \\\\ & \\left({\\rho}, {\\phi}, z\\right) & \\longmapsto & \\frac{\\sqrt{{\\rho}^{4} \\left(\\frac{\\partial\\,f}{\\partial \\left( \\sqrt{{\\rho}^{2} + z^{2}} \\right)}\\right)^{2} + {\\rho}^{2} z^{2} \\left(\\frac{\\partial\\,f}{\\partial \\left( \\sqrt{{\\rho}^{2} + z^{2}} \\right)}\\right)^{2} + {\\rho}^{2} \\left(\\frac{\\partial\\,f}{\\partial \\left( \\arctan\\left({\\rho}, z\\right) \\right)}\\right)^{2} + {\\left({\\rho}^{2} + z^{2}\\right)} \\left(\\frac{\\partial\\,f}{\\partial {\\phi}}\\right)^{2}}}{\\sqrt{{\\rho}^{2} + z^{2}} {\\rho}} \\end{array}$"
      ],
      "text/plain": [
       "|grad(F)|: E^3 → ℝ\n",
       "   (x, y, z) ↦ sqrt(x^4*(d(f)/d(sqrt(x^2 + y^2 + z^2)))^2 + 2*x^2*y^2*(d(f)/d(sqrt(x^2 + y^2 + z^2)))^2 + y^4*(d(f)/d(sqrt(x^2 + y^2 + z^2)))^2 + (x^2*(d(f)/d(sqrt(x^2 + y^2 + z^2)))^2 + y^2*(d(f)/d(sqrt(x^2 + y^2 + z^2)))^2)*z^2 + (x^2 + y^2)*(d(f)/d(arctan2(sqrt(x^2 + y^2), z)))^2 + (x^2 + y^2 + z^2)*(d(f)/d(arctan2(y, x)))^2)/(sqrt(x^2 + y^2 + z^2)*sqrt(x^2 + y^2))\n",
       "   (r, th, ph) ↦ sqrt((r^2*(d(f)/dr)^2 + (d(f)/dth)^2)*sin(th)^2 + (d(f)/dph)^2)/(r*sin(th))\n",
       "   (rh, ph, z) ↦ sqrt(rh^4*(d(f)/d(sqrt(rh^2 + z^2)))^2 + rh^2*z^2*(d(f)/d(sqrt(rh^2 + z^2)))^2 + rh^2*(d(f)/d(arctan2(rh, z)))^2 + (rh^2 + z^2)*(d(f)/dph)^2)/(sqrt(rh^2 + z^2)*rh)"
      ]
     },
     "execution_count": 284,
     "metadata": {},
     "output_type": "execute_result"
    }
   ],
   "source": [
    "norm(grad(F)).display()"
   ]
  },
  {
   "cell_type": "markdown",
   "id": "10b32ba7-e66c-46cd-a2ae-81522d37d8a1",
   "metadata": {
    "jp-MarkdownHeadingCollapsed": true,
    "tags": []
   },
   "source": [
    "### Divergente "
   ]
  },
  {
   "cell_type": "markdown",
   "id": "9b9ea93b-7c26-4f72-9297-788101d87afc",
   "metadata": {},
   "source": [
    "Divergente de um campo vetorial:"
   ]
  },
  {
   "cell_type": "code",
   "execution_count": 285,
   "id": "ea8238cd-73e5-474e-89c3-7930494478cd",
   "metadata": {},
   "outputs": [
    {
     "data": {
      "text/html": [
       "<html>\\(\\displaystyle \\begin{array}{llcl} \\mathrm{div}\\left(u\\right):& \\mathbb{E}^{3} & \\longrightarrow & \\mathbb{R} \\\\ & \\left(x, y, z\\right) & \\longmapsto & \\frac{{\\left(x^{2} + y^{2} + z^{2}\\right)} \\frac{\\partial\\,u_{\\phi}}{\\partial \\left( \\arctan\\left(y, x\\right) \\right)} + {\\left(x^{2} \\frac{\\partial\\,u_{r}}{\\partial \\left( \\sqrt{x^{2} + y^{2} + z^{2}} \\right)} + y^{2} \\frac{\\partial\\,u_{r}}{\\partial \\left( \\sqrt{x^{2} + y^{2} + z^{2}} \\right)} + z^{2} \\frac{\\partial\\,u_{r}}{\\partial \\left( \\sqrt{x^{2} + y^{2} + z^{2}} \\right)}\\right)} \\sqrt{x^{2} + y^{2}} + \\sqrt{x^{2} + y^{2} + z^{2}} {\\left(z u_{\\theta}\\left(\\sqrt{x^{2} + y^{2} + z^{2}}, \\arctan\\left(\\sqrt{x^{2} + y^{2}}, z\\right), \\arctan\\left(y, x\\right)\\right) + \\sqrt{x^{2} + y^{2}} {\\left(2 \\, u_{r}\\left(\\sqrt{x^{2} + y^{2} + z^{2}}, \\arctan\\left(\\sqrt{x^{2} + y^{2}}, z\\right), \\arctan\\left(y, x\\right)\\right) + \\frac{\\partial\\,u_{\\theta}}{\\partial \\left( \\arctan\\left(\\sqrt{x^{2} + y^{2}}, z\\right) \\right)}\\right)}\\right)}}{{\\left(x^{2} + y^{2} + z^{2}\\right)} \\sqrt{x^{2} + y^{2}}} \\\\ & \\left(r, {\\theta}, {\\phi}\\right) & \\longmapsto & \\frac{{\\left(r \\frac{\\partial\\,u_{r}}{\\partial r} + 2 \\, u_{r}\\left(r, {\\theta}, {\\phi}\\right) + \\frac{\\partial\\,u_{\\theta}}{\\partial {\\theta}}\\right)} \\sin\\left({\\theta}\\right) + \\cos\\left({\\theta}\\right) u_{\\theta}\\left(r, {\\theta}, {\\phi}\\right) + \\frac{\\partial\\,u_{\\phi}}{\\partial {\\phi}}}{r \\sin\\left({\\theta}\\right)} \\\\ & \\left({\\rho}, {\\phi}, z\\right) & \\longmapsto & \\frac{{\\rho}^{3} \\frac{\\partial\\,u_{r}}{\\partial \\left( \\sqrt{{\\rho}^{2} + z^{2}} \\right)} + {\\rho} z^{2} \\frac{\\partial\\,u_{r}}{\\partial \\left( \\sqrt{{\\rho}^{2} + z^{2}} \\right)} + {\\left({\\rho}^{2} + z^{2}\\right)} \\frac{\\partial\\,u_{\\phi}}{\\partial {\\phi}} + \\sqrt{{\\rho}^{2} + z^{2}} {\\left(2 \\, {\\rho} u_{r}\\left(\\sqrt{{\\rho}^{2} + z^{2}}, \\arctan\\left({\\rho}, z\\right), {\\phi}\\right) + z u_{\\theta}\\left(\\sqrt{{\\rho}^{2} + z^{2}}, \\arctan\\left({\\rho}, z\\right), {\\phi}\\right) + {\\rho} \\frac{\\partial\\,u_{\\theta}}{\\partial \\left( \\arctan\\left({\\rho}, z\\right) \\right)}\\right)}}{{\\rho}^{3} + {\\rho} z^{2}} \\end{array}\\)</html>"
      ],
      "text/latex": [
       "$\\displaystyle \\begin{array}{llcl} \\mathrm{div}\\left(u\\right):& \\mathbb{E}^{3} & \\longrightarrow & \\mathbb{R} \\\\ & \\left(x, y, z\\right) & \\longmapsto & \\frac{{\\left(x^{2} + y^{2} + z^{2}\\right)} \\frac{\\partial\\,u_{\\phi}}{\\partial \\left( \\arctan\\left(y, x\\right) \\right)} + {\\left(x^{2} \\frac{\\partial\\,u_{r}}{\\partial \\left( \\sqrt{x^{2} + y^{2} + z^{2}} \\right)} + y^{2} \\frac{\\partial\\,u_{r}}{\\partial \\left( \\sqrt{x^{2} + y^{2} + z^{2}} \\right)} + z^{2} \\frac{\\partial\\,u_{r}}{\\partial \\left( \\sqrt{x^{2} + y^{2} + z^{2}} \\right)}\\right)} \\sqrt{x^{2} + y^{2}} + \\sqrt{x^{2} + y^{2} + z^{2}} {\\left(z u_{\\theta}\\left(\\sqrt{x^{2} + y^{2} + z^{2}}, \\arctan\\left(\\sqrt{x^{2} + y^{2}}, z\\right), \\arctan\\left(y, x\\right)\\right) + \\sqrt{x^{2} + y^{2}} {\\left(2 \\, u_{r}\\left(\\sqrt{x^{2} + y^{2} + z^{2}}, \\arctan\\left(\\sqrt{x^{2} + y^{2}}, z\\right), \\arctan\\left(y, x\\right)\\right) + \\frac{\\partial\\,u_{\\theta}}{\\partial \\left( \\arctan\\left(\\sqrt{x^{2} + y^{2}}, z\\right) \\right)}\\right)}\\right)}}{{\\left(x^{2} + y^{2} + z^{2}\\right)} \\sqrt{x^{2} + y^{2}}} \\\\ & \\left(r, {\\theta}, {\\phi}\\right) & \\longmapsto & \\frac{{\\left(r \\frac{\\partial\\,u_{r}}{\\partial r} + 2 \\, u_{r}\\left(r, {\\theta}, {\\phi}\\right) + \\frac{\\partial\\,u_{\\theta}}{\\partial {\\theta}}\\right)} \\sin\\left({\\theta}\\right) + \\cos\\left({\\theta}\\right) u_{\\theta}\\left(r, {\\theta}, {\\phi}\\right) + \\frac{\\partial\\,u_{\\phi}}{\\partial {\\phi}}}{r \\sin\\left({\\theta}\\right)} \\\\ & \\left({\\rho}, {\\phi}, z\\right) & \\longmapsto & \\frac{{\\rho}^{3} \\frac{\\partial\\,u_{r}}{\\partial \\left( \\sqrt{{\\rho}^{2} + z^{2}} \\right)} + {\\rho} z^{2} \\frac{\\partial\\,u_{r}}{\\partial \\left( \\sqrt{{\\rho}^{2} + z^{2}} \\right)} + {\\left({\\rho}^{2} + z^{2}\\right)} \\frac{\\partial\\,u_{\\phi}}{\\partial {\\phi}} + \\sqrt{{\\rho}^{2} + z^{2}} {\\left(2 \\, {\\rho} u_{r}\\left(\\sqrt{{\\rho}^{2} + z^{2}}, \\arctan\\left({\\rho}, z\\right), {\\phi}\\right) + z u_{\\theta}\\left(\\sqrt{{\\rho}^{2} + z^{2}}, \\arctan\\left({\\rho}, z\\right), {\\phi}\\right) + {\\rho} \\frac{\\partial\\,u_{\\theta}}{\\partial \\left( \\arctan\\left({\\rho}, z\\right) \\right)}\\right)}}{{\\rho}^{3} + {\\rho} z^{2}} \\end{array}$"
      ],
      "text/plain": [
       "div(u): E^3 → ℝ\n",
       "   (x, y, z) ↦ ((x^2 + y^2 + z^2)*d(u_phi)/d(arctan2(y, x)) + (x^2*d(u_r)/d(sqrt(x^2 + y^2 + z^2)) + y^2*d(u_r)/d(sqrt(x^2 + y^2 + z^2)) + z^2*d(u_r)/d(sqrt(x^2 + y^2 + z^2)))*sqrt(x^2 + y^2) + sqrt(x^2 + y^2 + z^2)*(z*u_theta(sqrt(x^2 + y^2 + z^2), arctan2(sqrt(x^2 + y^2), z), arctan2(y, x)) + sqrt(x^2 + y^2)*(2*u_r(sqrt(x^2 + y^2 + z^2), arctan2(sqrt(x^2 + y^2), z), arctan2(y, x)) + d(u_theta)/d(arctan2(sqrt(x^2 + y^2), z)))))/((x^2 + y^2 + z^2)*sqrt(x^2 + y^2))\n",
       "   (r, th, ph) ↦ ((r*d(u_r)/dr + 2*u_r(r, th, ph) + d(u_theta)/dth)*sin(th) + cos(th)*u_theta(r, th, ph) + d(u_phi)/dph)/(r*sin(th))\n",
       "   (rh, ph, z) ↦ (rh^3*d(u_r)/d(sqrt(rh^2 + z^2)) + rh*z^2*d(u_r)/d(sqrt(rh^2 + z^2)) + (rh^2 + z^2)*d(u_phi)/dph + sqrt(rh^2 + z^2)*(2*rh*u_r(sqrt(rh^2 + z^2), arctan2(rh, z), ph) + z*u_theta(sqrt(rh^2 + z^2), arctan2(rh, z), ph) + rh*d(u_theta)/d(arctan2(rh, z))))/(rh^3 + rh*z^2)"
      ]
     },
     "execution_count": 285,
     "metadata": {},
     "output_type": "execute_result"
    }
   ],
   "source": [
    "s = div(u)\n",
    "s.display()"
   ]
  },
  {
   "cell_type": "code",
   "execution_count": 289,
   "id": "e6aba4e0-b4fc-44cd-8a1c-a5b2e9baa52e",
   "metadata": {},
   "outputs": [
    {
     "data": {
      "text/html": [
       "<html>\\(\\displaystyle \\frac{2 \\, u_{r}\\left(r, {\\theta}, {\\phi}\\right)}{r} + \\frac{\\cos\\left({\\theta}\\right) u_{\\theta}\\left(r, {\\theta}, {\\phi}\\right)}{r \\sin\\left({\\theta}\\right)} + \\frac{\\frac{\\partial}{\\partial {\\theta}}u_{\\theta}\\left(r, {\\theta}, {\\phi}\\right)}{r} + \\frac{\\frac{\\partial}{\\partial {\\phi}}u_{\\phi}\\left(r, {\\theta}, {\\phi}\\right)}{r \\sin\\left({\\theta}\\right)} + \\frac{\\partial}{\\partial r}u_{r}\\left(r, {\\theta}, {\\phi}\\right)\\)</html>"
      ],
      "text/latex": [
       "$\\displaystyle \\frac{2 \\, u_{r}\\left(r, {\\theta}, {\\phi}\\right)}{r} + \\frac{\\cos\\left({\\theta}\\right) u_{\\theta}\\left(r, {\\theta}, {\\phi}\\right)}{r \\sin\\left({\\theta}\\right)} + \\frac{\\frac{\\partial}{\\partial {\\theta}}u_{\\theta}\\left(r, {\\theta}, {\\phi}\\right)}{r} + \\frac{\\frac{\\partial}{\\partial {\\phi}}u_{\\phi}\\left(r, {\\theta}, {\\phi}\\right)}{r \\sin\\left({\\theta}\\right)} + \\frac{\\partial}{\\partial r}u_{r}\\left(r, {\\theta}, {\\phi}\\right)$"
      ],
      "text/plain": [
       "2*u_r(r, th, ph)/r + cos(th)*u_theta(r, th, ph)/(r*sin(th)) + diff(u_theta(r, th, ph), th)/r + diff(u_phi(r, th, ph), ph)/(r*sin(th)) + diff(u_r(r, th, ph), r)"
      ]
     },
     "execution_count": 289,
     "metadata": {},
     "output_type": "execute_result"
    }
   ],
   "source": [
    "s.expr().expand()"
   ]
  },
  {
   "cell_type": "markdown",
   "id": "4c4289a6-d3c0-4487-b4e9-10383cb3a8f6",
   "metadata": {},
   "source": [
    "ou"
   ]
  },
  {
   "cell_type": "code",
   "execution_count": 290,
   "id": "7b130617-1e96-443b-a633-dcd5df19b7d9",
   "metadata": {},
   "outputs": [
    {
     "data": {
      "text/html": [
       "<html>\\(\\displaystyle 2 \\, r \\cos\\left({\\theta}\\right)\\)</html>"
      ],
      "text/latex": [
       "$\\displaystyle 2 \\, r \\cos\\left({\\theta}\\right)$"
      ],
      "text/plain": [
       "2*r*cos(th)"
      ]
     },
     "execution_count": 290,
     "metadata": {},
     "output_type": "execute_result"
    }
   ],
   "source": [
    "div(v).expr()"
   ]
  },
  {
   "cell_type": "code",
   "execution_count": 291,
   "id": "7ff3d915-e7ea-4a0f-b315-b3374217e650",
   "metadata": {},
   "outputs": [
    {
     "data": {
      "text/html": [
       "<html>\\(\\displaystyle 3\\)</html>"
      ],
      "text/latex": [
       "$\\displaystyle 3$"
      ],
      "text/plain": [
       "3"
      ]
     },
     "execution_count": 291,
     "metadata": {},
     "output_type": "execute_result"
    }
   ],
   "source": [
    "div(w).expr()"
   ]
  },
  {
   "cell_type": "markdown",
   "id": "979c4eb4-2ade-4a61-99a0-6adda9454f34",
   "metadata": {
    "jp-MarkdownHeadingCollapsed": true,
    "tags": []
   },
   "source": [
    "### Rotacional"
   ]
  },
  {
   "cell_type": "code",
   "execution_count": 292,
   "id": "dde9dbbd-4c82-4672-96f2-5f86f7172b85",
   "metadata": {},
   "outputs": [
    {
     "name": "stdout",
     "output_type": "stream",
     "text": [
      "Vector field curl(u) on the Euclidean space E^3\n"
     ]
    }
   ],
   "source": [
    "s = curl(u)\n",
    "print(s)"
   ]
  },
  {
   "cell_type": "code",
   "execution_count": 293,
   "id": "1fa94560-3bd8-4e82-889e-2b3e7877c6b3",
   "metadata": {},
   "outputs": [
    {
     "data": {
      "text/html": [
       "<html>\\(\\displaystyle \\mathrm{curl}\\left(u\\right) = \\left( \\frac{\\cos\\left({\\theta}\\right) u_{\\phi}\\left(r, {\\theta}, {\\phi}\\right) + \\sin\\left({\\theta}\\right) \\frac{\\partial\\,u_{\\phi}}{\\partial {\\theta}} - \\frac{\\partial\\,u_{\\theta}}{\\partial {\\phi}}}{r \\sin\\left({\\theta}\\right)} \\right) e_{ r } + \\left( -\\frac{{\\left(r \\frac{\\partial\\,u_{\\phi}}{\\partial r} + u_{\\phi}\\left(r, {\\theta}, {\\phi}\\right)\\right)} \\sin\\left({\\theta}\\right) - \\frac{\\partial\\,u_{r}}{\\partial {\\phi}}}{r \\sin\\left({\\theta}\\right)} \\right) e_{ {\\theta} } + \\left( \\frac{r \\frac{\\partial\\,u_{\\theta}}{\\partial r} + u_{\\theta}\\left(r, {\\theta}, {\\phi}\\right) - \\frac{\\partial\\,u_{r}}{\\partial {\\theta}}}{r} \\right) e_{ {\\phi} }\\)</html>"
      ],
      "text/latex": [
       "$\\displaystyle \\mathrm{curl}\\left(u\\right) = \\left( \\frac{\\cos\\left({\\theta}\\right) u_{\\phi}\\left(r, {\\theta}, {\\phi}\\right) + \\sin\\left({\\theta}\\right) \\frac{\\partial\\,u_{\\phi}}{\\partial {\\theta}} - \\frac{\\partial\\,u_{\\theta}}{\\partial {\\phi}}}{r \\sin\\left({\\theta}\\right)} \\right) e_{ r } + \\left( -\\frac{{\\left(r \\frac{\\partial\\,u_{\\phi}}{\\partial r} + u_{\\phi}\\left(r, {\\theta}, {\\phi}\\right)\\right)} \\sin\\left({\\theta}\\right) - \\frac{\\partial\\,u_{r}}{\\partial {\\phi}}}{r \\sin\\left({\\theta}\\right)} \\right) e_{ {\\theta} } + \\left( \\frac{r \\frac{\\partial\\,u_{\\theta}}{\\partial r} + u_{\\theta}\\left(r, {\\theta}, {\\phi}\\right) - \\frac{\\partial\\,u_{r}}{\\partial {\\theta}}}{r} \\right) e_{ {\\phi} }$"
      ],
      "text/plain": [
       "curl(u) = (cos(th)*u_phi(r, th, ph) + sin(th)*d(u_phi)/dth - d(u_theta)/dph)/(r*sin(th)) e_r - ((r*d(u_phi)/dr + u_phi(r, th, ph))*sin(th) - d(u_r)/dph)/(r*sin(th)) e_th + (r*d(u_theta)/dr + u_theta(r, th, ph) - d(u_r)/dth)/r e_ph"
      ]
     },
     "execution_count": 293,
     "metadata": {},
     "output_type": "execute_result"
    }
   ],
   "source": [
    "s.display()"
   ]
  },
  {
   "cell_type": "markdown",
   "id": "3b5506d4-6b4e-44ea-a86e-b0afb3ea2cad",
   "metadata": {},
   "source": [
    "Para utilizar a notação `rot` em vez de `curl`, basta fazer"
   ]
  },
  {
   "cell_type": "code",
   "execution_count": 294,
   "id": "94d1d099-5209-4a14-9f45-2a36aeabb769",
   "metadata": {},
   "outputs": [],
   "source": [
    "rot = curl"
   ]
  },
  {
   "cell_type": "markdown",
   "id": "8827984d-688b-4024-af86-6f66c1dc533f",
   "metadata": {},
   "source": [
    "Alternativamente"
   ]
  },
  {
   "cell_type": "code",
   "execution_count": 295,
   "id": "2934684b-621c-453f-bd32-fdfbd30a61e0",
   "metadata": {},
   "outputs": [],
   "source": [
    "from sage.manifolds.operators import curl as rot"
   ]
  },
  {
   "cell_type": "markdown",
   "id": "8fdff800-077f-4a7a-b997-64b8fdcd0d4f",
   "metadata": {},
   "source": [
    "Então"
   ]
  },
  {
   "cell_type": "code",
   "execution_count": 296,
   "id": "0a2b7e28-4154-4986-8686-7ce65544df08",
   "metadata": {},
   "outputs": [
    {
     "data": {
      "text/html": [
       "<html>\\(\\displaystyle \\mathrm{curl}\\left(u\\right) = \\left( \\frac{\\cos\\left({\\theta}\\right) u_{\\phi}\\left(r, {\\theta}, {\\phi}\\right) + \\sin\\left({\\theta}\\right) \\frac{\\partial\\,u_{\\phi}}{\\partial {\\theta}} - \\frac{\\partial\\,u_{\\theta}}{\\partial {\\phi}}}{r \\sin\\left({\\theta}\\right)} \\right) e_{ r } + \\left( -\\frac{{\\left(r \\frac{\\partial\\,u_{\\phi}}{\\partial r} + u_{\\phi}\\left(r, {\\theta}, {\\phi}\\right)\\right)} \\sin\\left({\\theta}\\right) - \\frac{\\partial\\,u_{r}}{\\partial {\\phi}}}{r \\sin\\left({\\theta}\\right)} \\right) e_{ {\\theta} } + \\left( \\frac{r \\frac{\\partial\\,u_{\\theta}}{\\partial r} + u_{\\theta}\\left(r, {\\theta}, {\\phi}\\right) - \\frac{\\partial\\,u_{r}}{\\partial {\\theta}}}{r} \\right) e_{ {\\phi} }\\)</html>"
      ],
      "text/latex": [
       "$\\displaystyle \\mathrm{curl}\\left(u\\right) = \\left( \\frac{\\cos\\left({\\theta}\\right) u_{\\phi}\\left(r, {\\theta}, {\\phi}\\right) + \\sin\\left({\\theta}\\right) \\frac{\\partial\\,u_{\\phi}}{\\partial {\\theta}} - \\frac{\\partial\\,u_{\\theta}}{\\partial {\\phi}}}{r \\sin\\left({\\theta}\\right)} \\right) e_{ r } + \\left( -\\frac{{\\left(r \\frac{\\partial\\,u_{\\phi}}{\\partial r} + u_{\\phi}\\left(r, {\\theta}, {\\phi}\\right)\\right)} \\sin\\left({\\theta}\\right) - \\frac{\\partial\\,u_{r}}{\\partial {\\phi}}}{r \\sin\\left({\\theta}\\right)} \\right) e_{ {\\theta} } + \\left( \\frac{r \\frac{\\partial\\,u_{\\theta}}{\\partial r} + u_{\\theta}\\left(r, {\\theta}, {\\phi}\\right) - \\frac{\\partial\\,u_{r}}{\\partial {\\theta}}}{r} \\right) e_{ {\\phi} }$"
      ],
      "text/plain": [
       "curl(u) = (cos(th)*u_phi(r, th, ph) + sin(th)*d(u_phi)/dth - d(u_theta)/dph)/(r*sin(th)) e_r - ((r*d(u_phi)/dr + u_phi(r, th, ph))*sin(th) - d(u_r)/dph)/(r*sin(th)) e_th + (r*d(u_theta)/dr + u_theta(r, th, ph) - d(u_r)/dth)/r e_ph"
      ]
     },
     "execution_count": 296,
     "metadata": {},
     "output_type": "execute_result"
    }
   ],
   "source": [
    "rot(u).display()"
   ]
  },
  {
   "cell_type": "code",
   "execution_count": 297,
   "id": "dc12eda0-eb49-4b1a-8497-d8ac6a99dc92",
   "metadata": {},
   "outputs": [
    {
     "data": {
      "text/html": [
       "<html>\\(\\displaystyle \\mathrm{True}\\)</html>"
      ],
      "text/latex": [
       "$\\displaystyle \\mathrm{True}$"
      ],
      "text/plain": [
       "True"
      ]
     },
     "execution_count": 297,
     "metadata": {},
     "output_type": "execute_result"
    }
   ],
   "source": [
    "rot(u) == curl(u)"
   ]
  },
  {
   "cell_type": "markdown",
   "id": "645255f4-807f-41c9-8542-627ea0b6ae3f",
   "metadata": {},
   "source": [
    "Para $v$ e $w$"
   ]
  },
  {
   "cell_type": "code",
   "execution_count": 298,
   "id": "a37471aa-418d-491a-ba79-0c365dc55444",
   "metadata": {},
   "outputs": [
    {
     "data": {
      "text/html": [
       "<html>\\(\\displaystyle \\mathrm{curl}\\left(v\\right) = 2 \\, \\cos\\left({\\theta}\\right) e_{ r } -2 \\, \\sin\\left({\\theta}\\right) e_{ {\\theta} }\\)</html>"
      ],
      "text/latex": [
       "$\\displaystyle \\mathrm{curl}\\left(v\\right) = 2 \\, \\cos\\left({\\theta}\\right) e_{ r } -2 \\, \\sin\\left({\\theta}\\right) e_{ {\\theta} }$"
      ],
      "text/plain": [
       "curl(v) = 2*cos(th) e_r - 2*sin(th) e_th"
      ]
     },
     "execution_count": 298,
     "metadata": {},
     "output_type": "execute_result"
    }
   ],
   "source": [
    "curl(v).display()"
   ]
  },
  {
   "cell_type": "code",
   "execution_count": 299,
   "id": "98765eb7-6df1-4ac5-a66a-3e421a14e2e6",
   "metadata": {},
   "outputs": [
    {
     "data": {
      "text/html": [
       "<html>\\(\\displaystyle \\mathrm{curl}\\left(w\\right) = 0\\)</html>"
      ],
      "text/latex": [
       "$\\displaystyle \\mathrm{curl}\\left(w\\right) = 0$"
      ],
      "text/plain": [
       "curl(w) = 0"
      ]
     },
     "execution_count": 299,
     "metadata": {},
     "output_type": "execute_result"
    }
   ],
   "source": [
    "curl(w).display()"
   ]
  },
  {
   "cell_type": "markdown",
   "id": "1b8a3267-654e-49c4-891d-043aa84a290e",
   "metadata": {},
   "source": [
    "O rotacional de um gradiente é sempre zero:"
   ]
  },
  {
   "cell_type": "code",
   "execution_count": 300,
   "id": "efecaba4-1701-4f5f-b214-45fca7cf653e",
   "metadata": {},
   "outputs": [
    {
     "data": {
      "text/html": [
       "<html>\\(\\displaystyle \\mathrm{curl}\\left(\\mathrm{grad}\\left(F\\right)\\right) = 0\\)</html>"
      ],
      "text/latex": [
       "$\\displaystyle \\mathrm{curl}\\left(\\mathrm{grad}\\left(F\\right)\\right) = 0$"
      ],
      "text/plain": [
       "curl(grad(F)) = 0"
      ]
     },
     "execution_count": 300,
     "metadata": {},
     "output_type": "execute_result"
    }
   ],
   "source": [
    "curl(grad(F)).display()"
   ]
  },
  {
   "cell_type": "markdown",
   "id": "c21087cd-02f0-4631-af70-c5bae679d556",
   "metadata": {},
   "source": [
    "O divergnte do rotacional é sempre zero:"
   ]
  },
  {
   "cell_type": "code",
   "execution_count": 301,
   "id": "95b6387a-2aa3-4554-bf1d-c2b482feb4db",
   "metadata": {},
   "outputs": [
    {
     "data": {
      "text/html": [
       "<html>\\(\\displaystyle \\begin{array}{llcl} \\mathrm{div}\\left(\\mathrm{curl}\\left(u\\right)\\right):& \\mathbb{E}^{3} & \\longrightarrow & \\mathbb{R} \\\\ & \\left(x, y, z\\right) & \\longmapsto & 0 \\\\ & \\left(r, {\\theta}, {\\phi}\\right) & \\longmapsto & 0 \\\\ & \\left({\\rho}, {\\phi}, z\\right) & \\longmapsto & 0 \\end{array}\\)</html>"
      ],
      "text/latex": [
       "$\\displaystyle \\begin{array}{llcl} \\mathrm{div}\\left(\\mathrm{curl}\\left(u\\right)\\right):& \\mathbb{E}^{3} & \\longrightarrow & \\mathbb{R} \\\\ & \\left(x, y, z\\right) & \\longmapsto & 0 \\\\ & \\left(r, {\\theta}, {\\phi}\\right) & \\longmapsto & 0 \\\\ & \\left({\\rho}, {\\phi}, z\\right) & \\longmapsto & 0 \\end{array}$"
      ],
      "text/plain": [
       "div(curl(u)): E^3 → ℝ\n",
       "   (x, y, z) ↦ 0\n",
       "   (r, th, ph) ↦ 0\n",
       "   (rh, ph, z) ↦ 0"
      ]
     },
     "execution_count": 301,
     "metadata": {},
     "output_type": "execute_result"
    }
   ],
   "source": [
    "div(curl(u)).display()"
   ]
  },
  {
   "cell_type": "markdown",
   "id": "56f1d91d-5bfa-49cf-b2fa-a06bd81b3b18",
   "metadata": {},
   "source": [
    "Identidade válida para qualquer campo escalar $F$ e qualquer campo vectorial $u$:\n",
    "\n",
    "$$\\nabla \\times (F\\; u) = \\nabla F \\times u + F(\\nabla \\times u) $$"
   ]
  },
  {
   "cell_type": "code",
   "execution_count": 302,
   "id": "f5a2095c-4ca1-4afa-b38f-8c893d9be053",
   "metadata": {},
   "outputs": [
    {
     "data": {
      "text/html": [
       "<html>\\(\\displaystyle \\mathrm{True}\\)</html>"
      ],
      "text/latex": [
       "$\\displaystyle \\mathrm{True}$"
      ],
      "text/plain": [
       "True"
      ]
     },
     "execution_count": 302,
     "metadata": {},
     "output_type": "execute_result"
    }
   ],
   "source": [
    "curl(F*u) == grad(F).cross(u) + F*curl(u)"
   ]
  },
  {
   "cell_type": "markdown",
   "id": "9ee40976-8598-475b-bc89-19e8a8567617",
   "metadata": {
    "jp-MarkdownHeadingCollapsed": true,
    "tags": []
   },
   "source": [
    "### Laplaciano"
   ]
  },
  {
   "cell_type": "code",
   "execution_count": 303,
   "id": "df5e74bb-f8f4-49cb-8219-d2aecf6faf0c",
   "metadata": {},
   "outputs": [
    {
     "data": {
      "text/html": [
       "<html>\\(\\displaystyle \\begin{array}{llcl} \\Delta\\left(F\\right):& \\mathbb{E}^{3} & \\longrightarrow & \\mathbb{R} \\\\ & \\left(x, y, z\\right) & \\longmapsto & \\frac{x^{4} \\frac{\\partial^2\\,f}{\\partial \\left( \\sqrt{x^{2} + y^{2} + z^{2}} \\right) ^ 2} + 2 \\, x^{2} y^{2} \\frac{\\partial^2\\,f}{\\partial \\left( \\sqrt{x^{2} + y^{2} + z^{2}} \\right) ^ 2} + y^{4} \\frac{\\partial^2\\,f}{\\partial \\left( \\sqrt{x^{2} + y^{2} + z^{2}} \\right) ^ 2} + {\\left(x^{2} \\frac{\\partial^2\\,f}{\\partial \\left( \\sqrt{x^{2} + y^{2} + z^{2}} \\right) ^ 2} + y^{2} \\frac{\\partial^2\\,f}{\\partial \\left( \\sqrt{x^{2} + y^{2} + z^{2}} \\right) ^ 2}\\right)} z^{2} + \\sqrt{x^{2} + y^{2}} z \\frac{\\partial\\,f}{\\partial \\left( \\arctan\\left(\\sqrt{x^{2} + y^{2}}, z\\right) \\right)} + {\\left(x^{2} + y^{2}\\right)} \\frac{\\partial^2\\,f}{\\partial \\left( \\arctan\\left(\\sqrt{x^{2} + y^{2}}, z\\right) \\right) ^ 2} + {\\left(x^{2} + y^{2} + z^{2}\\right)} \\frac{\\partial^2\\,f}{\\partial \\left( \\arctan\\left(y, x\\right) \\right) ^ 2} + 2 \\, {\\left(x^{2} \\frac{\\partial\\,f}{\\partial \\left( \\sqrt{x^{2} + y^{2} + z^{2}} \\right)} + y^{2} \\frac{\\partial\\,f}{\\partial \\left( \\sqrt{x^{2} + y^{2} + z^{2}} \\right)}\\right)} \\sqrt{x^{2} + y^{2} + z^{2}}}{x^{4} + 2 \\, x^{2} y^{2} + y^{4} + {\\left(x^{2} + y^{2}\\right)} z^{2}} \\\\ & \\left(r, {\\theta}, {\\phi}\\right) & \\longmapsto & \\frac{{\\left(r^{2} \\frac{\\partial^2\\,f}{\\partial r ^ 2} + 2 \\, r \\frac{\\partial\\,f}{\\partial r} + \\frac{\\partial^2\\,f}{\\partial {\\theta} ^ 2}\\right)} \\sin\\left({\\theta}\\right)^{2} + \\cos\\left({\\theta}\\right) \\sin\\left({\\theta}\\right) \\frac{\\partial\\,f}{\\partial {\\theta}} + \\frac{\\partial^2\\,f}{\\partial {\\phi} ^ 2}}{r^{2} \\sin\\left({\\theta}\\right)^{2}} \\\\ & \\left({\\rho}, {\\phi}, z\\right) & \\longmapsto & \\frac{{\\rho}^{4} \\frac{\\partial^2\\,f}{\\partial \\left( \\sqrt{{\\rho}^{2} + z^{2}} \\right) ^ 2} + {\\rho}^{2} z^{2} \\frac{\\partial^2\\,f}{\\partial \\left( \\sqrt{{\\rho}^{2} + z^{2}} \\right) ^ 2} + 2 \\, \\sqrt{{\\rho}^{2} + z^{2}} {\\rho}^{2} \\frac{\\partial\\,f}{\\partial \\left( \\sqrt{{\\rho}^{2} + z^{2}} \\right)} + {\\rho} z \\frac{\\partial\\,f}{\\partial \\left( \\arctan\\left({\\rho}, z\\right) \\right)} + {\\rho}^{2} \\frac{\\partial^2\\,f}{\\partial \\left( \\arctan\\left({\\rho}, z\\right) \\right) ^ 2} + {\\left({\\rho}^{2} + z^{2}\\right)} \\frac{\\partial^2\\,f}{\\partial {\\phi} ^ 2}}{{\\rho}^{4} + {\\rho}^{2} z^{2}} \\end{array}\\)</html>"
      ],
      "text/latex": [
       "$\\displaystyle \\begin{array}{llcl} \\Delta\\left(F\\right):& \\mathbb{E}^{3} & \\longrightarrow & \\mathbb{R} \\\\ & \\left(x, y, z\\right) & \\longmapsto & \\frac{x^{4} \\frac{\\partial^2\\,f}{\\partial \\left( \\sqrt{x^{2} + y^{2} + z^{2}} \\right) ^ 2} + 2 \\, x^{2} y^{2} \\frac{\\partial^2\\,f}{\\partial \\left( \\sqrt{x^{2} + y^{2} + z^{2}} \\right) ^ 2} + y^{4} \\frac{\\partial^2\\,f}{\\partial \\left( \\sqrt{x^{2} + y^{2} + z^{2}} \\right) ^ 2} + {\\left(x^{2} \\frac{\\partial^2\\,f}{\\partial \\left( \\sqrt{x^{2} + y^{2} + z^{2}} \\right) ^ 2} + y^{2} \\frac{\\partial^2\\,f}{\\partial \\left( \\sqrt{x^{2} + y^{2} + z^{2}} \\right) ^ 2}\\right)} z^{2} + \\sqrt{x^{2} + y^{2}} z \\frac{\\partial\\,f}{\\partial \\left( \\arctan\\left(\\sqrt{x^{2} + y^{2}}, z\\right) \\right)} + {\\left(x^{2} + y^{2}\\right)} \\frac{\\partial^2\\,f}{\\partial \\left( \\arctan\\left(\\sqrt{x^{2} + y^{2}}, z\\right) \\right) ^ 2} + {\\left(x^{2} + y^{2} + z^{2}\\right)} \\frac{\\partial^2\\,f}{\\partial \\left( \\arctan\\left(y, x\\right) \\right) ^ 2} + 2 \\, {\\left(x^{2} \\frac{\\partial\\,f}{\\partial \\left( \\sqrt{x^{2} + y^{2} + z^{2}} \\right)} + y^{2} \\frac{\\partial\\,f}{\\partial \\left( \\sqrt{x^{2} + y^{2} + z^{2}} \\right)}\\right)} \\sqrt{x^{2} + y^{2} + z^{2}}}{x^{4} + 2 \\, x^{2} y^{2} + y^{4} + {\\left(x^{2} + y^{2}\\right)} z^{2}} \\\\ & \\left(r, {\\theta}, {\\phi}\\right) & \\longmapsto & \\frac{{\\left(r^{2} \\frac{\\partial^2\\,f}{\\partial r ^ 2} + 2 \\, r \\frac{\\partial\\,f}{\\partial r} + \\frac{\\partial^2\\,f}{\\partial {\\theta} ^ 2}\\right)} \\sin\\left({\\theta}\\right)^{2} + \\cos\\left({\\theta}\\right) \\sin\\left({\\theta}\\right) \\frac{\\partial\\,f}{\\partial {\\theta}} + \\frac{\\partial^2\\,f}{\\partial {\\phi} ^ 2}}{r^{2} \\sin\\left({\\theta}\\right)^{2}} \\\\ & \\left({\\rho}, {\\phi}, z\\right) & \\longmapsto & \\frac{{\\rho}^{4} \\frac{\\partial^2\\,f}{\\partial \\left( \\sqrt{{\\rho}^{2} + z^{2}} \\right) ^ 2} + {\\rho}^{2} z^{2} \\frac{\\partial^2\\,f}{\\partial \\left( \\sqrt{{\\rho}^{2} + z^{2}} \\right) ^ 2} + 2 \\, \\sqrt{{\\rho}^{2} + z^{2}} {\\rho}^{2} \\frac{\\partial\\,f}{\\partial \\left( \\sqrt{{\\rho}^{2} + z^{2}} \\right)} + {\\rho} z \\frac{\\partial\\,f}{\\partial \\left( \\arctan\\left({\\rho}, z\\right) \\right)} + {\\rho}^{2} \\frac{\\partial^2\\,f}{\\partial \\left( \\arctan\\left({\\rho}, z\\right) \\right) ^ 2} + {\\left({\\rho}^{2} + z^{2}\\right)} \\frac{\\partial^2\\,f}{\\partial {\\phi} ^ 2}}{{\\rho}^{4} + {\\rho}^{2} z^{2}} \\end{array}$"
      ],
      "text/plain": [
       "Delta(F): E^3 → ℝ\n",
       "   (x, y, z) ↦ (x^4*d^2(f)/d(sqrt(x^2 + y^2 + z^2))^2 + 2*x^2*y^2*d^2(f)/d(sqrt(x^2 + y^2 + z^2))^2 + y^4*d^2(f)/d(sqrt(x^2 + y^2 + z^2))^2 + (x^2*d^2(f)/d(sqrt(x^2 + y^2 + z^2))^2 + y^2*d^2(f)/d(sqrt(x^2 + y^2 + z^2))^2)*z^2 + sqrt(x^2 + y^2)*z*d(f)/d(arctan2(sqrt(x^2 + y^2), z)) + (x^2 + y^2)*d^2(f)/d(arctan2(sqrt(x^2 + y^2), z))^2 + (x^2 + y^2 + z^2)*d^2(f)/d(arctan2(y, x))^2 + 2*(x^2*d(f)/d(sqrt(x^2 + y^2 + z^2)) + y^2*d(f)/d(sqrt(x^2 + y^2 + z^2)))*sqrt(x^2 + y^2 + z^2))/(x^4 + 2*x^2*y^2 + y^4 + (x^2 + y^2)*z^2)\n",
       "   (r, th, ph) ↦ ((r^2*d^2(f)/dr^2 + 2*r*d(f)/dr + d^2(f)/dth^2)*sin(th)^2 + cos(th)*sin(th)*d(f)/dth + d^2(f)/dph^2)/(r^2*sin(th)^2)\n",
       "   (rh, ph, z) ↦ (rh^4*d^2(f)/d(sqrt(rh^2 + z^2))^2 + rh^2*z^2*d^2(f)/d(sqrt(rh^2 + z^2))^2 + 2*sqrt(rh^2 + z^2)*rh^2*d(f)/d(sqrt(rh^2 + z^2)) + rh*z*d(f)/d(arctan2(rh, z)) + rh^2*d^2(f)/d(arctan2(rh, z))^2 + (rh^2 + z^2)*d^2(f)/dph^2)/(rh^4 + rh^2*z^2)"
      ]
     },
     "execution_count": 303,
     "metadata": {},
     "output_type": "execute_result"
    }
   ],
   "source": [
    "s = laplacian(F)\n",
    "s.display()"
   ]
  },
  {
   "cell_type": "code",
   "execution_count": 304,
   "id": "cad82b64-6eb8-453e-b8d2-cdc02eb5bf99",
   "metadata": {},
   "outputs": [
    {
     "data": {
      "text/html": [
       "<html>\\(\\displaystyle \\frac{2 \\, \\frac{\\partial}{\\partial r}f\\left(r, {\\theta}, {\\phi}\\right)}{r} + \\frac{\\cos\\left({\\theta}\\right) \\frac{\\partial}{\\partial {\\theta}}f\\left(r, {\\theta}, {\\phi}\\right)}{r^{2} \\sin\\left({\\theta}\\right)} + \\frac{\\frac{\\partial^{2}}{(\\partial {\\theta})^{2}}f\\left(r, {\\theta}, {\\phi}\\right)}{r^{2}} + \\frac{\\frac{\\partial^{2}}{(\\partial {\\phi})^{2}}f\\left(r, {\\theta}, {\\phi}\\right)}{r^{2} \\sin\\left({\\theta}\\right)^{2}} + \\frac{\\partial^{2}}{(\\partial r)^{2}}f\\left(r, {\\theta}, {\\phi}\\right)\\)</html>"
      ],
      "text/latex": [
       "$\\displaystyle \\frac{2 \\, \\frac{\\partial}{\\partial r}f\\left(r, {\\theta}, {\\phi}\\right)}{r} + \\frac{\\cos\\left({\\theta}\\right) \\frac{\\partial}{\\partial {\\theta}}f\\left(r, {\\theta}, {\\phi}\\right)}{r^{2} \\sin\\left({\\theta}\\right)} + \\frac{\\frac{\\partial^{2}}{(\\partial {\\theta})^{2}}f\\left(r, {\\theta}, {\\phi}\\right)}{r^{2}} + \\frac{\\frac{\\partial^{2}}{(\\partial {\\phi})^{2}}f\\left(r, {\\theta}, {\\phi}\\right)}{r^{2} \\sin\\left({\\theta}\\right)^{2}} + \\frac{\\partial^{2}}{(\\partial r)^{2}}f\\left(r, {\\theta}, {\\phi}\\right)$"
      ],
      "text/plain": [
       "2*diff(f(r, th, ph), r)/r + cos(th)*diff(f(r, th, ph), th)/(r^2*sin(th)) + diff(f(r, th, ph), th, th)/r^2 + diff(f(r, th, ph), ph, ph)/(r^2*sin(th)^2) + diff(f(r, th, ph), r, r)"
      ]
     },
     "execution_count": 304,
     "metadata": {},
     "output_type": "execute_result"
    }
   ],
   "source": [
    "s.expr().expand()"
   ]
  },
  {
   "cell_type": "markdown",
   "id": "328ea854-de3b-47b1-bdab-1c002f219633",
   "metadata": {},
   "source": [
    "Para um campo escalar, o Laplaciano é simplesmente o divergente do gradiente:"
   ]
  },
  {
   "cell_type": "code",
   "execution_count": 305,
   "id": "e6b418ed-0c95-4eef-8c33-f333c83b9b57",
   "metadata": {},
   "outputs": [
    {
     "data": {
      "text/html": [
       "<html>\\(\\displaystyle \\mathrm{True}\\)</html>"
      ],
      "text/latex": [
       "$\\displaystyle \\mathrm{True}$"
      ],
      "text/plain": [
       "True"
      ]
     },
     "execution_count": 305,
     "metadata": {},
     "output_type": "execute_result"
    }
   ],
   "source": [
    "laplacian(F) == div(grad(F))"
   ]
  },
  {
   "cell_type": "markdown",
   "id": "d987d628-035d-4b60-b7e4-373d7fbe27c2",
   "metadata": {},
   "source": [
    "O Laplaciano de um campo vectorial:"
   ]
  },
  {
   "cell_type": "code",
   "execution_count": 306,
   "id": "2f6733c0-ec20-4558-99e0-26af38a3c62e",
   "metadata": {},
   "outputs": [
    {
     "data": {
      "text/html": [
       "<html>\\(\\displaystyle \\Delta\\left(v\\right) = 2 \\, \\cos\\left({\\theta}\\right) e_{ r } -2 \\, \\sin\\left({\\theta}\\right) e_{ {\\theta} }\\)</html>"
      ],
      "text/latex": [
       "$\\displaystyle \\Delta\\left(v\\right) = 2 \\, \\cos\\left({\\theta}\\right) e_{ r } -2 \\, \\sin\\left({\\theta}\\right) e_{ {\\theta} }$"
      ],
      "text/plain": [
       "Delta(v) = 2*cos(th) e_r - 2*sin(th) e_th"
      ]
     },
     "execution_count": 306,
     "metadata": {},
     "output_type": "execute_result"
    }
   ],
   "source": [
    "Dv = laplacian(v)\n",
    "Dv.display()"
   ]
  },
  {
   "cell_type": "markdown",
   "id": "49be03d7-5495-4ecf-9c31-e28761e6201b",
   "metadata": {},
   "source": [
    "Podemos também exibir componente por componente:"
   ]
  },
  {
   "cell_type": "code",
   "execution_count": 307,
   "id": "ebdc10bb-ca61-4fa0-a98a-d6e1193fe155",
   "metadata": {},
   "outputs": [
    {
     "data": {
      "text/html": [
       "<html>\\(\\displaystyle \\begin{array}{lcl} \\Delta\\left(v\\right)_{\\phantom{\\, 1}}^{\\,1} & = & 2 \\, \\cos\\left({\\theta}\\right) \\\\ \\Delta\\left(v\\right)_{\\phantom{\\, 2}}^{\\,2} & = & -2 \\, \\sin\\left({\\theta}\\right) \\end{array}\\)</html>"
      ],
      "text/latex": [
       "$\\displaystyle \\begin{array}{lcl} \\Delta\\left(v\\right)_{\\phantom{\\, 1}}^{\\,1} & = & 2 \\, \\cos\\left({\\theta}\\right) \\\\ \\Delta\\left(v\\right)_{\\phantom{\\, 2}}^{\\,2} & = & -2 \\, \\sin\\left({\\theta}\\right) \\end{array}$"
      ],
      "text/plain": [
       "Delta(v)^1 = 2*cos(th) \n",
       "Delta(v)^2 = -2*sin(th) "
      ]
     },
     "execution_count": 307,
     "metadata": {},
     "output_type": "execute_result"
    }
   ],
   "source": [
    "Dv.display_comp()"
   ]
  },
  {
   "cell_type": "markdown",
   "id": "8ab41966-a520-44bf-8c39-3f05ab7234a8",
   "metadata": {},
   "source": [
    "e podemos verificar a conhecida identidade:"
   ]
  },
  {
   "cell_type": "code",
   "execution_count": 308,
   "id": "ffea5fdf-2de3-4df0-823a-78ceef80df8b",
   "metadata": {},
   "outputs": [
    {
     "data": {
      "text/html": [
       "<html>\\(\\displaystyle \\mathrm{True}\\)</html>"
      ],
      "text/latex": [
       "$\\displaystyle \\mathrm{True}$"
      ],
      "text/plain": [
       "True"
      ]
     },
     "execution_count": 308,
     "metadata": {},
     "output_type": "execute_result"
    }
   ],
   "source": [
    "curl(curl(v)) == grad(div(v)) - laplacian(v)"
   ]
  },
  {
   "cell_type": "markdown",
   "id": "0aedf26e-855d-4bde-9229-56170d556e6d",
   "metadata": {
    "jp-MarkdownHeadingCollapsed": true,
    "tags": []
   },
   "source": [
    "## Métrica Riemannian"
   ]
  },
  {
   "cell_type": "markdown",
   "id": "b0699d58-2b17-4064-8934-5a6bd4e5b378",
   "metadata": {},
   "source": [
    "O tensor métrico padrão de $\\mathbb{E}^3$ é"
   ]
  },
  {
   "cell_type": "code",
   "execution_count": 309,
   "id": "7db17f9a-6e79-46d9-9e9f-5117adc5d54a",
   "metadata": {},
   "outputs": [
    {
     "name": "stdout",
     "output_type": "stream",
     "text": [
      "Riemannian metric g on the Euclidean space E^3\n"
     ]
    }
   ],
   "source": [
    "g = E.metric()\n",
    "print(g)"
   ]
  },
  {
   "cell_type": "code",
   "execution_count": 310,
   "id": "e7a59a10-2456-4684-8b00-9e1608062ec8",
   "metadata": {},
   "outputs": [
    {
     "data": {
      "text/html": [
       "<html>\\(\\displaystyle g = e^{ r }\\otimes e^{ r }+e^{ {\\theta} }\\otimes e^{ {\\theta} }+e^{ {\\phi} }\\otimes e^{ {\\phi} }\\)</html>"
      ],
      "text/latex": [
       "$\\displaystyle g = e^{ r }\\otimes e^{ r }+e^{ {\\theta} }\\otimes e^{ {\\theta} }+e^{ {\\phi} }\\otimes e^{ {\\phi} }$"
      ],
      "text/plain": [
       "g = e^r⊗e^r + e^th⊗e^th + e^ph⊗e^ph"
      ]
     },
     "execution_count": 310,
     "metadata": {},
     "output_type": "execute_result"
    }
   ],
   "source": [
    "g.display()"
   ]
  },
  {
   "cell_type": "code",
   "execution_count": 311,
   "id": "3bdc68aa-5ee6-48f8-ad92-9b280eef5cbb",
   "metadata": {},
   "outputs": [
    {
     "data": {
      "text/html": [
       "<html>\\(\\displaystyle \\left(\\begin{array}{rrr}\n",
       "1 & 0 & 0 \\\\\n",
       "0 & 1 & 0 \\\\\n",
       "0 & 0 & 1\n",
       "\\end{array}\\right)\\)</html>"
      ],
      "text/latex": [
       "$\\displaystyle \\left(\\begin{array}{rrr}\n",
       "1 & 0 & 0 \\\\\n",
       "0 & 1 & 0 \\\\\n",
       "0 & 0 & 1\n",
       "\\end{array}\\right)$"
      ],
      "text/plain": [
       "[1 0 0]\n",
       "[0 1 0]\n",
       "[0 0 1]"
      ]
     },
     "execution_count": 311,
     "metadata": {},
     "output_type": "execute_result"
    }
   ],
   "source": [
    "g[:]"
   ]
  },
  {
   "cell_type": "markdown",
   "id": "c29423ed-0f76-4ee7-b792-6ac12c66cd3a",
   "metadata": {},
   "source": [
    "Nos diferentes referenciais"
   ]
  },
  {
   "cell_type": "code",
   "execution_count": 312,
   "id": "553ca92b-312d-4a7b-b7d5-c2b41ae0719c",
   "metadata": {},
   "outputs": [
    {
     "data": {
      "text/html": [
       "<html>\\(\\displaystyle g = \\mathrm{d} x\\otimes \\mathrm{d} x+\\mathrm{d} y\\otimes \\mathrm{d} y+\\mathrm{d} z\\otimes \\mathrm{d} z\\)</html>"
      ],
      "text/latex": [
       "$\\displaystyle g = \\mathrm{d} x\\otimes \\mathrm{d} x+\\mathrm{d} y\\otimes \\mathrm{d} y+\\mathrm{d} z\\otimes \\mathrm{d} z$"
      ],
      "text/plain": [
       "g = dx⊗dx + dy⊗dy + dz⊗dz"
      ]
     },
     "metadata": {},
     "output_type": "display_data"
    },
    {
     "data": {
      "text/html": [
       "<html>\\(\\displaystyle g = \\mathrm{d} r\\otimes \\mathrm{d} r + r^{2} \\mathrm{d} {\\theta}\\otimes \\mathrm{d} {\\theta} + r^{2} \\sin\\left({\\theta}\\right)^{2} \\mathrm{d} {\\phi}\\otimes \\mathrm{d} {\\phi}\\)</html>"
      ],
      "text/latex": [
       "$\\displaystyle g = \\mathrm{d} r\\otimes \\mathrm{d} r + r^{2} \\mathrm{d} {\\theta}\\otimes \\mathrm{d} {\\theta} + r^{2} \\sin\\left({\\theta}\\right)^{2} \\mathrm{d} {\\phi}\\otimes \\mathrm{d} {\\phi}$"
      ],
      "text/plain": [
       "g = dr⊗dr + r^2 dth⊗dth + r^2*sin(th)^2 dph⊗dph"
      ]
     },
     "metadata": {},
     "output_type": "display_data"
    },
    {
     "data": {
      "text/html": [
       "<html>\\(\\displaystyle g = e^{ r }\\otimes e^{ r }+e^{ {\\theta} }\\otimes e^{ {\\theta} }+e^{ {\\phi} }\\otimes e^{ {\\phi} }\\)</html>"
      ],
      "text/latex": [
       "$\\displaystyle g = e^{ r }\\otimes e^{ r }+e^{ {\\theta} }\\otimes e^{ {\\theta} }+e^{ {\\phi} }\\otimes e^{ {\\phi} }$"
      ],
      "text/plain": [
       "g = e^r⊗e^r + e^th⊗e^th + e^ph⊗e^ph"
      ]
     },
     "metadata": {},
     "output_type": "display_data"
    },
    {
     "data": {
      "text/html": [
       "<html>\\(\\displaystyle g = \\mathrm{d} {\\rho}\\otimes \\mathrm{d} {\\rho} + r^{2} \\sin\\left({\\theta}\\right)^{2} \\mathrm{d} {\\phi}\\otimes \\mathrm{d} {\\phi} +\\mathrm{d} z\\otimes \\mathrm{d} z\\)</html>"
      ],
      "text/latex": [
       "$\\displaystyle g = \\mathrm{d} {\\rho}\\otimes \\mathrm{d} {\\rho} + r^{2} \\sin\\left({\\theta}\\right)^{2} \\mathrm{d} {\\phi}\\otimes \\mathrm{d} {\\phi} +\\mathrm{d} z\\otimes \\mathrm{d} z$"
      ],
      "text/plain": [
       "g = drh⊗drh + r^2*sin(th)^2 dph⊗dph + dz⊗dz"
      ]
     },
     "metadata": {},
     "output_type": "display_data"
    },
    {
     "data": {
      "text/html": [
       "<html>\\(\\displaystyle g = e^{ {\\rho} }\\otimes e^{ {\\rho} }+e^{ {\\phi} }\\otimes e^{ {\\phi} }+e^{ z }\\otimes e^{ z }\\)</html>"
      ],
      "text/latex": [
       "$\\displaystyle g = e^{ {\\rho} }\\otimes e^{ {\\rho} }+e^{ {\\phi} }\\otimes e^{ {\\phi} }+e^{ z }\\otimes e^{ z }$"
      ],
      "text/plain": [
       "g = e^rh⊗e^rh + e^ph⊗e^ph + e^z⊗e^z"
      ]
     },
     "metadata": {},
     "output_type": "display_data"
    }
   ],
   "source": [
    "for frame in E.frames():\n",
    "    display(g.display(frame))"
   ]
  },
  {
   "cell_type": "markdown",
   "id": "7629c08a-be7c-4b85-961a-f036fc88992c",
   "metadata": {},
   "source": [
    "Em forma matricial"
   ]
  },
  {
   "cell_type": "code",
   "execution_count": 313,
   "id": "ed261861-375b-419a-84ae-7909bc779e52",
   "metadata": {},
   "outputs": [
    {
     "data": {
      "text/html": [
       "<html>\\(\\displaystyle \\left(\\begin{array}{rrr}\n",
       "1 & 0 & 0 \\\\\n",
       "0 & 1 & 0 \\\\\n",
       "0 & 0 & 1\n",
       "\\end{array}\\right)\\)</html>"
      ],
      "text/latex": [
       "$\\displaystyle \\left(\\begin{array}{rrr}\n",
       "1 & 0 & 0 \\\\\n",
       "0 & 1 & 0 \\\\\n",
       "0 & 0 & 1\n",
       "\\end{array}\\right)$"
      ],
      "text/plain": [
       "[1 0 0]\n",
       "[0 1 0]\n",
       "[0 0 1]"
      ]
     },
     "metadata": {},
     "output_type": "display_data"
    },
    {
     "data": {
      "text/html": [
       "<html>\\(\\displaystyle \\left(\\begin{array}{rrr}\n",
       "1 & 0 & 0 \\\\\n",
       "0 & r^{2} & 0 \\\\\n",
       "0 & 0 & r^{2} \\sin\\left({\\theta}\\right)^{2}\n",
       "\\end{array}\\right)\\)</html>"
      ],
      "text/latex": [
       "$\\displaystyle \\left(\\begin{array}{rrr}\n",
       "1 & 0 & 0 \\\\\n",
       "0 & r^{2} & 0 \\\\\n",
       "0 & 0 & r^{2} \\sin\\left({\\theta}\\right)^{2}\n",
       "\\end{array}\\right)$"
      ],
      "text/plain": [
       "[            1             0             0]\n",
       "[            0           r^2             0]\n",
       "[            0             0 r^2*sin(th)^2]"
      ]
     },
     "metadata": {},
     "output_type": "display_data"
    },
    {
     "data": {
      "text/html": [
       "<html>\\(\\displaystyle \\left(\\begin{array}{rrr}\n",
       "1 & 0 & 0 \\\\\n",
       "0 & 1 & 0 \\\\\n",
       "0 & 0 & 1\n",
       "\\end{array}\\right)\\)</html>"
      ],
      "text/latex": [
       "$\\displaystyle \\left(\\begin{array}{rrr}\n",
       "1 & 0 & 0 \\\\\n",
       "0 & 1 & 0 \\\\\n",
       "0 & 0 & 1\n",
       "\\end{array}\\right)$"
      ],
      "text/plain": [
       "[1 0 0]\n",
       "[0 1 0]\n",
       "[0 0 1]"
      ]
     },
     "metadata": {},
     "output_type": "display_data"
    },
    {
     "data": {
      "text/html": [
       "<html>\\(\\displaystyle \\left(\\begin{array}{rrr}\n",
       "1 & 0 & 0 \\\\\n",
       "0 & r^{2} \\sin\\left({\\theta}\\right)^{2} & 0 \\\\\n",
       "0 & 0 & 1\n",
       "\\end{array}\\right)\\)</html>"
      ],
      "text/latex": [
       "$\\displaystyle \\left(\\begin{array}{rrr}\n",
       "1 & 0 & 0 \\\\\n",
       "0 & r^{2} \\sin\\left({\\theta}\\right)^{2} & 0 \\\\\n",
       "0 & 0 & 1\n",
       "\\end{array}\\right)$"
      ],
      "text/plain": [
       "[            1             0             0]\n",
       "[            0 r^2*sin(th)^2             0]\n",
       "[            0             0             1]"
      ]
     },
     "metadata": {},
     "output_type": "display_data"
    },
    {
     "data": {
      "text/html": [
       "<html>\\(\\displaystyle \\left(\\begin{array}{rrr}\n",
       "1 & 0 & 0 \\\\\n",
       "0 & 1 & 0 \\\\\n",
       "0 & 0 & 1\n",
       "\\end{array}\\right)\\)</html>"
      ],
      "text/latex": [
       "$\\displaystyle \\left(\\begin{array}{rrr}\n",
       "1 & 0 & 0 \\\\\n",
       "0 & 1 & 0 \\\\\n",
       "0 & 0 & 1\n",
       "\\end{array}\\right)$"
      ],
      "text/plain": [
       "[1 0 0]\n",
       "[0 1 0]\n",
       "[0 0 1]"
      ]
     },
     "metadata": {},
     "output_type": "display_data"
    }
   ],
   "source": [
    "for frame in E.frames():\n",
    "    display(g[frame,:])"
   ]
  },
  {
   "cell_type": "code",
   "execution_count": 314,
   "id": "665bac3d-2f4a-4e27-862b-72fcb9d8fbdb",
   "metadata": {},
   "outputs": [],
   "source": [
    "R = g.riemann()"
   ]
  },
  {
   "cell_type": "code",
   "execution_count": 316,
   "id": "a6512c3a-1d1b-44ee-b26e-c94d27be70d2",
   "metadata": {},
   "outputs": [
    {
     "name": "stdout",
     "output_type": "stream",
     "text": [
      "Tensor field Riem(g) of type (1,3) on the Euclidean space E^3\n"
     ]
    }
   ],
   "source": [
    "print(R)"
   ]
  },
  {
   "cell_type": "code",
   "execution_count": 317,
   "id": "36fe288f-9181-47b2-bde6-2b33c7702e2b",
   "metadata": {},
   "outputs": [
    {
     "data": {
      "text/html": [
       "<html>\\(\\displaystyle \\mathrm{Riem}\\left(g\\right) = 0\\)</html>"
      ],
      "text/latex": [
       "$\\displaystyle \\mathrm{Riem}\\left(g\\right) = 0$"
      ],
      "text/plain": [
       "Riem(g) = 0"
      ]
     },
     "execution_count": 317,
     "metadata": {},
     "output_type": "execute_result"
    }
   ],
   "source": [
    "R.display()"
   ]
  },
  {
   "cell_type": "code",
   "execution_count": 318,
   "id": "bab59509-60bb-4a30-80c1-f2521c159cdf",
   "metadata": {},
   "outputs": [
    {
     "data": {
      "text/html": [
       "<html>\\(\\displaystyle \\)</html>"
      ],
      "text/latex": [
       "$\\displaystyle $"
      ],
      "text/plain": []
     },
     "execution_count": 318,
     "metadata": {},
     "output_type": "execute_result"
    }
   ],
   "source": [
    "R.display_comp()"
   ]
  },
  {
   "cell_type": "markdown",
   "id": "d0e493e2-3649-4b06-b528-3340f42e8b5f",
   "metadata": {
    "jp-MarkdownHeadingCollapsed": true,
    "tags": []
   },
   "source": [
    "## Conexão de Levi-Civita"
   ]
  },
  {
   "cell_type": "markdown",
   "id": "367f5594-02ef-4eeb-bb0b-4916b7312ddd",
   "metadata": {},
   "source": [
    "A conexão de Levi-Civita associada à métrica Euclidiana $g$ é"
   ]
  },
  {
   "cell_type": "code",
   "execution_count": 319,
   "id": "43562f69-22e7-4c22-a7b6-1f316db724f6",
   "metadata": {},
   "outputs": [
    {
     "name": "stdout",
     "output_type": "stream",
     "text": [
      "Levi-Civita connection nabla_g associated with the Riemannian metric g on the Euclidean space E^3\n"
     ]
    },
    {
     "data": {
      "text/html": [
       "<html>\\(\\displaystyle \\nabla_{g}\\)</html>"
      ],
      "text/latex": [
       "$\\displaystyle \\nabla_{g}$"
      ],
      "text/plain": [
       "Levi-Civita connection nabla_g associated with the Riemannian metric g on the Euclidean space E^3"
      ]
     },
     "execution_count": 319,
     "metadata": {},
     "output_type": "execute_result"
    }
   ],
   "source": [
    "nabla = g.connection()\n",
    "print(nabla)\n",
    "nabla"
   ]
  },
  {
   "cell_type": "markdown",
   "id": "d3aec099-e2d5-4323-910e-29dcd66a8fcc",
   "metadata": {},
   "source": [
    "Os símbolos Christoffel correspondentes às coordenadas cartesianas são identicamente nulos: nenhum deles aparece na saída de `christoffel_symbols_display`, que por padrão exibe apenas os símbolos Christoffel não nulos:"
   ]
  },
  {
   "cell_type": "code",
   "execution_count": 320,
   "id": "845a24ef-928c-4e0e-9c34-ddff4ed68f04",
   "metadata": {},
   "outputs": [
    {
     "data": {
      "text/html": [
       "<html>\\(\\displaystyle \\)</html>"
      ],
      "text/latex": [
       "$\\displaystyle $"
      ],
      "text/plain": []
     },
     "execution_count": 320,
     "metadata": {},
     "output_type": "execute_result"
    }
   ],
   "source": [
    "g.christoffel_symbols_display(cartesian)"
   ]
  },
  {
   "cell_type": "markdown",
   "id": "bdb2c027-c2cf-4f6b-9b98-11b298a5980c",
   "metadata": {},
   "source": [
    "Por outro lado, alguns dos símbolos Christoffel em coordenadas esféricas diferem de zero:"
   ]
  },
  {
   "cell_type": "code",
   "execution_count": 321,
   "id": "c79f2bd3-0595-465e-8c41-30a3f7e2bbe4",
   "metadata": {},
   "outputs": [
    {
     "data": {
      "text/html": [
       "<html>\\(\\displaystyle \\begin{array}{lcl} \\Gamma_{ \\phantom{\\, r} \\, {\\theta} \\, {\\theta} }^{ \\, r \\phantom{\\, {\\theta}} \\phantom{\\, {\\theta}} } & = & -r \\\\ \\Gamma_{ \\phantom{\\, r} \\, {\\phi} \\, {\\phi} }^{ \\, r \\phantom{\\, {\\phi}} \\phantom{\\, {\\phi}} } & = & -r \\sin\\left({\\theta}\\right)^{2} \\\\ \\Gamma_{ \\phantom{\\, {\\theta}} \\, r \\, {\\theta} }^{ \\, {\\theta} \\phantom{\\, r} \\phantom{\\, {\\theta}} } & = & \\frac{1}{r} \\\\ \\Gamma_{ \\phantom{\\, {\\theta}} \\, {\\phi} \\, {\\phi} }^{ \\, {\\theta} \\phantom{\\, {\\phi}} \\phantom{\\, {\\phi}} } & = & -\\cos\\left({\\theta}\\right) \\sin\\left({\\theta}\\right) \\\\ \\Gamma_{ \\phantom{\\, {\\phi}} \\, r \\, {\\phi} }^{ \\, {\\phi} \\phantom{\\, r} \\phantom{\\, {\\phi}} } & = & \\frac{1}{r} \\\\ \\Gamma_{ \\phantom{\\, {\\phi}} \\, {\\theta} \\, {\\phi} }^{ \\, {\\phi} \\phantom{\\, {\\theta}} \\phantom{\\, {\\phi}} } & = & \\frac{\\cos\\left({\\theta}\\right)}{\\sin\\left({\\theta}\\right)} \\end{array}\\)</html>"
      ],
      "text/latex": [
       "$\\displaystyle \\begin{array}{lcl} \\Gamma_{ \\phantom{\\, r} \\, {\\theta} \\, {\\theta} }^{ \\, r \\phantom{\\, {\\theta}} \\phantom{\\, {\\theta}} } & = & -r \\\\ \\Gamma_{ \\phantom{\\, r} \\, {\\phi} \\, {\\phi} }^{ \\, r \\phantom{\\, {\\phi}} \\phantom{\\, {\\phi}} } & = & -r \\sin\\left({\\theta}\\right)^{2} \\\\ \\Gamma_{ \\phantom{\\, {\\theta}} \\, r \\, {\\theta} }^{ \\, {\\theta} \\phantom{\\, r} \\phantom{\\, {\\theta}} } & = & \\frac{1}{r} \\\\ \\Gamma_{ \\phantom{\\, {\\theta}} \\, {\\phi} \\, {\\phi} }^{ \\, {\\theta} \\phantom{\\, {\\phi}} \\phantom{\\, {\\phi}} } & = & -\\cos\\left({\\theta}\\right) \\sin\\left({\\theta}\\right) \\\\ \\Gamma_{ \\phantom{\\, {\\phi}} \\, r \\, {\\phi} }^{ \\, {\\phi} \\phantom{\\, r} \\phantom{\\, {\\phi}} } & = & \\frac{1}{r} \\\\ \\Gamma_{ \\phantom{\\, {\\phi}} \\, {\\theta} \\, {\\phi} }^{ \\, {\\phi} \\phantom{\\, {\\theta}} \\phantom{\\, {\\phi}} } & = & \\frac{\\cos\\left({\\theta}\\right)}{\\sin\\left({\\theta}\\right)} \\end{array}$"
      ],
      "text/plain": [
       "Gam^r_th,th = -r \n",
       "Gam^r_ph,ph = -r*sin(th)^2 \n",
       "Gam^th_r,th = 1/r \n",
       "Gam^th_ph,ph = -cos(th)*sin(th) \n",
       "Gam^ph_r,ph = 1/r \n",
       "Gam^ph_th,ph = cos(th)/sin(th) "
      ]
     },
     "execution_count": 321,
     "metadata": {},
     "output_type": "execute_result"
    }
   ],
   "source": [
    "g.christoffel_symbols_display(spherical)"
   ]
  },
  {
   "cell_type": "markdown",
   "id": "50a5ca17-30b5-480e-8425-5edce5c0693c",
   "metadata": {},
   "source": [
    "Por padrão, apenas valores não nulos e não redundantes são exibidos (por exemplo $\\Gamma^\\phi_{\\ \\, \\phi r}$ é ignorado, já que pode ser deduzido de $\\Gamma^\\phi_{\\ \\, r \\phi}$ por simetria nos dois últimos índices).\n",
    "\n"
   ]
  },
  {
   "cell_type": "markdown",
   "id": "4d8f48af-4753-48b1-9a71-66e7dfa5ac4e",
   "metadata": {},
   "source": [
    "Da mesma forma, os símbolos Christoffel não nulos em coordenadas cilíndricas são"
   ]
  },
  {
   "cell_type": "code",
   "execution_count": 322,
   "id": "b6080534-aadd-4c6d-9a8f-cc9213859596",
   "metadata": {},
   "outputs": [
    {
     "data": {
      "text/html": [
       "<html>\\(\\displaystyle \\begin{array}{lcl} \\Gamma_{ \\phantom{\\, {\\rho}} \\, {\\phi} \\, {\\phi} }^{ \\, {\\rho} \\phantom{\\, {\\phi}} \\phantom{\\, {\\phi}} } & = & -{\\rho} \\\\ \\Gamma_{ \\phantom{\\, {\\phi}} \\, {\\rho} \\, {\\phi} }^{ \\, {\\phi} \\phantom{\\, {\\rho}} \\phantom{\\, {\\phi}} } & = & \\frac{1}{{\\rho}} \\end{array}\\)</html>"
      ],
      "text/latex": [
       "$\\displaystyle \\begin{array}{lcl} \\Gamma_{ \\phantom{\\, {\\rho}} \\, {\\phi} \\, {\\phi} }^{ \\, {\\rho} \\phantom{\\, {\\phi}} \\phantom{\\, {\\phi}} } & = & -{\\rho} \\\\ \\Gamma_{ \\phantom{\\, {\\phi}} \\, {\\rho} \\, {\\phi} }^{ \\, {\\phi} \\phantom{\\, {\\rho}} \\phantom{\\, {\\phi}} } & = & \\frac{1}{{\\rho}} \\end{array}$"
      ],
      "text/plain": [
       "Gam^rh_ph,ph = -rh \n",
       "Gam^ph_rh,ph = 1/rh "
      ]
     },
     "execution_count": 322,
     "metadata": {},
     "output_type": "execute_result"
    }
   ],
   "source": [
    "g.christoffel_symbols_display(cylindrical)"
   ]
  },
  {
   "cell_type": "code",
   "execution_count": 323,
   "id": "dc253241-f8d0-4440-8d5d-a18c884f6159",
   "metadata": {},
   "outputs": [
    {
     "data": {
      "text/html": [
       "<html>\\(\\displaystyle \\begin{array}{lcl} \\Gamma_{ \\phantom{\\, r} \\, {\\theta} \\, {\\theta} }^{ \\, r \\phantom{\\, {\\theta}} \\phantom{\\, {\\theta}} } & = & -r \\\\ \\Gamma_{ \\phantom{\\, r} \\, {\\phi} \\, {\\phi} }^{ \\, r \\phantom{\\, {\\phi}} \\phantom{\\, {\\phi}} } & = & -r \\sin\\left({\\theta}\\right)^{2} \\\\ \\Gamma_{ \\phantom{\\, {\\theta}} \\, r \\, {\\theta} }^{ \\, {\\theta} \\phantom{\\, r} \\phantom{\\, {\\theta}} } & = & \\frac{1}{r} \\\\ \\Gamma_{ \\phantom{\\, {\\theta}} \\, {\\theta} \\, r }^{ \\, {\\theta} \\phantom{\\, {\\theta}} \\phantom{\\, r} } & = & \\frac{1}{r} \\\\ \\Gamma_{ \\phantom{\\, {\\theta}} \\, {\\phi} \\, {\\phi} }^{ \\, {\\theta} \\phantom{\\, {\\phi}} \\phantom{\\, {\\phi}} } & = & -\\cos\\left({\\theta}\\right) \\sin\\left({\\theta}\\right) \\\\ \\Gamma_{ \\phantom{\\, {\\phi}} \\, r \\, {\\phi} }^{ \\, {\\phi} \\phantom{\\, r} \\phantom{\\, {\\phi}} } & = & \\frac{1}{r} \\\\ \\Gamma_{ \\phantom{\\, {\\phi}} \\, {\\theta} \\, {\\phi} }^{ \\, {\\phi} \\phantom{\\, {\\theta}} \\phantom{\\, {\\phi}} } & = & \\frac{\\cos\\left({\\theta}\\right)}{\\sin\\left({\\theta}\\right)} \\\\ \\Gamma_{ \\phantom{\\, {\\phi}} \\, {\\phi} \\, r }^{ \\, {\\phi} \\phantom{\\, {\\phi}} \\phantom{\\, r} } & = & \\frac{1}{r} \\\\ \\Gamma_{ \\phantom{\\, {\\phi}} \\, {\\phi} \\, {\\theta} }^{ \\, {\\phi} \\phantom{\\, {\\phi}} \\phantom{\\, {\\theta}} } & = & \\frac{\\cos\\left({\\theta}\\right)}{\\sin\\left({\\theta}\\right)} \\end{array}\\)</html>"
      ],
      "text/latex": [
       "$\\displaystyle \\begin{array}{lcl} \\Gamma_{ \\phantom{\\, r} \\, {\\theta} \\, {\\theta} }^{ \\, r \\phantom{\\, {\\theta}} \\phantom{\\, {\\theta}} } & = & -r \\\\ \\Gamma_{ \\phantom{\\, r} \\, {\\phi} \\, {\\phi} }^{ \\, r \\phantom{\\, {\\phi}} \\phantom{\\, {\\phi}} } & = & -r \\sin\\left({\\theta}\\right)^{2} \\\\ \\Gamma_{ \\phantom{\\, {\\theta}} \\, r \\, {\\theta} }^{ \\, {\\theta} \\phantom{\\, r} \\phantom{\\, {\\theta}} } & = & \\frac{1}{r} \\\\ \\Gamma_{ \\phantom{\\, {\\theta}} \\, {\\theta} \\, r }^{ \\, {\\theta} \\phantom{\\, {\\theta}} \\phantom{\\, r} } & = & \\frac{1}{r} \\\\ \\Gamma_{ \\phantom{\\, {\\theta}} \\, {\\phi} \\, {\\phi} }^{ \\, {\\theta} \\phantom{\\, {\\phi}} \\phantom{\\, {\\phi}} } & = & -\\cos\\left({\\theta}\\right) \\sin\\left({\\theta}\\right) \\\\ \\Gamma_{ \\phantom{\\, {\\phi}} \\, r \\, {\\phi} }^{ \\, {\\phi} \\phantom{\\, r} \\phantom{\\, {\\phi}} } & = & \\frac{1}{r} \\\\ \\Gamma_{ \\phantom{\\, {\\phi}} \\, {\\theta} \\, {\\phi} }^{ \\, {\\phi} \\phantom{\\, {\\theta}} \\phantom{\\, {\\phi}} } & = & \\frac{\\cos\\left({\\theta}\\right)}{\\sin\\left({\\theta}\\right)} \\\\ \\Gamma_{ \\phantom{\\, {\\phi}} \\, {\\phi} \\, r }^{ \\, {\\phi} \\phantom{\\, {\\phi}} \\phantom{\\, r} } & = & \\frac{1}{r} \\\\ \\Gamma_{ \\phantom{\\, {\\phi}} \\, {\\phi} \\, {\\theta} }^{ \\, {\\phi} \\phantom{\\, {\\phi}} \\phantom{\\, {\\theta}} } & = & \\frac{\\cos\\left({\\theta}\\right)}{\\sin\\left({\\theta}\\right)} \\end{array}$"
      ],
      "text/plain": [
       "Gam^r_th,th = -r \n",
       "Gam^r_ph,ph = -r*sin(th)^2 \n",
       "Gam^th_r,th = 1/r \n",
       "Gam^th_th,r = 1/r \n",
       "Gam^th_ph,ph = -cos(th)*sin(th) \n",
       "Gam^ph_r,ph = 1/r \n",
       "Gam^ph_th,ph = cos(th)/sin(th) \n",
       "Gam^ph_ph,r = 1/r \n",
       "Gam^ph_ph,th = cos(th)/sin(th) "
      ]
     },
     "execution_count": 323,
     "metadata": {},
     "output_type": "execute_result"
    }
   ],
   "source": [
    "g.christoffel_symbols_display(only_nonredundant=False)"
   ]
  },
  {
   "cell_type": "code",
   "execution_count": 324,
   "id": "78fde7ff-2601-4635-9736-3df6adbdb8f2",
   "metadata": {},
   "outputs": [
    {
     "data": {
      "text/html": [
       "<html>\\(\\displaystyle \\begin{array}{lcl} \\Gamma_{ \\phantom{\\, {\\rho}} \\, {\\phi} \\, {\\phi} }^{ \\, {\\rho} \\phantom{\\, {\\phi}} \\phantom{\\, {\\phi}} } & = & -{\\rho} \\\\ \\Gamma_{ \\phantom{\\, {\\phi}} \\, {\\rho} \\, {\\phi} }^{ \\, {\\phi} \\phantom{\\, {\\rho}} \\phantom{\\, {\\phi}} } & = & \\frac{1}{{\\rho}} \\\\ \\Gamma_{ \\phantom{\\, {\\phi}} \\, {\\phi} \\, {\\rho} }^{ \\, {\\phi} \\phantom{\\, {\\phi}} \\phantom{\\, {\\rho}} } & = & \\frac{1}{{\\rho}} \\end{array}\\)</html>"
      ],
      "text/latex": [
       "$\\displaystyle \\begin{array}{lcl} \\Gamma_{ \\phantom{\\, {\\rho}} \\, {\\phi} \\, {\\phi} }^{ \\, {\\rho} \\phantom{\\, {\\phi}} \\phantom{\\, {\\phi}} } & = & -{\\rho} \\\\ \\Gamma_{ \\phantom{\\, {\\phi}} \\, {\\rho} \\, {\\phi} }^{ \\, {\\phi} \\phantom{\\, {\\rho}} \\phantom{\\, {\\phi}} } & = & \\frac{1}{{\\rho}} \\\\ \\Gamma_{ \\phantom{\\, {\\phi}} \\, {\\phi} \\, {\\rho} }^{ \\, {\\phi} \\phantom{\\, {\\phi}} \\phantom{\\, {\\rho}} } & = & \\frac{1}{{\\rho}} \\end{array}$"
      ],
      "text/plain": [
       "Gam^rh_ph,ph = -rh \n",
       "Gam^ph_rh,ph = 1/rh \n",
       "Gam^ph_ph,rh = 1/rh "
      ]
     },
     "execution_count": 324,
     "metadata": {},
     "output_type": "execute_result"
    }
   ],
   "source": [
    "g.christoffel_symbols_display(cylindrical, only_nonredundant=False)"
   ]
  },
  {
   "cell_type": "code",
   "execution_count": null,
   "id": "34ff4a6f-c1c4-42f4-b727-ea9348ce474f",
   "metadata": {},
   "outputs": [],
   "source": []
  }
 ],
 "metadata": {
  "kernelspec": {
   "display_name": "SageMath 9.6.rc0",
   "language": "sage",
   "name": "sagemath"
  },
  "language_info": {
   "codemirror_mode": {
    "name": "ipython",
    "version": 3
   },
   "file_extension": ".py",
   "mimetype": "text/x-python",
   "name": "python",
   "nbconvert_exporter": "python",
   "pygments_lexer": "ipython3",
   "version": "3.10.4"
  }
 },
 "nbformat": 4,
 "nbformat_minor": 5
}
