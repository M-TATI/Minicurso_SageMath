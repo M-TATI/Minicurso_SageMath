{
 "cells": [
  {
   "cell_type": "markdown",
   "id": "44b359ef",
   "metadata": {},
   "source": [
    "___\n",
    "# PYTHON: EXERCÍCIOS\n",
    "___\n",
    "\n",
    "E-book: Introdução a Python com Aplicações de Sistemas Operacionais"
   ]
  },
  {
   "cell_type": "markdown",
   "id": "f0de3146",
   "metadata": {},
   "source": [
    "## Tipos de dados, variáveis e operações"
   ]
  },
  {
   "cell_type": "markdown",
   "id": "14e0d818",
   "metadata": {},
   "source": [
    "__1)__ Faça um programa que peça um valor monetário e diminua-o em 15%. Seu programa deve imprimir a mensagem “O novo valor é [valor]”\n",
    "\n",
    "_Dica:_\n",
    "\n",
    "Você precisará usar um input\n",
    "\n",
    "O valor de entrada não precisa ser exclusivamente inteiro\n",
    "___"
   ]
  },
  {
   "cell_type": "code",
   "execution_count": 1,
   "id": "adf40bdf",
   "metadata": {},
   "outputs": [],
   "source": [
    "#Solução\n",
    "\n",
    "\n"
   ]
  },
  {
   "cell_type": "markdown",
   "id": "f21a7665",
   "metadata": {},
   "source": [
    "__2__) Construa um programa que receba do usuário a variação do deslocamento de um objeto (em metros) e a variação do tempo percorrido (em segundo). Ao fim, o programa deve calcular a velocidade média, em m/s, do objeto.\n",
    "\n",
    "_Dica:_\n",
    "\n",
    "Crie variáveis separadas para o deslocamento e o tempo\n",
    "\n",
    "Opcional: Use a função _f-string_ do python na hora de imprimir o resultado\n",
    "___"
   ]
  },
  {
   "cell_type": "code",
   "execution_count": 2,
   "id": "5c1a4786",
   "metadata": {},
   "outputs": [],
   "source": [
    "#Solução\n",
    "\n",
    "\n"
   ]
  },
  {
   "cell_type": "markdown",
   "id": "da77dc38",
   "metadata": {},
   "source": [
    "__3)__ Implemente um programa que converta o valor de uma velocidade média em km/h para m/s. Para isso, o usuário deve informar o valor da velocidade média.\n",
    "\n",
    "_Dica:_ \n",
    "\n",
    "O valor inserido pelo usuário não precisa ser exclusivamente inteiro\n",
    "___"
   ]
  },
  {
   "cell_type": "code",
   "execution_count": 4,
   "id": "aca5889a",
   "metadata": {},
   "outputs": [],
   "source": [
    "#Solução\n",
    "\n",
    "\n"
   ]
  },
  {
   "cell_type": "markdown",
   "id": "01f7f97c",
   "metadata": {},
   "source": [
    "__4)__ Construa um programa que tem como dados de entrada dois pontos quaisquer no plano cartesiano: P1 e P2. Considere que P1 é definido pelas coordenadas x1 e y1, enquanto P2 por x2 e y2 . O programa deve calcular e escrever a distância entre os pontos P1 e P2.\n",
    "\n",
    "<img src= 'dist.png'>\n",
    "\n",
    "_Dica:_\n",
    "\n",
    "* Sua equação vai ficar menor se importar o pacote _sqrt_ da biblioteca _math_\n",
    "* Opção 1: Você pode solicitar que o usuário insira uma informação de cada vez\n",
    "* Opção 2: Você pode definir 2 vetores \n",
    "* Opção 3: Você pode criar uma função \n",
    "___"
   ]
  },
  {
   "cell_type": "code",
   "execution_count": 5,
   "id": "62064490",
   "metadata": {},
   "outputs": [],
   "source": [
    "#Solução\n",
    "\n",
    "\n"
   ]
  },
  {
   "cell_type": "markdown",
   "id": "a861d7fc",
   "metadata": {},
   "source": [
    "## Condicionais, funções e estruturas de repetição"
   ]
  },
  {
   "cell_type": "markdown",
   "id": "7c8be587",
   "metadata": {},
   "source": [
    "__5)__ Faça um programa que olhe todos os itens de uma lista aleatória e diga quantos deles são pares.\n",
    "\n",
    "_Dica:_\n",
    "\n",
    "Crie uma lista com números aleatórios. Você precisará do numpy\n",
    "\n",
    "Use list comprehension\n",
    "___"
   ]
  },
  {
   "cell_type": "markdown",
   "id": "3f4eaab9",
   "metadata": {},
   "source": [
    "__6)__ Uma empresa, que presta serviço à companhia de energia elétrica do estado, necessita de um programa que auxilie os seus eletricistas no cálculo das principais grandezas da Eletricidade que são Tensão, Resistência e Corrente. Sabe-se que U=Ri, onde, U é a Tensão (em V), R é a Resistência (em Ώ) e i a Corrente (em A).\n",
    "\n",
    "Você foi contratado(a) pela empresa para atender a essa solicitação -  Construa um programa que apresente o seguinte menu:\n",
    "\n",
    "<img src= 'exer.png'>\n",
    "\n",
    "Em seguida, o programa deve solicitar que o eletricista informe o valor das outras duas grandezas para realizar o cálculo.\n",
    "Quando o eletricista escolher:\n",
    "\n",
    "a. Tensão, o programa deve solicitar que ele informe os valores da Resistência e da Corrente;\n",
    "\n",
    "b. Resistência, o programa deve solicitar que ele informe os valores da Tensão e da Corrente;\n",
    "\n",
    "c. Corrente, o programa deve solicitar que ele informe os valores da Tensão e da Resistência;\n",
    "\n",
    "Por fim, o programa deve calcular e apresentar o valor encontrado para a grandeza escolhida.\n",
    "\n",
    "\n",
    "_Dica:_\n",
    "\n",
    "* Crie a tabela usando a função _f_ do python e o _print_\n",
    "Exemplo: O título da tabela pode ser feito da seguinte forma: \n",
    "\n",
    "print(f\"{'*' * 18} {'GRANDEZAS ELÉTRICAS '} {'*' * 18}\")\n",
    "\n",
    "* Utilize os condicionais _if_, _elif_ e _else_\n",
    "___"
   ]
  },
  {
   "cell_type": "code",
   "execution_count": 6,
   "id": "a1e410f6",
   "metadata": {},
   "outputs": [],
   "source": [
    "#Solução\n",
    "\n",
    "\n"
   ]
  },
  {
   "cell_type": "markdown",
   "id": "754cc530",
   "metadata": {},
   "source": [
    "__7)__ Crie um programa que receba 5 números digitados e, ao fim, exibir quantos números são pares. Considere que os usuários só informarão números inteiros positivos.\n",
    "\n",
    "_Dica:_\n",
    "\n",
    "Crie um contador\n",
    "\n",
    "Utilize a estrutura de repetição _for _ in range()_\n",
    "\n",
    "Utilize um condicional \n",
    "___"
   ]
  },
  {
   "cell_type": "code",
   "execution_count": 7,
   "id": "c8f04440",
   "metadata": {},
   "outputs": [],
   "source": [
    "#Solução\n",
    "\n",
    "\n"
   ]
  },
  {
   "cell_type": "markdown",
   "id": "f0215f65",
   "metadata": {},
   "source": [
    "__8)__ crie uma função Python que calcule o desvio padrão dos elementos de uma lista.\n",
    "\n",
    "<img src= 'desv.png'>\n",
    "\n",
    "onde n é o número de elementos e m é a média dos valores.\n",
    "\n",
    "_Dica:_\n",
    "\n",
    "Crie uma função para a média\n",
    "\n",
    "Crie uma função para o desvio padrão\n",
    "\n",
    "Crie uma lista qualquer. Você pode definir uma manualmente ou pedir para o programa gerar números aleatórios\n",
    "___"
   ]
  },
  {
   "cell_type": "code",
   "execution_count": 8,
   "id": "3896cf4c",
   "metadata": {},
   "outputs": [],
   "source": [
    "#Solução\n",
    "\n",
    "\n"
   ]
  },
  {
   "cell_type": "markdown",
   "id": "7a371262",
   "metadata": {},
   "source": [
    "## Numpy"
   ]
  },
  {
   "cell_type": "markdown",
   "id": "62a822a2",
   "metadata": {},
   "source": [
    "__9)__ Crie duas matrizes com os nomes ExA e ExB e com os seguintes valores:\n",
    "\n",
    "<img src= 'matrix.png'>\n",
    "\n",
    "Após isso, imprima as duas matrizes.\n",
    "\n",
    "_Dica:_\n",
    "\n",
    "Importe o _numpy_\n",
    "\n",
    "Use o método apropriado para a criação de uma lista \"manualemente\"\n",
    "___"
   ]
  },
  {
   "cell_type": "code",
   "execution_count": 9,
   "id": "5eec9368",
   "metadata": {},
   "outputs": [],
   "source": [
    "#Solução\n",
    "\n",
    "\n"
   ]
  },
  {
   "cell_type": "markdown",
   "id": "122cce55",
   "metadata": {},
   "source": [
    "__10)__ Crie uma matriz ExC cujas entradas são os resultados do produto entre as matrizes ExA e Exb . Depois, imprima ExC.\n",
    "\n",
    "_Dica_\n",
    "\n",
    "Lembre-se que o produto de matrizes possui uma função especial no numpy"
   ]
  },
  {
   "cell_type": "code",
   "execution_count": 10,
   "id": "4ff8325b",
   "metadata": {},
   "outputs": [],
   "source": [
    "#Solução\n",
    "\n",
    "\n"
   ]
  },
  {
   "cell_type": "markdown",
   "id": "c182f669",
   "metadata": {},
   "source": [
    "__11)__ Crie uma matriz ExD com os valores das duas últimas colunas de ExA. Depois, calcule a média dos valores de ExD.\n",
    "\n",
    "_Dica_\n",
    "\n",
    "Use a seleção de elementos de uma lista\n",
    "\n",
    "Use a função \"média\" existente dentro do numpy\n",
    "___"
   ]
  },
  {
   "cell_type": "code",
   "execution_count": 11,
   "id": "c68b2d77",
   "metadata": {},
   "outputs": [],
   "source": [
    "#Solução\n",
    "\n",
    "\n"
   ]
  },
  {
   "cell_type": "markdown",
   "id": "6a72be00",
   "metadata": {},
   "source": [
    "## Matplotlib"
   ]
  },
  {
   "cell_type": "markdown",
   "id": "73f512f0",
   "metadata": {},
   "source": [
    "__12)__ Plot o seguinte gráfico:\n",
    "\n",
    "<img src= 'graf.png'>\n",
    "\n",
    "\n",
    "Para isso, comece importando o matplotlib. Em seguida:\n",
    "\n",
    "* Crie uma matriz unidimensional X com 200 entradas, cujos valores são igualmente espaçados entre 0 e 2\n",
    "\n",
    "* Crie uma matriz Y unidimensional cujas entradas são _sin(2*pi*X)_\n",
    "\n",
    "* Plote um gráfico com X na abscissa e Y na ordenada\n",
    "\n",
    "* A figura deve ter tamanho x= 5 e y=4\n",
    "\n",
    "* Use _plt.grid()_ para deixar o fundo quadriculado\n",
    "___"
   ]
  },
  {
   "cell_type": "code",
   "execution_count": 12,
   "id": "f1a5c5ff",
   "metadata": {},
   "outputs": [],
   "source": [
    "#Solução\n",
    "\n",
    "\n"
   ]
  }
 ],
 "metadata": {
  "kernelspec": {
   "display_name": "Python 3 (ipykernel)",
   "language": "python",
   "name": "python3"
  },
  "language_info": {
   "codemirror_mode": {
    "name": "ipython",
    "version": 3
   },
   "file_extension": ".py",
   "mimetype": "text/x-python",
   "name": "python",
   "nbconvert_exporter": "python",
   "pygments_lexer": "ipython3",
   "version": "3.9.7"
  }
 },
 "nbformat": 4,
 "nbformat_minor": 5
}
